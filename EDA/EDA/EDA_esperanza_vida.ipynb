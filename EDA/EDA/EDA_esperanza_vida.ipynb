{
 "cells": [
  {
   "cell_type": "markdown",
   "metadata": {},
   "source": [
    "# Análisis Exploratorio de Datos"
   ]
  },
  {
   "cell_type": "markdown",
   "metadata": {},
   "source": [
    "Se importa las librerias a utilizar"
   ]
  },
  {
   "cell_type": "code",
   "execution_count": 1,
   "metadata": {},
   "outputs": [],
   "source": [
    "import pandas as pd\n",
    "import matplotlib.pyplot as plt\n",
    "import pandas as pd\n",
    "import matplotlib.pyplot as plt\n",
    "import plotly.graph_objs as go\n",
    "from plotly.subplots import make_subplots\n",
    "import ipywidgets as widgets\n",
    "from IPython.display import display\n",
    "import seaborn as sns"
   ]
  },
  {
   "cell_type": "markdown",
   "metadata": {},
   "source": [
    "Se crea un DataFrame con los datos de la Categoría Esperanza de Vida"
   ]
  },
  {
   "cell_type": "code",
   "execution_count": 2,
   "metadata": {},
   "outputs": [],
   "source": [
    "df = pd.read_csv('../Data/data_esperanza_vida.csv')"
   ]
  },
  {
   "cell_type": "markdown",
   "metadata": {},
   "source": [
    "Un .info() para tener idea de cuantas columnas y que tipo de datos hay en cada una de ellas, y si tenemos datos Nan"
   ]
  },
  {
   "cell_type": "code",
   "execution_count": 3,
   "metadata": {},
   "outputs": [
    {
     "name": "stdout",
     "output_type": "stream",
     "text": [
      "<class 'pandas.core.frame.DataFrame'>\n",
      "RangeIndex: 132 entries, 0 to 131\n",
      "Data columns (total 40 columns):\n",
      " #   Column          Non-Null Count  Dtype  \n",
      "---  ------          --------------  -----  \n",
      " 0   país            132 non-null    object \n",
      " 1   codigo_pais     132 non-null    object \n",
      " 2   factor_(serie)  132 non-null    object \n",
      " 3   codigo_serie    132 non-null    object \n",
      " 4   1987            132 non-null    float64\n",
      " 5   1988            132 non-null    float64\n",
      " 6   1989            132 non-null    float64\n",
      " 7   1990            132 non-null    float64\n",
      " 8   1991            132 non-null    float64\n",
      " 9   1992            132 non-null    float64\n",
      " 10  1993            132 non-null    float64\n",
      " 11  1994            132 non-null    float64\n",
      " 12  1995            132 non-null    float64\n",
      " 13  1996            132 non-null    float64\n",
      " 14  1997            132 non-null    float64\n",
      " 15  1998            132 non-null    float64\n",
      " 16  1999            132 non-null    float64\n",
      " 17  2000            132 non-null    float64\n",
      " 18  2001            132 non-null    float64\n",
      " 19  2002            132 non-null    float64\n",
      " 20  2003            132 non-null    float64\n",
      " 21  2004            132 non-null    float64\n",
      " 22  2005            132 non-null    float64\n",
      " 23  2006            132 non-null    float64\n",
      " 24  2007            132 non-null    float64\n",
      " 25  2008            132 non-null    float64\n",
      " 26  2009            132 non-null    float64\n",
      " 27  2010            132 non-null    float64\n",
      " 28  2011            132 non-null    float64\n",
      " 29  2012            132 non-null    float64\n",
      " 30  2013            132 non-null    float64\n",
      " 31  2014            132 non-null    float64\n",
      " 32  2015            132 non-null    float64\n",
      " 33  2016            132 non-null    float64\n",
      " 34  2017            132 non-null    float64\n",
      " 35  2018            132 non-null    float64\n",
      " 36  2019            132 non-null    float64\n",
      " 37  2020            132 non-null    float64\n",
      " 38  2021            132 non-null    float64\n",
      " 39  2022            0 non-null      float64\n",
      "dtypes: float64(36), object(4)\n",
      "memory usage: 41.4+ KB\n"
     ]
    }
   ],
   "source": [
    "df.info()"
   ]
  },
  {
   "cell_type": "code",
   "execution_count": 4,
   "metadata": {},
   "outputs": [
    {
     "data": {
      "text/html": [
       "<div>\n",
       "<style scoped>\n",
       "    .dataframe tbody tr th:only-of-type {\n",
       "        vertical-align: middle;\n",
       "    }\n",
       "\n",
       "    .dataframe tbody tr th {\n",
       "        vertical-align: top;\n",
       "    }\n",
       "\n",
       "    .dataframe thead th {\n",
       "        text-align: right;\n",
       "    }\n",
       "</style>\n",
       "<table border=\"1\" class=\"dataframe\">\n",
       "  <thead>\n",
       "    <tr style=\"text-align: right;\">\n",
       "      <th></th>\n",
       "      <th>país</th>\n",
       "      <th>codigo_pais</th>\n",
       "      <th>factor_(serie)</th>\n",
       "      <th>codigo_serie</th>\n",
       "      <th>1987</th>\n",
       "      <th>1988</th>\n",
       "      <th>1989</th>\n",
       "      <th>1990</th>\n",
       "      <th>1991</th>\n",
       "      <th>1992</th>\n",
       "      <th>...</th>\n",
       "      <th>2013</th>\n",
       "      <th>2014</th>\n",
       "      <th>2015</th>\n",
       "      <th>2016</th>\n",
       "      <th>2017</th>\n",
       "      <th>2018</th>\n",
       "      <th>2019</th>\n",
       "      <th>2020</th>\n",
       "      <th>2021</th>\n",
       "      <th>2022</th>\n",
       "    </tr>\n",
       "  </thead>\n",
       "  <tbody>\n",
       "    <tr>\n",
       "      <th>0</th>\n",
       "      <td>Afganistán</td>\n",
       "      <td>AFG</td>\n",
       "      <td>Esperanza de vida al nacer, total (años)</td>\n",
       "      <td>SP.DYN.LE00.IN</td>\n",
       "      <td>39.844</td>\n",
       "      <td>43.9580</td>\n",
       "      <td>45.1580</td>\n",
       "      <td>45.9670</td>\n",
       "      <td>46.6630</td>\n",
       "      <td>47.5960</td>\n",
       "      <td>...</td>\n",
       "      <td>62.4170</td>\n",
       "      <td>62.5450</td>\n",
       "      <td>62.6590</td>\n",
       "      <td>63.1360</td>\n",
       "      <td>63.0160</td>\n",
       "      <td>63.0810</td>\n",
       "      <td>63.5650</td>\n",
       "      <td>62.5750</td>\n",
       "      <td>61.982</td>\n",
       "      <td>NaN</td>\n",
       "    </tr>\n",
       "    <tr>\n",
       "      <th>1</th>\n",
       "      <td>Afganistán</td>\n",
       "      <td>AFG</td>\n",
       "      <td>Esperanza de vida al nacer, mujeres (años)</td>\n",
       "      <td>SP.DYN.LE00.FE.IN</td>\n",
       "      <td>43.453</td>\n",
       "      <td>46.5690</td>\n",
       "      <td>47.6100</td>\n",
       "      <td>48.3970</td>\n",
       "      <td>49.1440</td>\n",
       "      <td>50.3200</td>\n",
       "      <td>...</td>\n",
       "      <td>64.0270</td>\n",
       "      <td>64.2740</td>\n",
       "      <td>64.5760</td>\n",
       "      <td>65.0960</td>\n",
       "      <td>66.0990</td>\n",
       "      <td>66.4580</td>\n",
       "      <td>66.6770</td>\n",
       "      <td>65.4320</td>\n",
       "      <td>65.279</td>\n",
       "      <td>NaN</td>\n",
       "    </tr>\n",
       "    <tr>\n",
       "      <th>2</th>\n",
       "      <td>Afganistán</td>\n",
       "      <td>AFG</td>\n",
       "      <td>Esperanza de vida al nacer, varones (años)</td>\n",
       "      <td>SP.DYN.LE00.MA.IN</td>\n",
       "      <td>36.739</td>\n",
       "      <td>41.5720</td>\n",
       "      <td>42.8910</td>\n",
       "      <td>43.7090</td>\n",
       "      <td>44.3530</td>\n",
       "      <td>45.0700</td>\n",
       "      <td>...</td>\n",
       "      <td>60.7910</td>\n",
       "      <td>60.8120</td>\n",
       "      <td>60.7600</td>\n",
       "      <td>61.1930</td>\n",
       "      <td>60.1050</td>\n",
       "      <td>59.9230</td>\n",
       "      <td>60.6190</td>\n",
       "      <td>59.8660</td>\n",
       "      <td>58.915</td>\n",
       "      <td>NaN</td>\n",
       "    </tr>\n",
       "    <tr>\n",
       "      <th>3</th>\n",
       "      <td>Alemania</td>\n",
       "      <td>DEU</td>\n",
       "      <td>Esperanza de vida al nacer, total (años)</td>\n",
       "      <td>SP.DYN.LE00.IN</td>\n",
       "      <td>74.807</td>\n",
       "      <td>74.9987</td>\n",
       "      <td>75.1915</td>\n",
       "      <td>75.0856</td>\n",
       "      <td>75.3195</td>\n",
       "      <td>75.8195</td>\n",
       "      <td>...</td>\n",
       "      <td>80.4902</td>\n",
       "      <td>81.0902</td>\n",
       "      <td>80.6415</td>\n",
       "      <td>80.9902</td>\n",
       "      <td>80.9927</td>\n",
       "      <td>80.8927</td>\n",
       "      <td>81.2927</td>\n",
       "      <td>81.0415</td>\n",
       "      <td>80.901</td>\n",
       "      <td>NaN</td>\n",
       "    </tr>\n",
       "    <tr>\n",
       "      <th>4</th>\n",
       "      <td>Alemania</td>\n",
       "      <td>DEU</td>\n",
       "      <td>Esperanza de vida al nacer, mujeres (años)</td>\n",
       "      <td>SP.DYN.LE00.FE.IN</td>\n",
       "      <td>78.103</td>\n",
       "      <td>78.2860</td>\n",
       "      <td>78.4660</td>\n",
       "      <td>78.4190</td>\n",
       "      <td>78.7000</td>\n",
       "      <td>79.2000</td>\n",
       "      <td>...</td>\n",
       "      <td>83.0000</td>\n",
       "      <td>83.6000</td>\n",
       "      <td>83.1000</td>\n",
       "      <td>83.5000</td>\n",
       "      <td>83.4000</td>\n",
       "      <td>83.3000</td>\n",
       "      <td>83.7000</td>\n",
       "      <td>83.5000</td>\n",
       "      <td>83.380</td>\n",
       "      <td>NaN</td>\n",
       "    </tr>\n",
       "  </tbody>\n",
       "</table>\n",
       "<p>5 rows × 40 columns</p>\n",
       "</div>"
      ],
      "text/plain": [
       "         país codigo_pais                              factor_(serie)  \\\n",
       "0  Afganistán         AFG    Esperanza de vida al nacer, total (años)   \n",
       "1  Afganistán         AFG  Esperanza de vida al nacer, mujeres (años)   \n",
       "2  Afganistán         AFG  Esperanza de vida al nacer, varones (años)   \n",
       "3    Alemania         DEU    Esperanza de vida al nacer, total (años)   \n",
       "4    Alemania         DEU  Esperanza de vida al nacer, mujeres (años)   \n",
       "\n",
       "        codigo_serie    1987     1988     1989     1990     1991     1992  \\\n",
       "0     SP.DYN.LE00.IN  39.844  43.9580  45.1580  45.9670  46.6630  47.5960   \n",
       "1  SP.DYN.LE00.FE.IN  43.453  46.5690  47.6100  48.3970  49.1440  50.3200   \n",
       "2  SP.DYN.LE00.MA.IN  36.739  41.5720  42.8910  43.7090  44.3530  45.0700   \n",
       "3     SP.DYN.LE00.IN  74.807  74.9987  75.1915  75.0856  75.3195  75.8195   \n",
       "4  SP.DYN.LE00.FE.IN  78.103  78.2860  78.4660  78.4190  78.7000  79.2000   \n",
       "\n",
       "   ...     2013     2014     2015     2016     2017     2018     2019  \\\n",
       "0  ...  62.4170  62.5450  62.6590  63.1360  63.0160  63.0810  63.5650   \n",
       "1  ...  64.0270  64.2740  64.5760  65.0960  66.0990  66.4580  66.6770   \n",
       "2  ...  60.7910  60.8120  60.7600  61.1930  60.1050  59.9230  60.6190   \n",
       "3  ...  80.4902  81.0902  80.6415  80.9902  80.9927  80.8927  81.2927   \n",
       "4  ...  83.0000  83.6000  83.1000  83.5000  83.4000  83.3000  83.7000   \n",
       "\n",
       "      2020    2021  2022  \n",
       "0  62.5750  61.982   NaN  \n",
       "1  65.4320  65.279   NaN  \n",
       "2  59.8660  58.915   NaN  \n",
       "3  81.0415  80.901   NaN  \n",
       "4  83.5000  83.380   NaN  \n",
       "\n",
       "[5 rows x 40 columns]"
      ]
     },
     "execution_count": 4,
     "metadata": {},
     "output_type": "execute_result"
    }
   ],
   "source": [
    "df.head()"
   ]
  },
  {
   "cell_type": "markdown",
   "metadata": {},
   "source": [
    "Se utiliza .describe() para obtener una visión general de las estadísticas clave de las columnas numéricas en tu conjunto de datos"
   ]
  },
  {
   "cell_type": "code",
   "execution_count": 5,
   "metadata": {},
   "outputs": [
    {
     "data": {
      "text/html": [
       "<div>\n",
       "<style scoped>\n",
       "    .dataframe tbody tr th:only-of-type {\n",
       "        vertical-align: middle;\n",
       "    }\n",
       "\n",
       "    .dataframe tbody tr th {\n",
       "        vertical-align: top;\n",
       "    }\n",
       "\n",
       "    .dataframe thead th {\n",
       "        text-align: right;\n",
       "    }\n",
       "</style>\n",
       "<table border=\"1\" class=\"dataframe\">\n",
       "  <thead>\n",
       "    <tr style=\"text-align: right;\">\n",
       "      <th></th>\n",
       "      <th>1987</th>\n",
       "      <th>1988</th>\n",
       "      <th>1989</th>\n",
       "      <th>1990</th>\n",
       "      <th>1991</th>\n",
       "      <th>1992</th>\n",
       "      <th>1993</th>\n",
       "      <th>1994</th>\n",
       "      <th>1995</th>\n",
       "      <th>1996</th>\n",
       "      <th>1997</th>\n",
       "      <th>1998</th>\n",
       "      <th>1999</th>\n",
       "      <th>2000</th>\n",
       "      <th>2001</th>\n",
       "      <th>2002</th>\n",
       "      <th>2003</th>\n",
       "    </tr>\n",
       "  </thead>\n",
       "  <tbody>\n",
       "    <tr>\n",
       "      <th>count</th>\n",
       "      <td>132.00</td>\n",
       "      <td>132.00</td>\n",
       "      <td>132.00</td>\n",
       "      <td>132.00</td>\n",
       "      <td>132.00</td>\n",
       "      <td>132.00</td>\n",
       "      <td>132.00</td>\n",
       "      <td>132.00</td>\n",
       "      <td>132.00</td>\n",
       "      <td>132.00</td>\n",
       "      <td>132.00</td>\n",
       "      <td>132.00</td>\n",
       "      <td>132.00</td>\n",
       "      <td>132.00</td>\n",
       "      <td>132.00</td>\n",
       "      <td>132.00</td>\n",
       "      <td>132.00</td>\n",
       "    </tr>\n",
       "    <tr>\n",
       "      <th>mean</th>\n",
       "      <td>66.48</td>\n",
       "      <td>66.89</td>\n",
       "      <td>67.11</td>\n",
       "      <td>67.28</td>\n",
       "      <td>67.48</td>\n",
       "      <td>67.65</td>\n",
       "      <td>67.79</td>\n",
       "      <td>67.38</td>\n",
       "      <td>68.12</td>\n",
       "      <td>68.45</td>\n",
       "      <td>68.73</td>\n",
       "      <td>68.94</td>\n",
       "      <td>69.20</td>\n",
       "      <td>69.58</td>\n",
       "      <td>69.89</td>\n",
       "      <td>70.18</td>\n",
       "      <td>70.50</td>\n",
       "    </tr>\n",
       "    <tr>\n",
       "      <th>std</th>\n",
       "      <td>11.12</td>\n",
       "      <td>10.77</td>\n",
       "      <td>10.73</td>\n",
       "      <td>10.79</td>\n",
       "      <td>10.85</td>\n",
       "      <td>10.91</td>\n",
       "      <td>10.86</td>\n",
       "      <td>13.06</td>\n",
       "      <td>10.99</td>\n",
       "      <td>10.90</td>\n",
       "      <td>10.95</td>\n",
       "      <td>10.97</td>\n",
       "      <td>10.79</td>\n",
       "      <td>10.55</td>\n",
       "      <td>10.45</td>\n",
       "      <td>10.34</td>\n",
       "      <td>10.18</td>\n",
       "    </tr>\n",
       "    <tr>\n",
       "      <th>min</th>\n",
       "      <td>36.74</td>\n",
       "      <td>40.68</td>\n",
       "      <td>41.03</td>\n",
       "      <td>41.56</td>\n",
       "      <td>41.82</td>\n",
       "      <td>42.12</td>\n",
       "      <td>39.89</td>\n",
       "      <td>13.07</td>\n",
       "      <td>38.15</td>\n",
       "      <td>39.20</td>\n",
       "      <td>38.78</td>\n",
       "      <td>39.66</td>\n",
       "      <td>39.12</td>\n",
       "      <td>44.10</td>\n",
       "      <td>44.70</td>\n",
       "      <td>45.56</td>\n",
       "      <td>46.18</td>\n",
       "    </tr>\n",
       "    <tr>\n",
       "      <th>25%</th>\n",
       "      <td>61.39</td>\n",
       "      <td>61.29</td>\n",
       "      <td>61.88</td>\n",
       "      <td>62.39</td>\n",
       "      <td>62.94</td>\n",
       "      <td>62.92</td>\n",
       "      <td>62.87</td>\n",
       "      <td>62.75</td>\n",
       "      <td>62.95</td>\n",
       "      <td>63.20</td>\n",
       "      <td>63.41</td>\n",
       "      <td>62.94</td>\n",
       "      <td>63.41</td>\n",
       "      <td>63.97</td>\n",
       "      <td>64.24</td>\n",
       "      <td>64.48</td>\n",
       "      <td>64.93</td>\n",
       "    </tr>\n",
       "    <tr>\n",
       "      <th>50%</th>\n",
       "      <td>69.78</td>\n",
       "      <td>70.00</td>\n",
       "      <td>70.36</td>\n",
       "      <td>70.57</td>\n",
       "      <td>70.95</td>\n",
       "      <td>71.32</td>\n",
       "      <td>71.37</td>\n",
       "      <td>71.73</td>\n",
       "      <td>71.89</td>\n",
       "      <td>72.26</td>\n",
       "      <td>72.77</td>\n",
       "      <td>72.96</td>\n",
       "      <td>73.02</td>\n",
       "      <td>73.50</td>\n",
       "      <td>73.92</td>\n",
       "      <td>74.15</td>\n",
       "      <td>74.35</td>\n",
       "    </tr>\n",
       "    <tr>\n",
       "      <th>75%</th>\n",
       "      <td>74.62</td>\n",
       "      <td>74.71</td>\n",
       "      <td>74.85</td>\n",
       "      <td>75.12</td>\n",
       "      <td>75.43</td>\n",
       "      <td>75.74</td>\n",
       "      <td>75.89</td>\n",
       "      <td>76.22</td>\n",
       "      <td>76.32</td>\n",
       "      <td>76.61</td>\n",
       "      <td>76.88</td>\n",
       "      <td>76.94</td>\n",
       "      <td>77.11</td>\n",
       "      <td>77.50</td>\n",
       "      <td>77.68</td>\n",
       "      <td>78.09</td>\n",
       "      <td>78.36</td>\n",
       "    </tr>\n",
       "    <tr>\n",
       "      <th>max</th>\n",
       "      <td>81.39</td>\n",
       "      <td>81.30</td>\n",
       "      <td>81.77</td>\n",
       "      <td>81.90</td>\n",
       "      <td>82.11</td>\n",
       "      <td>82.22</td>\n",
       "      <td>82.51</td>\n",
       "      <td>82.98</td>\n",
       "      <td>82.85</td>\n",
       "      <td>83.59</td>\n",
       "      <td>83.82</td>\n",
       "      <td>84.01</td>\n",
       "      <td>83.99</td>\n",
       "      <td>84.60</td>\n",
       "      <td>84.93</td>\n",
       "      <td>85.23</td>\n",
       "      <td>85.33</td>\n",
       "    </tr>\n",
       "  </tbody>\n",
       "</table>\n",
       "</div>"
      ],
      "text/plain": [
       "         1987    1988    1989    1990    1991    1992    1993    1994    1995  \\\n",
       "count  132.00  132.00  132.00  132.00  132.00  132.00  132.00  132.00  132.00   \n",
       "mean    66.48   66.89   67.11   67.28   67.48   67.65   67.79   67.38   68.12   \n",
       "std     11.12   10.77   10.73   10.79   10.85   10.91   10.86   13.06   10.99   \n",
       "min     36.74   40.68   41.03   41.56   41.82   42.12   39.89   13.07   38.15   \n",
       "25%     61.39   61.29   61.88   62.39   62.94   62.92   62.87   62.75   62.95   \n",
       "50%     69.78   70.00   70.36   70.57   70.95   71.32   71.37   71.73   71.89   \n",
       "75%     74.62   74.71   74.85   75.12   75.43   75.74   75.89   76.22   76.32   \n",
       "max     81.39   81.30   81.77   81.90   82.11   82.22   82.51   82.98   82.85   \n",
       "\n",
       "         1996    1997    1998    1999    2000    2001    2002    2003  \n",
       "count  132.00  132.00  132.00  132.00  132.00  132.00  132.00  132.00  \n",
       "mean    68.45   68.73   68.94   69.20   69.58   69.89   70.18   70.50  \n",
       "std     10.90   10.95   10.97   10.79   10.55   10.45   10.34   10.18  \n",
       "min     39.20   38.78   39.66   39.12   44.10   44.70   45.56   46.18  \n",
       "25%     63.20   63.41   62.94   63.41   63.97   64.24   64.48   64.93  \n",
       "50%     72.26   72.77   72.96   73.02   73.50   73.92   74.15   74.35  \n",
       "75%     76.61   76.88   76.94   77.11   77.50   77.68   78.09   78.36  \n",
       "max     83.59   83.82   84.01   83.99   84.60   84.93   85.23   85.33  "
      ]
     },
     "execution_count": 5,
     "metadata": {},
     "output_type": "execute_result"
    }
   ],
   "source": [
    "columnas = ['1987', '1988', '1989', '1990', '1991', '1992', '1993', '1994', '1995', '1996', '1997', '1998', '1999', '2000', '2001','2002', '2003']\n",
    "descripcion1 = df[columnas].describe().round(2)\n",
    "descripcion1"
   ]
  },
  {
   "cell_type": "markdown",
   "metadata": {},
   "source": [
    "El análisis descriptivo de la serie temporal abarcando el período de 1987 a 2003 revela una tendencia general al alza en los valores, reflejada por un incremento progresivo desde aproximadamente 66.48 en 1987 a cerca de 70.50 en 2003. La variabilidad, representada por la desviación estándar fluctuante entre 10.18 y 13.06, sugiere una estabilidad relativa con ciertas variaciones a lo largo del tiempo. La presencia de valores extremos, con un rango desde 36.74 hasta 85.334, indica una amplia dispersión de datos. Los percentiles revelan cómo se distribuyen los datos en el conjunto, resaltando que, por ejemplo, el 25% más bajo de los valores se encuentra por debajo del valor indicado en el percentil 25%. Este análisis proporciona una visión general sobre la tendencia y dispersión de la serie temporal, señalando un aumento gradual en los valores con variabilidad y presencia de valores extremos a lo largo de los años."
   ]
  },
  {
   "cell_type": "markdown",
   "metadata": {},
   "source": [
    "El análisis se divide en dos secciones debido al amplio rango de años considerado, que abarca desde 1987 hasta 2022. Esta separación facilita la evaluación detallada de los indicadores a lo largo de un extenso período temporal."
   ]
  },
  {
   "cell_type": "code",
   "execution_count": 6,
   "metadata": {},
   "outputs": [
    {
     "data": {
      "text/html": [
       "<div>\n",
       "<style scoped>\n",
       "    .dataframe tbody tr th:only-of-type {\n",
       "        vertical-align: middle;\n",
       "    }\n",
       "\n",
       "    .dataframe tbody tr th {\n",
       "        vertical-align: top;\n",
       "    }\n",
       "\n",
       "    .dataframe thead th {\n",
       "        text-align: right;\n",
       "    }\n",
       "</style>\n",
       "<table border=\"1\" class=\"dataframe\">\n",
       "  <thead>\n",
       "    <tr style=\"text-align: right;\">\n",
       "      <th></th>\n",
       "      <th>2004</th>\n",
       "      <th>2005</th>\n",
       "      <th>2006</th>\n",
       "      <th>2007</th>\n",
       "      <th>2008</th>\n",
       "      <th>2009</th>\n",
       "      <th>2010</th>\n",
       "      <th>2011</th>\n",
       "      <th>2012</th>\n",
       "      <th>2013</th>\n",
       "      <th>2014</th>\n",
       "      <th>2015</th>\n",
       "      <th>2016</th>\n",
       "      <th>2017</th>\n",
       "      <th>2018</th>\n",
       "      <th>2019</th>\n",
       "      <th>2020</th>\n",
       "      <th>2021</th>\n",
       "      <th>2022</th>\n",
       "    </tr>\n",
       "  </thead>\n",
       "  <tbody>\n",
       "    <tr>\n",
       "      <th>count</th>\n",
       "      <td>132.00</td>\n",
       "      <td>132.00</td>\n",
       "      <td>132.00</td>\n",
       "      <td>132.00</td>\n",
       "      <td>132.00</td>\n",
       "      <td>132.00</td>\n",
       "      <td>132.00</td>\n",
       "      <td>132.00</td>\n",
       "      <td>132.00</td>\n",
       "      <td>132.00</td>\n",
       "      <td>132.00</td>\n",
       "      <td>132.00</td>\n",
       "      <td>132.00</td>\n",
       "      <td>132.00</td>\n",
       "      <td>132.00</td>\n",
       "      <td>132.00</td>\n",
       "      <td>132.00</td>\n",
       "      <td>132.00</td>\n",
       "      <td>0.0</td>\n",
       "    </tr>\n",
       "    <tr>\n",
       "      <th>mean</th>\n",
       "      <td>70.94</td>\n",
       "      <td>71.29</td>\n",
       "      <td>71.67</td>\n",
       "      <td>71.99</td>\n",
       "      <td>72.32</td>\n",
       "      <td>72.65</td>\n",
       "      <td>72.99</td>\n",
       "      <td>73.41</td>\n",
       "      <td>73.67</td>\n",
       "      <td>73.94</td>\n",
       "      <td>74.19</td>\n",
       "      <td>74.29</td>\n",
       "      <td>74.54</td>\n",
       "      <td>74.71</td>\n",
       "      <td>74.88</td>\n",
       "      <td>75.11</td>\n",
       "      <td>74.38</td>\n",
       "      <td>73.93</td>\n",
       "      <td>NaN</td>\n",
       "    </tr>\n",
       "    <tr>\n",
       "      <th>std</th>\n",
       "      <td>10.06</td>\n",
       "      <td>9.90</td>\n",
       "      <td>9.75</td>\n",
       "      <td>9.53</td>\n",
       "      <td>9.31</td>\n",
       "      <td>9.13</td>\n",
       "      <td>8.95</td>\n",
       "      <td>8.81</td>\n",
       "      <td>8.64</td>\n",
       "      <td>8.55</td>\n",
       "      <td>8.48</td>\n",
       "      <td>8.35</td>\n",
       "      <td>8.20</td>\n",
       "      <td>8.11</td>\n",
       "      <td>8.01</td>\n",
       "      <td>7.98</td>\n",
       "      <td>8.10</td>\n",
       "      <td>8.38</td>\n",
       "      <td>NaN</td>\n",
       "    </tr>\n",
       "    <tr>\n",
       "      <th>min</th>\n",
       "      <td>46.88</td>\n",
       "      <td>47.33</td>\n",
       "      <td>47.08</td>\n",
       "      <td>47.52</td>\n",
       "      <td>47.79</td>\n",
       "      <td>48.04</td>\n",
       "      <td>48.39</td>\n",
       "      <td>48.76</td>\n",
       "      <td>49.26</td>\n",
       "      <td>49.43</td>\n",
       "      <td>49.81</td>\n",
       "      <td>50.09</td>\n",
       "      <td>50.87</td>\n",
       "      <td>50.90</td>\n",
       "      <td>51.37</td>\n",
       "      <td>51.66</td>\n",
       "      <td>51.22</td>\n",
       "      <td>50.84</td>\n",
       "      <td>NaN</td>\n",
       "    </tr>\n",
       "    <tr>\n",
       "      <th>25%</th>\n",
       "      <td>65.47</td>\n",
       "      <td>66.04</td>\n",
       "      <td>66.68</td>\n",
       "      <td>66.78</td>\n",
       "      <td>66.90</td>\n",
       "      <td>67.36</td>\n",
       "      <td>67.62</td>\n",
       "      <td>68.19</td>\n",
       "      <td>68.66</td>\n",
       "      <td>69.09</td>\n",
       "      <td>69.03</td>\n",
       "      <td>69.01</td>\n",
       "      <td>69.06</td>\n",
       "      <td>69.53</td>\n",
       "      <td>69.59</td>\n",
       "      <td>69.69</td>\n",
       "      <td>68.94</td>\n",
       "      <td>68.11</td>\n",
       "      <td>NaN</td>\n",
       "    </tr>\n",
       "    <tr>\n",
       "      <th>50%</th>\n",
       "      <td>74.69</td>\n",
       "      <td>74.75</td>\n",
       "      <td>74.96</td>\n",
       "      <td>75.03</td>\n",
       "      <td>75.24</td>\n",
       "      <td>75.39</td>\n",
       "      <td>75.66</td>\n",
       "      <td>76.01</td>\n",
       "      <td>76.30</td>\n",
       "      <td>76.43</td>\n",
       "      <td>76.56</td>\n",
       "      <td>76.77</td>\n",
       "      <td>76.78</td>\n",
       "      <td>76.90</td>\n",
       "      <td>77.05</td>\n",
       "      <td>77.29</td>\n",
       "      <td>75.90</td>\n",
       "      <td>75.48</td>\n",
       "      <td>NaN</td>\n",
       "    </tr>\n",
       "    <tr>\n",
       "      <th>75%</th>\n",
       "      <td>78.65</td>\n",
       "      <td>78.73</td>\n",
       "      <td>79.11</td>\n",
       "      <td>79.30</td>\n",
       "      <td>79.58</td>\n",
       "      <td>79.74</td>\n",
       "      <td>79.90</td>\n",
       "      <td>80.15</td>\n",
       "      <td>80.23</td>\n",
       "      <td>80.35</td>\n",
       "      <td>80.78</td>\n",
       "      <td>80.71</td>\n",
       "      <td>80.98</td>\n",
       "      <td>81.09</td>\n",
       "      <td>81.20</td>\n",
       "      <td>81.40</td>\n",
       "      <td>81.13</td>\n",
       "      <td>80.98</td>\n",
       "      <td>NaN</td>\n",
       "    </tr>\n",
       "    <tr>\n",
       "      <th>max</th>\n",
       "      <td>85.59</td>\n",
       "      <td>85.52</td>\n",
       "      <td>85.81</td>\n",
       "      <td>85.99</td>\n",
       "      <td>86.05</td>\n",
       "      <td>86.44</td>\n",
       "      <td>86.30</td>\n",
       "      <td>85.90</td>\n",
       "      <td>86.41</td>\n",
       "      <td>86.61</td>\n",
       "      <td>86.83</td>\n",
       "      <td>86.99</td>\n",
       "      <td>87.14</td>\n",
       "      <td>87.26</td>\n",
       "      <td>87.32</td>\n",
       "      <td>87.45</td>\n",
       "      <td>87.71</td>\n",
       "      <td>87.57</td>\n",
       "      <td>NaN</td>\n",
       "    </tr>\n",
       "  </tbody>\n",
       "</table>\n",
       "</div>"
      ],
      "text/plain": [
       "         2004    2005    2006    2007    2008    2009    2010    2011    2012  \\\n",
       "count  132.00  132.00  132.00  132.00  132.00  132.00  132.00  132.00  132.00   \n",
       "mean    70.94   71.29   71.67   71.99   72.32   72.65   72.99   73.41   73.67   \n",
       "std     10.06    9.90    9.75    9.53    9.31    9.13    8.95    8.81    8.64   \n",
       "min     46.88   47.33   47.08   47.52   47.79   48.04   48.39   48.76   49.26   \n",
       "25%     65.47   66.04   66.68   66.78   66.90   67.36   67.62   68.19   68.66   \n",
       "50%     74.69   74.75   74.96   75.03   75.24   75.39   75.66   76.01   76.30   \n",
       "75%     78.65   78.73   79.11   79.30   79.58   79.74   79.90   80.15   80.23   \n",
       "max     85.59   85.52   85.81   85.99   86.05   86.44   86.30   85.90   86.41   \n",
       "\n",
       "         2013    2014    2015    2016    2017    2018    2019    2020    2021  \\\n",
       "count  132.00  132.00  132.00  132.00  132.00  132.00  132.00  132.00  132.00   \n",
       "mean    73.94   74.19   74.29   74.54   74.71   74.88   75.11   74.38   73.93   \n",
       "std      8.55    8.48    8.35    8.20    8.11    8.01    7.98    8.10    8.38   \n",
       "min     49.43   49.81   50.09   50.87   50.90   51.37   51.66   51.22   50.84   \n",
       "25%     69.09   69.03   69.01   69.06   69.53   69.59   69.69   68.94   68.11   \n",
       "50%     76.43   76.56   76.77   76.78   76.90   77.05   77.29   75.90   75.48   \n",
       "75%     80.35   80.78   80.71   80.98   81.09   81.20   81.40   81.13   80.98   \n",
       "max     86.61   86.83   86.99   87.14   87.26   87.32   87.45   87.71   87.57   \n",
       "\n",
       "       2022  \n",
       "count   0.0  \n",
       "mean    NaN  \n",
       "std     NaN  \n",
       "min     NaN  \n",
       "25%     NaN  \n",
       "50%     NaN  \n",
       "75%     NaN  \n",
       "max     NaN  "
      ]
     },
     "execution_count": 6,
     "metadata": {},
     "output_type": "execute_result"
    }
   ],
   "source": [
    "columnas = ['2004', '2005', '2006', '2007', '2008', '2009', '2010', '2011', '2012', '2013', '2014', '2015', '2016', '2017', '2018', '2019', '2020', '2021', '2022']\n",
    "descripcion2 = df[columnas].describe().round(2)\n",
    "descripcion2"
   ]
  },
  {
   "cell_type": "markdown",
   "metadata": {},
   "source": [
    "El resumen estadístico de la serie temporal entre los años 2004 y 2022 muestra un progreso ascendente en la esperanza de vida, ilustrado por un aumento gradual desde un promedio aproximado de 70.94 en 2004 a alrededor de 75.11 en 2021. La desviación estándar oscila entre 7.98 y 10.38, sugiriendo una estabilidad relativa con cierta variabilidad en los valores a lo largo del período. Se identifican valores extremos en un rango desde 50.84 hasta 87.57, indicando una dispersión amplia de datos. Los percentiles muestran la distribución de los datos, por ejemplo, el 25% más bajo de los valores se encuentra por debajo del valor del percentil 25%. Este análisis destaca una tendencia ascendente en la esperanza de vida con cierta variabilidad y presencia de valores extremos a lo largo de los años, brindando una visión general sobre la evolución de esta variable en el lapso mencionado."
   ]
  },
  {
   "cell_type": "markdown",
   "metadata": {},
   "source": [
    "Para conocer si tenemos valores faltantes en las columnas de ['país'] ['codigo_pais'] ['factor_(serie)'] ['codigo_serie']"
   ]
  },
  {
   "cell_type": "code",
   "execution_count": 7,
   "metadata": {},
   "outputs": [
    {
     "name": "stdout",
     "output_type": "stream",
     "text": [
      "0\n",
      "0\n",
      "0\n",
      "0\n"
     ]
    }
   ],
   "source": [
    "print(df['país'].isna().sum())\n",
    "print(df['codigo_pais'].isna().sum())\n",
    "print(df['factor_(serie)'].isna().sum())\n",
    "print(df['codigo_serie'].isna().sum())\n"
   ]
  },
  {
   "cell_type": "markdown",
   "metadata": {},
   "source": [
    "Veamos en que países se encuentran en estudio."
   ]
  },
  {
   "cell_type": "code",
   "execution_count": 8,
   "metadata": {},
   "outputs": [
    {
     "name": "stdout",
     "output_type": "stream",
     "text": [
      "Cantidad de paises en estudio: 44\n"
     ]
    },
    {
     "data": {
      "text/html": [
       "<div>\n",
       "<style scoped>\n",
       "    .dataframe tbody tr th:only-of-type {\n",
       "        vertical-align: middle;\n",
       "    }\n",
       "\n",
       "    .dataframe tbody tr th {\n",
       "        vertical-align: top;\n",
       "    }\n",
       "\n",
       "    .dataframe thead th {\n",
       "        text-align: right;\n",
       "    }\n",
       "</style>\n",
       "<table border=\"1\" class=\"dataframe\">\n",
       "  <thead>\n",
       "    <tr style=\"text-align: right;\">\n",
       "      <th></th>\n",
       "      <th>Países</th>\n",
       "    </tr>\n",
       "  </thead>\n",
       "  <tbody>\n",
       "    <tr>\n",
       "      <th>0</th>\n",
       "      <td>Afganistán</td>\n",
       "    </tr>\n",
       "    <tr>\n",
       "      <th>1</th>\n",
       "      <td>Alemania</td>\n",
       "    </tr>\n",
       "    <tr>\n",
       "      <th>2</th>\n",
       "      <td>Argelia</td>\n",
       "    </tr>\n",
       "    <tr>\n",
       "      <th>3</th>\n",
       "      <td>Arabia Saudita</td>\n",
       "    </tr>\n",
       "    <tr>\n",
       "      <th>4</th>\n",
       "      <td>Argentina</td>\n",
       "    </tr>\n",
       "    <tr>\n",
       "      <th>5</th>\n",
       "      <td>Australia</td>\n",
       "    </tr>\n",
       "    <tr>\n",
       "      <th>6</th>\n",
       "      <td>Austria</td>\n",
       "    </tr>\n",
       "    <tr>\n",
       "      <th>7</th>\n",
       "      <td>Brasil</td>\n",
       "    </tr>\n",
       "    <tr>\n",
       "      <th>8</th>\n",
       "      <td>Burkina Faso</td>\n",
       "    </tr>\n",
       "    <tr>\n",
       "      <th>9</th>\n",
       "      <td>China</td>\n",
       "    </tr>\n",
       "    <tr>\n",
       "      <th>10</th>\n",
       "      <td>Canadá</td>\n",
       "    </tr>\n",
       "    <tr>\n",
       "      <th>11</th>\n",
       "      <td>Camboya</td>\n",
       "    </tr>\n",
       "    <tr>\n",
       "      <th>12</th>\n",
       "      <td>Chad</td>\n",
       "    </tr>\n",
       "    <tr>\n",
       "      <th>13</th>\n",
       "      <td>Dinamarca</td>\n",
       "    </tr>\n",
       "    <tr>\n",
       "      <th>14</th>\n",
       "      <td>Ecuador</td>\n",
       "    </tr>\n",
       "    <tr>\n",
       "      <th>15</th>\n",
       "      <td>Emiratos Árabes Unidos</td>\n",
       "    </tr>\n",
       "    <tr>\n",
       "      <th>16</th>\n",
       "      <td>Egipto, República Árabe de</td>\n",
       "    </tr>\n",
       "    <tr>\n",
       "      <th>17</th>\n",
       "      <td>Cuba</td>\n",
       "    </tr>\n",
       "    <tr>\n",
       "      <th>18</th>\n",
       "      <td>Costa Rica</td>\n",
       "    </tr>\n",
       "    <tr>\n",
       "      <th>19</th>\n",
       "      <td>Estados Unidos</td>\n",
       "    </tr>\n",
       "    <tr>\n",
       "      <th>20</th>\n",
       "      <td>España</td>\n",
       "    </tr>\n",
       "    <tr>\n",
       "      <th>21</th>\n",
       "      <td>Fiji</td>\n",
       "    </tr>\n",
       "    <tr>\n",
       "      <th>22</th>\n",
       "      <td>Finlandia</td>\n",
       "    </tr>\n",
       "    <tr>\n",
       "      <th>23</th>\n",
       "      <td>Federación de Rusia</td>\n",
       "    </tr>\n",
       "    <tr>\n",
       "      <th>24</th>\n",
       "      <td>Grecia</td>\n",
       "    </tr>\n",
       "    <tr>\n",
       "      <th>25</th>\n",
       "      <td>India</td>\n",
       "    </tr>\n",
       "    <tr>\n",
       "      <th>26</th>\n",
       "      <td>Marruecos</td>\n",
       "    </tr>\n",
       "    <tr>\n",
       "      <th>27</th>\n",
       "      <td>México</td>\n",
       "    </tr>\n",
       "    <tr>\n",
       "      <th>28</th>\n",
       "      <td>Nepal</td>\n",
       "    </tr>\n",
       "    <tr>\n",
       "      <th>29</th>\n",
       "      <td>Níger</td>\n",
       "    </tr>\n",
       "    <tr>\n",
       "      <th>30</th>\n",
       "      <td>Países Bajos</td>\n",
       "    </tr>\n",
       "    <tr>\n",
       "      <th>31</th>\n",
       "      <td>Nueva Zelandia</td>\n",
       "    </tr>\n",
       "    <tr>\n",
       "      <th>32</th>\n",
       "      <td>Reino Unido</td>\n",
       "    </tr>\n",
       "    <tr>\n",
       "      <th>33</th>\n",
       "      <td>Rwanda</td>\n",
       "    </tr>\n",
       "    <tr>\n",
       "      <th>34</th>\n",
       "      <td>Samoa</td>\n",
       "    </tr>\n",
       "    <tr>\n",
       "      <th>35</th>\n",
       "      <td>Sierra Leona</td>\n",
       "    </tr>\n",
       "    <tr>\n",
       "      <th>36</th>\n",
       "      <td>Sudáfrica</td>\n",
       "    </tr>\n",
       "    <tr>\n",
       "      <th>37</th>\n",
       "      <td>Singapur</td>\n",
       "    </tr>\n",
       "    <tr>\n",
       "      <th>38</th>\n",
       "      <td>Suiza</td>\n",
       "    </tr>\n",
       "    <tr>\n",
       "      <th>39</th>\n",
       "      <td>Venezuela</td>\n",
       "    </tr>\n",
       "    <tr>\n",
       "      <th>40</th>\n",
       "      <td>Colombia</td>\n",
       "    </tr>\n",
       "    <tr>\n",
       "      <th>41</th>\n",
       "      <td>Japón</td>\n",
       "    </tr>\n",
       "    <tr>\n",
       "      <th>42</th>\n",
       "      <td>Kenya</td>\n",
       "    </tr>\n",
       "    <tr>\n",
       "      <th>43</th>\n",
       "      <td>Noruega</td>\n",
       "    </tr>\n",
       "  </tbody>\n",
       "</table>\n",
       "</div>"
      ],
      "text/plain": [
       "                        Países\n",
       "0                   Afganistán\n",
       "1                     Alemania\n",
       "2                      Argelia\n",
       "3               Arabia Saudita\n",
       "4                    Argentina\n",
       "5                    Australia\n",
       "6                      Austria\n",
       "7                       Brasil\n",
       "8                 Burkina Faso\n",
       "9                        China\n",
       "10                      Canadá\n",
       "11                     Camboya\n",
       "12                        Chad\n",
       "13                   Dinamarca\n",
       "14                     Ecuador\n",
       "15      Emiratos Árabes Unidos\n",
       "16  Egipto, República Árabe de\n",
       "17                        Cuba\n",
       "18                  Costa Rica\n",
       "19              Estados Unidos\n",
       "20                      España\n",
       "21                        Fiji\n",
       "22                   Finlandia\n",
       "23         Federación de Rusia\n",
       "24                      Grecia\n",
       "25                       India\n",
       "26                   Marruecos\n",
       "27                      México\n",
       "28                       Nepal\n",
       "29                       Níger\n",
       "30                Países Bajos\n",
       "31              Nueva Zelandia\n",
       "32                 Reino Unido\n",
       "33                      Rwanda\n",
       "34                       Samoa\n",
       "35                Sierra Leona\n",
       "36                   Sudáfrica\n",
       "37                    Singapur\n",
       "38                       Suiza\n",
       "39                   Venezuela\n",
       "40                    Colombia\n",
       "41                       Japón\n",
       "42                       Kenya\n",
       "43                     Noruega"
      ]
     },
     "execution_count": 8,
     "metadata": {},
     "output_type": "execute_result"
    }
   ],
   "source": [
    "cantidad_paises = len(df['país'].unique())\n",
    "print('Cantidad de paises en estudio:',cantidad_paises)\n",
    "pd.DataFrame(df['país'].unique(), columns=['Países'])"
   ]
  },
  {
   "cell_type": "markdown",
   "metadata": {},
   "source": [
    "Veamos Variables se estudia"
   ]
  },
  {
   "cell_type": "code",
   "execution_count": 9,
   "metadata": {},
   "outputs": [
    {
     "name": "stdout",
     "output_type": "stream",
     "text": [
      "Cantidad de variables estudio: 3\n",
      "['Esperanza de vida al nacer, total (años)'\n",
      " 'Esperanza de vida al nacer, mujeres (años)'\n",
      " 'Esperanza de vida al nacer, varones (años)']\n"
     ]
    }
   ],
   "source": [
    "cantidad_series = len(df['factor_(serie)'].unique())\n",
    "print('Cantidad de variables estudio:',cantidad_series)\n",
    "serie_unicos = df['factor_(serie)'].unique()\n",
    "print(serie_unicos)"
   ]
  },
  {
   "cell_type": "code",
   "execution_count": 10,
   "metadata": {},
   "outputs": [],
   "source": [
    "# Eliminar columnas específicas por nombre\n",
    "columnas_a_eliminar = ['codigo_pais', 'codigo_serie']  # Lista con los nombres de las columnas a eliminar\n",
    "df = df.drop(columnas_a_eliminar, axis=1)"
   ]
  },
  {
   "cell_type": "code",
   "execution_count": 11,
   "metadata": {},
   "outputs": [
    {
     "data": {
      "text/html": [
       "<div>\n",
       "<style scoped>\n",
       "    .dataframe tbody tr th:only-of-type {\n",
       "        vertical-align: middle;\n",
       "    }\n",
       "\n",
       "    .dataframe tbody tr th {\n",
       "        vertical-align: top;\n",
       "    }\n",
       "\n",
       "    .dataframe thead th {\n",
       "        text-align: right;\n",
       "    }\n",
       "</style>\n",
       "<table border=\"1\" class=\"dataframe\">\n",
       "  <thead>\n",
       "    <tr style=\"text-align: right;\">\n",
       "      <th></th>\n",
       "      <th>país</th>\n",
       "      <th>factor_(serie)</th>\n",
       "      <th>Año</th>\n",
       "      <th>Valor</th>\n",
       "    </tr>\n",
       "  </thead>\n",
       "  <tbody>\n",
       "    <tr>\n",
       "      <th>0</th>\n",
       "      <td>Afganistán</td>\n",
       "      <td>Esperanza de vida al nacer, total (años)</td>\n",
       "      <td>1987</td>\n",
       "      <td>39.844</td>\n",
       "    </tr>\n",
       "    <tr>\n",
       "      <th>1</th>\n",
       "      <td>Afganistán</td>\n",
       "      <td>Esperanza de vida al nacer, mujeres (años)</td>\n",
       "      <td>1987</td>\n",
       "      <td>43.453</td>\n",
       "    </tr>\n",
       "    <tr>\n",
       "      <th>2</th>\n",
       "      <td>Afganistán</td>\n",
       "      <td>Esperanza de vida al nacer, varones (años)</td>\n",
       "      <td>1987</td>\n",
       "      <td>36.739</td>\n",
       "    </tr>\n",
       "    <tr>\n",
       "      <th>3</th>\n",
       "      <td>Alemania</td>\n",
       "      <td>Esperanza de vida al nacer, total (años)</td>\n",
       "      <td>1987</td>\n",
       "      <td>74.807</td>\n",
       "    </tr>\n",
       "    <tr>\n",
       "      <th>4</th>\n",
       "      <td>Alemania</td>\n",
       "      <td>Esperanza de vida al nacer, mujeres (años)</td>\n",
       "      <td>1987</td>\n",
       "      <td>78.103</td>\n",
       "    </tr>\n",
       "    <tr>\n",
       "      <th>...</th>\n",
       "      <td>...</td>\n",
       "      <td>...</td>\n",
       "      <td>...</td>\n",
       "      <td>...</td>\n",
       "    </tr>\n",
       "    <tr>\n",
       "      <th>4747</th>\n",
       "      <td>Kenya</td>\n",
       "      <td>Esperanza de vida al nacer, mujeres (años)</td>\n",
       "      <td>2022</td>\n",
       "      <td>NaN</td>\n",
       "    </tr>\n",
       "    <tr>\n",
       "      <th>4748</th>\n",
       "      <td>Kenya</td>\n",
       "      <td>Esperanza de vida al nacer, varones (años)</td>\n",
       "      <td>2022</td>\n",
       "      <td>NaN</td>\n",
       "    </tr>\n",
       "    <tr>\n",
       "      <th>4749</th>\n",
       "      <td>Noruega</td>\n",
       "      <td>Esperanza de vida al nacer, total (años)</td>\n",
       "      <td>2022</td>\n",
       "      <td>NaN</td>\n",
       "    </tr>\n",
       "    <tr>\n",
       "      <th>4750</th>\n",
       "      <td>Noruega</td>\n",
       "      <td>Esperanza de vida al nacer, mujeres (años)</td>\n",
       "      <td>2022</td>\n",
       "      <td>NaN</td>\n",
       "    </tr>\n",
       "    <tr>\n",
       "      <th>4751</th>\n",
       "      <td>Noruega</td>\n",
       "      <td>Esperanza de vida al nacer, varones (años)</td>\n",
       "      <td>2022</td>\n",
       "      <td>NaN</td>\n",
       "    </tr>\n",
       "  </tbody>\n",
       "</table>\n",
       "<p>4752 rows × 4 columns</p>\n",
       "</div>"
      ],
      "text/plain": [
       "            país                              factor_(serie)   Año   Valor\n",
       "0     Afganistán    Esperanza de vida al nacer, total (años)  1987  39.844\n",
       "1     Afganistán  Esperanza de vida al nacer, mujeres (años)  1987  43.453\n",
       "2     Afganistán  Esperanza de vida al nacer, varones (años)  1987  36.739\n",
       "3       Alemania    Esperanza de vida al nacer, total (años)  1987  74.807\n",
       "4       Alemania  Esperanza de vida al nacer, mujeres (años)  1987  78.103\n",
       "...          ...                                         ...   ...     ...\n",
       "4747       Kenya  Esperanza de vida al nacer, mujeres (años)  2022     NaN\n",
       "4748       Kenya  Esperanza de vida al nacer, varones (años)  2022     NaN\n",
       "4749     Noruega    Esperanza de vida al nacer, total (años)  2022     NaN\n",
       "4750     Noruega  Esperanza de vida al nacer, mujeres (años)  2022     NaN\n",
       "4751     Noruega  Esperanza de vida al nacer, varones (años)  2022     NaN\n",
       "\n",
       "[4752 rows x 4 columns]"
      ]
     },
     "execution_count": 11,
     "metadata": {},
     "output_type": "execute_result"
    }
   ],
   "source": [
    "# Reorganizar los datos para tener 'factor_(serie)' como índice y los años como valores en una sola columna\n",
    "df_reorganizado = df.melt(id_vars=['país', 'factor_(serie)'], var_name='Año', value_name='Valor')\n",
    "\n",
    "# Mostrar el DataFrame reorganizado\n",
    "df_reorganizado"
   ]
  },
  {
   "cell_type": "code",
   "execution_count": 12,
   "metadata": {},
   "outputs": [
    {
     "data": {
      "text/plain": [
       "count    4620.000000\n",
       "mean       70.930790\n",
       "std        10.244032\n",
       "min        13.071000\n",
       "25%        65.746750\n",
       "50%        73.805500\n",
       "75%        78.631700\n",
       "max        87.710000\n",
       "Name: Valor, dtype: float64"
      ]
     },
     "execution_count": 12,
     "metadata": {},
     "output_type": "execute_result"
    }
   ],
   "source": [
    "df_reorganizado['Valor'].describe()"
   ]
  },
  {
   "cell_type": "markdown",
   "metadata": {},
   "source": [
    "El resumen estadístico de la serie revela la presencia de 4620 observaciones. La media de los valores es de aproximadamente 70.93, con una desviación estándar de alrededor de 10.24, indicando una dispersión moderada de los datos respecto a la media. Los valores varían desde un mínimo de 13.07 hasta un máximo de 87.71. Los percentiles sugieren que el 25% de los valores son menores que 65.75, el 50% son inferiores a 73.81 y el 75% son menores que 78.63. Esto indica que la mayoría de los datos se concentran entre el percentil 25 y 75, con una dispersión más amplia hacia los valores máximos y mínimos."
   ]
  },
  {
   "cell_type": "markdown",
   "metadata": {},
   "source": [
    "Ante la presencia significativa de valores faltantes (NaN) en nuestro conjunto de datos, se optó por aplicar una estrategia de imputación. Esta estrategia consiste en el reemplazo de los valores faltantes por la media de los datos, tomando en consideración la especificidad de cada país. Este enfoque nos permite abordar la ausencia de datos, asegurando una mayor integridad en nuestro conjunto de datos al evitar vacíos o valores faltantes, lo que resulta crucial para un análisis robusto y confiable."
   ]
  },
  {
   "cell_type": "code",
   "execution_count": 13,
   "metadata": {},
   "outputs": [],
   "source": [
    "# Supongamos que ya tienes tu DataFrame cargado, aquí usaremos el nombre df para representar el DataFrame.\n",
    "\n",
    "def fill_missing_with_country_mean(df):\n",
    "    # Agrupar por país y calcular la media\n",
    "    means_by_country = df.groupby('país')['Valor'].mean().to_dict()\n",
    "\n",
    "    # Función para rellenar valores faltantes por país\n",
    "    def fill_mean_by_country(row):\n",
    "        if pd.isnull(row['Valor']):\n",
    "            return means_by_country[row['país']]\n",
    "        else:\n",
    "            return row['Valor']\n",
    "\n",
    "    # Aplicar la función para rellenar valores faltantes\n",
    "    df['Valor'] = df.apply(fill_mean_by_country, axis=1)\n",
    "    return df\n",
    "\n",
    "# Llamar a la función para rellenar los valores faltantes con la media por país\n",
    "df_filled = fill_missing_with_country_mean(df_reorganizado)"
   ]
  },
  {
   "cell_type": "code",
   "execution_count": 14,
   "metadata": {},
   "outputs": [
    {
     "data": {
      "text/html": [
       "<div>\n",
       "<style scoped>\n",
       "    .dataframe tbody tr th:only-of-type {\n",
       "        vertical-align: middle;\n",
       "    }\n",
       "\n",
       "    .dataframe tbody tr th {\n",
       "        vertical-align: top;\n",
       "    }\n",
       "\n",
       "    .dataframe thead th {\n",
       "        text-align: right;\n",
       "    }\n",
       "</style>\n",
       "<table border=\"1\" class=\"dataframe\">\n",
       "  <thead>\n",
       "    <tr style=\"text-align: right;\">\n",
       "      <th></th>\n",
       "      <th>país</th>\n",
       "      <th>factor_(serie)</th>\n",
       "      <th>Año</th>\n",
       "      <th>Valor</th>\n",
       "    </tr>\n",
       "  </thead>\n",
       "  <tbody>\n",
       "    <tr>\n",
       "      <th>0</th>\n",
       "      <td>Afganistán</td>\n",
       "      <td>Esperanza de vida al nacer, total (años)</td>\n",
       "      <td>1987</td>\n",
       "      <td>39.844000</td>\n",
       "    </tr>\n",
       "    <tr>\n",
       "      <th>1</th>\n",
       "      <td>Afganistán</td>\n",
       "      <td>Esperanza de vida al nacer, mujeres (años)</td>\n",
       "      <td>1987</td>\n",
       "      <td>43.453000</td>\n",
       "    </tr>\n",
       "    <tr>\n",
       "      <th>2</th>\n",
       "      <td>Afganistán</td>\n",
       "      <td>Esperanza de vida al nacer, varones (años)</td>\n",
       "      <td>1987</td>\n",
       "      <td>36.739000</td>\n",
       "    </tr>\n",
       "    <tr>\n",
       "      <th>3</th>\n",
       "      <td>Alemania</td>\n",
       "      <td>Esperanza de vida al nacer, total (años)</td>\n",
       "      <td>1987</td>\n",
       "      <td>74.807000</td>\n",
       "    </tr>\n",
       "    <tr>\n",
       "      <th>4</th>\n",
       "      <td>Alemania</td>\n",
       "      <td>Esperanza de vida al nacer, mujeres (años)</td>\n",
       "      <td>1987</td>\n",
       "      <td>78.103000</td>\n",
       "    </tr>\n",
       "    <tr>\n",
       "      <th>...</th>\n",
       "      <td>...</td>\n",
       "      <td>...</td>\n",
       "      <td>...</td>\n",
       "      <td>...</td>\n",
       "    </tr>\n",
       "    <tr>\n",
       "      <th>4747</th>\n",
       "      <td>Kenya</td>\n",
       "      <td>Esperanza de vida al nacer, mujeres (años)</td>\n",
       "      <td>2022</td>\n",
       "      <td>58.640533</td>\n",
       "    </tr>\n",
       "    <tr>\n",
       "      <th>4748</th>\n",
       "      <td>Kenya</td>\n",
       "      <td>Esperanza de vida al nacer, varones (años)</td>\n",
       "      <td>2022</td>\n",
       "      <td>58.640533</td>\n",
       "    </tr>\n",
       "    <tr>\n",
       "      <th>4749</th>\n",
       "      <td>Noruega</td>\n",
       "      <td>Esperanza de vida al nacer, total (años)</td>\n",
       "      <td>2022</td>\n",
       "      <td>79.748602</td>\n",
       "    </tr>\n",
       "    <tr>\n",
       "      <th>4750</th>\n",
       "      <td>Noruega</td>\n",
       "      <td>Esperanza de vida al nacer, mujeres (años)</td>\n",
       "      <td>2022</td>\n",
       "      <td>79.748602</td>\n",
       "    </tr>\n",
       "    <tr>\n",
       "      <th>4751</th>\n",
       "      <td>Noruega</td>\n",
       "      <td>Esperanza de vida al nacer, varones (años)</td>\n",
       "      <td>2022</td>\n",
       "      <td>79.748602</td>\n",
       "    </tr>\n",
       "  </tbody>\n",
       "</table>\n",
       "<p>4752 rows × 4 columns</p>\n",
       "</div>"
      ],
      "text/plain": [
       "            país                              factor_(serie)   Año      Valor\n",
       "0     Afganistán    Esperanza de vida al nacer, total (años)  1987  39.844000\n",
       "1     Afganistán  Esperanza de vida al nacer, mujeres (años)  1987  43.453000\n",
       "2     Afganistán  Esperanza de vida al nacer, varones (años)  1987  36.739000\n",
       "3       Alemania    Esperanza de vida al nacer, total (años)  1987  74.807000\n",
       "4       Alemania  Esperanza de vida al nacer, mujeres (años)  1987  78.103000\n",
       "...          ...                                         ...   ...        ...\n",
       "4747       Kenya  Esperanza de vida al nacer, mujeres (años)  2022  58.640533\n",
       "4748       Kenya  Esperanza de vida al nacer, varones (años)  2022  58.640533\n",
       "4749     Noruega    Esperanza de vida al nacer, total (años)  2022  79.748602\n",
       "4750     Noruega  Esperanza de vida al nacer, mujeres (años)  2022  79.748602\n",
       "4751     Noruega  Esperanza de vida al nacer, varones (años)  2022  79.748602\n",
       "\n",
       "[4752 rows x 4 columns]"
      ]
     },
     "execution_count": 14,
     "metadata": {},
     "output_type": "execute_result"
    }
   ],
   "source": [
    "df_filled"
   ]
  },
  {
   "cell_type": "code",
   "execution_count": 15,
   "metadata": {},
   "outputs": [
    {
     "data": {
      "text/plain": [
       "count    4752.000000\n",
       "mean       70.930790\n",
       "std        10.220128\n",
       "min        13.071000\n",
       "25%        65.746750\n",
       "50%        73.800000\n",
       "75%        78.637200\n",
       "max        87.710000\n",
       "Name: Valor, dtype: float64"
      ]
     },
     "execution_count": 15,
     "metadata": {},
     "output_type": "execute_result"
    }
   ],
   "source": [
    "df_filled['Valor'].describe()"
   ]
  },
  {
   "cell_type": "markdown",
   "metadata": {},
   "source": [
    "El resumen estadístico de la serie comprende un total de 4752 observaciones. Los valores muestran una media de aproximadamente 70.93 con una desviación estándar de alrededor de 10.22, lo que sugiere una dispersión moderada en relación a la media. Los valores oscilan entre un mínimo de 13.07 y un máximo de 87.71. Los percentiles muestran que el 25% de los datos son menores que 65.75, el 50% son inferiores a 73.8, y el 75% son menores que 78.64. Esto indica que la mayor parte de los datos se concentran entre los percentiles 25 y 75, mientras que hay una dispersión más amplia hacia los valores máximos y mínimos."
   ]
  },
  {
   "cell_type": "code",
   "execution_count": 16,
   "metadata": {},
   "outputs": [
    {
     "data": {
      "application/vnd.jupyter.widget-view+json": {
       "model_id": "9109aac54dc640e5a56374cb49beb92c",
       "version_major": 2,
       "version_minor": 0
      },
      "text/plain": [
       "interactive(children=(Dropdown(description='Seleccionar país:', options=('Todos', 'Afganistán', 'Alemania', 'A…"
      ]
     },
     "execution_count": 16,
     "metadata": {},
     "output_type": "execute_result"
    }
   ],
   "source": [
    "# Crear una lista con los nombres de los países en el DataFrame\n",
    "paises = df_filled['país'].unique().tolist()\n",
    "\n",
    "# Crear un widget de menú desplegable (dropdown) para seleccionar un país\n",
    "dropdown_paises = widgets.Dropdown(\n",
    "    options=['Todos'] + paises,  # Opción adicional para mostrar todos los países\n",
    "    description='Seleccionar país:'\n",
    ")\n",
    "\n",
    "# Función para filtrar y mostrar los datos según el país seleccionado\n",
    "def mostrar_datos_por_pais(pais):\n",
    "    if pais == 'Todos':\n",
    "        display(df_filled)  # Muestra todos los datos si se selecciona 'Todos'\n",
    "    else:\n",
    "        datos_filtrados = df[df['país'] == pais]\n",
    "        display(datos_filtrados)\n",
    "\n",
    "# Interactividad: enlazar el widget de menú desplegable a la función de filtrado\n",
    "widgets.interactive(mostrar_datos_por_pais, pais=dropdown_paises)"
   ]
  },
  {
   "cell_type": "code",
   "execution_count": 17,
   "metadata": {},
   "outputs": [
    {
     "data": {
      "application/vnd.plotly.v1+json": {
       "config": {
        "plotlyServerURL": "https://plot.ly"
       },
       "data": [
        {
         "mode": "lines+markers",
         "name": "Esperanza de vida al nacer, total (años)",
         "type": "scatter",
         "x": [
          "1987",
          "1988",
          "1989",
          "1990",
          "1991",
          "1992",
          "1993",
          "1994",
          "1995",
          "1996",
          "1997",
          "1998",
          "1999",
          "2000",
          "2001",
          "2002",
          "2003",
          "2004",
          "2005",
          "2006",
          "2007",
          "2008",
          "2009",
          "2010",
          "2011",
          "2012",
          "2013",
          "2014",
          "2015",
          "2016",
          "2017",
          "2018",
          "2019",
          "2020",
          "2021",
          "2022"
         ],
         "y": [
          39.844,
          43.958,
          45.158,
          45.967,
          46.663,
          47.596,
          51.466,
          51.495,
          52.544,
          53.243,
          53.634,
          52.943,
          54.846,
          55.298,
          55.798,
          56.454,
          57.344,
          57.944,
          58.361,
          58.684,
          59.111,
          59.852,
          60.364,
          60.851,
          61.419,
          61.923,
          62.417,
          62.545,
          62.659,
          63.136,
          63.016,
          63.081,
          63.565,
          62.575,
          61.982,
          56.246580952380945
         ]
        },
        {
         "mode": "lines+markers",
         "name": "Esperanza de vida al nacer, mujeres (años)",
         "type": "scatter",
         "x": [
          "1987",
          "1988",
          "1989",
          "1990",
          "1991",
          "1992",
          "1993",
          "1994",
          "1995",
          "1996",
          "1997",
          "1998",
          "1999",
          "2000",
          "2001",
          "2002",
          "2003",
          "2004",
          "2005",
          "2006",
          "2007",
          "2008",
          "2009",
          "2010",
          "2011",
          "2012",
          "2013",
          "2014",
          "2015",
          "2016",
          "2017",
          "2018",
          "2019",
          "2020",
          "2021",
          "2022"
         ],
         "y": [
          43.453,
          46.569,
          47.61,
          48.397,
          49.144,
          50.32,
          52.739,
          53.544,
          54.087,
          54.806,
          55.151,
          54.818,
          56.3,
          56.858,
          57.344,
          57.672,
          58.65,
          59.216,
          59.697,
          60.243,
          60.909,
          61.529,
          61.892,
          62.408,
          62.993,
          63.514,
          64.027,
          64.274,
          64.576,
          65.096,
          66.099,
          66.458,
          66.677,
          65.432,
          65.279,
          56.246580952380945
         ]
        },
        {
         "mode": "lines+markers",
         "name": "Esperanza de vida al nacer, varones (años)",
         "type": "scatter",
         "x": [
          "1987",
          "1988",
          "1989",
          "1990",
          "1991",
          "1992",
          "1993",
          "1994",
          "1995",
          "1996",
          "1997",
          "1998",
          "1999",
          "2000",
          "2001",
          "2002",
          "2003",
          "2004",
          "2005",
          "2006",
          "2007",
          "2008",
          "2009",
          "2010",
          "2011",
          "2012",
          "2013",
          "2014",
          "2015",
          "2016",
          "2017",
          "2018",
          "2019",
          "2020",
          "2021",
          "2022"
         ],
         "y": [
          36.739,
          41.572,
          42.891,
          43.709,
          44.353,
          45.07,
          50.216,
          49.531,
          51.039,
          51.722,
          52.153,
          51.134,
          53.41,
          53.762,
          54.272,
          55.227,
          56.032,
          56.658,
          57.013,
          57.133,
          57.342,
          58.172,
          58.82,
          59.278,
          59.825,
          60.317,
          60.791,
          60.812,
          60.76,
          61.193,
          60.105,
          59.923,
          60.619,
          59.866,
          58.915,
          56.246580952380945
         ]
        }
       ],
       "layout": {
        "height": 450,
        "legend": {
         "orientation": "h",
         "x": 0,
         "y": -1.2
        },
        "template": {
         "data": {
          "bar": [
           {
            "error_x": {
             "color": "#2a3f5f"
            },
            "error_y": {
             "color": "#2a3f5f"
            },
            "marker": {
             "line": {
              "color": "#E5ECF6",
              "width": 0.5
             },
             "pattern": {
              "fillmode": "overlay",
              "size": 10,
              "solidity": 0.2
             }
            },
            "type": "bar"
           }
          ],
          "barpolar": [
           {
            "marker": {
             "line": {
              "color": "#E5ECF6",
              "width": 0.5
             },
             "pattern": {
              "fillmode": "overlay",
              "size": 10,
              "solidity": 0.2
             }
            },
            "type": "barpolar"
           }
          ],
          "carpet": [
           {
            "aaxis": {
             "endlinecolor": "#2a3f5f",
             "gridcolor": "white",
             "linecolor": "white",
             "minorgridcolor": "white",
             "startlinecolor": "#2a3f5f"
            },
            "baxis": {
             "endlinecolor": "#2a3f5f",
             "gridcolor": "white",
             "linecolor": "white",
             "minorgridcolor": "white",
             "startlinecolor": "#2a3f5f"
            },
            "type": "carpet"
           }
          ],
          "choropleth": [
           {
            "colorbar": {
             "outlinewidth": 0,
             "ticks": ""
            },
            "type": "choropleth"
           }
          ],
          "contour": [
           {
            "colorbar": {
             "outlinewidth": 0,
             "ticks": ""
            },
            "colorscale": [
             [
              0,
              "#0d0887"
             ],
             [
              0.1111111111111111,
              "#46039f"
             ],
             [
              0.2222222222222222,
              "#7201a8"
             ],
             [
              0.3333333333333333,
              "#9c179e"
             ],
             [
              0.4444444444444444,
              "#bd3786"
             ],
             [
              0.5555555555555556,
              "#d8576b"
             ],
             [
              0.6666666666666666,
              "#ed7953"
             ],
             [
              0.7777777777777778,
              "#fb9f3a"
             ],
             [
              0.8888888888888888,
              "#fdca26"
             ],
             [
              1,
              "#f0f921"
             ]
            ],
            "type": "contour"
           }
          ],
          "contourcarpet": [
           {
            "colorbar": {
             "outlinewidth": 0,
             "ticks": ""
            },
            "type": "contourcarpet"
           }
          ],
          "heatmap": [
           {
            "colorbar": {
             "outlinewidth": 0,
             "ticks": ""
            },
            "colorscale": [
             [
              0,
              "#0d0887"
             ],
             [
              0.1111111111111111,
              "#46039f"
             ],
             [
              0.2222222222222222,
              "#7201a8"
             ],
             [
              0.3333333333333333,
              "#9c179e"
             ],
             [
              0.4444444444444444,
              "#bd3786"
             ],
             [
              0.5555555555555556,
              "#d8576b"
             ],
             [
              0.6666666666666666,
              "#ed7953"
             ],
             [
              0.7777777777777778,
              "#fb9f3a"
             ],
             [
              0.8888888888888888,
              "#fdca26"
             ],
             [
              1,
              "#f0f921"
             ]
            ],
            "type": "heatmap"
           }
          ],
          "heatmapgl": [
           {
            "colorbar": {
             "outlinewidth": 0,
             "ticks": ""
            },
            "colorscale": [
             [
              0,
              "#0d0887"
             ],
             [
              0.1111111111111111,
              "#46039f"
             ],
             [
              0.2222222222222222,
              "#7201a8"
             ],
             [
              0.3333333333333333,
              "#9c179e"
             ],
             [
              0.4444444444444444,
              "#bd3786"
             ],
             [
              0.5555555555555556,
              "#d8576b"
             ],
             [
              0.6666666666666666,
              "#ed7953"
             ],
             [
              0.7777777777777778,
              "#fb9f3a"
             ],
             [
              0.8888888888888888,
              "#fdca26"
             ],
             [
              1,
              "#f0f921"
             ]
            ],
            "type": "heatmapgl"
           }
          ],
          "histogram": [
           {
            "marker": {
             "pattern": {
              "fillmode": "overlay",
              "size": 10,
              "solidity": 0.2
             }
            },
            "type": "histogram"
           }
          ],
          "histogram2d": [
           {
            "colorbar": {
             "outlinewidth": 0,
             "ticks": ""
            },
            "colorscale": [
             [
              0,
              "#0d0887"
             ],
             [
              0.1111111111111111,
              "#46039f"
             ],
             [
              0.2222222222222222,
              "#7201a8"
             ],
             [
              0.3333333333333333,
              "#9c179e"
             ],
             [
              0.4444444444444444,
              "#bd3786"
             ],
             [
              0.5555555555555556,
              "#d8576b"
             ],
             [
              0.6666666666666666,
              "#ed7953"
             ],
             [
              0.7777777777777778,
              "#fb9f3a"
             ],
             [
              0.8888888888888888,
              "#fdca26"
             ],
             [
              1,
              "#f0f921"
             ]
            ],
            "type": "histogram2d"
           }
          ],
          "histogram2dcontour": [
           {
            "colorbar": {
             "outlinewidth": 0,
             "ticks": ""
            },
            "colorscale": [
             [
              0,
              "#0d0887"
             ],
             [
              0.1111111111111111,
              "#46039f"
             ],
             [
              0.2222222222222222,
              "#7201a8"
             ],
             [
              0.3333333333333333,
              "#9c179e"
             ],
             [
              0.4444444444444444,
              "#bd3786"
             ],
             [
              0.5555555555555556,
              "#d8576b"
             ],
             [
              0.6666666666666666,
              "#ed7953"
             ],
             [
              0.7777777777777778,
              "#fb9f3a"
             ],
             [
              0.8888888888888888,
              "#fdca26"
             ],
             [
              1,
              "#f0f921"
             ]
            ],
            "type": "histogram2dcontour"
           }
          ],
          "mesh3d": [
           {
            "colorbar": {
             "outlinewidth": 0,
             "ticks": ""
            },
            "type": "mesh3d"
           }
          ],
          "parcoords": [
           {
            "line": {
             "colorbar": {
              "outlinewidth": 0,
              "ticks": ""
             }
            },
            "type": "parcoords"
           }
          ],
          "pie": [
           {
            "automargin": true,
            "type": "pie"
           }
          ],
          "scatter": [
           {
            "fillpattern": {
             "fillmode": "overlay",
             "size": 10,
             "solidity": 0.2
            },
            "type": "scatter"
           }
          ],
          "scatter3d": [
           {
            "line": {
             "colorbar": {
              "outlinewidth": 0,
              "ticks": ""
             }
            },
            "marker": {
             "colorbar": {
              "outlinewidth": 0,
              "ticks": ""
             }
            },
            "type": "scatter3d"
           }
          ],
          "scattercarpet": [
           {
            "marker": {
             "colorbar": {
              "outlinewidth": 0,
              "ticks": ""
             }
            },
            "type": "scattercarpet"
           }
          ],
          "scattergeo": [
           {
            "marker": {
             "colorbar": {
              "outlinewidth": 0,
              "ticks": ""
             }
            },
            "type": "scattergeo"
           }
          ],
          "scattergl": [
           {
            "marker": {
             "colorbar": {
              "outlinewidth": 0,
              "ticks": ""
             }
            },
            "type": "scattergl"
           }
          ],
          "scattermapbox": [
           {
            "marker": {
             "colorbar": {
              "outlinewidth": 0,
              "ticks": ""
             }
            },
            "type": "scattermapbox"
           }
          ],
          "scatterpolar": [
           {
            "marker": {
             "colorbar": {
              "outlinewidth": 0,
              "ticks": ""
             }
            },
            "type": "scatterpolar"
           }
          ],
          "scatterpolargl": [
           {
            "marker": {
             "colorbar": {
              "outlinewidth": 0,
              "ticks": ""
             }
            },
            "type": "scatterpolargl"
           }
          ],
          "scatterternary": [
           {
            "marker": {
             "colorbar": {
              "outlinewidth": 0,
              "ticks": ""
             }
            },
            "type": "scatterternary"
           }
          ],
          "surface": [
           {
            "colorbar": {
             "outlinewidth": 0,
             "ticks": ""
            },
            "colorscale": [
             [
              0,
              "#0d0887"
             ],
             [
              0.1111111111111111,
              "#46039f"
             ],
             [
              0.2222222222222222,
              "#7201a8"
             ],
             [
              0.3333333333333333,
              "#9c179e"
             ],
             [
              0.4444444444444444,
              "#bd3786"
             ],
             [
              0.5555555555555556,
              "#d8576b"
             ],
             [
              0.6666666666666666,
              "#ed7953"
             ],
             [
              0.7777777777777778,
              "#fb9f3a"
             ],
             [
              0.8888888888888888,
              "#fdca26"
             ],
             [
              1,
              "#f0f921"
             ]
            ],
            "type": "surface"
           }
          ],
          "table": [
           {
            "cells": {
             "fill": {
              "color": "#EBF0F8"
             },
             "line": {
              "color": "white"
             }
            },
            "header": {
             "fill": {
              "color": "#C8D4E3"
             },
             "line": {
              "color": "white"
             }
            },
            "type": "table"
           }
          ]
         },
         "layout": {
          "annotationdefaults": {
           "arrowcolor": "#2a3f5f",
           "arrowhead": 0,
           "arrowwidth": 1
          },
          "autotypenumbers": "strict",
          "coloraxis": {
           "colorbar": {
            "outlinewidth": 0,
            "ticks": ""
           }
          },
          "colorscale": {
           "diverging": [
            [
             0,
             "#8e0152"
            ],
            [
             0.1,
             "#c51b7d"
            ],
            [
             0.2,
             "#de77ae"
            ],
            [
             0.3,
             "#f1b6da"
            ],
            [
             0.4,
             "#fde0ef"
            ],
            [
             0.5,
             "#f7f7f7"
            ],
            [
             0.6,
             "#e6f5d0"
            ],
            [
             0.7,
             "#b8e186"
            ],
            [
             0.8,
             "#7fbc41"
            ],
            [
             0.9,
             "#4d9221"
            ],
            [
             1,
             "#276419"
            ]
           ],
           "sequential": [
            [
             0,
             "#0d0887"
            ],
            [
             0.1111111111111111,
             "#46039f"
            ],
            [
             0.2222222222222222,
             "#7201a8"
            ],
            [
             0.3333333333333333,
             "#9c179e"
            ],
            [
             0.4444444444444444,
             "#bd3786"
            ],
            [
             0.5555555555555556,
             "#d8576b"
            ],
            [
             0.6666666666666666,
             "#ed7953"
            ],
            [
             0.7777777777777778,
             "#fb9f3a"
            ],
            [
             0.8888888888888888,
             "#fdca26"
            ],
            [
             1,
             "#f0f921"
            ]
           ],
           "sequentialminus": [
            [
             0,
             "#0d0887"
            ],
            [
             0.1111111111111111,
             "#46039f"
            ],
            [
             0.2222222222222222,
             "#7201a8"
            ],
            [
             0.3333333333333333,
             "#9c179e"
            ],
            [
             0.4444444444444444,
             "#bd3786"
            ],
            [
             0.5555555555555556,
             "#d8576b"
            ],
            [
             0.6666666666666666,
             "#ed7953"
            ],
            [
             0.7777777777777778,
             "#fb9f3a"
            ],
            [
             0.8888888888888888,
             "#fdca26"
            ],
            [
             1,
             "#f0f921"
            ]
           ]
          },
          "colorway": [
           "#636efa",
           "#EF553B",
           "#00cc96",
           "#ab63fa",
           "#FFA15A",
           "#19d3f3",
           "#FF6692",
           "#B6E880",
           "#FF97FF",
           "#FECB52"
          ],
          "font": {
           "color": "#2a3f5f"
          },
          "geo": {
           "bgcolor": "white",
           "lakecolor": "white",
           "landcolor": "#E5ECF6",
           "showlakes": true,
           "showland": true,
           "subunitcolor": "white"
          },
          "hoverlabel": {
           "align": "left"
          },
          "hovermode": "closest",
          "mapbox": {
           "style": "light"
          },
          "paper_bgcolor": "white",
          "plot_bgcolor": "#E5ECF6",
          "polar": {
           "angularaxis": {
            "gridcolor": "white",
            "linecolor": "white",
            "ticks": ""
           },
           "bgcolor": "#E5ECF6",
           "radialaxis": {
            "gridcolor": "white",
            "linecolor": "white",
            "ticks": ""
           }
          },
          "scene": {
           "xaxis": {
            "backgroundcolor": "#E5ECF6",
            "gridcolor": "white",
            "gridwidth": 2,
            "linecolor": "white",
            "showbackground": true,
            "ticks": "",
            "zerolinecolor": "white"
           },
           "yaxis": {
            "backgroundcolor": "#E5ECF6",
            "gridcolor": "white",
            "gridwidth": 2,
            "linecolor": "white",
            "showbackground": true,
            "ticks": "",
            "zerolinecolor": "white"
           },
           "zaxis": {
            "backgroundcolor": "#E5ECF6",
            "gridcolor": "white",
            "gridwidth": 2,
            "linecolor": "white",
            "showbackground": true,
            "ticks": "",
            "zerolinecolor": "white"
           }
          },
          "shapedefaults": {
           "line": {
            "color": "#2a3f5f"
           }
          },
          "ternary": {
           "aaxis": {
            "gridcolor": "white",
            "linecolor": "white",
            "ticks": ""
           },
           "baxis": {
            "gridcolor": "white",
            "linecolor": "white",
            "ticks": ""
           },
           "bgcolor": "#E5ECF6",
           "caxis": {
            "gridcolor": "white",
            "linecolor": "white",
            "ticks": ""
           }
          },
          "title": {
           "x": 0.05
          },
          "xaxis": {
           "automargin": true,
           "gridcolor": "white",
           "linecolor": "white",
           "ticks": "",
           "title": {
            "standoff": 15
           },
           "zerolinecolor": "white",
           "zerolinewidth": 2
          },
          "yaxis": {
           "automargin": true,
           "gridcolor": "white",
           "linecolor": "white",
           "ticks": "",
           "title": {
            "standoff": 15
           },
           "zerolinecolor": "white",
           "zerolinewidth": 2
          }
         }
        },
        "title": {
         "text": "Datos para Afganistán"
        },
        "width": 1200,
        "xaxis": {
         "title": {
          "text": "Año"
         }
        },
        "yaxis": {
         "title": {
          "text": "Valor"
         }
        }
       }
      }
     },
     "metadata": {},
     "output_type": "display_data"
    },
    {
     "data": {
      "application/vnd.jupyter.widget-view+json": {
       "model_id": "a4d6f7ab2ff34b07b46cb70bdeac7d25",
       "version_major": 2,
       "version_minor": 0
      },
      "text/plain": [
       "interactive(children=(Dropdown(description='Seleccionar país:', options=('Afganistán', 'Alemania', 'Argelia', …"
      ]
     },
     "execution_count": 17,
     "metadata": {},
     "output_type": "execute_result"
    }
   ],
   "source": [
    "# Obtener los factores únicos por país\n",
    "factores_por_pais = df_filled.groupby(['país'])['factor_(serie)'].unique().apply(list).to_dict()\n",
    "\n",
    "# Crear una lista con los nombres de los países en el DataFrame\n",
    "paises = df_filled['país'].unique().tolist()\n",
    "\n",
    "# Crear un widget de menú desplegable (dropdown) para seleccionar un país\n",
    "dropdown_paises = widgets.Dropdown(\n",
    "    options=paises,\n",
    "    description='Seleccionar país:'\n",
    ")\n",
    "\n",
    "# Función para graficar los datos por país seleccionado\n",
    "def graficar_datos_por_pais(pais):\n",
    "    datos_pais = df_filled[df_filled['país'] == pais]\n",
    "\n",
    "    fig = go.Figure()\n",
    "    \n",
    "    for factor in factores_por_pais[pais]:\n",
    "        datos_factor = datos_pais[datos_pais['factor_(serie)'] == factor]\n",
    "        fig.add_trace(go.Scatter(x=datos_factor['Año'], y=datos_factor['Valor'], mode='lines+markers', name=factor))\n",
    "    \n",
    "    fig.update_layout(\n",
    "        title=f'Datos para {pais}',\n",
    "        xaxis_title='Año',\n",
    "        yaxis_title='Valor',\n",
    "        legend=dict(x=0, y=-1.2, orientation='h'),\n",
    "        height=450,\n",
    "        width=1200\n",
    "    )\n",
    "    fig.show()\n",
    "\n",
    "# Interactividad: enlazar el widget de menú desplegable a la función de graficado\n",
    "widgets.interactive(graficar_datos_por_pais, pais=dropdown_paises)"
   ]
  },
  {
   "cell_type": "code",
   "execution_count": 18,
   "metadata": {},
   "outputs": [
    {
     "data": {
      "image/png": "[encoded data removed]",
      "text/plain": [
       "<Figure size 1000x600 with 1 Axes>"
      ]
     },
     "metadata": {},
     "output_type": "display_data"
    }
   ],
   "source": [
    "# Suponiendo que 'df' es tu DataFrame de factores\n",
    "\n",
    "# Configurar el tamaño de la figura\n",
    "plt.figure(figsize=(10, 6))\n",
    "\n",
    "# Crear el boxplot utilizando Seaborn\n",
    "sns.boxplot(y='factor_(serie)', x='Valor', data=df_filled)\n",
    "plt.xticks(rotation=90)  # Rotar etiquetas del eje x para mayor legibilidad\n",
    "plt.title('Diagrama de Caja de Factores')\n",
    "plt.show()\n"
   ]
  },
  {
   "cell_type": "code",
   "execution_count": null,
   "metadata": {},
   "outputs": [],
   "source": []
  }
 ],
 "metadata": {
  "kernelspec": {
   "display_name": "proy_pf_env",
   "language": "python",
   "name": "python3"
  },
  "language_info": {
   "codemirror_mode": {
    "name": "ipython",
    "version": 3
   },
   "file_extension": ".py",
   "mimetype": "text/x-python",
   "name": "python",
   "nbconvert_exporter": "python",
   "pygments_lexer": "ipython3",
   "version": "3.10.11"
  },
  "orig_nbformat": 4
 },
 "nbformat": 4,
 "nbformat_minor": 2
}
