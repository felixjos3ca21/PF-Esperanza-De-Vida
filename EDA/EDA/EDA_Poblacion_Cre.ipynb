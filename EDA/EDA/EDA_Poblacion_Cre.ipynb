{
 "cells": [
  {
   "cell_type": "code",
   "execution_count": 3,
   "metadata": {},
   "outputs": [],
   "source": [
    "import pandas as pd\n",
    "import plotly.express as px"
   ]
  },
  {
   "cell_type": "code",
   "execution_count": 4,
   "metadata": {},
   "outputs": [
    {
     "data": {
      "text/html": [
       "<div>\n",
       "<style scoped>\n",
       "    .dataframe tbody tr th:only-of-type {\n",
       "        vertical-align: middle;\n",
       "    }\n",
       "\n",
       "    .dataframe tbody tr th {\n",
       "        vertical-align: top;\n",
       "    }\n",
       "\n",
       "    .dataframe thead th {\n",
       "        text-align: right;\n",
       "    }\n",
       "</style>\n",
       "<table border=\"1\" class=\"dataframe\">\n",
       "  <thead>\n",
       "    <tr style=\"text-align: right;\">\n",
       "      <th></th>\n",
       "      <th>país Name</th>\n",
       "      <th>país Code</th>\n",
       "      <th>serie Name</th>\n",
       "      <th>serie Code</th>\n",
       "      <th>1987 [YR1987]</th>\n",
       "      <th>1988 [YR1988]</th>\n",
       "      <th>1989 [YR1989]</th>\n",
       "      <th>1990 [YR1990]</th>\n",
       "      <th>1991 [YR1991]</th>\n",
       "      <th>1992 [YR1992]</th>\n",
       "      <th>...</th>\n",
       "      <th>2013 [YR2013]</th>\n",
       "      <th>2014 [YR2014]</th>\n",
       "      <th>2015 [YR2015]</th>\n",
       "      <th>2016 [YR2016]</th>\n",
       "      <th>2017 [YR2017]</th>\n",
       "      <th>2018 [YR2018]</th>\n",
       "      <th>2019 [YR2019]</th>\n",
       "      <th>2020 [YR2020]</th>\n",
       "      <th>2021 [YR2021]</th>\n",
       "      <th>2022 [YR2022]</th>\n",
       "    </tr>\n",
       "  </thead>\n",
       "  <tbody>\n",
       "    <tr>\n",
       "      <th>0</th>\n",
       "      <td>Afganistán</td>\n",
       "      <td>AFG</td>\n",
       "      <td>Crecimiento de la población rural (% anual)</td>\n",
       "      <td>SP.RUR.TOTL.ZG</td>\n",
       "      <td>-2.043746</td>\n",
       "      <td>-0.275758</td>\n",
       "      <td>2.637888</td>\n",
       "      <td>0.08959</td>\n",
       "      <td>0.356909</td>\n",
       "      <td>11.409417</td>\n",
       "      <td>...</td>\n",
       "      <td>3.185537</td>\n",
       "      <td>3.374206</td>\n",
       "      <td>2.834511</td>\n",
       "      <td>2.292555</td>\n",
       "      <td>2.559272</td>\n",
       "      <td>2.556909</td>\n",
       "      <td>2.560297</td>\n",
       "      <td>2.767724</td>\n",
       "      <td>2.461275</td>\n",
       "      <td>2.123806</td>\n",
       "    </tr>\n",
       "    <tr>\n",
       "      <th>1</th>\n",
       "      <td>Afganistán</td>\n",
       "      <td>AFG</td>\n",
       "      <td>Crecimiento de la población (% anual)</td>\n",
       "      <td>SP.POP.GROW</td>\n",
       "      <td>-1.21019</td>\n",
       "      <td>0.586318</td>\n",
       "      <td>2.751877</td>\n",
       "      <td>0.202434</td>\n",
       "      <td>0.46988</td>\n",
       "      <td>11.522524</td>\n",
       "      <td>...</td>\n",
       "      <td>3.466788</td>\n",
       "      <td>3.657576</td>\n",
       "      <td>3.121341</td>\n",
       "      <td>2.581549</td>\n",
       "      <td>2.866492</td>\n",
       "      <td>2.885208</td>\n",
       "      <td>2.908529</td>\n",
       "      <td>3.134747</td>\n",
       "      <td>2.851358</td>\n",
       "      <td>2.534498</td>\n",
       "    </tr>\n",
       "    <tr>\n",
       "      <th>2</th>\n",
       "      <td>Afganistán</td>\n",
       "      <td>AFG</td>\n",
       "      <td>Crecimiento de la población urbana (% anual)</td>\n",
       "      <td>SP.URB.GROW</td>\n",
       "      <td>2.128391</td>\n",
       "      <td>3.898014</td>\n",
       "      <td>3.179585</td>\n",
       "      <td>0.623574</td>\n",
       "      <td>0.889255</td>\n",
       "      <td>11.940176</td>\n",
       "      <td>...</td>\n",
       "      <td>4.344553</td>\n",
       "      <td>4.531769</td>\n",
       "      <td>3.996008</td>\n",
       "      <td>3.452643</td>\n",
       "      <td>3.781557</td>\n",
       "      <td>3.850833</td>\n",
       "      <td>3.919287</td>\n",
       "      <td>4.185357</td>\n",
       "      <td>3.951857</td>\n",
       "      <td>3.675647</td>\n",
       "    </tr>\n",
       "    <tr>\n",
       "      <th>3</th>\n",
       "      <td>Alemania</td>\n",
       "      <td>DEU</td>\n",
       "      <td>Crecimiento de la población rural (% anual)</td>\n",
       "      <td>SP.RUR.TOTL.ZG</td>\n",
       "      <td>-0.649363</td>\n",
       "      <td>-0.211186</td>\n",
       "      <td>0.858482</td>\n",
       "      <td>0.335125</td>\n",
       "      <td>0.165309</td>\n",
       "      <td>0.419336</td>\n",
       "      <td>...</td>\n",
       "      <td>0.22909</td>\n",
       "      <td>0.373046</td>\n",
       "      <td>0.821852</td>\n",
       "      <td>0.701902</td>\n",
       "      <td>0.211142</td>\n",
       "      <td>0.07599</td>\n",
       "      <td>-0.056966</td>\n",
       "      <td>-0.259233</td>\n",
       "      <td>-0.362095</td>\n",
       "      <td>0.592423</td>\n",
       "    </tr>\n",
       "    <tr>\n",
       "      <th>4</th>\n",
       "      <td>Alemania</td>\n",
       "      <td>DEU</td>\n",
       "      <td>Crecimiento de la población (% anual)</td>\n",
       "      <td>SP.POP.GROW</td>\n",
       "      <td>0.153618</td>\n",
       "      <td>0.390679</td>\n",
       "      <td>0.773337</td>\n",
       "      <td>0.861969</td>\n",
       "      <td>0.728606</td>\n",
       "      <td>0.760347</td>\n",
       "      <td>...</td>\n",
       "      <td>0.2729</td>\n",
       "      <td>0.416877</td>\n",
       "      <td>0.865703</td>\n",
       "      <td>0.807219</td>\n",
       "      <td>0.373725</td>\n",
       "      <td>0.300527</td>\n",
       "      <td>0.22552</td>\n",
       "      <td>0.081693</td>\n",
       "      <td>0.042327</td>\n",
       "      <td>1.056627</td>\n",
       "    </tr>\n",
       "    <tr>\n",
       "      <th>...</th>\n",
       "      <td>...</td>\n",
       "      <td>...</td>\n",
       "      <td>...</td>\n",
       "      <td>...</td>\n",
       "      <td>...</td>\n",
       "      <td>...</td>\n",
       "      <td>...</td>\n",
       "      <td>...</td>\n",
       "      <td>...</td>\n",
       "      <td>...</td>\n",
       "      <td>...</td>\n",
       "      <td>...</td>\n",
       "      <td>...</td>\n",
       "      <td>...</td>\n",
       "      <td>...</td>\n",
       "      <td>...</td>\n",
       "      <td>...</td>\n",
       "      <td>...</td>\n",
       "      <td>...</td>\n",
       "      <td>...</td>\n",
       "      <td>...</td>\n",
       "    </tr>\n",
       "    <tr>\n",
       "      <th>132</th>\n",
       "      <td>NaN</td>\n",
       "      <td>NaN</td>\n",
       "      <td>NaN</td>\n",
       "      <td>NaN</td>\n",
       "      <td>NaN</td>\n",
       "      <td>NaN</td>\n",
       "      <td>NaN</td>\n",
       "      <td>NaN</td>\n",
       "      <td>NaN</td>\n",
       "      <td>NaN</td>\n",
       "      <td>...</td>\n",
       "      <td>NaN</td>\n",
       "      <td>NaN</td>\n",
       "      <td>NaN</td>\n",
       "      <td>NaN</td>\n",
       "      <td>NaN</td>\n",
       "      <td>NaN</td>\n",
       "      <td>NaN</td>\n",
       "      <td>NaN</td>\n",
       "      <td>NaN</td>\n",
       "      <td>NaN</td>\n",
       "    </tr>\n",
       "    <tr>\n",
       "      <th>133</th>\n",
       "      <td>NaN</td>\n",
       "      <td>NaN</td>\n",
       "      <td>NaN</td>\n",
       "      <td>NaN</td>\n",
       "      <td>NaN</td>\n",
       "      <td>NaN</td>\n",
       "      <td>NaN</td>\n",
       "      <td>NaN</td>\n",
       "      <td>NaN</td>\n",
       "      <td>NaN</td>\n",
       "      <td>...</td>\n",
       "      <td>NaN</td>\n",
       "      <td>NaN</td>\n",
       "      <td>NaN</td>\n",
       "      <td>NaN</td>\n",
       "      <td>NaN</td>\n",
       "      <td>NaN</td>\n",
       "      <td>NaN</td>\n",
       "      <td>NaN</td>\n",
       "      <td>NaN</td>\n",
       "      <td>NaN</td>\n",
       "    </tr>\n",
       "    <tr>\n",
       "      <th>134</th>\n",
       "      <td>NaN</td>\n",
       "      <td>NaN</td>\n",
       "      <td>NaN</td>\n",
       "      <td>NaN</td>\n",
       "      <td>NaN</td>\n",
       "      <td>NaN</td>\n",
       "      <td>NaN</td>\n",
       "      <td>NaN</td>\n",
       "      <td>NaN</td>\n",
       "      <td>NaN</td>\n",
       "      <td>...</td>\n",
       "      <td>NaN</td>\n",
       "      <td>NaN</td>\n",
       "      <td>NaN</td>\n",
       "      <td>NaN</td>\n",
       "      <td>NaN</td>\n",
       "      <td>NaN</td>\n",
       "      <td>NaN</td>\n",
       "      <td>NaN</td>\n",
       "      <td>NaN</td>\n",
       "      <td>NaN</td>\n",
       "    </tr>\n",
       "    <tr>\n",
       "      <th>135</th>\n",
       "      <td>Data from Database: Indicadores del desarrollo...</td>\n",
       "      <td>NaN</td>\n",
       "      <td>NaN</td>\n",
       "      <td>NaN</td>\n",
       "      <td>NaN</td>\n",
       "      <td>NaN</td>\n",
       "      <td>NaN</td>\n",
       "      <td>NaN</td>\n",
       "      <td>NaN</td>\n",
       "      <td>NaN</td>\n",
       "      <td>...</td>\n",
       "      <td>NaN</td>\n",
       "      <td>NaN</td>\n",
       "      <td>NaN</td>\n",
       "      <td>NaN</td>\n",
       "      <td>NaN</td>\n",
       "      <td>NaN</td>\n",
       "      <td>NaN</td>\n",
       "      <td>NaN</td>\n",
       "      <td>NaN</td>\n",
       "      <td>NaN</td>\n",
       "    </tr>\n",
       "    <tr>\n",
       "      <th>136</th>\n",
       "      <td>Last Updated: 10/26/2023</td>\n",
       "      <td>NaN</td>\n",
       "      <td>NaN</td>\n",
       "      <td>NaN</td>\n",
       "      <td>NaN</td>\n",
       "      <td>NaN</td>\n",
       "      <td>NaN</td>\n",
       "      <td>NaN</td>\n",
       "      <td>NaN</td>\n",
       "      <td>NaN</td>\n",
       "      <td>...</td>\n",
       "      <td>NaN</td>\n",
       "      <td>NaN</td>\n",
       "      <td>NaN</td>\n",
       "      <td>NaN</td>\n",
       "      <td>NaN</td>\n",
       "      <td>NaN</td>\n",
       "      <td>NaN</td>\n",
       "      <td>NaN</td>\n",
       "      <td>NaN</td>\n",
       "      <td>NaN</td>\n",
       "    </tr>\n",
       "  </tbody>\n",
       "</table>\n",
       "<p>137 rows × 40 columns</p>\n",
       "</div>"
      ],
      "text/plain": [
       "                                             país Name país Code   \n",
       "0                                           Afganistán       AFG  \\\n",
       "1                                           Afganistán       AFG   \n",
       "2                                           Afganistán       AFG   \n",
       "3                                             Alemania       DEU   \n",
       "4                                             Alemania       DEU   \n",
       "..                                                 ...       ...   \n",
       "132                                                NaN       NaN   \n",
       "133                                                NaN       NaN   \n",
       "134                                                NaN       NaN   \n",
       "135  Data from Database: Indicadores del desarrollo...       NaN   \n",
       "136                           Last Updated: 10/26/2023       NaN   \n",
       "\n",
       "                                       serie Name      serie Code   \n",
       "0     Crecimiento de la población rural (% anual)  SP.RUR.TOTL.ZG  \\\n",
       "1           Crecimiento de la población (% anual)     SP.POP.GROW   \n",
       "2    Crecimiento de la población urbana (% anual)     SP.URB.GROW   \n",
       "3     Crecimiento de la población rural (% anual)  SP.RUR.TOTL.ZG   \n",
       "4           Crecimiento de la población (% anual)     SP.POP.GROW   \n",
       "..                                            ...             ...   \n",
       "132                                           NaN             NaN   \n",
       "133                                           NaN             NaN   \n",
       "134                                           NaN             NaN   \n",
       "135                                           NaN             NaN   \n",
       "136                                           NaN             NaN   \n",
       "\n",
       "    1987 [YR1987] 1988 [YR1988] 1989 [YR1989] 1990 [YR1990] 1991 [YR1991]   \n",
       "0       -2.043746     -0.275758      2.637888       0.08959      0.356909  \\\n",
       "1        -1.21019      0.586318      2.751877      0.202434       0.46988   \n",
       "2        2.128391      3.898014      3.179585      0.623574      0.889255   \n",
       "3       -0.649363     -0.211186      0.858482      0.335125      0.165309   \n",
       "4        0.153618      0.390679      0.773337      0.861969      0.728606   \n",
       "..            ...           ...           ...           ...           ...   \n",
       "132           NaN           NaN           NaN           NaN           NaN   \n",
       "133           NaN           NaN           NaN           NaN           NaN   \n",
       "134           NaN           NaN           NaN           NaN           NaN   \n",
       "135           NaN           NaN           NaN           NaN           NaN   \n",
       "136           NaN           NaN           NaN           NaN           NaN   \n",
       "\n",
       "    1992 [YR1992]  ... 2013 [YR2013] 2014 [YR2014] 2015 [YR2015]   \n",
       "0       11.409417  ...      3.185537      3.374206      2.834511  \\\n",
       "1       11.522524  ...      3.466788      3.657576      3.121341   \n",
       "2       11.940176  ...      4.344553      4.531769      3.996008   \n",
       "3        0.419336  ...       0.22909      0.373046      0.821852   \n",
       "4        0.760347  ...        0.2729      0.416877      0.865703   \n",
       "..            ...  ...           ...           ...           ...   \n",
       "132           NaN  ...           NaN           NaN           NaN   \n",
       "133           NaN  ...           NaN           NaN           NaN   \n",
       "134           NaN  ...           NaN           NaN           NaN   \n",
       "135           NaN  ...           NaN           NaN           NaN   \n",
       "136           NaN  ...           NaN           NaN           NaN   \n",
       "\n",
       "    2016 [YR2016] 2017 [YR2017] 2018 [YR2018] 2019 [YR2019] 2020 [YR2020]   \n",
       "0        2.292555      2.559272      2.556909      2.560297      2.767724  \\\n",
       "1        2.581549      2.866492      2.885208      2.908529      3.134747   \n",
       "2        3.452643      3.781557      3.850833      3.919287      4.185357   \n",
       "3        0.701902      0.211142       0.07599     -0.056966     -0.259233   \n",
       "4        0.807219      0.373725      0.300527       0.22552      0.081693   \n",
       "..            ...           ...           ...           ...           ...   \n",
       "132           NaN           NaN           NaN           NaN           NaN   \n",
       "133           NaN           NaN           NaN           NaN           NaN   \n",
       "134           NaN           NaN           NaN           NaN           NaN   \n",
       "135           NaN           NaN           NaN           NaN           NaN   \n",
       "136           NaN           NaN           NaN           NaN           NaN   \n",
       "\n",
       "    2021 [YR2021] 2022 [YR2022]  \n",
       "0        2.461275      2.123806  \n",
       "1        2.851358      2.534498  \n",
       "2        3.951857      3.675647  \n",
       "3       -0.362095      0.592423  \n",
       "4        0.042327      1.056627  \n",
       "..            ...           ...  \n",
       "132           NaN           NaN  \n",
       "133           NaN           NaN  \n",
       "134           NaN           NaN  \n",
       "135           NaN           NaN  \n",
       "136           NaN           NaN  \n",
       "\n",
       "[137 rows x 40 columns]"
      ]
     },
     "execution_count": 4,
     "metadata": {},
     "output_type": "execute_result"
    }
   ],
   "source": [
    "df_poblacion = pd.read_excel(\"../Data/Data_Poblacion_Crecimiento.xlsx\")\n",
    "df_poblacion"
   ]
  },
  {
   "cell_type": "code",
   "execution_count": 5,
   "metadata": {},
   "outputs": [
    {
     "data": {
      "text/html": [
       "<div>\n",
       "<style scoped>\n",
       "    .dataframe tbody tr th:only-of-type {\n",
       "        vertical-align: middle;\n",
       "    }\n",
       "\n",
       "    .dataframe tbody tr th {\n",
       "        vertical-align: top;\n",
       "    }\n",
       "\n",
       "    .dataframe thead th {\n",
       "        text-align: right;\n",
       "    }\n",
       "</style>\n",
       "<table border=\"1\" class=\"dataframe\">\n",
       "  <thead>\n",
       "    <tr style=\"text-align: right;\">\n",
       "      <th></th>\n",
       "      <th>país Name</th>\n",
       "      <th>país Code</th>\n",
       "      <th>serie Name</th>\n",
       "      <th>serie Code</th>\n",
       "      <th>1987 [YR1987]</th>\n",
       "      <th>1988 [YR1988]</th>\n",
       "      <th>1989 [YR1989]</th>\n",
       "      <th>1990 [YR1990]</th>\n",
       "      <th>1991 [YR1991]</th>\n",
       "      <th>1992 [YR1992]</th>\n",
       "      <th>...</th>\n",
       "      <th>2013 [YR2013]</th>\n",
       "      <th>2014 [YR2014]</th>\n",
       "      <th>2015 [YR2015]</th>\n",
       "      <th>2016 [YR2016]</th>\n",
       "      <th>2017 [YR2017]</th>\n",
       "      <th>2018 [YR2018]</th>\n",
       "      <th>2019 [YR2019]</th>\n",
       "      <th>2020 [YR2020]</th>\n",
       "      <th>2021 [YR2021]</th>\n",
       "      <th>2022 [YR2022]</th>\n",
       "    </tr>\n",
       "  </thead>\n",
       "  <tbody>\n",
       "    <tr>\n",
       "      <th>0</th>\n",
       "      <td>Afganistán</td>\n",
       "      <td>AFG</td>\n",
       "      <td>Crecimiento de la población rural (% anual)</td>\n",
       "      <td>SP.RUR.TOTL.ZG</td>\n",
       "      <td>-2.043746</td>\n",
       "      <td>-0.275758</td>\n",
       "      <td>2.637888</td>\n",
       "      <td>0.08959</td>\n",
       "      <td>0.356909</td>\n",
       "      <td>11.409417</td>\n",
       "      <td>...</td>\n",
       "      <td>3.185537</td>\n",
       "      <td>3.374206</td>\n",
       "      <td>2.834511</td>\n",
       "      <td>2.292555</td>\n",
       "      <td>2.559272</td>\n",
       "      <td>2.556909</td>\n",
       "      <td>2.560297</td>\n",
       "      <td>2.767724</td>\n",
       "      <td>2.461275</td>\n",
       "      <td>2.123806</td>\n",
       "    </tr>\n",
       "    <tr>\n",
       "      <th>1</th>\n",
       "      <td>Afganistán</td>\n",
       "      <td>AFG</td>\n",
       "      <td>Crecimiento de la población (% anual)</td>\n",
       "      <td>SP.POP.GROW</td>\n",
       "      <td>-1.21019</td>\n",
       "      <td>0.586318</td>\n",
       "      <td>2.751877</td>\n",
       "      <td>0.202434</td>\n",
       "      <td>0.46988</td>\n",
       "      <td>11.522524</td>\n",
       "      <td>...</td>\n",
       "      <td>3.466788</td>\n",
       "      <td>3.657576</td>\n",
       "      <td>3.121341</td>\n",
       "      <td>2.581549</td>\n",
       "      <td>2.866492</td>\n",
       "      <td>2.885208</td>\n",
       "      <td>2.908529</td>\n",
       "      <td>3.134747</td>\n",
       "      <td>2.851358</td>\n",
       "      <td>2.534498</td>\n",
       "    </tr>\n",
       "    <tr>\n",
       "      <th>2</th>\n",
       "      <td>Afganistán</td>\n",
       "      <td>AFG</td>\n",
       "      <td>Crecimiento de la población urbana (% anual)</td>\n",
       "      <td>SP.URB.GROW</td>\n",
       "      <td>2.128391</td>\n",
       "      <td>3.898014</td>\n",
       "      <td>3.179585</td>\n",
       "      <td>0.623574</td>\n",
       "      <td>0.889255</td>\n",
       "      <td>11.940176</td>\n",
       "      <td>...</td>\n",
       "      <td>4.344553</td>\n",
       "      <td>4.531769</td>\n",
       "      <td>3.996008</td>\n",
       "      <td>3.452643</td>\n",
       "      <td>3.781557</td>\n",
       "      <td>3.850833</td>\n",
       "      <td>3.919287</td>\n",
       "      <td>4.185357</td>\n",
       "      <td>3.951857</td>\n",
       "      <td>3.675647</td>\n",
       "    </tr>\n",
       "    <tr>\n",
       "      <th>3</th>\n",
       "      <td>Alemania</td>\n",
       "      <td>DEU</td>\n",
       "      <td>Crecimiento de la población rural (% anual)</td>\n",
       "      <td>SP.RUR.TOTL.ZG</td>\n",
       "      <td>-0.649363</td>\n",
       "      <td>-0.211186</td>\n",
       "      <td>0.858482</td>\n",
       "      <td>0.335125</td>\n",
       "      <td>0.165309</td>\n",
       "      <td>0.419336</td>\n",
       "      <td>...</td>\n",
       "      <td>0.22909</td>\n",
       "      <td>0.373046</td>\n",
       "      <td>0.821852</td>\n",
       "      <td>0.701902</td>\n",
       "      <td>0.211142</td>\n",
       "      <td>0.07599</td>\n",
       "      <td>-0.056966</td>\n",
       "      <td>-0.259233</td>\n",
       "      <td>-0.362095</td>\n",
       "      <td>0.592423</td>\n",
       "    </tr>\n",
       "    <tr>\n",
       "      <th>4</th>\n",
       "      <td>Alemania</td>\n",
       "      <td>DEU</td>\n",
       "      <td>Crecimiento de la población (% anual)</td>\n",
       "      <td>SP.POP.GROW</td>\n",
       "      <td>0.153618</td>\n",
       "      <td>0.390679</td>\n",
       "      <td>0.773337</td>\n",
       "      <td>0.861969</td>\n",
       "      <td>0.728606</td>\n",
       "      <td>0.760347</td>\n",
       "      <td>...</td>\n",
       "      <td>0.2729</td>\n",
       "      <td>0.416877</td>\n",
       "      <td>0.865703</td>\n",
       "      <td>0.807219</td>\n",
       "      <td>0.373725</td>\n",
       "      <td>0.300527</td>\n",
       "      <td>0.22552</td>\n",
       "      <td>0.081693</td>\n",
       "      <td>0.042327</td>\n",
       "      <td>1.056627</td>\n",
       "    </tr>\n",
       "    <tr>\n",
       "      <th>...</th>\n",
       "      <td>...</td>\n",
       "      <td>...</td>\n",
       "      <td>...</td>\n",
       "      <td>...</td>\n",
       "      <td>...</td>\n",
       "      <td>...</td>\n",
       "      <td>...</td>\n",
       "      <td>...</td>\n",
       "      <td>...</td>\n",
       "      <td>...</td>\n",
       "      <td>...</td>\n",
       "      <td>...</td>\n",
       "      <td>...</td>\n",
       "      <td>...</td>\n",
       "      <td>...</td>\n",
       "      <td>...</td>\n",
       "      <td>...</td>\n",
       "      <td>...</td>\n",
       "      <td>...</td>\n",
       "      <td>...</td>\n",
       "      <td>...</td>\n",
       "    </tr>\n",
       "    <tr>\n",
       "      <th>127</th>\n",
       "      <td>Kenya</td>\n",
       "      <td>KEN</td>\n",
       "      <td>Crecimiento de la población (% anual)</td>\n",
       "      <td>SP.POP.GROW</td>\n",
       "      <td>3.5148</td>\n",
       "      <td>3.500989</td>\n",
       "      <td>3.461437</td>\n",
       "      <td>3.400832</td>\n",
       "      <td>3.211652</td>\n",
       "      <td>3.036791</td>\n",
       "      <td>...</td>\n",
       "      <td>2.409931</td>\n",
       "      <td>2.294178</td>\n",
       "      <td>2.200322</td>\n",
       "      <td>2.202146</td>\n",
       "      <td>2.175708</td>\n",
       "      <td>2.032734</td>\n",
       "      <td>1.978457</td>\n",
       "      <td>2.0097</td>\n",
       "      <td>1.942761</td>\n",
       "      <td>1.90951</td>\n",
       "    </tr>\n",
       "    <tr>\n",
       "      <th>128</th>\n",
       "      <td>Kenya</td>\n",
       "      <td>KEN</td>\n",
       "      <td>Crecimiento de la población urbana (% anual)</td>\n",
       "      <td>SP.URB.GROW</td>\n",
       "      <td>4.137102</td>\n",
       "      <td>4.125536</td>\n",
       "      <td>4.082082</td>\n",
       "      <td>4.983642</td>\n",
       "      <td>4.957724</td>\n",
       "      <td>4.775948</td>\n",
       "      <td>...</td>\n",
       "      <td>4.110203</td>\n",
       "      <td>4.001703</td>\n",
       "      <td>3.918169</td>\n",
       "      <td>3.929292</td>\n",
       "      <td>3.91118</td>\n",
       "      <td>3.779308</td>\n",
       "      <td>3.727771</td>\n",
       "      <td>3.768242</td>\n",
       "      <td>3.706017</td>\n",
       "      <td>3.680144</td>\n",
       "    </tr>\n",
       "    <tr>\n",
       "      <th>129</th>\n",
       "      <td>Noruega</td>\n",
       "      <td>NOR</td>\n",
       "      <td>Crecimiento de la población rural (% anual)</td>\n",
       "      <td>SP.RUR.TOTL.ZG</td>\n",
       "      <td>0.011846</td>\n",
       "      <td>0.083135</td>\n",
       "      <td>-0.043994</td>\n",
       "      <td>-0.111247</td>\n",
       "      <td>-0.631509</td>\n",
       "      <td>-0.875486</td>\n",
       "      <td>...</td>\n",
       "      <td>-0.859193</td>\n",
       "      <td>-0.953203</td>\n",
       "      <td>-1.093061</td>\n",
       "      <td>-1.224759</td>\n",
       "      <td>-1.299092</td>\n",
       "      <td>-1.441461</td>\n",
       "      <td>-1.419724</td>\n",
       "      <td>-1.492127</td>\n",
       "      <td>-1.536236</td>\n",
       "      <td>-1.167614</td>\n",
       "    </tr>\n",
       "    <tr>\n",
       "      <th>130</th>\n",
       "      <td>Noruega</td>\n",
       "      <td>NOR</td>\n",
       "      <td>Crecimiento de la población (% anual)</td>\n",
       "      <td>SP.POP.GROW</td>\n",
       "      <td>0.46805</td>\n",
       "      <td>0.537923</td>\n",
       "      <td>0.412808</td>\n",
       "      <td>0.344151</td>\n",
       "      <td>0.476504</td>\n",
       "      <td>0.57718</td>\n",
       "      <td>...</td>\n",
       "      <td>1.209142</td>\n",
       "      <td>1.127737</td>\n",
       "      <td>0.995085</td>\n",
       "      <td>0.88097</td>\n",
       "      <td>0.807673</td>\n",
       "      <td>0.660091</td>\n",
       "      <td>0.675061</td>\n",
       "      <td>0.588757</td>\n",
       "      <td>0.534772</td>\n",
       "      <td>0.898395</td>\n",
       "    </tr>\n",
       "    <tr>\n",
       "      <th>131</th>\n",
       "      <td>Noruega</td>\n",
       "      <td>NOR</td>\n",
       "      <td>Crecimiento de la población urbana (% anual)</td>\n",
       "      <td>SP.URB.GROW</td>\n",
       "      <td>0.649848</td>\n",
       "      <td>0.718007</td>\n",
       "      <td>0.592543</td>\n",
       "      <td>0.522201</td>\n",
       "      <td>0.905036</td>\n",
       "      <td>1.129151</td>\n",
       "      <td>...</td>\n",
       "      <td>1.723625</td>\n",
       "      <td>1.632152</td>\n",
       "      <td>1.488338</td>\n",
       "      <td>1.365679</td>\n",
       "      <td>1.280246</td>\n",
       "      <td>1.119533</td>\n",
       "      <td>1.121489</td>\n",
       "      <td>1.021155</td>\n",
       "      <td>0.954484</td>\n",
       "      <td>1.306827</td>\n",
       "    </tr>\n",
       "  </tbody>\n",
       "</table>\n",
       "<p>132 rows × 40 columns</p>\n",
       "</div>"
      ],
      "text/plain": [
       "      país Name país Code                                    serie Name   \n",
       "0    Afganistán       AFG   Crecimiento de la población rural (% anual)  \\\n",
       "1    Afganistán       AFG         Crecimiento de la población (% anual)   \n",
       "2    Afganistán       AFG  Crecimiento de la población urbana (% anual)   \n",
       "3      Alemania       DEU   Crecimiento de la población rural (% anual)   \n",
       "4      Alemania       DEU         Crecimiento de la población (% anual)   \n",
       "..          ...       ...                                           ...   \n",
       "127       Kenya       KEN         Crecimiento de la población (% anual)   \n",
       "128       Kenya       KEN  Crecimiento de la población urbana (% anual)   \n",
       "129     Noruega       NOR   Crecimiento de la población rural (% anual)   \n",
       "130     Noruega       NOR         Crecimiento de la población (% anual)   \n",
       "131     Noruega       NOR  Crecimiento de la población urbana (% anual)   \n",
       "\n",
       "         serie Code 1987 [YR1987] 1988 [YR1988] 1989 [YR1989] 1990 [YR1990]   \n",
       "0    SP.RUR.TOTL.ZG     -2.043746     -0.275758      2.637888       0.08959  \\\n",
       "1       SP.POP.GROW      -1.21019      0.586318      2.751877      0.202434   \n",
       "2       SP.URB.GROW      2.128391      3.898014      3.179585      0.623574   \n",
       "3    SP.RUR.TOTL.ZG     -0.649363     -0.211186      0.858482      0.335125   \n",
       "4       SP.POP.GROW      0.153618      0.390679      0.773337      0.861969   \n",
       "..              ...           ...           ...           ...           ...   \n",
       "127     SP.POP.GROW        3.5148      3.500989      3.461437      3.400832   \n",
       "128     SP.URB.GROW      4.137102      4.125536      4.082082      4.983642   \n",
       "129  SP.RUR.TOTL.ZG      0.011846      0.083135     -0.043994     -0.111247   \n",
       "130     SP.POP.GROW       0.46805      0.537923      0.412808      0.344151   \n",
       "131     SP.URB.GROW      0.649848      0.718007      0.592543      0.522201   \n",
       "\n",
       "    1991 [YR1991] 1992 [YR1992]  ... 2013 [YR2013] 2014 [YR2014]   \n",
       "0        0.356909     11.409417  ...      3.185537      3.374206  \\\n",
       "1         0.46988     11.522524  ...      3.466788      3.657576   \n",
       "2        0.889255     11.940176  ...      4.344553      4.531769   \n",
       "3        0.165309      0.419336  ...       0.22909      0.373046   \n",
       "4        0.728606      0.760347  ...        0.2729      0.416877   \n",
       "..            ...           ...  ...           ...           ...   \n",
       "127      3.211652      3.036791  ...      2.409931      2.294178   \n",
       "128      4.957724      4.775948  ...      4.110203      4.001703   \n",
       "129     -0.631509     -0.875486  ...     -0.859193     -0.953203   \n",
       "130      0.476504       0.57718  ...      1.209142      1.127737   \n",
       "131      0.905036      1.129151  ...      1.723625      1.632152   \n",
       "\n",
       "    2015 [YR2015] 2016 [YR2016] 2017 [YR2017] 2018 [YR2018] 2019 [YR2019]   \n",
       "0        2.834511      2.292555      2.559272      2.556909      2.560297  \\\n",
       "1        3.121341      2.581549      2.866492      2.885208      2.908529   \n",
       "2        3.996008      3.452643      3.781557      3.850833      3.919287   \n",
       "3        0.821852      0.701902      0.211142       0.07599     -0.056966   \n",
       "4        0.865703      0.807219      0.373725      0.300527       0.22552   \n",
       "..            ...           ...           ...           ...           ...   \n",
       "127      2.200322      2.202146      2.175708      2.032734      1.978457   \n",
       "128      3.918169      3.929292       3.91118      3.779308      3.727771   \n",
       "129     -1.093061     -1.224759     -1.299092     -1.441461     -1.419724   \n",
       "130      0.995085       0.88097      0.807673      0.660091      0.675061   \n",
       "131      1.488338      1.365679      1.280246      1.119533      1.121489   \n",
       "\n",
       "    2020 [YR2020] 2021 [YR2021] 2022 [YR2022]  \n",
       "0        2.767724      2.461275      2.123806  \n",
       "1        3.134747      2.851358      2.534498  \n",
       "2        4.185357      3.951857      3.675647  \n",
       "3       -0.259233     -0.362095      0.592423  \n",
       "4        0.081693      0.042327      1.056627  \n",
       "..            ...           ...           ...  \n",
       "127        2.0097      1.942761       1.90951  \n",
       "128      3.768242      3.706017      3.680144  \n",
       "129     -1.492127     -1.536236     -1.167614  \n",
       "130      0.588757      0.534772      0.898395  \n",
       "131      1.021155      0.954484      1.306827  \n",
       "\n",
       "[132 rows x 40 columns]"
      ]
     },
     "execution_count": 5,
     "metadata": {},
     "output_type": "execute_result"
    }
   ],
   "source": [
    "df_poblacion.dropna(subset=['país Code'], inplace=True)\n",
    "df_poblacion"
   ]
  },
  {
   "cell_type": "code",
   "execution_count": 6,
   "metadata": {},
   "outputs": [
    {
     "name": "stdout",
     "output_type": "stream",
     "text": [
      "<class 'pandas.core.frame.DataFrame'>\n",
      "Index: 132 entries, 0 to 131\n",
      "Data columns (total 40 columns):\n",
      " #   Column         Non-Null Count  Dtype \n",
      "---  ------         --------------  ----- \n",
      " 0   país Name      132 non-null    object\n",
      " 1   país Code      132 non-null    object\n",
      " 2   serie Name     132 non-null    object\n",
      " 3   serie Code     132 non-null    object\n",
      " 4   1987 [YR1987]  132 non-null    object\n",
      " 5   1988 [YR1988]  132 non-null    object\n",
      " 6   1989 [YR1989]  132 non-null    object\n",
      " 7   1990 [YR1990]  132 non-null    object\n",
      " 8   1991 [YR1991]  132 non-null    object\n",
      " 9   1992 [YR1992]  132 non-null    object\n",
      " 10  1993 [YR1993]  132 non-null    object\n",
      " 11  1994 [YR1994]  132 non-null    object\n",
      " 12  1995 [YR1995]  132 non-null    object\n",
      " 13  1996 [YR1996]  132 non-null    object\n",
      " 14  1997 [YR1997]  132 non-null    object\n",
      " 15  1998 [YR1998]  132 non-null    object\n",
      " 16  1999 [YR1999]  132 non-null    object\n",
      " 17  2000 [YR2000]  132 non-null    object\n",
      " 18  2001 [YR2001]  132 non-null    object\n",
      " 19  2002 [YR2002]  132 non-null    object\n",
      " 20  2003 [YR2003]  132 non-null    object\n",
      " 21  2004 [YR2004]  132 non-null    object\n",
      " 22  2005 [YR2005]  132 non-null    object\n",
      " 23  2006 [YR2006]  132 non-null    object\n",
      " 24  2007 [YR2007]  132 non-null    object\n",
      " 25  2008 [YR2008]  132 non-null    object\n",
      " 26  2009 [YR2009]  132 non-null    object\n",
      " 27  2010 [YR2010]  132 non-null    object\n",
      " 28  2011 [YR2011]  132 non-null    object\n",
      " 29  2012 [YR2012]  132 non-null    object\n",
      " 30  2013 [YR2013]  132 non-null    object\n",
      " 31  2014 [YR2014]  132 non-null    object\n",
      " 32  2015 [YR2015]  132 non-null    object\n",
      " 33  2016 [YR2016]  132 non-null    object\n",
      " 34  2017 [YR2017]  132 non-null    object\n",
      " 35  2018 [YR2018]  132 non-null    object\n",
      " 36  2019 [YR2019]  132 non-null    object\n",
      " 37  2020 [YR2020]  132 non-null    object\n",
      " 38  2021 [YR2021]  132 non-null    object\n",
      " 39  2022 [YR2022]  132 non-null    object\n",
      "dtypes: object(40)\n",
      "memory usage: 42.3+ KB\n"
     ]
    }
   ],
   "source": [
    "df_poblacion.info()"
   ]
  },
  {
   "cell_type": "code",
   "execution_count": 7,
   "metadata": {},
   "outputs": [
    {
     "data": {
      "text/html": [
       "<div>\n",
       "<style scoped>\n",
       "    .dataframe tbody tr th:only-of-type {\n",
       "        vertical-align: middle;\n",
       "    }\n",
       "\n",
       "    .dataframe tbody tr th {\n",
       "        vertical-align: top;\n",
       "    }\n",
       "\n",
       "    .dataframe thead th {\n",
       "        text-align: right;\n",
       "    }\n",
       "</style>\n",
       "<table border=\"1\" class=\"dataframe\">\n",
       "  <thead>\n",
       "    <tr style=\"text-align: right;\">\n",
       "      <th></th>\n",
       "      <th>país Name</th>\n",
       "      <th>país Code</th>\n",
       "      <th>serie Name</th>\n",
       "      <th>serie Code</th>\n",
       "      <th>1987 [YR1987]</th>\n",
       "      <th>1988 [YR1988]</th>\n",
       "      <th>1989 [YR1989]</th>\n",
       "      <th>1990 [YR1990]</th>\n",
       "      <th>1991 [YR1991]</th>\n",
       "      <th>1992 [YR1992]</th>\n",
       "      <th>...</th>\n",
       "      <th>2013 [YR2013]</th>\n",
       "      <th>2014 [YR2014]</th>\n",
       "      <th>2015 [YR2015]</th>\n",
       "      <th>2016 [YR2016]</th>\n",
       "      <th>2017 [YR2017]</th>\n",
       "      <th>2018 [YR2018]</th>\n",
       "      <th>2019 [YR2019]</th>\n",
       "      <th>2020 [YR2020]</th>\n",
       "      <th>2021 [YR2021]</th>\n",
       "      <th>2022 [YR2022]</th>\n",
       "    </tr>\n",
       "  </thead>\n",
       "  <tbody>\n",
       "  </tbody>\n",
       "</table>\n",
       "<p>0 rows × 40 columns</p>\n",
       "</div>"
      ],
      "text/plain": [
       "Empty DataFrame\n",
       "Columns: [país Name, país Code, serie Name, serie Code, 1987 [YR1987], 1988 [YR1988], 1989 [YR1989], 1990 [YR1990], 1991 [YR1991], 1992 [YR1992], 1993 [YR1993], 1994 [YR1994], 1995 [YR1995], 1996 [YR1996], 1997 [YR1997], 1998 [YR1998], 1999 [YR1999], 2000 [YR2000], 2001 [YR2001], 2002 [YR2002], 2003 [YR2003], 2004 [YR2004], 2005 [YR2005], 2006 [YR2006], 2007 [YR2007], 2008 [YR2008], 2009 [YR2009], 2010 [YR2010], 2011 [YR2011], 2012 [YR2012], 2013 [YR2013], 2014 [YR2014], 2015 [YR2015], 2016 [YR2016], 2017 [YR2017], 2018 [YR2018], 2019 [YR2019], 2020 [YR2020], 2021 [YR2021], 2022 [YR2022]]\n",
       "Index: []\n",
       "\n",
       "[0 rows x 40 columns]"
      ]
     },
     "execution_count": 7,
     "metadata": {},
     "output_type": "execute_result"
    }
   ],
   "source": [
    "df_poblacion[df_poblacion.duplicated()]"
   ]
  },
  {
   "cell_type": "code",
   "execution_count": 8,
   "metadata": {},
   "outputs": [
    {
     "data": {
      "text/plain": [
       "serie Name\n",
       "Crecimiento de la población rural (% anual)     44\n",
       "Crecimiento de la población (% anual)           44\n",
       "Crecimiento de la población urbana (% anual)    44\n",
       "Name: count, dtype: int64"
      ]
     },
     "execution_count": 8,
     "metadata": {},
     "output_type": "execute_result"
    }
   ],
   "source": [
    "df_poblacion[\"serie Name\"].value_counts()"
   ]
  },
  {
   "cell_type": "code",
   "execution_count": 9,
   "metadata": {},
   "outputs": [],
   "source": [
    "columns_to_convert = df_poblacion.columns[4:40]\n",
    "\n",
    "df_poblacion[columns_to_convert] = df_poblacion[columns_to_convert].apply(pd.to_numeric, errors='coerce')"
   ]
  },
  {
   "cell_type": "code",
   "execution_count": 10,
   "metadata": {},
   "outputs": [
    {
     "name": "stdout",
     "output_type": "stream",
     "text": [
      "Serie Name: Crecimiento de la población rural (% anual)\n",
      "       1987 [YR1987]  1988 [YR1988]  1989 [YR1989]  1990 [YR1990]  1991 [YR1991]  1992 [YR1992]  1993 [YR1993]  1994 [YR1994]  1995 [YR1995]  1996 [YR1996]  1997 [YR1997]  1998 [YR1998]  1999 [YR1999]  2000 [YR2000]  2001 [YR2001]  2002 [YR2002]  2003 [YR2003]  2004 [YR2004]  2005 [YR2005]  2006 [YR2006]  2007 [YR2007]  2008 [YR2008]  2009 [YR2009]  2010 [YR2010]  2011 [YR2011]  2012 [YR2012]  2013 [YR2013]  2014 [YR2014]  2015 [YR2015]  2016 [YR2016]  2017 [YR2017]  2018 [YR2018]  2019 [YR2019]  2020 [YR2020]  2021 [YR2021]  2022 [YR2022]\n",
      "count      43.000000      43.000000      43.000000      43.000000      43.000000      43.000000      43.000000      43.000000      43.000000      43.000000      43.000000      43.000000      43.000000      43.000000      43.000000      43.000000      43.000000      43.000000      43.000000      43.000000      43.000000      43.000000      43.000000      43.000000      43.000000      43.000000      43.000000      43.000000      43.000000      43.000000      43.000000      43.000000      43.000000      43.000000      43.000000      43.000000\n",
      "mean        0.903046       0.883241       0.964696       0.912748       0.938860       1.037553       1.089003       0.433957       0.316953       1.021203       0.884000       0.583739       0.495162       0.458105       0.355109       0.430532       0.429282       0.292707       0.283682       0.460087       0.552163       0.543067       0.445210       0.153067       0.099752       0.161702       0.172988       0.241462       0.233657       0.203462       0.140204       0.059541      -0.000756      -0.056876      -0.233938      -0.112205\n",
      "std         1.859313       1.761476       1.701626       1.649381       1.571828       2.288902       2.635579       3.411409       3.364574       2.649214       2.260878       1.474963       1.474704       1.376122       1.882823       2.363634       2.437798       2.294874       2.368834       2.766311       3.181074       3.116603       2.766649       2.266467       1.881329       1.814390       1.705063       1.638767       1.593428       1.566330       1.574492       1.604517       1.597251       1.572651       1.580534       1.488068\n",
      "min        -2.854751      -2.881198      -2.830274      -2.780444      -1.787767      -2.202081      -2.292483     -17.327140     -18.363544      -2.642436      -2.618002      -2.552812      -2.536758      -2.528752      -6.245690      -8.411383      -8.603628      -8.951360      -9.104531      -8.416281      -8.201649      -8.369363      -8.492799      -8.560655      -5.498484      -5.657339      -5.096810      -4.403659      -4.354835      -4.283238      -4.243485      -4.155137      -3.986814      -3.976992      -3.900569      -3.354034\n",
      "25%        -0.441995      -0.265794      -0.169707      -0.166972       0.003348       0.008061      -0.050043      -0.164733      -0.240441      -0.248721      -0.314135      -0.327716      -0.475526      -0.438027      -0.581011      -0.581712      -0.593427      -0.668979      -0.609094      -0.586143      -0.484230      -0.498039      -0.549443      -0.632852      -0.723435      -0.778382      -0.816598      -0.750911      -0.733326      -0.697934      -0.898368      -0.848798      -0.836443      -0.936605      -1.166992      -0.888524\n",
      "50%         0.644250       0.596528       0.706833       0.527916       0.609799       0.420248       0.407728       0.306692       0.341376       0.385971       0.310182       0.323100       0.156732       0.237589       0.255917       0.566349       0.506010       0.527500       0.448436       0.516210       0.093157       0.150192       0.014133       0.005616      -0.024119      -0.009936      -0.053620       0.076851       0.078882      -0.051644      -0.142598      -0.182835      -0.205198      -0.290761      -0.522736      -0.305932\n",
      "75%         1.866937       1.850381       2.035584       1.895972       1.759258       1.811676       1.761719       1.748167       1.692065       1.630779       1.592386       1.551216       1.347740       1.354185       1.203658       1.310474       1.544769       1.402736       1.530575       1.489262       1.449078       1.373726       1.348314       1.342836       1.165037       1.100694       1.112767       1.125300       1.080452       1.066616       1.068764       1.166610       1.035492       1.071968       0.612215       0.861137\n",
      "max         7.740042       7.309461       6.915786       6.563795       6.229264      11.409417      14.851229       9.749628       5.931765      14.906115      12.007265       4.066845       3.961297       3.447878       5.410334       6.331048       7.422604       4.393856       4.775483      11.283407      15.943176      15.231707      11.262894       3.794883       3.752691       3.815350       3.822980       3.768047       3.795435       3.815734       3.755234       3.697894       3.655306       3.596448       3.557388       3.541062\n",
      "\n",
      "Serie Name: Crecimiento de la población (% anual)\n",
      "       1987 [YR1987]  1988 [YR1988]  1989 [YR1989]  1990 [YR1990]  1991 [YR1991]  1992 [YR1992]  1993 [YR1993]  1994 [YR1994]  1995 [YR1995]  1996 [YR1996]  1997 [YR1997]  1998 [YR1998]  1999 [YR1999]  2000 [YR2000]  2001 [YR2001]  2002 [YR2002]  2003 [YR2003]  2004 [YR2004]  2005 [YR2005]  2006 [YR2006]  2007 [YR2007]  2008 [YR2008]  2009 [YR2009]  2010 [YR2010]  2011 [YR2011]  2012 [YR2012]  2013 [YR2013]  2014 [YR2014]  2015 [YR2015]  2016 [YR2016]  2017 [YR2017]  2018 [YR2018]  2019 [YR2019]  2020 [YR2020]  2021 [YR2021]  2022 [YR2022]\n",
      "count      44.000000      44.000000      44.000000      44.000000      43.000000      44.000000      44.000000      44.000000      44.000000      44.000000      44.000000      44.000000      44.000000      44.000000      44.000000      44.000000      44.000000      44.000000      44.000000      44.000000      44.000000      44.000000      44.000000      44.000000      44.000000      44.000000      44.000000      44.000000      44.000000      44.000000      44.000000      44.000000      44.000000      44.000000      44.000000      44.000000\n",
      "mean        1.791133       1.798951       1.841240       1.818976       1.745098       1.896762       1.921466       1.301044       1.177040       1.921080       1.809990       1.538176       1.399113       1.383310       1.461950       1.572764       1.503306       1.451130       1.503044       1.678957       1.767624       1.798605       1.670586       1.394243       1.249904       1.289340       1.234805       1.247950       1.246006       1.229484       1.157065       1.105592       1.080587       1.010647       0.767203       1.074428\n",
      "std         1.516576       1.387810       1.311690       1.322189       1.203340       1.993101       2.346055       3.146776       3.075537       2.601249       2.169675       1.264424       1.207883       1.106651       1.271425       1.440604       1.540429       1.197957       1.353139       2.136629       2.742734       2.667810       2.106939       1.222349       1.109741       1.064420       1.026347       1.011757       0.951688       0.910171       0.992857       1.101355       1.120802       1.057838       1.297445       0.982002\n",
      "min        -1.210190       0.048593       0.059988       0.101829       0.254527      -1.765146      -0.136718     -16.049153     -16.880630      -0.145452      -0.165342      -0.165486      -0.309278      -0.420615      -0.424091      -0.460024      -1.474533      -0.402681      -0.381453      -0.327445      -0.171082      -0.190143      -0.253383      -0.153198      -1.853715      -0.540753      -0.725121      -0.666113      -0.658861      -0.415913      -0.580807      -2.443543      -2.904996      -1.674986      -4.170336      -0.704368\n",
      "25%         0.591596       0.574219       0.596581       0.836977       0.758318       0.729703       0.641851       0.468937       0.460739       0.495510       0.509392       0.585111       0.513343       0.581162       0.621900       0.626505       0.483304       0.593182       0.670955       0.610262       0.693247       0.667125       0.538337       0.477322       0.465711       0.470841       0.557221       0.599508       0.728769       0.749575       0.540222       0.482730       0.452704       0.347229       0.122223       0.449540\n",
      "50%         1.611204       1.673672       1.790218       1.621503       1.424063       1.512555       1.472050       1.338131       1.390959       1.508434       1.351916       1.205134       1.150192       1.195102       1.191570       1.269774       1.202466       1.244105       1.173032       1.258925       1.137351       1.256934       1.213019       1.159960       1.132469       1.111361       1.134494       1.113599       1.093093       1.062897       0.994233       0.972087       1.009354       0.886458       0.567421       0.912115\n",
      "75%         2.700300       2.683505       2.644506       2.547240       2.469236       2.358708       2.341862       2.225869       2.222975       2.193512       2.167018       2.078428       1.874813       1.824300       1.815172       1.789829       1.849730       1.747768       1.810717       1.784352       1.831518       1.969370       1.982325       1.793550       1.706011       1.795141       1.644769       1.597474       1.943453       1.669813       1.729294       1.892079       1.803188       1.535691       1.300973       1.631332\n",
      "max         7.045664       6.615022       6.226056       5.869033       5.539656      11.522524      14.964455       9.864262       6.046536      16.625502      13.247067       6.178189       5.864515       5.580387       5.785413       6.449321       7.541019       4.609527       6.955727      13.483672      18.127984      17.399086      13.422921       5.939765       3.746720       4.077628       3.818206       3.781179       3.828859       3.867091       3.826934       3.787596       3.765445       3.727101       3.707424       3.712988\n",
      "\n",
      "Serie Name: Crecimiento de la población urbana (% anual)\n",
      "       1987 [YR1987]  1988 [YR1988]  1989 [YR1989]  1990 [YR1990]  1991 [YR1991]  1992 [YR1992]  1993 [YR1993]  1994 [YR1994]  1995 [YR1995]  1996 [YR1996]  1997 [YR1997]  1998 [YR1998]  1999 [YR1999]  2000 [YR2000]  2001 [YR2001]  2002 [YR2002]  2003 [YR2003]  2004 [YR2004]  2005 [YR2005]  2006 [YR2006]  2007 [YR2007]  2008 [YR2008]  2009 [YR2009]  2010 [YR2010]  2011 [YR2011]  2012 [YR2012]  2013 [YR2013]  2014 [YR2014]  2015 [YR2015]  2016 [YR2016]  2017 [YR2017]  2018 [YR2018]  2019 [YR2019]  2020 [YR2020]  2021 [YR2021]  2022 [YR2022]\n",
      "count      44.000000      44.000000      44.000000      44.000000      44.000000      44.000000      44.000000      44.000000      44.000000      44.000000      44.000000      44.000000      44.000000      44.000000      44.000000      44.000000      44.000000      44.000000      44.000000      44.000000      44.000000      44.000000      44.000000      44.000000      44.000000      44.000000      44.000000      44.000000      44.000000      44.000000      44.000000      44.000000      44.000000      44.000000      44.000000      44.000000\n",
      "mean        2.653937       2.648694       2.581983       2.572189       2.570632       2.931310       2.973492       2.326283       2.173838       2.908567       2.698940       2.366718       2.197646       2.171382       2.301940       2.356477       2.143757       2.067774       2.125136       2.286917       2.340976       2.356305       2.241139       1.961047       1.797914       1.830963       1.764808       1.769097       1.767297       1.751491       1.683483       1.640318       1.623417       1.561825       1.326458       1.642384\n",
      "std         1.902103       1.824532       1.729442       1.764127       1.706597       3.046462       3.512095       2.056559       1.799212       4.653090       3.483581       2.016073       1.868105       1.799839       1.885485       1.944661       1.870435       1.575534       1.679661       2.335773       2.852915       2.752622       2.240106       1.467818       1.398916       1.345145       1.314690       1.309511       1.264882       1.233521       1.335063       1.431045       1.442027       1.424387       1.675064       1.306104\n",
      "min        -0.356097      -0.281168       0.025990       0.162568       0.273409      -1.065802      -0.058933      -1.125719      -2.154416      -0.314066      -0.336147      -0.345078      -0.316094      -0.426069      -0.429544      -0.466841      -1.474533      -0.780000      -0.826101      -0.724704      -0.529916      -0.410720      -0.374156      -0.329498      -1.601972      -0.279958      -0.314279      -0.320447      -0.339656      -0.273079      -0.560394      -2.415197      -2.868725      -1.630797      -4.170336      -0.348107\n",
      "25%         1.138737       1.009765       0.858857       1.165665       1.165543       0.930837       0.837647       0.764052       0.700201       0.821328       0.860004       0.809580       0.635319       0.668732       0.931967       0.980420       0.958749       1.022566       1.044005       1.150078       1.154098       1.150107       1.092652       1.008598       1.067132       1.004001       0.918298       1.030809       0.976891       1.021980       0.847454       0.760198       0.809374       0.718642       0.381852       0.849657\n",
      "50%         2.497289       2.677806       2.868746       2.635961       2.463376       2.283026       2.273600       1.949515       1.901034       2.160612       2.085556       2.043916       1.975786       1.891245       1.924976       1.857898       1.959621       1.821520       1.849618       1.792841       1.829975       1.785076       1.627440       1.653557       1.548137       1.639049       1.532864       1.501174       1.468670       1.454509       1.270623       1.400141       1.371115       1.143801       0.948370       1.305319\n",
      "75%         4.525101       4.340952       4.038984       3.920969       3.693717       3.922996       3.653919       3.149497       3.158484       3.902305       3.410490       3.437986       2.797767       2.765637       2.722426       3.063627       2.925290       2.691457       2.842052       2.980494       2.777687       2.859956       3.022892       2.919672       2.628576       2.475092       2.416489       2.395890       2.585780       2.496903       2.607012       2.539870       2.373809       2.273154       1.946566       2.097027\n",
      "max         6.867192       6.434969       6.045657       6.067317       6.203524      15.818698      18.282681      10.283085       6.539543      31.143425      22.414590       9.236427       7.199740       7.194395       7.269232       7.604489       7.953448       6.873132       7.432145      13.951832      18.580685      17.836557      13.847740       6.350901       5.229575       5.272807       5.230614       5.187071       5.161047       5.105060       5.007199       4.885764       4.800404       4.758616       4.697431       4.578534\n",
      "\n"
     ]
    }
   ],
   "source": [
    "for i in df_poblacion[\"serie Name\"].value_counts().index:\n",
    "    print(f\"Serie Name: {i}\")\n",
    "    df_poblacion_serie = df_poblacion[df_poblacion[\"serie Name\"]==i]\n",
    "    print(df_poblacion_serie.describe().to_string())\n",
    "    print(\"\")\n"
   ]
  },
  {
   "cell_type": "code",
   "execution_count": 11,
   "metadata": {},
   "outputs": [
    {
     "name": "stdout",
     "output_type": "stream",
     "text": [
      "<class 'pandas.core.frame.DataFrame'>\n",
      "Index: 132 entries, 0 to 131\n",
      "Data columns (total 40 columns):\n",
      " #   Column         Non-Null Count  Dtype  \n",
      "---  ------         --------------  -----  \n",
      " 0   país Name      132 non-null    object \n",
      " 1   país Code      132 non-null    object \n",
      " 2   serie Name     132 non-null    object \n",
      " 3   serie Code     132 non-null    object \n",
      " 4   1987 [YR1987]  131 non-null    float64\n",
      " 5   1988 [YR1988]  131 non-null    float64\n",
      " 6   1989 [YR1989]  131 non-null    float64\n",
      " 7   1990 [YR1990]  131 non-null    float64\n",
      " 8   1991 [YR1991]  130 non-null    float64\n",
      " 9   1992 [YR1992]  131 non-null    float64\n",
      " 10  1993 [YR1993]  131 non-null    float64\n",
      " 11  1994 [YR1994]  131 non-null    float64\n",
      " 12  1995 [YR1995]  131 non-null    float64\n",
      " 13  1996 [YR1996]  131 non-null    float64\n",
      " 14  1997 [YR1997]  131 non-null    float64\n",
      " 15  1998 [YR1998]  131 non-null    float64\n",
      " 16  1999 [YR1999]  131 non-null    float64\n",
      " 17  2000 [YR2000]  131 non-null    float64\n",
      " 18  2001 [YR2001]  131 non-null    float64\n",
      " 19  2002 [YR2002]  131 non-null    float64\n",
      " 20  2003 [YR2003]  131 non-null    float64\n",
      " 21  2004 [YR2004]  131 non-null    float64\n",
      " 22  2005 [YR2005]  131 non-null    float64\n",
      " 23  2006 [YR2006]  131 non-null    float64\n",
      " 24  2007 [YR2007]  131 non-null    float64\n",
      " 25  2008 [YR2008]  131 non-null    float64\n",
      " 26  2009 [YR2009]  131 non-null    float64\n",
      " 27  2010 [YR2010]  131 non-null    float64\n",
      " 28  2011 [YR2011]  131 non-null    float64\n",
      " 29  2012 [YR2012]  131 non-null    float64\n",
      " 30  2013 [YR2013]  131 non-null    float64\n",
      " 31  2014 [YR2014]  131 non-null    float64\n",
      " 32  2015 [YR2015]  131 non-null    float64\n",
      " 33  2016 [YR2016]  131 non-null    float64\n",
      " 34  2017 [YR2017]  131 non-null    float64\n",
      " 35  2018 [YR2018]  131 non-null    float64\n",
      " 36  2019 [YR2019]  131 non-null    float64\n",
      " 37  2020 [YR2020]  131 non-null    float64\n",
      " 38  2021 [YR2021]  131 non-null    float64\n",
      " 39  2022 [YR2022]  131 non-null    float64\n",
      "dtypes: float64(36), object(4)\n",
      "memory usage: 42.3+ KB\n"
     ]
    }
   ],
   "source": [
    "df_poblacion.info()"
   ]
  },
  {
   "cell_type": "code",
   "execution_count": 12,
   "metadata": {},
   "outputs": [
    {
     "data": {
      "text/html": [
       "<div>\n",
       "<style scoped>\n",
       "    .dataframe tbody tr th:only-of-type {\n",
       "        vertical-align: middle;\n",
       "    }\n",
       "\n",
       "    .dataframe tbody tr th {\n",
       "        vertical-align: top;\n",
       "    }\n",
       "\n",
       "    .dataframe thead th {\n",
       "        text-align: right;\n",
       "    }\n",
       "</style>\n",
       "<table border=\"1\" class=\"dataframe\">\n",
       "  <thead>\n",
       "    <tr style=\"text-align: right;\">\n",
       "      <th></th>\n",
       "      <th>país Name</th>\n",
       "      <th>país Code</th>\n",
       "      <th>serie Name</th>\n",
       "      <th>serie Code</th>\n",
       "      <th>1987 [YR1987]</th>\n",
       "      <th>1988 [YR1988]</th>\n",
       "      <th>1989 [YR1989]</th>\n",
       "      <th>1990 [YR1990]</th>\n",
       "      <th>1991 [YR1991]</th>\n",
       "      <th>1992 [YR1992]</th>\n",
       "      <th>...</th>\n",
       "      <th>2013 [YR2013]</th>\n",
       "      <th>2014 [YR2014]</th>\n",
       "      <th>2015 [YR2015]</th>\n",
       "      <th>2016 [YR2016]</th>\n",
       "      <th>2017 [YR2017]</th>\n",
       "      <th>2018 [YR2018]</th>\n",
       "      <th>2019 [YR2019]</th>\n",
       "      <th>2020 [YR2020]</th>\n",
       "      <th>2021 [YR2021]</th>\n",
       "      <th>2022 [YR2022]</th>\n",
       "    </tr>\n",
       "  </thead>\n",
       "  <tbody>\n",
       "    <tr>\n",
       "      <th>94</th>\n",
       "      <td>Nueva Zelandia</td>\n",
       "      <td>NZL</td>\n",
       "      <td>Crecimiento de la población (% anual)</td>\n",
       "      <td>SP.POP.GROW</td>\n",
       "      <td>0.861876</td>\n",
       "      <td>0.274482</td>\n",
       "      <td>0.480054</td>\n",
       "      <td>0.923223</td>\n",
       "      <td>NaN</td>\n",
       "      <td>1.041735</td>\n",
       "      <td>...</td>\n",
       "      <td>0.768348</td>\n",
       "      <td>1.661012</td>\n",
       "      <td>2.036034</td>\n",
       "      <td>2.246032</td>\n",
       "      <td>2.088723</td>\n",
       "      <td>1.79124</td>\n",
       "      <td>1.591159</td>\n",
       "      <td>2.204789</td>\n",
       "      <td>0.415622</td>\n",
       "      <td>0.248156</td>\n",
       "    </tr>\n",
       "    <tr>\n",
       "      <th>111</th>\n",
       "      <td>Singapur</td>\n",
       "      <td>SGP</td>\n",
       "      <td>Crecimiento de la población rural (% anual)</td>\n",
       "      <td>SP.RUR.TOTL.ZG</td>\n",
       "      <td>NaN</td>\n",
       "      <td>NaN</td>\n",
       "      <td>NaN</td>\n",
       "      <td>NaN</td>\n",
       "      <td>NaN</td>\n",
       "      <td>NaN</td>\n",
       "      <td>...</td>\n",
       "      <td>NaN</td>\n",
       "      <td>NaN</td>\n",
       "      <td>NaN</td>\n",
       "      <td>NaN</td>\n",
       "      <td>NaN</td>\n",
       "      <td>NaN</td>\n",
       "      <td>NaN</td>\n",
       "      <td>NaN</td>\n",
       "      <td>NaN</td>\n",
       "      <td>NaN</td>\n",
       "    </tr>\n",
       "  </tbody>\n",
       "</table>\n",
       "<p>2 rows × 40 columns</p>\n",
       "</div>"
      ],
      "text/plain": [
       "          país Name país Code                                   serie Name   \n",
       "94   Nueva Zelandia       NZL        Crecimiento de la población (% anual)  \\\n",
       "111        Singapur       SGP  Crecimiento de la población rural (% anual)   \n",
       "\n",
       "         serie Code  1987 [YR1987]  1988 [YR1988]  1989 [YR1989]   \n",
       "94      SP.POP.GROW       0.861876       0.274482       0.480054  \\\n",
       "111  SP.RUR.TOTL.ZG            NaN            NaN            NaN   \n",
       "\n",
       "     1990 [YR1990]  1991 [YR1991]  1992 [YR1992]  ...  2013 [YR2013]   \n",
       "94        0.923223            NaN       1.041735  ...       0.768348  \\\n",
       "111            NaN            NaN            NaN  ...            NaN   \n",
       "\n",
       "     2014 [YR2014]  2015 [YR2015]  2016 [YR2016]  2017 [YR2017]   \n",
       "94        1.661012       2.036034       2.246032       2.088723  \\\n",
       "111            NaN            NaN            NaN            NaN   \n",
       "\n",
       "     2018 [YR2018]  2019 [YR2019]  2020 [YR2020]  2021 [YR2021]  2022 [YR2022]  \n",
       "94         1.79124       1.591159       2.204789       0.415622       0.248156  \n",
       "111            NaN            NaN            NaN            NaN            NaN  \n",
       "\n",
       "[2 rows x 40 columns]"
      ]
     },
     "execution_count": 12,
     "metadata": {},
     "output_type": "execute_result"
    }
   ],
   "source": [
    "df_poblacion[df_poblacion.isna().any(axis=1)]"
   ]
  },
  {
   "cell_type": "code",
   "execution_count": 13,
   "metadata": {},
   "outputs": [],
   "source": [
    "df_poblacion.drop(index=[111], inplace=True)"
   ]
  },
  {
   "cell_type": "code",
   "execution_count": 14,
   "metadata": {},
   "outputs": [
    {
     "data": {
      "text/plain": [
       "país Name                               Nueva Zelandia\n",
       "país Code                                          NZL\n",
       "serie Name       Crecimiento de la población (% anual)\n",
       "serie Code                                 SP.POP.GROW\n",
       "1987 [YR1987]                                 0.861876\n",
       "1988 [YR1988]                                 0.274482\n",
       "1989 [YR1989]                                 0.480054\n",
       "1990 [YR1990]                                 0.923223\n",
       "1991 [YR1991]                                      NaN\n",
       "1992 [YR1992]                                 1.041735\n",
       "1993 [YR1993]                                 1.140231\n",
       "1994 [YR1994]                                 1.329237\n",
       "1995 [YR1995]                                 1.464364\n",
       "1996 [YR1996]                                 1.582662\n",
       "1997 [YR1997]                                 1.312358\n",
       "1998 [YR1998]                                  0.88728\n",
       "1999 [YR1999]                                 0.525485\n",
       "2000 [YR2000]                                 0.587564\n",
       "2001 [YR2001]                                 0.589286\n",
       "2002 [YR2002]                                 1.737175\n",
       "2003 [YR2003]                                 1.973559\n",
       "2004 [YR2004]                                 1.486219\n",
       "2005 [YR2005]                                 1.128774\n",
       "2006 [YR2006]                                 1.218985\n",
       "2007 [YR2007]                                 0.932408\n",
       "2008 [YR2008]                                 0.848701\n",
       "2009 [YR2009]                                 0.999728\n",
       "2010 [YR2010]                                 1.111726\n",
       "2011 [YR2011]                                  0.76248\n",
       "2012 [YR2012]                                 0.548221\n",
       "2013 [YR2013]                                 0.768348\n",
       "2014 [YR2014]                                 1.661012\n",
       "2015 [YR2015]                                 2.036034\n",
       "2016 [YR2016]                                 2.246032\n",
       "2017 [YR2017]                                 2.088723\n",
       "2018 [YR2018]                                  1.79124\n",
       "2019 [YR2019]                                 1.591159\n",
       "2020 [YR2020]                                 2.204789\n",
       "2021 [YR2021]                                 0.415622\n",
       "2022 [YR2022]                                 0.248156\n",
       "Name: 94, dtype: object"
      ]
     },
     "execution_count": 14,
     "metadata": {},
     "output_type": "execute_result"
    }
   ],
   "source": [
    "df_poblacion.iloc[94,:]"
   ]
  },
  {
   "cell_type": "code",
   "execution_count": 15,
   "metadata": {},
   "outputs": [],
   "source": [
    "df_poblacion.iloc[94,8] = (0.923223+1.041735)/2"
   ]
  },
  {
   "cell_type": "code",
   "execution_count": 16,
   "metadata": {},
   "outputs": [],
   "source": [
    "df_poblacion = df_poblacion.drop(columns=[\"país Code\", \"serie Code\"])"
   ]
  },
  {
   "cell_type": "code",
   "execution_count": 17,
   "metadata": {},
   "outputs": [
    {
     "data": {
      "text/html": [
       "<div>\n",
       "<style scoped>\n",
       "    .dataframe tbody tr th:only-of-type {\n",
       "        vertical-align: middle;\n",
       "    }\n",
       "\n",
       "    .dataframe tbody tr th {\n",
       "        vertical-align: top;\n",
       "    }\n",
       "\n",
       "    .dataframe thead th {\n",
       "        text-align: right;\n",
       "    }\n",
       "</style>\n",
       "<table border=\"1\" class=\"dataframe\">\n",
       "  <thead>\n",
       "    <tr style=\"text-align: right;\">\n",
       "      <th>serie Name</th>\n",
       "      <th>país Name</th>\n",
       "      <th>Año</th>\n",
       "      <th>Crecimiento de la población (% anual)</th>\n",
       "      <th>Crecimiento de la población rural (% anual)</th>\n",
       "      <th>Crecimiento de la población urbana (% anual)</th>\n",
       "    </tr>\n",
       "  </thead>\n",
       "  <tbody>\n",
       "    <tr>\n",
       "      <th>0</th>\n",
       "      <td>Afganistán</td>\n",
       "      <td>1987</td>\n",
       "      <td>-1.210190</td>\n",
       "      <td>-2.043746</td>\n",
       "      <td>2.128391</td>\n",
       "    </tr>\n",
       "    <tr>\n",
       "      <th>1</th>\n",
       "      <td>Afganistán</td>\n",
       "      <td>1988</td>\n",
       "      <td>0.586318</td>\n",
       "      <td>-0.275758</td>\n",
       "      <td>3.898014</td>\n",
       "    </tr>\n",
       "    <tr>\n",
       "      <th>2</th>\n",
       "      <td>Afganistán</td>\n",
       "      <td>1989</td>\n",
       "      <td>2.751877</td>\n",
       "      <td>2.637888</td>\n",
       "      <td>3.179585</td>\n",
       "    </tr>\n",
       "    <tr>\n",
       "      <th>3</th>\n",
       "      <td>Afganistán</td>\n",
       "      <td>1990</td>\n",
       "      <td>0.202434</td>\n",
       "      <td>0.089590</td>\n",
       "      <td>0.623574</td>\n",
       "    </tr>\n",
       "    <tr>\n",
       "      <th>4</th>\n",
       "      <td>Afganistán</td>\n",
       "      <td>1991</td>\n",
       "      <td>0.469880</td>\n",
       "      <td>0.356909</td>\n",
       "      <td>0.889255</td>\n",
       "    </tr>\n",
       "    <tr>\n",
       "      <th>...</th>\n",
       "      <td>...</td>\n",
       "      <td>...</td>\n",
       "      <td>...</td>\n",
       "      <td>...</td>\n",
       "      <td>...</td>\n",
       "    </tr>\n",
       "    <tr>\n",
       "      <th>1579</th>\n",
       "      <td>Venezuela</td>\n",
       "      <td>2018</td>\n",
       "      <td>-2.443543</td>\n",
       "      <td>-2.655330</td>\n",
       "      <td>-2.415197</td>\n",
       "    </tr>\n",
       "    <tr>\n",
       "      <th>1580</th>\n",
       "      <td>Venezuela</td>\n",
       "      <td>2019</td>\n",
       "      <td>-2.904996</td>\n",
       "      <td>-3.176733</td>\n",
       "      <td>-2.868725</td>\n",
       "    </tr>\n",
       "    <tr>\n",
       "      <th>1581</th>\n",
       "      <td>Venezuela</td>\n",
       "      <td>2020</td>\n",
       "      <td>-1.674986</td>\n",
       "      <td>-2.007172</td>\n",
       "      <td>-1.630797</td>\n",
       "    </tr>\n",
       "    <tr>\n",
       "      <th>1582</th>\n",
       "      <td>Venezuela</td>\n",
       "      <td>2021</td>\n",
       "      <td>-1.025179</td>\n",
       "      <td>-1.418423</td>\n",
       "      <td>-0.973083</td>\n",
       "    </tr>\n",
       "    <tr>\n",
       "      <th>1583</th>\n",
       "      <td>Venezuela</td>\n",
       "      <td>2022</td>\n",
       "      <td>0.360447</td>\n",
       "      <td>-0.094537</td>\n",
       "      <td>0.420433</td>\n",
       "    </tr>\n",
       "  </tbody>\n",
       "</table>\n",
       "<p>1584 rows × 5 columns</p>\n",
       "</div>"
      ],
      "text/plain": [
       "serie Name   país Name   Año  Crecimiento de la población (% anual)   \n",
       "0           Afganistán  1987                              -1.210190  \\\n",
       "1           Afganistán  1988                               0.586318   \n",
       "2           Afganistán  1989                               2.751877   \n",
       "3           Afganistán  1990                               0.202434   \n",
       "4           Afganistán  1991                               0.469880   \n",
       "...                ...   ...                                    ...   \n",
       "1579         Venezuela  2018                              -2.443543   \n",
       "1580         Venezuela  2019                              -2.904996   \n",
       "1581         Venezuela  2020                              -1.674986   \n",
       "1582         Venezuela  2021                              -1.025179   \n",
       "1583         Venezuela  2022                               0.360447   \n",
       "\n",
       "serie Name  Crecimiento de la población rural (% anual)   \n",
       "0                                             -2.043746  \\\n",
       "1                                             -0.275758   \n",
       "2                                              2.637888   \n",
       "3                                              0.089590   \n",
       "4                                              0.356909   \n",
       "...                                                 ...   \n",
       "1579                                          -2.655330   \n",
       "1580                                          -3.176733   \n",
       "1581                                          -2.007172   \n",
       "1582                                          -1.418423   \n",
       "1583                                          -0.094537   \n",
       "\n",
       "serie Name  Crecimiento de la población urbana (% anual)  \n",
       "0                                               2.128391  \n",
       "1                                               3.898014  \n",
       "2                                               3.179585  \n",
       "3                                               0.623574  \n",
       "4                                               0.889255  \n",
       "...                                                  ...  \n",
       "1579                                           -2.415197  \n",
       "1580                                           -2.868725  \n",
       "1581                                           -1.630797  \n",
       "1582                                           -0.973083  \n",
       "1583                                            0.420433  \n",
       "\n",
       "[1584 rows x 5 columns]"
      ]
     },
     "execution_count": 17,
     "metadata": {},
     "output_type": "execute_result"
    }
   ],
   "source": [
    "df_melted = df_poblacion.melt(id_vars=['país Name', 'serie Name'], var_name='Año', value_name='Valor')\n",
    "\n",
    "df_pivoted = df_melted.pivot_table(index=['país Name', 'Año'], columns='serie Name', values='Valor')\n",
    "\n",
    "df_pivoted.reset_index(inplace=True)\n",
    "\n",
    "df_pivoted[\"Año\"] = df_pivoted['Año'].str[:4]\n",
    "df_pivoted"
   ]
  },
  {
   "cell_type": "code",
   "execution_count": 18,
   "metadata": {},
   "outputs": [],
   "source": [
    "def graficar(pais, indicador):\n",
    "    df_pivoted_pais = df_pivoted[df_pivoted[\"país Name\"]==pais]\n",
    "    fig = px.line(data_frame=df_pivoted_pais, x=\"Año\", y=indicador)\n",
    "    fig.show()"
   ]
  },
  {
   "cell_type": "code",
   "execution_count": 19,
   "metadata": {},
   "outputs": [
    {
     "data": {
      "application/vnd.plotly.v1+json": {
       "config": {
        "plotlyServerURL": "https://plot.ly"
       },
       "data": [
        {
         "hovertemplate": "Año=%{x}<br>Crecimiento de la población (% anual)=%{y}<extra></extra>",
         "legendgroup": "",
         "line": {
          "color": "#636efa",
          "dash": "solid"
         },
         "marker": {
          "symbol": "circle"
         },
         "mode": "lines",
         "name": "",
         "orientation": "v",
         "showlegend": false,
         "type": "scatter",
         "x": [
          "1987",
          "1988",
          "1989",
          "1990",
          "1991",
          "1992",
          "1993",
          "1994",
          "1995",
          "1996",
          "1997",
          "1998",
          "1999",
          "2000",
          "2001",
          "2002",
          "2003",
          "2004",
          "2005",
          "2006",
          "2007",
          "2008",
          "2009",
          "2010",
          "2011",
          "2012",
          "2013",
          "2014",
          "2015",
          "2016",
          "2017",
          "2018",
          "2019",
          "2020",
          "2021",
          "2022"
         ],
         "xaxis": "x",
         "y": [
          0.15361757528619,
          0.390678960242038,
          0.773336990610757,
          0.861969448764933,
          0.728605546561364,
          0.760346946721127,
          0.657391218087626,
          0.346856648630233,
          0.293904443716697,
          0.289474899455448,
          0.146313281561803,
          0.0151436508552808,
          0.0646345779052372,
          0.135431600393084,
          0.168225361337335,
          0.168128319406931,
          0.0553633035873241,
          -0.021709727650009,
          -0.0567782618352031,
          -0.112797497644931,
          -0.133718572600486,
          -0.190142844695674,
          -0.253383410163402,
          -0.153198446937304,
          -1.8537146287573,
          0.187727800567293,
          0.272900214681538,
          0.416877359168292,
          0.865702643950251,
          0.807218538573871,
          0.373724559895838,
          0.300526701992065,
          0.22551987421288,
          0.0816931586494595,
          0.0423270572552137,
          1.05662714139991
         ],
         "yaxis": "y"
        }
       ],
       "layout": {
        "legend": {
         "tracegroupgap": 0
        },
        "margin": {
         "t": 60
        },
        "template": {
         "data": {
          "bar": [
           {
            "error_x": {
             "color": "#2a3f5f"
            },
            "error_y": {
             "color": "#2a3f5f"
            },
            "marker": {
             "line": {
              "color": "#E5ECF6",
              "width": 0.5
             },
             "pattern": {
              "fillmode": "overlay",
              "size": 10,
              "solidity": 0.2
             }
            },
            "type": "bar"
           }
          ],
          "barpolar": [
           {
            "marker": {
             "line": {
              "color": "#E5ECF6",
              "width": 0.5
             },
             "pattern": {
              "fillmode": "overlay",
              "size": 10,
              "solidity": 0.2
             }
            },
            "type": "barpolar"
           }
          ],
          "carpet": [
           {
            "aaxis": {
             "endlinecolor": "#2a3f5f",
             "gridcolor": "white",
             "linecolor": "white",
             "minorgridcolor": "white",
             "startlinecolor": "#2a3f5f"
            },
            "baxis": {
             "endlinecolor": "#2a3f5f",
             "gridcolor": "white",
             "linecolor": "white",
             "minorgridcolor": "white",
             "startlinecolor": "#2a3f5f"
            },
            "type": "carpet"
           }
          ],
          "choropleth": [
           {
            "colorbar": {
             "outlinewidth": 0,
             "ticks": ""
            },
            "type": "choropleth"
           }
          ],
          "contour": [
           {
            "colorbar": {
             "outlinewidth": 0,
             "ticks": ""
            },
            "colorscale": [
             [
              0,
              "#0d0887"
             ],
             [
              0.1111111111111111,
              "#46039f"
             ],
             [
              0.2222222222222222,
              "#7201a8"
             ],
             [
              0.3333333333333333,
              "#9c179e"
             ],
             [
              0.4444444444444444,
              "#bd3786"
             ],
             [
              0.5555555555555556,
              "#d8576b"
             ],
             [
              0.6666666666666666,
              "#ed7953"
             ],
             [
              0.7777777777777778,
              "#fb9f3a"
             ],
             [
              0.8888888888888888,
              "#fdca26"
             ],
             [
              1,
              "#f0f921"
             ]
            ],
            "type": "contour"
           }
          ],
          "contourcarpet": [
           {
            "colorbar": {
             "outlinewidth": 0,
             "ticks": ""
            },
            "type": "contourcarpet"
           }
          ],
          "heatmap": [
           {
            "colorbar": {
             "outlinewidth": 0,
             "ticks": ""
            },
            "colorscale": [
             [
              0,
              "#0d0887"
             ],
             [
              0.1111111111111111,
              "#46039f"
             ],
             [
              0.2222222222222222,
              "#7201a8"
             ],
             [
              0.3333333333333333,
              "#9c179e"
             ],
             [
              0.4444444444444444,
              "#bd3786"
             ],
             [
              0.5555555555555556,
              "#d8576b"
             ],
             [
              0.6666666666666666,
              "#ed7953"
             ],
             [
              0.7777777777777778,
              "#fb9f3a"
             ],
             [
              0.8888888888888888,
              "#fdca26"
             ],
             [
              1,
              "#f0f921"
             ]
            ],
            "type": "heatmap"
           }
          ],
          "heatmapgl": [
           {
            "colorbar": {
             "outlinewidth": 0,
             "ticks": ""
            },
            "colorscale": [
             [
              0,
              "#0d0887"
             ],
             [
              0.1111111111111111,
              "#46039f"
             ],
             [
              0.2222222222222222,
              "#7201a8"
             ],
             [
              0.3333333333333333,
              "#9c179e"
             ],
             [
              0.4444444444444444,
              "#bd3786"
             ],
             [
              0.5555555555555556,
              "#d8576b"
             ],
             [
              0.6666666666666666,
              "#ed7953"
             ],
             [
              0.7777777777777778,
              "#fb9f3a"
             ],
             [
              0.8888888888888888,
              "#fdca26"
             ],
             [
              1,
              "#f0f921"
             ]
            ],
            "type": "heatmapgl"
           }
          ],
          "histogram": [
           {
            "marker": {
             "pattern": {
              "fillmode": "overlay",
              "size": 10,
              "solidity": 0.2
             }
            },
            "type": "histogram"
           }
          ],
          "histogram2d": [
           {
            "colorbar": {
             "outlinewidth": 0,
             "ticks": ""
            },
            "colorscale": [
             [
              0,
              "#0d0887"
             ],
             [
              0.1111111111111111,
              "#46039f"
             ],
             [
              0.2222222222222222,
              "#7201a8"
             ],
             [
              0.3333333333333333,
              "#9c179e"
             ],
             [
              0.4444444444444444,
              "#bd3786"
             ],
             [
              0.5555555555555556,
              "#d8576b"
             ],
             [
              0.6666666666666666,
              "#ed7953"
             ],
             [
              0.7777777777777778,
              "#fb9f3a"
             ],
             [
              0.8888888888888888,
              "#fdca26"
             ],
             [
              1,
              "#f0f921"
             ]
            ],
            "type": "histogram2d"
           }
          ],
          "histogram2dcontour": [
           {
            "colorbar": {
             "outlinewidth": 0,
             "ticks": ""
            },
            "colorscale": [
             [
              0,
              "#0d0887"
             ],
             [
              0.1111111111111111,
              "#46039f"
             ],
             [
              0.2222222222222222,
              "#7201a8"
             ],
             [
              0.3333333333333333,
              "#9c179e"
             ],
             [
              0.4444444444444444,
              "#bd3786"
             ],
             [
              0.5555555555555556,
              "#d8576b"
             ],
             [
              0.6666666666666666,
              "#ed7953"
             ],
             [
              0.7777777777777778,
              "#fb9f3a"
             ],
             [
              0.8888888888888888,
              "#fdca26"
             ],
             [
              1,
              "#f0f921"
             ]
            ],
            "type": "histogram2dcontour"
           }
          ],
          "mesh3d": [
           {
            "colorbar": {
             "outlinewidth": 0,
             "ticks": ""
            },
            "type": "mesh3d"
           }
          ],
          "parcoords": [
           {
            "line": {
             "colorbar": {
              "outlinewidth": 0,
              "ticks": ""
             }
            },
            "type": "parcoords"
           }
          ],
          "pie": [
           {
            "automargin": true,
            "type": "pie"
           }
          ],
          "scatter": [
           {
            "fillpattern": {
             "fillmode": "overlay",
             "size": 10,
             "solidity": 0.2
            },
            "type": "scatter"
           }
          ],
          "scatter3d": [
           {
            "line": {
             "colorbar": {
              "outlinewidth": 0,
              "ticks": ""
             }
            },
            "marker": {
             "colorbar": {
              "outlinewidth": 0,
              "ticks": ""
             }
            },
            "type": "scatter3d"
           }
          ],
          "scattercarpet": [
           {
            "marker": {
             "colorbar": {
              "outlinewidth": 0,
              "ticks": ""
             }
            },
            "type": "scattercarpet"
           }
          ],
          "scattergeo": [
           {
            "marker": {
             "colorbar": {
              "outlinewidth": 0,
              "ticks": ""
             }
            },
            "type": "scattergeo"
           }
          ],
          "scattergl": [
           {
            "marker": {
             "colorbar": {
              "outlinewidth": 0,
              "ticks": ""
             }
            },
            "type": "scattergl"
           }
          ],
          "scattermapbox": [
           {
            "marker": {
             "colorbar": {
              "outlinewidth": 0,
              "ticks": ""
             }
            },
            "type": "scattermapbox"
           }
          ],
          "scatterpolar": [
           {
            "marker": {
             "colorbar": {
              "outlinewidth": 0,
              "ticks": ""
             }
            },
            "type": "scatterpolar"
           }
          ],
          "scatterpolargl": [
           {
            "marker": {
             "colorbar": {
              "outlinewidth": 0,
              "ticks": ""
             }
            },
            "type": "scatterpolargl"
           }
          ],
          "scatterternary": [
           {
            "marker": {
             "colorbar": {
              "outlinewidth": 0,
              "ticks": ""
             }
            },
            "type": "scatterternary"
           }
          ],
          "surface": [
           {
            "colorbar": {
             "outlinewidth": 0,
             "ticks": ""
            },
            "colorscale": [
             [
              0,
              "#0d0887"
             ],
             [
              0.1111111111111111,
              "#46039f"
             ],
             [
              0.2222222222222222,
              "#7201a8"
             ],
             [
              0.3333333333333333,
              "#9c179e"
             ],
             [
              0.4444444444444444,
              "#bd3786"
             ],
             [
              0.5555555555555556,
              "#d8576b"
             ],
             [
              0.6666666666666666,
              "#ed7953"
             ],
             [
              0.7777777777777778,
              "#fb9f3a"
             ],
             [
              0.8888888888888888,
              "#fdca26"
             ],
             [
              1,
              "#f0f921"
             ]
            ],
            "type": "surface"
           }
          ],
          "table": [
           {
            "cells": {
             "fill": {
              "color": "#EBF0F8"
             },
             "line": {
              "color": "white"
             }
            },
            "header": {
             "fill": {
              "color": "#C8D4E3"
             },
             "line": {
              "color": "white"
             }
            },
            "type": "table"
           }
          ]
         },
         "layout": {
          "annotationdefaults": {
           "arrowcolor": "#2a3f5f",
           "arrowhead": 0,
           "arrowwidth": 1
          },
          "autotypenumbers": "strict",
          "coloraxis": {
           "colorbar": {
            "outlinewidth": 0,
            "ticks": ""
           }
          },
          "colorscale": {
           "diverging": [
            [
             0,
             "#8e0152"
            ],
            [
             0.1,
             "#c51b7d"
            ],
            [
             0.2,
             "#de77ae"
            ],
            [
             0.3,
             "#f1b6da"
            ],
            [
             0.4,
             "#fde0ef"
            ],
            [
             0.5,
             "#f7f7f7"
            ],
            [
             0.6,
             "#e6f5d0"
            ],
            [
             0.7,
             "#b8e186"
            ],
            [
             0.8,
             "#7fbc41"
            ],
            [
             0.9,
             "#4d9221"
            ],
            [
             1,
             "#276419"
            ]
           ],
           "sequential": [
            [
             0,
             "#0d0887"
            ],
            [
             0.1111111111111111,
             "#46039f"
            ],
            [
             0.2222222222222222,
             "#7201a8"
            ],
            [
             0.3333333333333333,
             "#9c179e"
            ],
            [
             0.4444444444444444,
             "#bd3786"
            ],
            [
             0.5555555555555556,
             "#d8576b"
            ],
            [
             0.6666666666666666,
             "#ed7953"
            ],
            [
             0.7777777777777778,
             "#fb9f3a"
            ],
            [
             0.8888888888888888,
             "#fdca26"
            ],
            [
             1,
             "#f0f921"
            ]
           ],
           "sequentialminus": [
            [
             0,
             "#0d0887"
            ],
            [
             0.1111111111111111,
             "#46039f"
            ],
            [
             0.2222222222222222,
             "#7201a8"
            ],
            [
             0.3333333333333333,
             "#9c179e"
            ],
            [
             0.4444444444444444,
             "#bd3786"
            ],
            [
             0.5555555555555556,
             "#d8576b"
            ],
            [
             0.6666666666666666,
             "#ed7953"
            ],
            [
             0.7777777777777778,
             "#fb9f3a"
            ],
            [
             0.8888888888888888,
             "#fdca26"
            ],
            [
             1,
             "#f0f921"
            ]
           ]
          },
          "colorway": [
           "#636efa",
           "#EF553B",
           "#00cc96",
           "#ab63fa",
           "#FFA15A",
           "#19d3f3",
           "#FF6692",
           "#B6E880",
           "#FF97FF",
           "#FECB52"
          ],
          "font": {
           "color": "#2a3f5f"
          },
          "geo": {
           "bgcolor": "white",
           "lakecolor": "white",
           "landcolor": "#E5ECF6",
           "showlakes": true,
           "showland": true,
           "subunitcolor": "white"
          },
          "hoverlabel": {
           "align": "left"
          },
          "hovermode": "closest",
          "mapbox": {
           "style": "light"
          },
          "paper_bgcolor": "white",
          "plot_bgcolor": "#E5ECF6",
          "polar": {
           "angularaxis": {
            "gridcolor": "white",
            "linecolor": "white",
            "ticks": ""
           },
           "bgcolor": "#E5ECF6",
           "radialaxis": {
            "gridcolor": "white",
            "linecolor": "white",
            "ticks": ""
           }
          },
          "scene": {
           "xaxis": {
            "backgroundcolor": "#E5ECF6",
            "gridcolor": "white",
            "gridwidth": 2,
            "linecolor": "white",
            "showbackground": true,
            "ticks": "",
            "zerolinecolor": "white"
           },
           "yaxis": {
            "backgroundcolor": "#E5ECF6",
            "gridcolor": "white",
            "gridwidth": 2,
            "linecolor": "white",
            "showbackground": true,
            "ticks": "",
            "zerolinecolor": "white"
           },
           "zaxis": {
            "backgroundcolor": "#E5ECF6",
            "gridcolor": "white",
            "gridwidth": 2,
            "linecolor": "white",
            "showbackground": true,
            "ticks": "",
            "zerolinecolor": "white"
           }
          },
          "shapedefaults": {
           "line": {
            "color": "#2a3f5f"
           }
          },
          "ternary": {
           "aaxis": {
            "gridcolor": "white",
            "linecolor": "white",
            "ticks": ""
           },
           "baxis": {
            "gridcolor": "white",
            "linecolor": "white",
            "ticks": ""
           },
           "bgcolor": "#E5ECF6",
           "caxis": {
            "gridcolor": "white",
            "linecolor": "white",
            "ticks": ""
           }
          },
          "title": {
           "x": 0.05
          },
          "xaxis": {
           "automargin": true,
           "gridcolor": "white",
           "linecolor": "white",
           "ticks": "",
           "title": {
            "standoff": 15
           },
           "zerolinecolor": "white",
           "zerolinewidth": 2
          },
          "yaxis": {
           "automargin": true,
           "gridcolor": "white",
           "linecolor": "white",
           "ticks": "",
           "title": {
            "standoff": 15
           },
           "zerolinecolor": "white",
           "zerolinewidth": 2
          }
         }
        },
        "xaxis": {
         "anchor": "y",
         "domain": [
          0,
          1
         ],
         "title": {
          "text": "Año"
         }
        },
        "yaxis": {
         "anchor": "x",
         "domain": [
          0,
          1
         ],
         "title": {
          "text": "Crecimiento de la población (% anual)"
         }
        }
       }
      }
     },
     "metadata": {},
     "output_type": "display_data"
    }
   ],
   "source": [
    "graficar(\"Alemania\", \"Crecimiento de la población (% anual)\")"
   ]
  },
  {
   "cell_type": "code",
   "execution_count": 20,
   "metadata": {},
   "outputs": [
    {
     "data": {
      "text/plain": [
       "array(['Afganistán', 'Alemania', 'Arabia Saudita', 'Argelia', 'Argentina',\n",
       "       'Australia', 'Austria', 'Brasil', 'Burkina Faso', 'Camboya',\n",
       "       'Canadá', 'Chad', 'China', 'Colombia', 'Costa Rica', 'Cuba',\n",
       "       'Dinamarca', 'Ecuador', 'Egipto, República Árabe de',\n",
       "       'Emiratos Árabes Unidos', 'España', 'Estados Unidos',\n",
       "       'Federación de Rusia', 'Fiji', 'Finlandia', 'Grecia', 'India',\n",
       "       'Japón', 'Kenya', 'Marruecos', 'México', 'Nepal', 'Noruega',\n",
       "       'Nueva Zelandia', 'Níger', 'Países Bajos', 'Reino Unido', 'Rwanda',\n",
       "       'Samoa', 'Sierra Leona', 'Singapur', 'Sudáfrica', 'Suiza',\n",
       "       'Venezuela'], dtype=object)"
      ]
     },
     "execution_count": 20,
     "metadata": {},
     "output_type": "execute_result"
    }
   ],
   "source": [
    "df_pivoted[\"país Name\"].unique()"
   ]
  },
  {
   "cell_type": "code",
   "execution_count": 21,
   "metadata": {},
   "outputs": [],
   "source": [
    "df_pivoted.loc[df_pivoted[\"país Name\"] == \"Egipto, República Árabe de\", \"país Name\"] = \"Egipto\"\n",
    "df_pivoted.loc[df_pivoted[\"país Name\"] == \"Federación de Rusia\", \"país Name\"] = \"Rusia\""
   ]
  },
  {
   "cell_type": "code",
   "execution_count": 22,
   "metadata": {},
   "outputs": [],
   "source": [
    "paises_continentes = {\n",
    "    'Afganistán': 'Asia',\n",
    "    'Alemania': 'Europa',\n",
    "    'Arabia Saudita': 'Asia',\n",
    "    'Argelia': 'África',\n",
    "    'Argentina': 'América del Sur',\n",
    "    'Australia': 'Oceanía',\n",
    "    'Austria': 'Europa',\n",
    "    'Brasil': 'América del Sur',\n",
    "    'Burkina Faso': 'África',\n",
    "    'Camboya': 'Asia',\n",
    "    'Canadá': 'América del Norte',\n",
    "    'Chad': 'África',\n",
    "    'China': 'Asia',\n",
    "    'Colombia': 'América del Sur',\n",
    "    'Costa Rica': 'América Central',\n",
    "    'Cuba': 'América Central',\n",
    "    'Dinamarca': 'Europa',\n",
    "    'Ecuador': 'América del Sur',\n",
    "    'Egipto, República Árabe de': 'África',\n",
    "    'Emiratos Árabes Unidos': 'Asia',\n",
    "    'España': 'Europa',\n",
    "    'Estados Unidos': 'América del Norte',\n",
    "    'Federación de Rusia': 'Europa',\n",
    "    'Fiji': 'Oceanía',\n",
    "    'Finlandia': 'Europa',\n",
    "    'Grecia': 'Europa',\n",
    "    'India': 'Asia',\n",
    "    'Japón': 'Asia',\n",
    "    'Kenya': 'África',\n",
    "    'Marruecos': 'África',\n",
    "    'México': 'América del Norte',\n",
    "    'Nepal': 'Asia',\n",
    "    'Noruega': 'Europa',\n",
    "    'Nueva Zelandia': 'Oceanía',\n",
    "    'Níger': 'África',\n",
    "    'Países Bajos': 'Europa',\n",
    "    'Reino Unido': 'Europa',\n",
    "    'Rwanda': 'África',\n",
    "    'Samoa': 'Oceanía',\n",
    "    'Sierra Leona': 'África',\n",
    "    'Singapur': 'Asia',\n",
    "    'Sudáfrica': 'África',\n",
    "    'Suiza': 'Europa',\n",
    "    'Venezuela': 'América del Sur'\n",
    "}"
   ]
  },
  {
   "cell_type": "code",
   "execution_count": 23,
   "metadata": {},
   "outputs": [],
   "source": [
    "df_pivoted[\"Continente\"] = df_pivoted[\"país Name\"].map(paises_continentes)"
   ]
  },
  {
   "cell_type": "code",
   "execution_count": 24,
   "metadata": {},
   "outputs": [
    {
     "data": {
      "text/html": [
       "<div>\n",
       "<style scoped>\n",
       "    .dataframe tbody tr th:only-of-type {\n",
       "        vertical-align: middle;\n",
       "    }\n",
       "\n",
       "    .dataframe tbody tr th {\n",
       "        vertical-align: top;\n",
       "    }\n",
       "\n",
       "    .dataframe thead th {\n",
       "        text-align: right;\n",
       "    }\n",
       "</style>\n",
       "<table border=\"1\" class=\"dataframe\">\n",
       "  <thead>\n",
       "    <tr style=\"text-align: right;\">\n",
       "      <th></th>\n",
       "      <th>serie Name</th>\n",
       "      <th>Crecimiento de la población (% anual)</th>\n",
       "      <th>Crecimiento de la población rural (% anual)</th>\n",
       "      <th>Crecimiento de la población urbana (% anual)</th>\n",
       "    </tr>\n",
       "    <tr>\n",
       "      <th>Continente</th>\n",
       "      <th>Año</th>\n",
       "      <th></th>\n",
       "      <th></th>\n",
       "      <th></th>\n",
       "    </tr>\n",
       "  </thead>\n",
       "  <tbody>\n",
       "    <tr>\n",
       "      <th rowspan=\"5\" valign=\"top\">América Central</th>\n",
       "      <th>1987</th>\n",
       "      <td>1.774252</td>\n",
       "      <td>0.051093</td>\n",
       "      <td>3.089948</td>\n",
       "    </tr>\n",
       "    <tr>\n",
       "      <th>1988</th>\n",
       "      <td>1.771918</td>\n",
       "      <td>0.023902</td>\n",
       "      <td>3.065976</td>\n",
       "    </tr>\n",
       "    <tr>\n",
       "      <th>1989</th>\n",
       "      <td>1.760944</td>\n",
       "      <td>-0.004274</td>\n",
       "      <td>3.028966</td>\n",
       "    </tr>\n",
       "    <tr>\n",
       "      <th>1990</th>\n",
       "      <td>1.741025</td>\n",
       "      <td>-0.050408</td>\n",
       "      <td>2.988882</td>\n",
       "    </tr>\n",
       "    <tr>\n",
       "      <th>1991</th>\n",
       "      <td>1.676968</td>\n",
       "      <td>0.165340</td>\n",
       "      <td>2.794839</td>\n",
       "    </tr>\n",
       "    <tr>\n",
       "      <th>...</th>\n",
       "      <th>...</th>\n",
       "      <td>...</td>\n",
       "      <td>...</td>\n",
       "      <td>...</td>\n",
       "    </tr>\n",
       "    <tr>\n",
       "      <th rowspan=\"5\" valign=\"top\">África</th>\n",
       "      <th>2018</th>\n",
       "      <td>2.334849</td>\n",
       "      <td>1.479504</td>\n",
       "      <td>3.350087</td>\n",
       "    </tr>\n",
       "    <tr>\n",
       "      <th>2019</th>\n",
       "      <td>2.293789</td>\n",
       "      <td>1.424690</td>\n",
       "      <td>3.331848</td>\n",
       "    </tr>\n",
       "    <tr>\n",
       "      <th>2020</th>\n",
       "      <td>2.254517</td>\n",
       "      <td>1.370211</td>\n",
       "      <td>3.316988</td>\n",
       "    </tr>\n",
       "    <tr>\n",
       "      <th>2021</th>\n",
       "      <td>2.198453</td>\n",
       "      <td>1.300509</td>\n",
       "      <td>3.282776</td>\n",
       "    </tr>\n",
       "    <tr>\n",
       "      <th>2022</th>\n",
       "      <td>2.141777</td>\n",
       "      <td>1.229479</td>\n",
       "      <td>3.249095</td>\n",
       "    </tr>\n",
       "  </tbody>\n",
       "</table>\n",
       "<p>252 rows × 3 columns</p>\n",
       "</div>"
      ],
      "text/plain": [
       "serie Name            Crecimiento de la población (% anual)   \n",
       "Continente      Año                                           \n",
       "América Central 1987                               1.774252  \\\n",
       "                1988                               1.771918   \n",
       "                1989                               1.760944   \n",
       "                1990                               1.741025   \n",
       "                1991                               1.676968   \n",
       "...                                                     ...   \n",
       "África          2018                               2.334849   \n",
       "                2019                               2.293789   \n",
       "                2020                               2.254517   \n",
       "                2021                               2.198453   \n",
       "                2022                               2.141777   \n",
       "\n",
       "serie Name            Crecimiento de la población rural (% anual)   \n",
       "Continente      Año                                                 \n",
       "América Central 1987                                     0.051093  \\\n",
       "                1988                                     0.023902   \n",
       "                1989                                    -0.004274   \n",
       "                1990                                    -0.050408   \n",
       "                1991                                     0.165340   \n",
       "...                                                           ...   \n",
       "África          2018                                     1.479504   \n",
       "                2019                                     1.424690   \n",
       "                2020                                     1.370211   \n",
       "                2021                                     1.300509   \n",
       "                2022                                     1.229479   \n",
       "\n",
       "serie Name            Crecimiento de la población urbana (% anual)  \n",
       "Continente      Año                                                 \n",
       "América Central 1987                                      3.089948  \n",
       "                1988                                      3.065976  \n",
       "                1989                                      3.028966  \n",
       "                1990                                      2.988882  \n",
       "                1991                                      2.794839  \n",
       "...                                                            ...  \n",
       "África          2018                                      3.350087  \n",
       "                2019                                      3.331848  \n",
       "                2020                                      3.316988  \n",
       "                2021                                      3.282776  \n",
       "                2022                                      3.249095  \n",
       "\n",
       "[252 rows x 3 columns]"
      ]
     },
     "execution_count": 24,
     "metadata": {},
     "output_type": "execute_result"
    }
   ],
   "source": [
    "df_contientes = df_pivoted.iloc[:,1:].groupby([\"Continente\", \"Año\"]).mean()\n",
    "df_contientes"
   ]
  },
  {
   "cell_type": "code",
   "execution_count": 25,
   "metadata": {},
   "outputs": [
    {
     "data": {
      "text/html": [
       "<div>\n",
       "<style scoped>\n",
       "    .dataframe tbody tr th:only-of-type {\n",
       "        vertical-align: middle;\n",
       "    }\n",
       "\n",
       "    .dataframe tbody tr th {\n",
       "        vertical-align: top;\n",
       "    }\n",
       "\n",
       "    .dataframe thead th {\n",
       "        text-align: right;\n",
       "    }\n",
       "</style>\n",
       "<table border=\"1\" class=\"dataframe\">\n",
       "  <thead>\n",
       "    <tr style=\"text-align: right;\">\n",
       "      <th>serie Name</th>\n",
       "      <th>Continente</th>\n",
       "      <th>Año</th>\n",
       "      <th>Crecimiento de la población (% anual)</th>\n",
       "      <th>Crecimiento de la población rural (% anual)</th>\n",
       "      <th>Crecimiento de la población urbana (% anual)</th>\n",
       "    </tr>\n",
       "  </thead>\n",
       "  <tbody>\n",
       "    <tr>\n",
       "      <th>0</th>\n",
       "      <td>América Central</td>\n",
       "      <td>1987</td>\n",
       "      <td>1.774252</td>\n",
       "      <td>0.051093</td>\n",
       "      <td>3.089948</td>\n",
       "    </tr>\n",
       "    <tr>\n",
       "      <th>1</th>\n",
       "      <td>América Central</td>\n",
       "      <td>1988</td>\n",
       "      <td>1.771918</td>\n",
       "      <td>0.023902</td>\n",
       "      <td>3.065976</td>\n",
       "    </tr>\n",
       "    <tr>\n",
       "      <th>2</th>\n",
       "      <td>América Central</td>\n",
       "      <td>1989</td>\n",
       "      <td>1.760944</td>\n",
       "      <td>-0.004274</td>\n",
       "      <td>3.028966</td>\n",
       "    </tr>\n",
       "    <tr>\n",
       "      <th>3</th>\n",
       "      <td>América Central</td>\n",
       "      <td>1990</td>\n",
       "      <td>1.741025</td>\n",
       "      <td>-0.050408</td>\n",
       "      <td>2.988882</td>\n",
       "    </tr>\n",
       "    <tr>\n",
       "      <th>4</th>\n",
       "      <td>América Central</td>\n",
       "      <td>1991</td>\n",
       "      <td>1.676968</td>\n",
       "      <td>0.165340</td>\n",
       "      <td>2.794839</td>\n",
       "    </tr>\n",
       "    <tr>\n",
       "      <th>...</th>\n",
       "      <td>...</td>\n",
       "      <td>...</td>\n",
       "      <td>...</td>\n",
       "      <td>...</td>\n",
       "      <td>...</td>\n",
       "    </tr>\n",
       "    <tr>\n",
       "      <th>247</th>\n",
       "      <td>África</td>\n",
       "      <td>2018</td>\n",
       "      <td>2.334849</td>\n",
       "      <td>1.479504</td>\n",
       "      <td>3.350087</td>\n",
       "    </tr>\n",
       "    <tr>\n",
       "      <th>248</th>\n",
       "      <td>África</td>\n",
       "      <td>2019</td>\n",
       "      <td>2.293789</td>\n",
       "      <td>1.424690</td>\n",
       "      <td>3.331848</td>\n",
       "    </tr>\n",
       "    <tr>\n",
       "      <th>249</th>\n",
       "      <td>África</td>\n",
       "      <td>2020</td>\n",
       "      <td>2.254517</td>\n",
       "      <td>1.370211</td>\n",
       "      <td>3.316988</td>\n",
       "    </tr>\n",
       "    <tr>\n",
       "      <th>250</th>\n",
       "      <td>África</td>\n",
       "      <td>2021</td>\n",
       "      <td>2.198453</td>\n",
       "      <td>1.300509</td>\n",
       "      <td>3.282776</td>\n",
       "    </tr>\n",
       "    <tr>\n",
       "      <th>251</th>\n",
       "      <td>África</td>\n",
       "      <td>2022</td>\n",
       "      <td>2.141777</td>\n",
       "      <td>1.229479</td>\n",
       "      <td>3.249095</td>\n",
       "    </tr>\n",
       "  </tbody>\n",
       "</table>\n",
       "<p>252 rows × 5 columns</p>\n",
       "</div>"
      ],
      "text/plain": [
       "serie Name       Continente   Año  Crecimiento de la población (% anual)   \n",
       "0           América Central  1987                               1.774252  \\\n",
       "1           América Central  1988                               1.771918   \n",
       "2           América Central  1989                               1.760944   \n",
       "3           América Central  1990                               1.741025   \n",
       "4           América Central  1991                               1.676968   \n",
       "..                      ...   ...                                    ...   \n",
       "247                  África  2018                               2.334849   \n",
       "248                  África  2019                               2.293789   \n",
       "249                  África  2020                               2.254517   \n",
       "250                  África  2021                               2.198453   \n",
       "251                  África  2022                               2.141777   \n",
       "\n",
       "serie Name  Crecimiento de la población rural (% anual)   \n",
       "0                                              0.051093  \\\n",
       "1                                              0.023902   \n",
       "2                                             -0.004274   \n",
       "3                                             -0.050408   \n",
       "4                                              0.165340   \n",
       "..                                                  ...   \n",
       "247                                            1.479504   \n",
       "248                                            1.424690   \n",
       "249                                            1.370211   \n",
       "250                                            1.300509   \n",
       "251                                            1.229479   \n",
       "\n",
       "serie Name  Crecimiento de la población urbana (% anual)  \n",
       "0                                               3.089948  \n",
       "1                                               3.065976  \n",
       "2                                               3.028966  \n",
       "3                                               2.988882  \n",
       "4                                               2.794839  \n",
       "..                                                   ...  \n",
       "247                                             3.350087  \n",
       "248                                             3.331848  \n",
       "249                                             3.316988  \n",
       "250                                             3.282776  \n",
       "251                                             3.249095  \n",
       "\n",
       "[252 rows x 5 columns]"
      ]
     },
     "execution_count": 25,
     "metadata": {},
     "output_type": "execute_result"
    }
   ],
   "source": [
    "df_contientes.reset_index(inplace=True)\n",
    "df_contientes"
   ]
  },
  {
   "cell_type": "code",
   "execution_count": 26,
   "metadata": {},
   "outputs": [],
   "source": [
    "def graficar_indicador(indicador):\n",
    "    fig = px.line(data_frame=df_contientes, x=\"Año\", y=indicador, color=\"Continente\")\n",
    "    fig.show()"
   ]
  },
  {
   "cell_type": "code",
   "execution_count": 27,
   "metadata": {},
   "outputs": [
    {
     "data": {
      "application/vnd.plotly.v1+json": {
       "config": {
        "plotlyServerURL": "https://plot.ly"
       },
       "data": [
        {
         "hovertemplate": "Continente=América Central<br>Año=%{x}<br>Crecimiento de la población (% anual)=%{y}<extra></extra>",
         "legendgroup": "América Central",
         "line": {
          "color": "#636efa",
          "dash": "solid"
         },
         "marker": {
          "symbol": "circle"
         },
         "mode": "lines",
         "name": "América Central",
         "orientation": "v",
         "showlegend": true,
         "type": "scatter",
         "x": [
          "1987",
          "1988",
          "1989",
          "1990",
          "1991",
          "1992",
          "1993",
          "1994",
          "1995",
          "1996",
          "1997",
          "1998",
          "1999",
          "2000",
          "2001",
          "2002",
          "2003",
          "2004",
          "2005",
          "2006",
          "2007",
          "2008",
          "2009",
          "2010",
          "2011",
          "2012",
          "2013",
          "2014",
          "2015",
          "2016",
          "2017",
          "2018",
          "2019",
          "2020",
          "2021",
          "2022"
         ],
         "xaxis": "x",
         "y": [
          1.7742515398460625,
          1.7719176262757785,
          1.760943548162367,
          1.7410251949555735,
          1.6769676420036994,
          1.5831317557802365,
          1.5047252431027445,
          1.428190878558667,
          1.3663864417292335,
          1.3193782249592039,
          1.2846751864009804,
          1.2462935673433007,
          1.200428266134755,
          1.147766410221745,
          1.071513333217926,
          0.9874902287429446,
          0.9243505826003706,
          0.8767206281994605,
          0.8289148900406725,
          0.7809172463951775,
          0.7424550004375611,
          0.7220908892404662,
          0.7043461806739901,
          0.6757323271903077,
          0.6567256354949002,
          0.6485877498562984,
          0.6309378655750285,
          0.5935892607800289,
          0.5578754251689525,
          0.5170732030690891,
          0.4646327096099833,
          0.43130003190391186,
          0.3815726472279975,
          0.3071479330118,
          0.10369715974698301,
          0.06338065430177248
         ],
         "yaxis": "y"
        },
        {
         "hovertemplate": "Continente=América del Norte<br>Año=%{x}<br>Crecimiento de la población (% anual)=%{y}<extra></extra>",
         "legendgroup": "América del Norte",
         "line": {
          "color": "#EF553B",
          "dash": "solid"
         },
         "marker": {
          "symbol": "circle"
         },
         "mode": "lines",
         "name": "América del Norte",
         "orientation": "v",
         "showlegend": true,
         "type": "scatter",
         "x": [
          "1987",
          "1988",
          "1989",
          "1990",
          "1991",
          "1992",
          "1993",
          "1994",
          "1995",
          "1996",
          "1997",
          "1998",
          "1999",
          "2000",
          "2001",
          "2002",
          "2003",
          "2004",
          "2005",
          "2006",
          "2007",
          "2008",
          "2009",
          "2010",
          "2011",
          "2012",
          "2013",
          "2014",
          "2015",
          "2016",
          "2017",
          "2018",
          "2019",
          "2020",
          "2021",
          "2022"
         ],
         "xaxis": "x",
         "y": [
          1.313562664751962,
          1.3052728540550598,
          1.4750069619760564,
          1.49109608114476,
          1.5184652525109332,
          1.5069565626324233,
          1.4488124127788866,
          1.4086631704502166,
          1.3607881182123867,
          1.33000637284999,
          1.3086439280520994,
          1.2271390874304646,
          1.2005770181162354,
          1.209533779236513,
          1.2060111593320164,
          1.178566878692428,
          1.0827516610223036,
          1.1093859070391883,
          1.098563921889767,
          1.1117089979109116,
          1.079475734435021,
          1.0987693816993174,
          1.0850510300767173,
          1.089353235712245,
          1.044374752260162,
          1.0720108887201256,
          1.0222041095304903,
          0.9933886047216346,
          0.883188545516691,
          0.9967530033459396,
          0.9708618144568834,
          0.9635199695573101,
          0.917261066289027,
          0.921795847569197,
          0.43052993443532334,
          0.943180918685155
         ],
         "yaxis": "y"
        },
        {
         "hovertemplate": "Continente=América del Sur<br>Año=%{x}<br>Crecimiento de la población (% anual)=%{y}<extra></extra>",
         "legendgroup": "América del Sur",
         "line": {
          "color": "#00cc96",
          "dash": "solid"
         },
         "marker": {
          "symbol": "circle"
         },
         "mode": "lines",
         "name": "América del Sur",
         "orientation": "v",
         "showlegend": true,
         "type": "scatter",
         "x": [
          "1987",
          "1988",
          "1989",
          "1990",
          "1991",
          "1992",
          "1993",
          "1994",
          "1995",
          "1996",
          "1997",
          "1998",
          "1999",
          "2000",
          "2001",
          "2002",
          "2003",
          "2004",
          "2005",
          "2006",
          "2007",
          "2008",
          "2009",
          "2010",
          "2011",
          "2012",
          "2013",
          "2014",
          "2015",
          "2016",
          "2017",
          "2018",
          "2019",
          "2020",
          "2021",
          "2022"
         ],
         "xaxis": "x",
         "y": [
          2.14221323008204,
          2.108721942378078,
          2.069532022984358,
          2.024930994066024,
          1.961843741743456,
          1.891463508865908,
          1.8362946340417623,
          1.797138616497262,
          1.75487573415325,
          1.7053463123757318,
          1.6625969050421638,
          1.623303874998944,
          1.58469558079713,
          1.5474477109067881,
          1.5100869465839861,
          1.480742235517694,
          1.442602206403052,
          1.406674662349302,
          1.382295908743334,
          1.348735843709876,
          1.309038958729584,
          1.2651395273559403,
          1.2364563959939752,
          1.0679090863095875,
          1.2271384576770994,
          1.1915087789647305,
          1.1499066885938656,
          1.1143103223656197,
          1.0908016491676582,
          1.0243251207081852,
          0.8628472770616924,
          0.6305058671611302,
          0.5189879511605182,
          0.566450346762652,
          0.555357399122285,
          0.7145894804015891
         ],
         "yaxis": "y"
        },
        {
         "hovertemplate": "Continente=Asia<br>Año=%{x}<br>Crecimiento de la población (% anual)=%{y}<extra></extra>",
         "legendgroup": "Asia",
         "line": {
          "color": "#ab63fa",
          "dash": "solid"
         },
         "marker": {
          "symbol": "circle"
         },
         "mode": "lines",
         "name": "Asia",
         "orientation": "v",
         "showlegend": true,
         "type": "scatter",
         "x": [
          "1987",
          "1988",
          "1989",
          "1990",
          "1991",
          "1992",
          "1993",
          "1994",
          "1995",
          "1996",
          "1997",
          "1998",
          "1999",
          "2000",
          "2001",
          "2002",
          "2003",
          "2004",
          "2005",
          "2006",
          "2007",
          "2008",
          "2009",
          "2010",
          "2011",
          "2012",
          "2013",
          "2014",
          "2015",
          "2016",
          "2017",
          "2018",
          "2019",
          "2020",
          "2021",
          "2022"
         ],
         "xaxis": "x",
         "y": [
          2.4669717754200904,
          2.670517296135408,
          2.8987258454381757,
          2.7087160126791563,
          2.568554061144103,
          3.8622198917133495,
          4.1251989228213715,
          3.351996879645989,
          2.727613377591655,
          2.684835305727494,
          2.6532723593350678,
          2.579008583428696,
          2.224300873990875,
          1.9557009836077865,
          1.9329979341234964,
          2.311373697654665,
          2.1021262441096082,
          1.9214200916203485,
          2.3305952827451772,
          3.274848446828651,
          3.6216272175040753,
          3.649240402276833,
          3.074062448377158,
          1.960624851534676,
          1.4348303159528817,
          1.4786402131848568,
          1.2934775127758242,
          1.2626626720322676,
          1.1883863836260018,
          1.1892035525391722,
          1.134713805062613,
          1.1465363491183882,
          1.1805410045276956,
          0.8829551435073786,
          0.36548467890897335,
          1.2117916103167197
         ],
         "yaxis": "y"
        },
        {
         "hovertemplate": "Continente=Europa<br>Año=%{x}<br>Crecimiento de la población (% anual)=%{y}<extra></extra>",
         "legendgroup": "Europa",
         "line": {
          "color": "#FFA15A",
          "dash": "solid"
         },
         "marker": {
          "symbol": "circle"
         },
         "mode": "lines",
         "name": "Europa",
         "orientation": "v",
         "showlegend": true,
         "type": "scatter",
         "x": [
          "1987",
          "1988",
          "1989",
          "1990",
          "1991",
          "1992",
          "1993",
          "1994",
          "1995",
          "1996",
          "1997",
          "1998",
          "1999",
          "2000",
          "2001",
          "2002",
          "2003",
          "2004",
          "2005",
          "2006",
          "2007",
          "2008",
          "2009",
          "2010",
          "2011",
          "2012",
          "2013",
          "2014",
          "2015",
          "2016",
          "2017",
          "2018",
          "2019",
          "2020",
          "2021",
          "2022"
         ],
         "xaxis": "x",
         "y": [
          0.31642098501682864,
          0.3587821171373641,
          0.4405046785675002,
          0.5748005171391875,
          0.6811202418401958,
          0.6713310229500543,
          0.5848526749091738,
          0.4701358067343911,
          0.4204033893113497,
          0.38401855391310724,
          0.3440390323253366,
          0.3522159614228624,
          0.3771572997573069,
          0.4056987928655076,
          0.4629614500833604,
          0.535852752293592,
          0.5365970333768072,
          0.5315141314919977,
          0.5466766393776883,
          0.5413720489692291,
          0.6089775946231449,
          0.6730059976550414,
          0.5951944942297092,
          0.5162212264679141,
          0.3223053572600259,
          0.446058849885765,
          0.4010705432770062,
          0.4598100935334152,
          0.5655062143631355,
          0.5888000366568513,
          0.4994578707864343,
          0.4237768709456544,
          0.43584700938759136,
          0.34467948633319695,
          0.24153812608239153,
          0.5349772278788413
         ],
         "yaxis": "y"
        },
        {
         "hovertemplate": "Continente=Oceanía<br>Año=%{x}<br>Crecimiento de la población (% anual)=%{y}<extra></extra>",
         "legendgroup": "Oceanía",
         "line": {
          "color": "#19d3f3",
          "dash": "solid"
         },
         "marker": {
          "symbol": "circle"
         },
         "mode": "lines",
         "name": "Oceanía",
         "orientation": "v",
         "showlegend": true,
         "type": "scatter",
         "x": [
          "1987",
          "1988",
          "1989",
          "1990",
          "1991",
          "1992",
          "1993",
          "1994",
          "1995",
          "1996",
          "1997",
          "1998",
          "1999",
          "2000",
          "2001",
          "2002",
          "2003",
          "2004",
          "2005",
          "2006",
          "2007",
          "2008",
          "2009",
          "2010",
          "2011",
          "2012",
          "2013",
          "2014",
          "2015",
          "2016",
          "2017",
          "2018",
          "2019",
          "2020",
          "2021",
          "2022"
         ],
         "xaxis": "x",
         "y": [
          1.0616902298316497,
          0.8949436969870183,
          0.8790465490154525,
          0.894175677532145,
          0.7813261886833562,
          0.7670046768229023,
          0.8107192912401158,
          0.8771641432341715,
          0.9479990365491323,
          1.0917296743659215,
          1.107053126409515,
          1.0172231854443006,
          0.9460019536024564,
          0.9527363306835532,
          0.937448869410303,
          1.1198652030539904,
          1.1355208268730173,
          0.9662714305716897,
          0.8961646211429868,
          0.9737936975854168,
          1.0472635693069738,
          1.0545361960003812,
          1.0749060786108575,
          0.9645034959223826,
          0.8405364694401609,
          0.872550478132638,
          0.915962049461161,
          1.0720360930542194,
          1.137324802481366,
          1.2250226992056557,
          1.2056001884316385,
          1.0710590397660011,
          1.016026409531891,
          1.2675759990437523,
          0.6914762086643296,
          0.8926140248718928
         ],
         "yaxis": "y"
        },
        {
         "hovertemplate": "Continente=África<br>Año=%{x}<br>Crecimiento de la población (% anual)=%{y}<extra></extra>",
         "legendgroup": "África",
         "line": {
          "color": "#FF6692",
          "dash": "solid"
         },
         "marker": {
          "symbol": "circle"
         },
         "mode": "lines",
         "name": "África",
         "orientation": "v",
         "showlegend": true,
         "type": "scatter",
         "x": [
          "1987",
          "1988",
          "1989",
          "1990",
          "1991",
          "1992",
          "1993",
          "1994",
          "1995",
          "1996",
          "1997",
          "1998",
          "1999",
          "2000",
          "2001",
          "2002",
          "2003",
          "2004",
          "2005",
          "2006",
          "2007",
          "2008",
          "2009",
          "2010",
          "2011",
          "2012",
          "2013",
          "2014",
          "2015",
          "2016",
          "2017",
          "2018",
          "2019",
          "2020",
          "2021",
          "2022"
         ],
         "xaxis": "x",
         "y": [
          3.064470973772761,
          2.95331242953283,
          2.8285601193637477,
          2.835443455270651,
          2.505736260919779,
          2.150082398764002,
          2.171868291876192,
          0.06545474052070231,
          0.16506670754430855,
          3.8878985372709716,
          3.454795817396152,
          2.289773787307198,
          2.0285096746797775,
          2.2315351097725404,
          2.6228411405406793,
          2.6684204606763555,
          2.5971381948642214,
          2.6258613126609407,
          2.5155845278981133,
          2.4257534509176817,
          2.4280973612719667,
          2.48518229874915,
          2.5283628657795467,
          2.516583715132808,
          2.514354568916281,
          2.5079729883608124,
          2.489877243289997,
          2.484359719531563,
          2.4785879946956832,
          2.3559787080114454,
          2.2920828710365515,
          2.3348492657894413,
          2.293788666119341,
          2.2545172394860766,
          2.1984528154045693,
          2.141776962727044
         ],
         "yaxis": "y"
        }
       ],
       "layout": {
        "legend": {
         "title": {
          "text": "Continente"
         },
         "tracegroupgap": 0
        },
        "margin": {
         "t": 60
        },
        "template": {
         "data": {
          "bar": [
           {
            "error_x": {
             "color": "#2a3f5f"
            },
            "error_y": {
             "color": "#2a3f5f"
            },
            "marker": {
             "line": {
              "color": "#E5ECF6",
              "width": 0.5
             },
             "pattern": {
              "fillmode": "overlay",
              "size": 10,
              "solidity": 0.2
             }
            },
            "type": "bar"
           }
          ],
          "barpolar": [
           {
            "marker": {
             "line": {
              "color": "#E5ECF6",
              "width": 0.5
             },
             "pattern": {
              "fillmode": "overlay",
              "size": 10,
              "solidity": 0.2
             }
            },
            "type": "barpolar"
           }
          ],
          "carpet": [
           {
            "aaxis": {
             "endlinecolor": "#2a3f5f",
             "gridcolor": "white",
             "linecolor": "white",
             "minorgridcolor": "white",
             "startlinecolor": "#2a3f5f"
            },
            "baxis": {
             "endlinecolor": "#2a3f5f",
             "gridcolor": "white",
             "linecolor": "white",
             "minorgridcolor": "white",
             "startlinecolor": "#2a3f5f"
            },
            "type": "carpet"
           }
          ],
          "choropleth": [
           {
            "colorbar": {
             "outlinewidth": 0,
             "ticks": ""
            },
            "type": "choropleth"
           }
          ],
          "contour": [
           {
            "colorbar": {
             "outlinewidth": 0,
             "ticks": ""
            },
            "colorscale": [
             [
              0,
              "#0d0887"
             ],
             [
              0.1111111111111111,
              "#46039f"
             ],
             [
              0.2222222222222222,
              "#7201a8"
             ],
             [
              0.3333333333333333,
              "#9c179e"
             ],
             [
              0.4444444444444444,
              "#bd3786"
             ],
             [
              0.5555555555555556,
              "#d8576b"
             ],
             [
              0.6666666666666666,
              "#ed7953"
             ],
             [
              0.7777777777777778,
              "#fb9f3a"
             ],
             [
              0.8888888888888888,
              "#fdca26"
             ],
             [
              1,
              "#f0f921"
             ]
            ],
            "type": "contour"
           }
          ],
          "contourcarpet": [
           {
            "colorbar": {
             "outlinewidth": 0,
             "ticks": ""
            },
            "type": "contourcarpet"
           }
          ],
          "heatmap": [
           {
            "colorbar": {
             "outlinewidth": 0,
             "ticks": ""
            },
            "colorscale": [
             [
              0,
              "#0d0887"
             ],
             [
              0.1111111111111111,
              "#46039f"
             ],
             [
              0.2222222222222222,
              "#7201a8"
             ],
             [
              0.3333333333333333,
              "#9c179e"
             ],
             [
              0.4444444444444444,
              "#bd3786"
             ],
             [
              0.5555555555555556,
              "#d8576b"
             ],
             [
              0.6666666666666666,
              "#ed7953"
             ],
             [
              0.7777777777777778,
              "#fb9f3a"
             ],
             [
              0.8888888888888888,
              "#fdca26"
             ],
             [
              1,
              "#f0f921"
             ]
            ],
            "type": "heatmap"
           }
          ],
          "heatmapgl": [
           {
            "colorbar": {
             "outlinewidth": 0,
             "ticks": ""
            },
            "colorscale": [
             [
              0,
              "#0d0887"
             ],
             [
              0.1111111111111111,
              "#46039f"
             ],
             [
              0.2222222222222222,
              "#7201a8"
             ],
             [
              0.3333333333333333,
              "#9c179e"
             ],
             [
              0.4444444444444444,
              "#bd3786"
             ],
             [
              0.5555555555555556,
              "#d8576b"
             ],
             [
              0.6666666666666666,
              "#ed7953"
             ],
             [
              0.7777777777777778,
              "#fb9f3a"
             ],
             [
              0.8888888888888888,
              "#fdca26"
             ],
             [
              1,
              "#f0f921"
             ]
            ],
            "type": "heatmapgl"
           }
          ],
          "histogram": [
           {
            "marker": {
             "pattern": {
              "fillmode": "overlay",
              "size": 10,
              "solidity": 0.2
             }
            },
            "type": "histogram"
           }
          ],
          "histogram2d": [
           {
            "colorbar": {
             "outlinewidth": 0,
             "ticks": ""
            },
            "colorscale": [
             [
              0,
              "#0d0887"
             ],
             [
              0.1111111111111111,
              "#46039f"
             ],
             [
              0.2222222222222222,
              "#7201a8"
             ],
             [
              0.3333333333333333,
              "#9c179e"
             ],
             [
              0.4444444444444444,
              "#bd3786"
             ],
             [
              0.5555555555555556,
              "#d8576b"
             ],
             [
              0.6666666666666666,
              "#ed7953"
             ],
             [
              0.7777777777777778,
              "#fb9f3a"
             ],
             [
              0.8888888888888888,
              "#fdca26"
             ],
             [
              1,
              "#f0f921"
             ]
            ],
            "type": "histogram2d"
           }
          ],
          "histogram2dcontour": [
           {
            "colorbar": {
             "outlinewidth": 0,
             "ticks": ""
            },
            "colorscale": [
             [
              0,
              "#0d0887"
             ],
             [
              0.1111111111111111,
              "#46039f"
             ],
             [
              0.2222222222222222,
              "#7201a8"
             ],
             [
              0.3333333333333333,
              "#9c179e"
             ],
             [
              0.4444444444444444,
              "#bd3786"
             ],
             [
              0.5555555555555556,
              "#d8576b"
             ],
             [
              0.6666666666666666,
              "#ed7953"
             ],
             [
              0.7777777777777778,
              "#fb9f3a"
             ],
             [
              0.8888888888888888,
              "#fdca26"
             ],
             [
              1,
              "#f0f921"
             ]
            ],
            "type": "histogram2dcontour"
           }
          ],
          "mesh3d": [
           {
            "colorbar": {
             "outlinewidth": 0,
             "ticks": ""
            },
            "type": "mesh3d"
           }
          ],
          "parcoords": [
           {
            "line": {
             "colorbar": {
              "outlinewidth": 0,
              "ticks": ""
             }
            },
            "type": "parcoords"
           }
          ],
          "pie": [
           {
            "automargin": true,
            "type": "pie"
           }
          ],
          "scatter": [
           {
            "fillpattern": {
             "fillmode": "overlay",
             "size": 10,
             "solidity": 0.2
            },
            "type": "scatter"
           }
          ],
          "scatter3d": [
           {
            "line": {
             "colorbar": {
              "outlinewidth": 0,
              "ticks": ""
             }
            },
            "marker": {
             "colorbar": {
              "outlinewidth": 0,
              "ticks": ""
             }
            },
            "type": "scatter3d"
           }
          ],
          "scattercarpet": [
           {
            "marker": {
             "colorbar": {
              "outlinewidth": 0,
              "ticks": ""
             }
            },
            "type": "scattercarpet"
           }
          ],
          "scattergeo": [
           {
            "marker": {
             "colorbar": {
              "outlinewidth": 0,
              "ticks": ""
             }
            },
            "type": "scattergeo"
           }
          ],
          "scattergl": [
           {
            "marker": {
             "colorbar": {
              "outlinewidth": 0,
              "ticks": ""
             }
            },
            "type": "scattergl"
           }
          ],
          "scattermapbox": [
           {
            "marker": {
             "colorbar": {
              "outlinewidth": 0,
              "ticks": ""
             }
            },
            "type": "scattermapbox"
           }
          ],
          "scatterpolar": [
           {
            "marker": {
             "colorbar": {
              "outlinewidth": 0,
              "ticks": ""
             }
            },
            "type": "scatterpolar"
           }
          ],
          "scatterpolargl": [
           {
            "marker": {
             "colorbar": {
              "outlinewidth": 0,
              "ticks": ""
             }
            },
            "type": "scatterpolargl"
           }
          ],
          "scatterternary": [
           {
            "marker": {
             "colorbar": {
              "outlinewidth": 0,
              "ticks": ""
             }
            },
            "type": "scatterternary"
           }
          ],
          "surface": [
           {
            "colorbar": {
             "outlinewidth": 0,
             "ticks": ""
            },
            "colorscale": [
             [
              0,
              "#0d0887"
             ],
             [
              0.1111111111111111,
              "#46039f"
             ],
             [
              0.2222222222222222,
              "#7201a8"
             ],
             [
              0.3333333333333333,
              "#9c179e"
             ],
             [
              0.4444444444444444,
              "#bd3786"
             ],
             [
              0.5555555555555556,
              "#d8576b"
             ],
             [
              0.6666666666666666,
              "#ed7953"
             ],
             [
              0.7777777777777778,
              "#fb9f3a"
             ],
             [
              0.8888888888888888,
              "#fdca26"
             ],
             [
              1,
              "#f0f921"
             ]
            ],
            "type": "surface"
           }
          ],
          "table": [
           {
            "cells": {
             "fill": {
              "color": "#EBF0F8"
             },
             "line": {
              "color": "white"
             }
            },
            "header": {
             "fill": {
              "color": "#C8D4E3"
             },
             "line": {
              "color": "white"
             }
            },
            "type": "table"
           }
          ]
         },
         "layout": {
          "annotationdefaults": {
           "arrowcolor": "#2a3f5f",
           "arrowhead": 0,
           "arrowwidth": 1
          },
          "autotypenumbers": "strict",
          "coloraxis": {
           "colorbar": {
            "outlinewidth": 0,
            "ticks": ""
           }
          },
          "colorscale": {
           "diverging": [
            [
             0,
             "#8e0152"
            ],
            [
             0.1,
             "#c51b7d"
            ],
            [
             0.2,
             "#de77ae"
            ],
            [
             0.3,
             "#f1b6da"
            ],
            [
             0.4,
             "#fde0ef"
            ],
            [
             0.5,
             "#f7f7f7"
            ],
            [
             0.6,
             "#e6f5d0"
            ],
            [
             0.7,
             "#b8e186"
            ],
            [
             0.8,
             "#7fbc41"
            ],
            [
             0.9,
             "#4d9221"
            ],
            [
             1,
             "#276419"
            ]
           ],
           "sequential": [
            [
             0,
             "#0d0887"
            ],
            [
             0.1111111111111111,
             "#46039f"
            ],
            [
             0.2222222222222222,
             "#7201a8"
            ],
            [
             0.3333333333333333,
             "#9c179e"
            ],
            [
             0.4444444444444444,
             "#bd3786"
            ],
            [
             0.5555555555555556,
             "#d8576b"
            ],
            [
             0.6666666666666666,
             "#ed7953"
            ],
            [
             0.7777777777777778,
             "#fb9f3a"
            ],
            [
             0.8888888888888888,
             "#fdca26"
            ],
            [
             1,
             "#f0f921"
            ]
           ],
           "sequentialminus": [
            [
             0,
             "#0d0887"
            ],
            [
             0.1111111111111111,
             "#46039f"
            ],
            [
             0.2222222222222222,
             "#7201a8"
            ],
            [
             0.3333333333333333,
             "#9c179e"
            ],
            [
             0.4444444444444444,
             "#bd3786"
            ],
            [
             0.5555555555555556,
             "#d8576b"
            ],
            [
             0.6666666666666666,
             "#ed7953"
            ],
            [
             0.7777777777777778,
             "#fb9f3a"
            ],
            [
             0.8888888888888888,
             "#fdca26"
            ],
            [
             1,
             "#f0f921"
            ]
           ]
          },
          "colorway": [
           "#636efa",
           "#EF553B",
           "#00cc96",
           "#ab63fa",
           "#FFA15A",
           "#19d3f3",
           "#FF6692",
           "#B6E880",
           "#FF97FF",
           "#FECB52"
          ],
          "font": {
           "color": "#2a3f5f"
          },
          "geo": {
           "bgcolor": "white",
           "lakecolor": "white",
           "landcolor": "#E5ECF6",
           "showlakes": true,
           "showland": true,
           "subunitcolor": "white"
          },
          "hoverlabel": {
           "align": "left"
          },
          "hovermode": "closest",
          "mapbox": {
           "style": "light"
          },
          "paper_bgcolor": "white",
          "plot_bgcolor": "#E5ECF6",
          "polar": {
           "angularaxis": {
            "gridcolor": "white",
            "linecolor": "white",
            "ticks": ""
           },
           "bgcolor": "#E5ECF6",
           "radialaxis": {
            "gridcolor": "white",
            "linecolor": "white",
            "ticks": ""
           }
          },
          "scene": {
           "xaxis": {
            "backgroundcolor": "#E5ECF6",
            "gridcolor": "white",
            "gridwidth": 2,
            "linecolor": "white",
            "showbackground": true,
            "ticks": "",
            "zerolinecolor": "white"
           },
           "yaxis": {
            "backgroundcolor": "#E5ECF6",
            "gridcolor": "white",
            "gridwidth": 2,
            "linecolor": "white",
            "showbackground": true,
            "ticks": "",
            "zerolinecolor": "white"
           },
           "zaxis": {
            "backgroundcolor": "#E5ECF6",
            "gridcolor": "white",
            "gridwidth": 2,
            "linecolor": "white",
            "showbackground": true,
            "ticks": "",
            "zerolinecolor": "white"
           }
          },
          "shapedefaults": {
           "line": {
            "color": "#2a3f5f"
           }
          },
          "ternary": {
           "aaxis": {
            "gridcolor": "white",
            "linecolor": "white",
            "ticks": ""
           },
           "baxis": {
            "gridcolor": "white",
            "linecolor": "white",
            "ticks": ""
           },
           "bgcolor": "#E5ECF6",
           "caxis": {
            "gridcolor": "white",
            "linecolor": "white",
            "ticks": ""
           }
          },
          "title": {
           "x": 0.05
          },
          "xaxis": {
           "automargin": true,
           "gridcolor": "white",
           "linecolor": "white",
           "ticks": "",
           "title": {
            "standoff": 15
           },
           "zerolinecolor": "white",
           "zerolinewidth": 2
          },
          "yaxis": {
           "automargin": true,
           "gridcolor": "white",
           "linecolor": "white",
           "ticks": "",
           "title": {
            "standoff": 15
           },
           "zerolinecolor": "white",
           "zerolinewidth": 2
          }
         }
        },
        "xaxis": {
         "anchor": "y",
         "domain": [
          0,
          1
         ],
         "title": {
          "text": "Año"
         }
        },
        "yaxis": {
         "anchor": "x",
         "domain": [
          0,
          1
         ],
         "title": {
          "text": "Crecimiento de la población (% anual)"
         }
        }
       }
      }
     },
     "metadata": {},
     "output_type": "display_data"
    },
    {
     "data": {
      "application/vnd.plotly.v1+json": {
       "config": {
        "plotlyServerURL": "https://plot.ly"
       },
       "data": [
        {
         "hovertemplate": "Continente=América Central<br>Año=%{x}<br>Crecimiento de la población rural (% anual)=%{y}<extra></extra>",
         "legendgroup": "América Central",
         "line": {
          "color": "#636efa",
          "dash": "solid"
         },
         "marker": {
          "symbol": "circle"
         },
         "mode": "lines",
         "name": "América Central",
         "orientation": "v",
         "showlegend": true,
         "type": "scatter",
         "x": [
          "1987",
          "1988",
          "1989",
          "1990",
          "1991",
          "1992",
          "1993",
          "1994",
          "1995",
          "1996",
          "1997",
          "1998",
          "1999",
          "2000",
          "2001",
          "2002",
          "2003",
          "2004",
          "2005",
          "2006",
          "2007",
          "2008",
          "2009",
          "2010",
          "2011",
          "2012",
          "2013",
          "2014",
          "2015",
          "2016",
          "2017",
          "2018",
          "2019",
          "2020",
          "2021",
          "2022"
         ],
         "xaxis": "x",
         "y": [
          0.051092807755063085,
          0.0239017718213963,
          -0.004274068985576807,
          -0.050408071630768214,
          0.1653403324635941,
          0.354594408505231,
          0.2626403851540757,
          0.1669228994152837,
          0.08638745450590357,
          0.021913591191606574,
          -0.11296556778224942,
          -0.2614046791808288,
          -0.32289867282470575,
          -0.4051892425702646,
          -1.08708455651094,
          -1.2107578932691685,
          -1.1768651452620924,
          -1.1226218139375257,
          -1.2015833635755415,
          -1.2885982558784728,
          -1.3631595752693828,
          -1.422480508007383,
          -1.465177000923964,
          -1.5332322576981534,
          -1.583940546637391,
          -1.5762729754540785,
          -1.4730281270959709,
          -1.458144679863496,
          -1.469440746187763,
          -1.4795708926525424,
          -1.5251948580744084,
          -1.5521167254348505,
          -1.5892022465387623,
          -1.6541207790235621,
          -1.8417469390963823,
          -1.8662871913533818
         ],
         "yaxis": "y"
        },
        {
         "hovertemplate": "Continente=América del Norte<br>Año=%{x}<br>Crecimiento de la población rural (% anual)=%{y}<extra></extra>",
         "legendgroup": "América del Norte",
         "line": {
          "color": "#EF553B",
          "dash": "solid"
         },
         "marker": {
          "symbol": "circle"
         },
         "mode": "lines",
         "name": "América del Norte",
         "orientation": "v",
         "showlegend": true,
         "type": "scatter",
         "x": [
          "1987",
          "1988",
          "1989",
          "1990",
          "1991",
          "1992",
          "1993",
          "1994",
          "1995",
          "1996",
          "1997",
          "1998",
          "1999",
          "2000",
          "2001",
          "2002",
          "2003",
          "2004",
          "2005",
          "2006",
          "2007",
          "2008",
          "2009",
          "2010",
          "2011",
          "2012",
          "2013",
          "2014",
          "2015",
          "2016",
          "2017",
          "2018",
          "2019",
          "2020",
          "2021",
          "2022"
         ],
         "xaxis": "x",
         "y": [
          0.5340570626592243,
          0.5208318577984159,
          0.6882658831995566,
          0.6434424583979725,
          0.4524723419573373,
          0.10831441255049297,
          0.04478361794951161,
          -0.0031259023457176536,
          -0.05783881454801224,
          -0.024969704063896165,
          -0.1733310962170125,
          -0.2633680318478638,
          -0.2969511184133397,
          -0.26019795510639404,
          -0.0492497046748939,
          0.3372419295980405,
          0.2369743454197535,
          0.25945381402786866,
          0.2522032608241737,
          0.23738622504438092,
          0.047604220602748666,
          0.06208588817541819,
          0.0482062082647435,
          0.0509557739789639,
          0.017929443380087933,
          0.24135983380295215,
          0.17344276795520294,
          0.12960266586279565,
          0.003598749794713233,
          0.10136058284368728,
          0.042741071728018075,
          0.0024622289053580957,
          -0.08116202885842587,
          -0.10719786226768964,
          -0.6353961363090529,
          -0.15281300510093807
         ],
         "yaxis": "y"
        },
        {
         "hovertemplate": "Continente=América del Sur<br>Año=%{x}<br>Crecimiento de la población rural (% anual)=%{y}<extra></extra>",
         "legendgroup": "América del Sur",
         "line": {
          "color": "#00cc96",
          "dash": "solid"
         },
         "marker": {
          "symbol": "circle"
         },
         "mode": "lines",
         "name": "América del Sur",
         "orientation": "v",
         "showlegend": true,
         "type": "scatter",
         "x": [
          "1987",
          "1988",
          "1989",
          "1990",
          "1991",
          "1992",
          "1993",
          "1994",
          "1995",
          "1996",
          "1997",
          "1998",
          "1999",
          "2000",
          "2001",
          "2002",
          "2003",
          "2004",
          "2005",
          "2006",
          "2007",
          "2008",
          "2009",
          "2010",
          "2011",
          "2012",
          "2013",
          "2014",
          "2015",
          "2016",
          "2017",
          "2018",
          "2019",
          "2020",
          "2021",
          "2022"
         ],
         "xaxis": "x",
         "y": [
          -0.16747581340895495,
          -0.22435854355418158,
          -0.27739043933323076,
          -0.3431561617129397,
          -0.2478735903123007,
          -0.06049643957518079,
          -0.12104709047168165,
          -0.17561474651598474,
          -0.2289649776004405,
          -0.29470701559041707,
          -0.4090208907802239,
          -0.46985371415869376,
          -0.5253333614571487,
          -0.5751410866754475,
          -0.2785575052017024,
          0.2456349313995036,
          0.2681704364724483,
          0.22739865801547537,
          0.20079610106549048,
          0.1619918552792444,
          0.1189889781961377,
          0.0717071142615187,
          0.0410341680267194,
          -0.129698996796285,
          0.06696894110455558,
          0.07504778726088376,
          0.04451305267970964,
          -0.0002246301759128766,
          -0.024138904536143802,
          -0.0916247015083953,
          -0.2649196764294543,
          -0.5165740993567228,
          -0.6521554727653577,
          -0.6263785941981086,
          -0.657021198591992,
          -0.5213876292840838
         ],
         "yaxis": "y"
        },
        {
         "hovertemplate": "Continente=Asia<br>Año=%{x}<br>Crecimiento de la población rural (% anual)=%{y}<extra></extra>",
         "legendgroup": "Asia",
         "line": {
          "color": "#ab63fa",
          "dash": "solid"
         },
         "marker": {
          "symbol": "circle"
         },
         "mode": "lines",
         "name": "Asia",
         "orientation": "v",
         "showlegend": true,
         "type": "scatter",
         "x": [
          "1987",
          "1988",
          "1989",
          "1990",
          "1991",
          "1992",
          "1993",
          "1994",
          "1995",
          "1996",
          "1997",
          "1998",
          "1999",
          "2000",
          "2001",
          "2002",
          "2003",
          "2004",
          "2005",
          "2006",
          "2007",
          "2008",
          "2009",
          "2010",
          "2011",
          "2012",
          "2013",
          "2014",
          "2015",
          "2016",
          "2017",
          "2018",
          "2019",
          "2020",
          "2021",
          "2022"
         ],
         "xaxis": "x",
         "y": [
          1.9275356549266967,
          2.013546703359275,
          2.306279365009649,
          1.9626047412769148,
          1.9025647404647126,
          3.320290261542846,
          3.8256792767380015,
          2.9210663918046453,
          2.221240775572769,
          1.8503306012069198,
          1.7345454545282113,
          1.6460015189477222,
          1.5897813439569632,
          1.1575491238404936,
          0.2209246794493252,
          0.5937846485571507,
          0.6215364497836111,
          0.033630011138187005,
          0.3182196984158943,
          1.3563094723345894,
          1.632494793436845,
          1.4901062203132496,
          1.0841105023934696,
          -0.03690597678834221,
          0.05215591017391593,
          0.29346706438087244,
          0.1765983424557122,
          0.16608564204035123,
          0.08451977743534755,
          0.0566662192177623,
          0.12773506636101228,
          0.07784021530745677,
          0.02080798716659843,
          -0.14488387558046711,
          -0.2546048017371296,
          -0.2516866407270628
         ],
         "yaxis": "y"
        },
        {
         "hovertemplate": "Continente=Europa<br>Año=%{x}<br>Crecimiento de la población rural (% anual)=%{y}<extra></extra>",
         "legendgroup": "Europa",
         "line": {
          "color": "#FFA15A",
          "dash": "solid"
         },
         "marker": {
          "symbol": "circle"
         },
         "mode": "lines",
         "name": "Europa",
         "orientation": "v",
         "showlegend": true,
         "type": "scatter",
         "x": [
          "1987",
          "1988",
          "1989",
          "1990",
          "1991",
          "1992",
          "1993",
          "1994",
          "1995",
          "1996",
          "1997",
          "1998",
          "1999",
          "2000",
          "2001",
          "2002",
          "2003",
          "2004",
          "2005",
          "2006",
          "2007",
          "2008",
          "2009",
          "2010",
          "2011",
          "2012",
          "2013",
          "2014",
          "2015",
          "2016",
          "2017",
          "2018",
          "2019",
          "2020",
          "2021",
          "2022"
         ],
         "xaxis": "x",
         "y": [
          -0.34850375608867806,
          -0.2897128402971976,
          -0.14401006573663797,
          -0.049571087832972,
          0.030406287692468403,
          0.025047309655518758,
          -0.08342935300259743,
          -0.23324679729911954,
          -0.26807835905654415,
          -0.28140784703028043,
          -0.3723073705563732,
          -0.4277049413989794,
          -0.40718038609901946,
          -0.343702010760657,
          -0.4446619995386131,
          -0.7449486044177467,
          -0.7879726397857093,
          -0.8588341399969254,
          -0.8981051422218954,
          -0.8502253525984619,
          -0.7304281448057919,
          -0.6830246655650603,
          -0.7956518451977331,
          -1.0000416094199394,
          -1.339341356814072,
          -1.2752421479420182,
          -1.1188258782606164,
          -0.8237138394016437,
          -0.7264218802998478,
          -0.7189084096988843,
          -0.8200408525206508,
          -0.9123630792813768,
          -0.9194303229906271,
          -1.0248984707204976,
          -1.1445835553751111,
          -0.8678879589539772
         ],
         "yaxis": "y"
        },
        {
         "hovertemplate": "Continente=Oceanía<br>Año=%{x}<br>Crecimiento de la población rural (% anual)=%{y}<extra></extra>",
         "legendgroup": "Oceanía",
         "line": {
          "color": "#19d3f3",
          "dash": "solid"
         },
         "marker": {
          "symbol": "circle"
         },
         "mode": "lines",
         "name": "Oceanía",
         "orientation": "v",
         "showlegend": true,
         "type": "scatter",
         "x": [
          "1987",
          "1988",
          "1989",
          "1990",
          "1991",
          "1992",
          "1993",
          "1994",
          "1995",
          "1996",
          "1997",
          "1998",
          "1999",
          "2000",
          "2001",
          "2002",
          "2003",
          "2004",
          "2005",
          "2006",
          "2007",
          "2008",
          "2009",
          "2010",
          "2011",
          "2012",
          "2013",
          "2014",
          "2015",
          "2016",
          "2017",
          "2018",
          "2019",
          "2020",
          "2021",
          "2022"
         ],
         "xaxis": "x",
         "y": [
          0.4656854337422293,
          0.24745980909884616,
          0.2304874729461346,
          0.23625616952556136,
          1.1232171416263756,
          0.3559037416561066,
          0.40021626559112855,
          0.4593877142108449,
          0.5224288444493852,
          0.6600911258823111,
          0.940295910716574,
          0.8784374377767777,
          0.8029677622543808,
          0.808183093260928,
          0.7907178583736543,
          0.6679531629203532,
          0.7197621975558339,
          0.5474471087244512,
          0.47557573570119427,
          0.551855387070235,
          0.8318728722042056,
          0.786288852047087,
          0.7908163705387004,
          0.6760406104868786,
          0.5487966691088194,
          0.3884990421248073,
          0.4358695520051569,
          0.5860906988131478,
          0.6477449441930334,
          0.7321113318142282,
          0.6857423906351263,
          0.5219355283757219,
          0.4402301628178362,
          0.6604801759709504,
          0.05570382593149831,
          0.22744893497402374
         ],
         "yaxis": "y"
        },
        {
         "hovertemplate": "Continente=África<br>Año=%{x}<br>Crecimiento de la población rural (% anual)=%{y}<extra></extra>",
         "legendgroup": "África",
         "line": {
          "color": "#FF6692",
          "dash": "solid"
         },
         "marker": {
          "symbol": "circle"
         },
         "mode": "lines",
         "name": "África",
         "orientation": "v",
         "showlegend": true,
         "type": "scatter",
         "x": [
          "1987",
          "1988",
          "1989",
          "1990",
          "1991",
          "1992",
          "1993",
          "1994",
          "1995",
          "1996",
          "1997",
          "1998",
          "1999",
          "2000",
          "2001",
          "2002",
          "2003",
          "2004",
          "2005",
          "2006",
          "2007",
          "2008",
          "2009",
          "2010",
          "2011",
          "2012",
          "2013",
          "2014",
          "2015",
          "2016",
          "2017",
          "2018",
          "2019",
          "2020",
          "2021",
          "2022"
         ],
         "xaxis": "x",
         "y": [
          2.4599829995765936,
          2.3581992852923817,
          2.244848081744104,
          2.2223127692134423,
          1.8836638370863459,
          1.4417959350500096,
          1.4344020796447434,
          -0.6803097154697785,
          -0.5356094588610997,
          3.169560677447384,
          2.7603715446542694,
          1.604928829492197,
          1.317164008483404,
          1.5027757094270457,
          1.8815381290241997,
          1.90583929706376,
          1.9284531836004979,
          1.9629542225137848,
          1.7802398629928113,
          1.6571688408725544,
          1.6718431686404978,
          1.7374451552307326,
          1.7769046053891946,
          1.7554111777153067,
          1.7446413120871882,
          1.7285984478869296,
          1.7030246869576215,
          1.6836695516827627,
          1.6650514749784382,
          1.5289438521085514,
          1.4515540689828252,
          1.4795036896648561,
          1.4246901800632352,
          1.3702107350728676,
          1.3005093049397278,
          1.2294786556998598
         ],
         "yaxis": "y"
        }
       ],
       "layout": {
        "legend": {
         "title": {
          "text": "Continente"
         },
         "tracegroupgap": 0
        },
        "margin": {
         "t": 60
        },
        "template": {
         "data": {
          "bar": [
           {
            "error_x": {
             "color": "#2a3f5f"
            },
            "error_y": {
             "color": "#2a3f5f"
            },
            "marker": {
             "line": {
              "color": "#E5ECF6",
              "width": 0.5
             },
             "pattern": {
              "fillmode": "overlay",
              "size": 10,
              "solidity": 0.2
             }
            },
            "type": "bar"
           }
          ],
          "barpolar": [
           {
            "marker": {
             "line": {
              "color": "#E5ECF6",
              "width": 0.5
             },
             "pattern": {
              "fillmode": "overlay",
              "size": 10,
              "solidity": 0.2
             }
            },
            "type": "barpolar"
           }
          ],
          "carpet": [
           {
            "aaxis": {
             "endlinecolor": "#2a3f5f",
             "gridcolor": "white",
             "linecolor": "white",
             "minorgridcolor": "white",
             "startlinecolor": "#2a3f5f"
            },
            "baxis": {
             "endlinecolor": "#2a3f5f",
             "gridcolor": "white",
             "linecolor": "white",
             "minorgridcolor": "white",
             "startlinecolor": "#2a3f5f"
            },
            "type": "carpet"
           }
          ],
          "choropleth": [
           {
            "colorbar": {
             "outlinewidth": 0,
             "ticks": ""
            },
            "type": "choropleth"
           }
          ],
          "contour": [
           {
            "colorbar": {
             "outlinewidth": 0,
             "ticks": ""
            },
            "colorscale": [
             [
              0,
              "#0d0887"
             ],
             [
              0.1111111111111111,
              "#46039f"
             ],
             [
              0.2222222222222222,
              "#7201a8"
             ],
             [
              0.3333333333333333,
              "#9c179e"
             ],
             [
              0.4444444444444444,
              "#bd3786"
             ],
             [
              0.5555555555555556,
              "#d8576b"
             ],
             [
              0.6666666666666666,
              "#ed7953"
             ],
             [
              0.7777777777777778,
              "#fb9f3a"
             ],
             [
              0.8888888888888888,
              "#fdca26"
             ],
             [
              1,
              "#f0f921"
             ]
            ],
            "type": "contour"
           }
          ],
          "contourcarpet": [
           {
            "colorbar": {
             "outlinewidth": 0,
             "ticks": ""
            },
            "type": "contourcarpet"
           }
          ],
          "heatmap": [
           {
            "colorbar": {
             "outlinewidth": 0,
             "ticks": ""
            },
            "colorscale": [
             [
              0,
              "#0d0887"
             ],
             [
              0.1111111111111111,
              "#46039f"
             ],
             [
              0.2222222222222222,
              "#7201a8"
             ],
             [
              0.3333333333333333,
              "#9c179e"
             ],
             [
              0.4444444444444444,
              "#bd3786"
             ],
             [
              0.5555555555555556,
              "#d8576b"
             ],
             [
              0.6666666666666666,
              "#ed7953"
             ],
             [
              0.7777777777777778,
              "#fb9f3a"
             ],
             [
              0.8888888888888888,
              "#fdca26"
             ],
             [
              1,
              "#f0f921"
             ]
            ],
            "type": "heatmap"
           }
          ],
          "heatmapgl": [
           {
            "colorbar": {
             "outlinewidth": 0,
             "ticks": ""
            },
            "colorscale": [
             [
              0,
              "#0d0887"
             ],
             [
              0.1111111111111111,
              "#46039f"
             ],
             [
              0.2222222222222222,
              "#7201a8"
             ],
             [
              0.3333333333333333,
              "#9c179e"
             ],
             [
              0.4444444444444444,
              "#bd3786"
             ],
             [
              0.5555555555555556,
              "#d8576b"
             ],
             [
              0.6666666666666666,
              "#ed7953"
             ],
             [
              0.7777777777777778,
              "#fb9f3a"
             ],
             [
              0.8888888888888888,
              "#fdca26"
             ],
             [
              1,
              "#f0f921"
             ]
            ],
            "type": "heatmapgl"
           }
          ],
          "histogram": [
           {
            "marker": {
             "pattern": {
              "fillmode": "overlay",
              "size": 10,
              "solidity": 0.2
             }
            },
            "type": "histogram"
           }
          ],
          "histogram2d": [
           {
            "colorbar": {
             "outlinewidth": 0,
             "ticks": ""
            },
            "colorscale": [
             [
              0,
              "#0d0887"
             ],
             [
              0.1111111111111111,
              "#46039f"
             ],
             [
              0.2222222222222222,
              "#7201a8"
             ],
             [
              0.3333333333333333,
              "#9c179e"
             ],
             [
              0.4444444444444444,
              "#bd3786"
             ],
             [
              0.5555555555555556,
              "#d8576b"
             ],
             [
              0.6666666666666666,
              "#ed7953"
             ],
             [
              0.7777777777777778,
              "#fb9f3a"
             ],
             [
              0.8888888888888888,
              "#fdca26"
             ],
             [
              1,
              "#f0f921"
             ]
            ],
            "type": "histogram2d"
           }
          ],
          "histogram2dcontour": [
           {
            "colorbar": {
             "outlinewidth": 0,
             "ticks": ""
            },
            "colorscale": [
             [
              0,
              "#0d0887"
             ],
             [
              0.1111111111111111,
              "#46039f"
             ],
             [
              0.2222222222222222,
              "#7201a8"
             ],
             [
              0.3333333333333333,
              "#9c179e"
             ],
             [
              0.4444444444444444,
              "#bd3786"
             ],
             [
              0.5555555555555556,
              "#d8576b"
             ],
             [
              0.6666666666666666,
              "#ed7953"
             ],
             [
              0.7777777777777778,
              "#fb9f3a"
             ],
             [
              0.8888888888888888,
              "#fdca26"
             ],
             [
              1,
              "#f0f921"
             ]
            ],
            "type": "histogram2dcontour"
           }
          ],
          "mesh3d": [
           {
            "colorbar": {
             "outlinewidth": 0,
             "ticks": ""
            },
            "type": "mesh3d"
           }
          ],
          "parcoords": [
           {
            "line": {
             "colorbar": {
              "outlinewidth": 0,
              "ticks": ""
             }
            },
            "type": "parcoords"
           }
          ],
          "pie": [
           {
            "automargin": true,
            "type": "pie"
           }
          ],
          "scatter": [
           {
            "fillpattern": {
             "fillmode": "overlay",
             "size": 10,
             "solidity": 0.2
            },
            "type": "scatter"
           }
          ],
          "scatter3d": [
           {
            "line": {
             "colorbar": {
              "outlinewidth": 0,
              "ticks": ""
             }
            },
            "marker": {
             "colorbar": {
              "outlinewidth": 0,
              "ticks": ""
             }
            },
            "type": "scatter3d"
           }
          ],
          "scattercarpet": [
           {
            "marker": {
             "colorbar": {
              "outlinewidth": 0,
              "ticks": ""
             }
            },
            "type": "scattercarpet"
           }
          ],
          "scattergeo": [
           {
            "marker": {
             "colorbar": {
              "outlinewidth": 0,
              "ticks": ""
             }
            },
            "type": "scattergeo"
           }
          ],
          "scattergl": [
           {
            "marker": {
             "colorbar": {
              "outlinewidth": 0,
              "ticks": ""
             }
            },
            "type": "scattergl"
           }
          ],
          "scattermapbox": [
           {
            "marker": {
             "colorbar": {
              "outlinewidth": 0,
              "ticks": ""
             }
            },
            "type": "scattermapbox"
           }
          ],
          "scatterpolar": [
           {
            "marker": {
             "colorbar": {
              "outlinewidth": 0,
              "ticks": ""
             }
            },
            "type": "scatterpolar"
           }
          ],
          "scatterpolargl": [
           {
            "marker": {
             "colorbar": {
              "outlinewidth": 0,
              "ticks": ""
             }
            },
            "type": "scatterpolargl"
           }
          ],
          "scatterternary": [
           {
            "marker": {
             "colorbar": {
              "outlinewidth": 0,
              "ticks": ""
             }
            },
            "type": "scatterternary"
           }
          ],
          "surface": [
           {
            "colorbar": {
             "outlinewidth": 0,
             "ticks": ""
            },
            "colorscale": [
             [
              0,
              "#0d0887"
             ],
             [
              0.1111111111111111,
              "#46039f"
             ],
             [
              0.2222222222222222,
              "#7201a8"
             ],
             [
              0.3333333333333333,
              "#9c179e"
             ],
             [
              0.4444444444444444,
              "#bd3786"
             ],
             [
              0.5555555555555556,
              "#d8576b"
             ],
             [
              0.6666666666666666,
              "#ed7953"
             ],
             [
              0.7777777777777778,
              "#fb9f3a"
             ],
             [
              0.8888888888888888,
              "#fdca26"
             ],
             [
              1,
              "#f0f921"
             ]
            ],
            "type": "surface"
           }
          ],
          "table": [
           {
            "cells": {
             "fill": {
              "color": "#EBF0F8"
             },
             "line": {
              "color": "white"
             }
            },
            "header": {
             "fill": {
              "color": "#C8D4E3"
             },
             "line": {
              "color": "white"
             }
            },
            "type": "table"
           }
          ]
         },
         "layout": {
          "annotationdefaults": {
           "arrowcolor": "#2a3f5f",
           "arrowhead": 0,
           "arrowwidth": 1
          },
          "autotypenumbers": "strict",
          "coloraxis": {
           "colorbar": {
            "outlinewidth": 0,
            "ticks": ""
           }
          },
          "colorscale": {
           "diverging": [
            [
             0,
             "#8e0152"
            ],
            [
             0.1,
             "#c51b7d"
            ],
            [
             0.2,
             "#de77ae"
            ],
            [
             0.3,
             "#f1b6da"
            ],
            [
             0.4,
             "#fde0ef"
            ],
            [
             0.5,
             "#f7f7f7"
            ],
            [
             0.6,
             "#e6f5d0"
            ],
            [
             0.7,
             "#b8e186"
            ],
            [
             0.8,
             "#7fbc41"
            ],
            [
             0.9,
             "#4d9221"
            ],
            [
             1,
             "#276419"
            ]
           ],
           "sequential": [
            [
             0,
             "#0d0887"
            ],
            [
             0.1111111111111111,
             "#46039f"
            ],
            [
             0.2222222222222222,
             "#7201a8"
            ],
            [
             0.3333333333333333,
             "#9c179e"
            ],
            [
             0.4444444444444444,
             "#bd3786"
            ],
            [
             0.5555555555555556,
             "#d8576b"
            ],
            [
             0.6666666666666666,
             "#ed7953"
            ],
            [
             0.7777777777777778,
             "#fb9f3a"
            ],
            [
             0.8888888888888888,
             "#fdca26"
            ],
            [
             1,
             "#f0f921"
            ]
           ],
           "sequentialminus": [
            [
             0,
             "#0d0887"
            ],
            [
             0.1111111111111111,
             "#46039f"
            ],
            [
             0.2222222222222222,
             "#7201a8"
            ],
            [
             0.3333333333333333,
             "#9c179e"
            ],
            [
             0.4444444444444444,
             "#bd3786"
            ],
            [
             0.5555555555555556,
             "#d8576b"
            ],
            [
             0.6666666666666666,
             "#ed7953"
            ],
            [
             0.7777777777777778,
             "#fb9f3a"
            ],
            [
             0.8888888888888888,
             "#fdca26"
            ],
            [
             1,
             "#f0f921"
            ]
           ]
          },
          "colorway": [
           "#636efa",
           "#EF553B",
           "#00cc96",
           "#ab63fa",
           "#FFA15A",
           "#19d3f3",
           "#FF6692",
           "#B6E880",
           "#FF97FF",
           "#FECB52"
          ],
          "font": {
           "color": "#2a3f5f"
          },
          "geo": {
           "bgcolor": "white",
           "lakecolor": "white",
           "landcolor": "#E5ECF6",
           "showlakes": true,
           "showland": true,
           "subunitcolor": "white"
          },
          "hoverlabel": {
           "align": "left"
          },
          "hovermode": "closest",
          "mapbox": {
           "style": "light"
          },
          "paper_bgcolor": "white",
          "plot_bgcolor": "#E5ECF6",
          "polar": {
           "angularaxis": {
            "gridcolor": "white",
            "linecolor": "white",
            "ticks": ""
           },
           "bgcolor": "#E5ECF6",
           "radialaxis": {
            "gridcolor": "white",
            "linecolor": "white",
            "ticks": ""
           }
          },
          "scene": {
           "xaxis": {
            "backgroundcolor": "#E5ECF6",
            "gridcolor": "white",
            "gridwidth": 2,
            "linecolor": "white",
            "showbackground": true,
            "ticks": "",
            "zerolinecolor": "white"
           },
           "yaxis": {
            "backgroundcolor": "#E5ECF6",
            "gridcolor": "white",
            "gridwidth": 2,
            "linecolor": "white",
            "showbackground": true,
            "ticks": "",
            "zerolinecolor": "white"
           },
           "zaxis": {
            "backgroundcolor": "#E5ECF6",
            "gridcolor": "white",
            "gridwidth": 2,
            "linecolor": "white",
            "showbackground": true,
            "ticks": "",
            "zerolinecolor": "white"
           }
          },
          "shapedefaults": {
           "line": {
            "color": "#2a3f5f"
           }
          },
          "ternary": {
           "aaxis": {
            "gridcolor": "white",
            "linecolor": "white",
            "ticks": ""
           },
           "baxis": {
            "gridcolor": "white",
            "linecolor": "white",
            "ticks": ""
           },
           "bgcolor": "#E5ECF6",
           "caxis": {
            "gridcolor": "white",
            "linecolor": "white",
            "ticks": ""
           }
          },
          "title": {
           "x": 0.05
          },
          "xaxis": {
           "automargin": true,
           "gridcolor": "white",
           "linecolor": "white",
           "ticks": "",
           "title": {
            "standoff": 15
           },
           "zerolinecolor": "white",
           "zerolinewidth": 2
          },
          "yaxis": {
           "automargin": true,
           "gridcolor": "white",
           "linecolor": "white",
           "ticks": "",
           "title": {
            "standoff": 15
           },
           "zerolinecolor": "white",
           "zerolinewidth": 2
          }
         }
        },
        "xaxis": {
         "anchor": "y",
         "domain": [
          0,
          1
         ],
         "title": {
          "text": "Año"
         }
        },
        "yaxis": {
         "anchor": "x",
         "domain": [
          0,
          1
         ],
         "title": {
          "text": "Crecimiento de la población rural (% anual)"
         }
        }
       }
      }
     },
     "metadata": {},
     "output_type": "display_data"
    },
    {
     "data": {
      "application/vnd.plotly.v1+json": {
       "config": {
        "plotlyServerURL": "https://plot.ly"
       },
       "data": [
        {
         "hovertemplate": "Continente=América Central<br>Año=%{x}<br>Crecimiento de la población urbana (% anual)=%{y}<extra></extra>",
         "legendgroup": "América Central",
         "line": {
          "color": "#636efa",
          "dash": "solid"
         },
         "marker": {
          "symbol": "circle"
         },
         "mode": "lines",
         "name": "América Central",
         "orientation": "v",
         "showlegend": true,
         "type": "scatter",
         "x": [
          "1987",
          "1988",
          "1989",
          "1990",
          "1991",
          "1992",
          "1993",
          "1994",
          "1995",
          "1996",
          "1997",
          "1998",
          "1999",
          "2000",
          "2001",
          "2002",
          "2003",
          "2004",
          "2005",
          "2006",
          "2007",
          "2008",
          "2009",
          "2010",
          "2011",
          "2012",
          "2013",
          "2014",
          "2015",
          "2016",
          "2017",
          "2018",
          "2019",
          "2020",
          "2021",
          "2022"
         ],
         "xaxis": "x",
         "y": [
          3.0899483564341494,
          3.065975762119318,
          3.0289656831795106,
          2.98888238262771,
          2.794838726016052,
          2.5760495088517112,
          2.4773798955525423,
          2.3848033540638154,
          2.306551725205825,
          2.243013062297016,
          2.2182786425633223,
          2.1942877687865145,
          2.130186323284763,
          2.0669379876361518,
          2.3620822183560994,
          2.2388635953127753,
          2.094180904131338,
          1.9647526564916225,
          1.877285881707765,
          1.7944219018367293,
          1.7205014863877988,
          1.6669468294913101,
          1.6111743755266483,
          1.5516625633157402,
          1.499576121801037,
          1.442814670180724,
          1.3485317036018332,
          1.2591526575177847,
          1.1833784063079429,
          1.1038738107631079,
          1.023017698916706,
          0.9642449847780651,
          0.8899789277414603,
          0.7943215201156908,
          0.5703459345271599,
          0.5113003345281545
         ],
         "yaxis": "y"
        },
        {
         "hovertemplate": "Continente=América del Norte<br>Año=%{x}<br>Crecimiento de la población urbana (% anual)=%{y}<extra></extra>",
         "legendgroup": "América del Norte",
         "line": {
          "color": "#EF553B",
          "dash": "solid"
         },
         "marker": {
          "symbol": "circle"
         },
         "mode": "lines",
         "name": "América del Norte",
         "orientation": "v",
         "showlegend": true,
         "type": "scatter",
         "x": [
          "1987",
          "1988",
          "1989",
          "1990",
          "1991",
          "1992",
          "1993",
          "1994",
          "1995",
          "1996",
          "1997",
          "1998",
          "1999",
          "2000",
          "2001",
          "2002",
          "2003",
          "2004",
          "2005",
          "2006",
          "2007",
          "2008",
          "2009",
          "2010",
          "2011",
          "2012",
          "2013",
          "2014",
          "2015",
          "2016",
          "2017",
          "2018",
          "2019",
          "2020",
          "2021",
          "2022"
         ],
         "xaxis": "x",
         "y": [
          1.6297428271959415,
          1.6172244526217134,
          1.7819154129823087,
          1.8101361930132456,
          1.8968209482117213,
          1.9787424532173425,
          1.9134251291941817,
          1.8671148716659338,
          1.8126734852296718,
          1.7482885128245702,
          1.750896908726357,
          1.6631092826293017,
          1.6299212464297617,
          1.6258523471151458,
          1.563289271424522,
          1.4265036643688438,
          1.3285704083041934,
          1.3531339871760284,
          1.338135234270499,
          1.355056205872101,
          1.3581075022606512,
          1.3748659946323103,
          1.3573620780439475,
          1.3583389610787808,
          1.3072550426354344,
          1.2860746430788468,
          1.2376855094155699,
          1.2094594308672282,
          1.0998210181758858,
          1.213969630963118,
          1.1923237842197787,
          1.1892399628750752,
          1.1480324888374664,
          1.1559854488269836,
          0.6693373296720072,
          1.184977251415677
         ],
         "yaxis": "y"
        },
        {
         "hovertemplate": "Continente=América del Sur<br>Año=%{x}<br>Crecimiento de la población urbana (% anual)=%{y}<extra></extra>",
         "legendgroup": "América del Sur",
         "line": {
          "color": "#00cc96",
          "dash": "solid"
         },
         "marker": {
          "symbol": "circle"
         },
         "mode": "lines",
         "name": "América del Sur",
         "orientation": "v",
         "showlegend": true,
         "type": "scatter",
         "x": [
          "1987",
          "1988",
          "1989",
          "1990",
          "1991",
          "1992",
          "1993",
          "1994",
          "1995",
          "1996",
          "1997",
          "1998",
          "1999",
          "2000",
          "2001",
          "2002",
          "2003",
          "2004",
          "2005",
          "2006",
          "2007",
          "2008",
          "2009",
          "2010",
          "2011",
          "2012",
          "2013",
          "2014",
          "2015",
          "2016",
          "2017",
          "2018",
          "2019",
          "2020",
          "2021",
          "2022"
         ],
         "xaxis": "x",
         "y": [
          3.0234235269161016,
          2.972181394035797,
          2.911616154406366,
          2.8495663354641914,
          2.695198067247671,
          2.540889407867788,
          2.470423084163432,
          2.4193246573511997,
          2.364206573551778,
          2.30342003548351,
          2.2643946675801123,
          2.214151989452888,
          2.1636203931273146,
          2.1136015267873374,
          1.9860390755833355,
          1.8239227839559728,
          1.741627490104755,
          1.7015202978858959,
          1.6724606997330196,
          1.634736353242174,
          1.5910842523199982,
          1.5428824484717882,
          1.5096988482617033,
          1.3370095476382042,
          1.4801473844913229,
          1.4293492315378873,
          1.3822232172495927,
          1.3435511286223512,
          1.316524899544365,
          1.2461565897293783,
          1.0824826965351473,
          0.8524386749682054,
          0.7435846348239881,
          0.7938214484352238,
          0.7852586216069082,
          0.9471460381679977
         ],
         "yaxis": "y"
        },
        {
         "hovertemplate": "Continente=Asia<br>Año=%{x}<br>Crecimiento de la población urbana (% anual)=%{y}<extra></extra>",
         "legendgroup": "Asia",
         "line": {
          "color": "#ab63fa",
          "dash": "solid"
         },
         "marker": {
          "symbol": "circle"
         },
         "mode": "lines",
         "name": "Asia",
         "orientation": "v",
         "showlegend": true,
         "type": "scatter",
         "x": [
          "1987",
          "1988",
          "1989",
          "1990",
          "1991",
          "1992",
          "1993",
          "1994",
          "1995",
          "1996",
          "1997",
          "1998",
          "1999",
          "2000",
          "2001",
          "2002",
          "2003",
          "2004",
          "2005",
          "2006",
          "2007",
          "2008",
          "2009",
          "2010",
          "2011",
          "2012",
          "2013",
          "2014",
          "2015",
          "2016",
          "2017",
          "2018",
          "2019",
          "2020",
          "2021",
          "2022"
         ],
         "xaxis": "x",
         "y": [
          4.021029711858742,
          4.215197617843209,
          4.110808055766482,
          3.911933018739068,
          3.809016102666697,
          5.157901242626007,
          5.368667008186076,
          4.575572035201973,
          3.940958201928854,
          3.9358241798476694,
          3.9310343492413633,
          3.793563038356527,
          3.319219077702107,
          3.04229488795668,
          3.2437108051493233,
          3.4945629730320587,
          3.254597589404467,
          3.072503625361096,
          3.478866770470199,
          4.371905607711973,
          4.6860424911017,
          4.713258569680743,
          4.226362104692317,
          3.091747416303784,
          2.4715305476150697,
          2.48168875955284,
          2.287929042478633,
          2.252753820554904,
          2.17186805078573,
          2.1673050579327255,
          2.1108988814460057,
          2.1211477576530373,
          2.1511375758932023,
          1.8504490064881576,
          1.3300918373746176,
          2.174316419167246
         ],
         "yaxis": "y"
        },
        {
         "hovertemplate": "Continente=Europa<br>Año=%{x}<br>Crecimiento de la población urbana (% anual)=%{y}<extra></extra>",
         "legendgroup": "Europa",
         "line": {
          "color": "#FFA15A",
          "dash": "solid"
         },
         "marker": {
          "symbol": "circle"
         },
         "mode": "lines",
         "name": "Europa",
         "orientation": "v",
         "showlegend": true,
         "type": "scatter",
         "x": [
          "1987",
          "1988",
          "1989",
          "1990",
          "1991",
          "1992",
          "1993",
          "1994",
          "1995",
          "1996",
          "1997",
          "1998",
          "1999",
          "2000",
          "2001",
          "2002",
          "2003",
          "2004",
          "2005",
          "2006",
          "2007",
          "2008",
          "2009",
          "2010",
          "2011",
          "2012",
          "2013",
          "2014",
          "2015",
          "2016",
          "2017",
          "2018",
          "2019",
          "2020",
          "2021",
          "2022"
         ],
         "xaxis": "x",
         "y": [
          0.531588270637895,
          0.5612432417722325,
          0.6130334384177786,
          0.7608047389038675,
          0.8936767053402521,
          0.8906278139149318,
          0.804505685882609,
          0.6946986201964578,
          0.6322636130289611,
          0.5812909299231424,
          0.5531355872427587,
          0.5752314787241881,
          0.5937666481217773,
          0.6045730773704172,
          0.7023309379764905,
          0.873543927928284,
          0.8702553210579065,
          0.8603947893895872,
          0.8686345682305022,
          0.8401858683064166,
          0.8873859182217008,
          0.9443558628386708,
          0.8619344848580102,
          0.7970340709060327,
          0.6230626385425913,
          0.7805278843489251,
          0.7147297584858538,
          0.7293790999124365,
          0.8302530721731671,
          0.8511792057370344,
          0.7585680388143909,
          0.6843396948353847,
          0.6987675775865602,
          0.6092362264945185,
          0.5082844261131497,
          0.8040186866626653
         ],
         "yaxis": "y"
        },
        {
         "hovertemplate": "Continente=Oceanía<br>Año=%{x}<br>Crecimiento de la población urbana (% anual)=%{y}<extra></extra>",
         "legendgroup": "Oceanía",
         "line": {
          "color": "#19d3f3",
          "dash": "solid"
         },
         "marker": {
          "symbol": "circle"
         },
         "mode": "lines",
         "name": "Oceanía",
         "orientation": "v",
         "showlegend": true,
         "type": "scatter",
         "x": [
          "1987",
          "1988",
          "1989",
          "1990",
          "1991",
          "1992",
          "1993",
          "1994",
          "1995",
          "1996",
          "1997",
          "1998",
          "1999",
          "2000",
          "2001",
          "2002",
          "2003",
          "2004",
          "2005",
          "2006",
          "2007",
          "2008",
          "2009",
          "2010",
          "2011",
          "2012",
          "2013",
          "2014",
          "2015",
          "2016",
          "2017",
          "2018",
          "2019",
          "2020",
          "2021",
          "2022"
         ],
         "xaxis": "x",
         "y": [
          1.5442690719953376,
          1.435955383301148,
          1.4103064656850826,
          1.4192176555341625,
          2.2584229844384365,
          1.298568699392406,
          1.368154134714926,
          1.4268497700580638,
          1.491915029241782,
          1.6286858734479193,
          1.4369786656576236,
          1.3140877633104038,
          1.240052910736825,
          1.245134997304977,
          1.2278051511290446,
          1.2311297962759993,
          1.1118479511927606,
          0.9397926978337503,
          0.8660810626327742,
          0.9411772114562083,
          0.9834682765889996,
          1.0390382316166995,
          1.067864843176612,
          0.9538926441650104,
          0.825068488319813,
          0.8676583157201134,
          0.8946027066053592,
          1.0485300033105227,
          1.1089950568649845,
          1.192988870248708,
          1.1749406146811903,
          1.0644844574598982,
          1.035458981151301,
          1.3113768244881918,
          0.7602698172732203,
          0.989226315554356
         ],
         "yaxis": "y"
        },
        {
         "hovertemplate": "Continente=África<br>Año=%{x}<br>Crecimiento de la población urbana (% anual)=%{y}<extra></extra>",
         "legendgroup": "África",
         "line": {
          "color": "#FF6692",
          "dash": "solid"
         },
         "marker": {
          "symbol": "circle"
         },
         "mode": "lines",
         "name": "África",
         "orientation": "v",
         "showlegend": true,
         "type": "scatter",
         "x": [
          "1987",
          "1988",
          "1989",
          "1990",
          "1991",
          "1992",
          "1993",
          "1994",
          "1995",
          "1996",
          "1997",
          "1998",
          "1999",
          "2000",
          "2001",
          "2002",
          "2003",
          "2004",
          "2005",
          "2006",
          "2007",
          "2008",
          "2009",
          "2010",
          "2011",
          "2012",
          "2013",
          "2014",
          "2015",
          "2016",
          "2017",
          "2018",
          "2019",
          "2020",
          "2021",
          "2022"
         ],
         "xaxis": "x",
         "y": [
          4.343000003749366,
          4.196662284866556,
          3.9590975214650217,
          4.067339441194623,
          3.7461364646265047,
          4.72832284853445,
          4.891376668727348,
          2.684398784445414,
          2.684554220395144,
          6.365173925841601,
          5.46142656431341,
          4.050524110508569,
          3.7836061279239095,
          3.977643612231407,
          4.34210125550328,
          4.329504468876298,
          3.6907641799271453,
          3.6302817441876107,
          3.571568749399331,
          3.4995236126555236,
          3.4107428438006155,
          3.395148252120955,
          3.4263576256262187,
          3.4137641830883947,
          3.412156036116035,
          3.408493346258286,
          3.390063375379688,
          3.4066629223447276,
          3.4244541639931194,
          3.3232483000768207,
          3.283157796312624,
          3.350086695700132,
          3.331848274303074,
          3.3169881689040674,
          3.28277558662298,
          3.249095037971739
         ],
         "yaxis": "y"
        }
       ],
       "layout": {
        "legend": {
         "title": {
          "text": "Continente"
         },
         "tracegroupgap": 0
        },
        "margin": {
         "t": 60
        },
        "template": {
         "data": {
          "bar": [
           {
            "error_x": {
             "color": "#2a3f5f"
            },
            "error_y": {
             "color": "#2a3f5f"
            },
            "marker": {
             "line": {
              "color": "#E5ECF6",
              "width": 0.5
             },
             "pattern": {
              "fillmode": "overlay",
              "size": 10,
              "solidity": 0.2
             }
            },
            "type": "bar"
           }
          ],
          "barpolar": [
           {
            "marker": {
             "line": {
              "color": "#E5ECF6",
              "width": 0.5
             },
             "pattern": {
              "fillmode": "overlay",
              "size": 10,
              "solidity": 0.2
             }
            },
            "type": "barpolar"
           }
          ],
          "carpet": [
           {
            "aaxis": {
             "endlinecolor": "#2a3f5f",
             "gridcolor": "white",
             "linecolor": "white",
             "minorgridcolor": "white",
             "startlinecolor": "#2a3f5f"
            },
            "baxis": {
             "endlinecolor": "#2a3f5f",
             "gridcolor": "white",
             "linecolor": "white",
             "minorgridcolor": "white",
             "startlinecolor": "#2a3f5f"
            },
            "type": "carpet"
           }
          ],
          "choropleth": [
           {
            "colorbar": {
             "outlinewidth": 0,
             "ticks": ""
            },
            "type": "choropleth"
           }
          ],
          "contour": [
           {
            "colorbar": {
             "outlinewidth": 0,
             "ticks": ""
            },
            "colorscale": [
             [
              0,
              "#0d0887"
             ],
             [
              0.1111111111111111,
              "#46039f"
             ],
             [
              0.2222222222222222,
              "#7201a8"
             ],
             [
              0.3333333333333333,
              "#9c179e"
             ],
             [
              0.4444444444444444,
              "#bd3786"
             ],
             [
              0.5555555555555556,
              "#d8576b"
             ],
             [
              0.6666666666666666,
              "#ed7953"
             ],
             [
              0.7777777777777778,
              "#fb9f3a"
             ],
             [
              0.8888888888888888,
              "#fdca26"
             ],
             [
              1,
              "#f0f921"
             ]
            ],
            "type": "contour"
           }
          ],
          "contourcarpet": [
           {
            "colorbar": {
             "outlinewidth": 0,
             "ticks": ""
            },
            "type": "contourcarpet"
           }
          ],
          "heatmap": [
           {
            "colorbar": {
             "outlinewidth": 0,
             "ticks": ""
            },
            "colorscale": [
             [
              0,
              "#0d0887"
             ],
             [
              0.1111111111111111,
              "#46039f"
             ],
             [
              0.2222222222222222,
              "#7201a8"
             ],
             [
              0.3333333333333333,
              "#9c179e"
             ],
             [
              0.4444444444444444,
              "#bd3786"
             ],
             [
              0.5555555555555556,
              "#d8576b"
             ],
             [
              0.6666666666666666,
              "#ed7953"
             ],
             [
              0.7777777777777778,
              "#fb9f3a"
             ],
             [
              0.8888888888888888,
              "#fdca26"
             ],
             [
              1,
              "#f0f921"
             ]
            ],
            "type": "heatmap"
           }
          ],
          "heatmapgl": [
           {
            "colorbar": {
             "outlinewidth": 0,
             "ticks": ""
            },
            "colorscale": [
             [
              0,
              "#0d0887"
             ],
             [
              0.1111111111111111,
              "#46039f"
             ],
             [
              0.2222222222222222,
              "#7201a8"
             ],
             [
              0.3333333333333333,
              "#9c179e"
             ],
             [
              0.4444444444444444,
              "#bd3786"
             ],
             [
              0.5555555555555556,
              "#d8576b"
             ],
             [
              0.6666666666666666,
              "#ed7953"
             ],
             [
              0.7777777777777778,
              "#fb9f3a"
             ],
             [
              0.8888888888888888,
              "#fdca26"
             ],
             [
              1,
              "#f0f921"
             ]
            ],
            "type": "heatmapgl"
           }
          ],
          "histogram": [
           {
            "marker": {
             "pattern": {
              "fillmode": "overlay",
              "size": 10,
              "solidity": 0.2
             }
            },
            "type": "histogram"
           }
          ],
          "histogram2d": [
           {
            "colorbar": {
             "outlinewidth": 0,
             "ticks": ""
            },
            "colorscale": [
             [
              0,
              "#0d0887"
             ],
             [
              0.1111111111111111,
              "#46039f"
             ],
             [
              0.2222222222222222,
              "#7201a8"
             ],
             [
              0.3333333333333333,
              "#9c179e"
             ],
             [
              0.4444444444444444,
              "#bd3786"
             ],
             [
              0.5555555555555556,
              "#d8576b"
             ],
             [
              0.6666666666666666,
              "#ed7953"
             ],
             [
              0.7777777777777778,
              "#fb9f3a"
             ],
             [
              0.8888888888888888,
              "#fdca26"
             ],
             [
              1,
              "#f0f921"
             ]
            ],
            "type": "histogram2d"
           }
          ],
          "histogram2dcontour": [
           {
            "colorbar": {
             "outlinewidth": 0,
             "ticks": ""
            },
            "colorscale": [
             [
              0,
              "#0d0887"
             ],
             [
              0.1111111111111111,
              "#46039f"
             ],
             [
              0.2222222222222222,
              "#7201a8"
             ],
             [
              0.3333333333333333,
              "#9c179e"
             ],
             [
              0.4444444444444444,
              "#bd3786"
             ],
             [
              0.5555555555555556,
              "#d8576b"
             ],
             [
              0.6666666666666666,
              "#ed7953"
             ],
             [
              0.7777777777777778,
              "#fb9f3a"
             ],
             [
              0.8888888888888888,
              "#fdca26"
             ],
             [
              1,
              "#f0f921"
             ]
            ],
            "type": "histogram2dcontour"
           }
          ],
          "mesh3d": [
           {
            "colorbar": {
             "outlinewidth": 0,
             "ticks": ""
            },
            "type": "mesh3d"
           }
          ],
          "parcoords": [
           {
            "line": {
             "colorbar": {
              "outlinewidth": 0,
              "ticks": ""
             }
            },
            "type": "parcoords"
           }
          ],
          "pie": [
           {
            "automargin": true,
            "type": "pie"
           }
          ],
          "scatter": [
           {
            "fillpattern": {
             "fillmode": "overlay",
             "size": 10,
             "solidity": 0.2
            },
            "type": "scatter"
           }
          ],
          "scatter3d": [
           {
            "line": {
             "colorbar": {
              "outlinewidth": 0,
              "ticks": ""
             }
            },
            "marker": {
             "colorbar": {
              "outlinewidth": 0,
              "ticks": ""
             }
            },
            "type": "scatter3d"
           }
          ],
          "scattercarpet": [
           {
            "marker": {
             "colorbar": {
              "outlinewidth": 0,
              "ticks": ""
             }
            },
            "type": "scattercarpet"
           }
          ],
          "scattergeo": [
           {
            "marker": {
             "colorbar": {
              "outlinewidth": 0,
              "ticks": ""
             }
            },
            "type": "scattergeo"
           }
          ],
          "scattergl": [
           {
            "marker": {
             "colorbar": {
              "outlinewidth": 0,
              "ticks": ""
             }
            },
            "type": "scattergl"
           }
          ],
          "scattermapbox": [
           {
            "marker": {
             "colorbar": {
              "outlinewidth": 0,
              "ticks": ""
             }
            },
            "type": "scattermapbox"
           }
          ],
          "scatterpolar": [
           {
            "marker": {
             "colorbar": {
              "outlinewidth": 0,
              "ticks": ""
             }
            },
            "type": "scatterpolar"
           }
          ],
          "scatterpolargl": [
           {
            "marker": {
             "colorbar": {
              "outlinewidth": 0,
              "ticks": ""
             }
            },
            "type": "scatterpolargl"
           }
          ],
          "scatterternary": [
           {
            "marker": {
             "colorbar": {
              "outlinewidth": 0,
              "ticks": ""
             }
            },
            "type": "scatterternary"
           }
          ],
          "surface": [
           {
            "colorbar": {
             "outlinewidth": 0,
             "ticks": ""
            },
            "colorscale": [
             [
              0,
              "#0d0887"
             ],
             [
              0.1111111111111111,
              "#46039f"
             ],
             [
              0.2222222222222222,
              "#7201a8"
             ],
             [
              0.3333333333333333,
              "#9c179e"
             ],
             [
              0.4444444444444444,
              "#bd3786"
             ],
             [
              0.5555555555555556,
              "#d8576b"
             ],
             [
              0.6666666666666666,
              "#ed7953"
             ],
             [
              0.7777777777777778,
              "#fb9f3a"
             ],
             [
              0.8888888888888888,
              "#fdca26"
             ],
             [
              1,
              "#f0f921"
             ]
            ],
            "type": "surface"
           }
          ],
          "table": [
           {
            "cells": {
             "fill": {
              "color": "#EBF0F8"
             },
             "line": {
              "color": "white"
             }
            },
            "header": {
             "fill": {
              "color": "#C8D4E3"
             },
             "line": {
              "color": "white"
             }
            },
            "type": "table"
           }
          ]
         },
         "layout": {
          "annotationdefaults": {
           "arrowcolor": "#2a3f5f",
           "arrowhead": 0,
           "arrowwidth": 1
          },
          "autotypenumbers": "strict",
          "coloraxis": {
           "colorbar": {
            "outlinewidth": 0,
            "ticks": ""
           }
          },
          "colorscale": {
           "diverging": [
            [
             0,
             "#8e0152"
            ],
            [
             0.1,
             "#c51b7d"
            ],
            [
             0.2,
             "#de77ae"
            ],
            [
             0.3,
             "#f1b6da"
            ],
            [
             0.4,
             "#fde0ef"
            ],
            [
             0.5,
             "#f7f7f7"
            ],
            [
             0.6,
             "#e6f5d0"
            ],
            [
             0.7,
             "#b8e186"
            ],
            [
             0.8,
             "#7fbc41"
            ],
            [
             0.9,
             "#4d9221"
            ],
            [
             1,
             "#276419"
            ]
           ],
           "sequential": [
            [
             0,
             "#0d0887"
            ],
            [
             0.1111111111111111,
             "#46039f"
            ],
            [
             0.2222222222222222,
             "#7201a8"
            ],
            [
             0.3333333333333333,
             "#9c179e"
            ],
            [
             0.4444444444444444,
             "#bd3786"
            ],
            [
             0.5555555555555556,
             "#d8576b"
            ],
            [
             0.6666666666666666,
             "#ed7953"
            ],
            [
             0.7777777777777778,
             "#fb9f3a"
            ],
            [
             0.8888888888888888,
             "#fdca26"
            ],
            [
             1,
             "#f0f921"
            ]
           ],
           "sequentialminus": [
            [
             0,
             "#0d0887"
            ],
            [
             0.1111111111111111,
             "#46039f"
            ],
            [
             0.2222222222222222,
             "#7201a8"
            ],
            [
             0.3333333333333333,
             "#9c179e"
            ],
            [
             0.4444444444444444,
             "#bd3786"
            ],
            [
             0.5555555555555556,
             "#d8576b"
            ],
            [
             0.6666666666666666,
             "#ed7953"
            ],
            [
             0.7777777777777778,
             "#fb9f3a"
            ],
            [
             0.8888888888888888,
             "#fdca26"
            ],
            [
             1,
             "#f0f921"
            ]
           ]
          },
          "colorway": [
           "#636efa",
           "#EF553B",
           "#00cc96",
           "#ab63fa",
           "#FFA15A",
           "#19d3f3",
           "#FF6692",
           "#B6E880",
           "#FF97FF",
           "#FECB52"
          ],
          "font": {
           "color": "#2a3f5f"
          },
          "geo": {
           "bgcolor": "white",
           "lakecolor": "white",
           "landcolor": "#E5ECF6",
           "showlakes": true,
           "showland": true,
           "subunitcolor": "white"
          },
          "hoverlabel": {
           "align": "left"
          },
          "hovermode": "closest",
          "mapbox": {
           "style": "light"
          },
          "paper_bgcolor": "white",
          "plot_bgcolor": "#E5ECF6",
          "polar": {
           "angularaxis": {
            "gridcolor": "white",
            "linecolor": "white",
            "ticks": ""
           },
           "bgcolor": "#E5ECF6",
           "radialaxis": {
            "gridcolor": "white",
            "linecolor": "white",
            "ticks": ""
           }
          },
          "scene": {
           "xaxis": {
            "backgroundcolor": "#E5ECF6",
            "gridcolor": "white",
            "gridwidth": 2,
            "linecolor": "white",
            "showbackground": true,
            "ticks": "",
            "zerolinecolor": "white"
           },
           "yaxis": {
            "backgroundcolor": "#E5ECF6",
            "gridcolor": "white",
            "gridwidth": 2,
            "linecolor": "white",
            "showbackground": true,
            "ticks": "",
            "zerolinecolor": "white"
           },
           "zaxis": {
            "backgroundcolor": "#E5ECF6",
            "gridcolor": "white",
            "gridwidth": 2,
            "linecolor": "white",
            "showbackground": true,
            "ticks": "",
            "zerolinecolor": "white"
           }
          },
          "shapedefaults": {
           "line": {
            "color": "#2a3f5f"
           }
          },
          "ternary": {
           "aaxis": {
            "gridcolor": "white",
            "linecolor": "white",
            "ticks": ""
           },
           "baxis": {
            "gridcolor": "white",
            "linecolor": "white",
            "ticks": ""
           },
           "bgcolor": "#E5ECF6",
           "caxis": {
            "gridcolor": "white",
            "linecolor": "white",
            "ticks": ""
           }
          },
          "title": {
           "x": 0.05
          },
          "xaxis": {
           "automargin": true,
           "gridcolor": "white",
           "linecolor": "white",
           "ticks": "",
           "title": {
            "standoff": 15
           },
           "zerolinecolor": "white",
           "zerolinewidth": 2
          },
          "yaxis": {
           "automargin": true,
           "gridcolor": "white",
           "linecolor": "white",
           "ticks": "",
           "title": {
            "standoff": 15
           },
           "zerolinecolor": "white",
           "zerolinewidth": 2
          }
         }
        },
        "xaxis": {
         "anchor": "y",
         "domain": [
          0,
          1
         ],
         "title": {
          "text": "Año"
         }
        },
        "yaxis": {
         "anchor": "x",
         "domain": [
          0,
          1
         ],
         "title": {
          "text": "Crecimiento de la población urbana (% anual)"
         }
        }
       }
      }
     },
     "metadata": {},
     "output_type": "display_data"
    }
   ],
   "source": [
    "for i in df_contientes.columns[2:5]:\n",
    "    graficar_indicador(i)"
   ]
  },
  {
   "cell_type": "code",
   "execution_count": 28,
   "metadata": {},
   "outputs": [
    {
     "data": {
      "text/html": [
       "<div>\n",
       "<style scoped>\n",
       "    .dataframe tbody tr th:only-of-type {\n",
       "        vertical-align: middle;\n",
       "    }\n",
       "\n",
       "    .dataframe tbody tr th {\n",
       "        vertical-align: top;\n",
       "    }\n",
       "\n",
       "    .dataframe thead th {\n",
       "        text-align: right;\n",
       "    }\n",
       "</style>\n",
       "<table border=\"1\" class=\"dataframe\">\n",
       "  <thead>\n",
       "    <tr style=\"text-align: right;\">\n",
       "      <th>serie Name</th>\n",
       "      <th>país Name</th>\n",
       "      <th>Año</th>\n",
       "      <th>Crecimiento de la población (% anual)</th>\n",
       "      <th>Crecimiento de la población rural (% anual)</th>\n",
       "      <th>Crecimiento de la población urbana (% anual)</th>\n",
       "      <th>Continente</th>\n",
       "    </tr>\n",
       "  </thead>\n",
       "  <tbody>\n",
       "    <tr>\n",
       "      <th>31</th>\n",
       "      <td>Afganistán</td>\n",
       "      <td>2018</td>\n",
       "      <td>2.885208</td>\n",
       "      <td>2.556909</td>\n",
       "      <td>3.850833</td>\n",
       "      <td>Asia</td>\n",
       "    </tr>\n",
       "    <tr>\n",
       "      <th>32</th>\n",
       "      <td>Afganistán</td>\n",
       "      <td>2019</td>\n",
       "      <td>2.908529</td>\n",
       "      <td>2.560297</td>\n",
       "      <td>3.919287</td>\n",
       "      <td>Asia</td>\n",
       "    </tr>\n",
       "    <tr>\n",
       "      <th>33</th>\n",
       "      <td>Afganistán</td>\n",
       "      <td>2020</td>\n",
       "      <td>3.134747</td>\n",
       "      <td>2.767724</td>\n",
       "      <td>4.185357</td>\n",
       "      <td>Asia</td>\n",
       "    </tr>\n",
       "    <tr>\n",
       "      <th>34</th>\n",
       "      <td>Afganistán</td>\n",
       "      <td>2021</td>\n",
       "      <td>2.851358</td>\n",
       "      <td>2.461275</td>\n",
       "      <td>3.951857</td>\n",
       "      <td>Asia</td>\n",
       "    </tr>\n",
       "    <tr>\n",
       "      <th>35</th>\n",
       "      <td>Afganistán</td>\n",
       "      <td>2022</td>\n",
       "      <td>2.534498</td>\n",
       "      <td>2.123806</td>\n",
       "      <td>3.675647</td>\n",
       "      <td>Asia</td>\n",
       "    </tr>\n",
       "    <tr>\n",
       "      <th>...</th>\n",
       "      <td>...</td>\n",
       "      <td>...</td>\n",
       "      <td>...</td>\n",
       "      <td>...</td>\n",
       "      <td>...</td>\n",
       "      <td>...</td>\n",
       "    </tr>\n",
       "    <tr>\n",
       "      <th>1579</th>\n",
       "      <td>Venezuela</td>\n",
       "      <td>2018</td>\n",
       "      <td>-2.443543</td>\n",
       "      <td>-2.655330</td>\n",
       "      <td>-2.415197</td>\n",
       "      <td>América del Sur</td>\n",
       "    </tr>\n",
       "    <tr>\n",
       "      <th>1580</th>\n",
       "      <td>Venezuela</td>\n",
       "      <td>2019</td>\n",
       "      <td>-2.904996</td>\n",
       "      <td>-3.176733</td>\n",
       "      <td>-2.868725</td>\n",
       "      <td>América del Sur</td>\n",
       "    </tr>\n",
       "    <tr>\n",
       "      <th>1581</th>\n",
       "      <td>Venezuela</td>\n",
       "      <td>2020</td>\n",
       "      <td>-1.674986</td>\n",
       "      <td>-2.007172</td>\n",
       "      <td>-1.630797</td>\n",
       "      <td>América del Sur</td>\n",
       "    </tr>\n",
       "    <tr>\n",
       "      <th>1582</th>\n",
       "      <td>Venezuela</td>\n",
       "      <td>2021</td>\n",
       "      <td>-1.025179</td>\n",
       "      <td>-1.418423</td>\n",
       "      <td>-0.973083</td>\n",
       "      <td>América del Sur</td>\n",
       "    </tr>\n",
       "    <tr>\n",
       "      <th>1583</th>\n",
       "      <td>Venezuela</td>\n",
       "      <td>2022</td>\n",
       "      <td>0.360447</td>\n",
       "      <td>-0.094537</td>\n",
       "      <td>0.420433</td>\n",
       "      <td>América del Sur</td>\n",
       "    </tr>\n",
       "  </tbody>\n",
       "</table>\n",
       "<p>220 rows × 6 columns</p>\n",
       "</div>"
      ],
      "text/plain": [
       "serie Name   país Name   Año  Crecimiento de la población (% anual)   \n",
       "31          Afganistán  2018                               2.885208  \\\n",
       "32          Afganistán  2019                               2.908529   \n",
       "33          Afganistán  2020                               3.134747   \n",
       "34          Afganistán  2021                               2.851358   \n",
       "35          Afganistán  2022                               2.534498   \n",
       "...                ...   ...                                    ...   \n",
       "1579         Venezuela  2018                              -2.443543   \n",
       "1580         Venezuela  2019                              -2.904996   \n",
       "1581         Venezuela  2020                              -1.674986   \n",
       "1582         Venezuela  2021                              -1.025179   \n",
       "1583         Venezuela  2022                               0.360447   \n",
       "\n",
       "serie Name  Crecimiento de la población rural (% anual)   \n",
       "31                                             2.556909  \\\n",
       "32                                             2.560297   \n",
       "33                                             2.767724   \n",
       "34                                             2.461275   \n",
       "35                                             2.123806   \n",
       "...                                                 ...   \n",
       "1579                                          -2.655330   \n",
       "1580                                          -3.176733   \n",
       "1581                                          -2.007172   \n",
       "1582                                          -1.418423   \n",
       "1583                                          -0.094537   \n",
       "\n",
       "serie Name  Crecimiento de la población urbana (% anual)       Continente  \n",
       "31                                              3.850833             Asia  \n",
       "32                                              3.919287             Asia  \n",
       "33                                              4.185357             Asia  \n",
       "34                                              3.951857             Asia  \n",
       "35                                              3.675647             Asia  \n",
       "...                                                  ...              ...  \n",
       "1579                                           -2.415197  América del Sur  \n",
       "1580                                           -2.868725  América del Sur  \n",
       "1581                                           -1.630797  América del Sur  \n",
       "1582                                           -0.973083  América del Sur  \n",
       "1583                                            0.420433  América del Sur  \n",
       "\n",
       "[220 rows x 6 columns]"
      ]
     },
     "execution_count": 28,
     "metadata": {},
     "output_type": "execute_result"
    }
   ],
   "source": [
    "df_pivote_años = df_pivoted[df_pivoted[\"Año\"].isin([\"2022\",\"2021\",\"2020\",\"2019\", \"2018\"])]\n",
    "df_pivote_años"
   ]
  },
  {
   "cell_type": "code",
   "execution_count": 29,
   "metadata": {},
   "outputs": [
    {
     "data": {
      "text/html": [
       "<div>\n",
       "<style scoped>\n",
       "    .dataframe tbody tr th:only-of-type {\n",
       "        vertical-align: middle;\n",
       "    }\n",
       "\n",
       "    .dataframe tbody tr th {\n",
       "        vertical-align: top;\n",
       "    }\n",
       "\n",
       "    .dataframe thead th {\n",
       "        text-align: right;\n",
       "    }\n",
       "</style>\n",
       "<table border=\"1\" class=\"dataframe\">\n",
       "  <thead>\n",
       "    <tr style=\"text-align: right;\">\n",
       "      <th>serie Name</th>\n",
       "      <th>Crecimiento de la población (% anual)</th>\n",
       "    </tr>\n",
       "    <tr>\n",
       "      <th>país Name</th>\n",
       "      <th></th>\n",
       "    </tr>\n",
       "  </thead>\n",
       "  <tbody>\n",
       "    <tr>\n",
       "      <th>Níger</th>\n",
       "      <td>3.740111</td>\n",
       "    </tr>\n",
       "    <tr>\n",
       "      <th>Chad</th>\n",
       "      <td>3.222431</td>\n",
       "    </tr>\n",
       "    <tr>\n",
       "      <th>Afganistán</th>\n",
       "      <td>2.862868</td>\n",
       "    </tr>\n",
       "    <tr>\n",
       "      <th>Burkina Faso</th>\n",
       "      <td>2.674342</td>\n",
       "    </tr>\n",
       "    <tr>\n",
       "      <th>Rwanda</th>\n",
       "      <td>2.381179</td>\n",
       "    </tr>\n",
       "    <tr>\n",
       "      <th>Sierra Leona</th>\n",
       "      <td>2.282489</td>\n",
       "    </tr>\n",
       "    <tr>\n",
       "      <th>Kenya</th>\n",
       "      <td>1.974633</td>\n",
       "    </tr>\n",
       "    <tr>\n",
       "      <th>Argelia</th>\n",
       "      <td>1.752254</td>\n",
       "    </tr>\n",
       "    <tr>\n",
       "      <th>Egipto</th>\n",
       "      <td>1.730704</td>\n",
       "    </tr>\n",
       "    <tr>\n",
       "      <th>Nepal</th>\n",
       "      <td>1.611028</td>\n",
       "    </tr>\n",
       "  </tbody>\n",
       "</table>\n",
       "</div>"
      ],
      "text/plain": [
       "serie Name    Crecimiento de la población (% anual)\n",
       "país Name                                          \n",
       "Níger                                      3.740111\n",
       "Chad                                       3.222431\n",
       "Afganistán                                 2.862868\n",
       "Burkina Faso                               2.674342\n",
       "Rwanda                                     2.381179\n",
       "Sierra Leona                               2.282489\n",
       "Kenya                                      1.974633\n",
       "Argelia                                    1.752254\n",
       "Egipto                                     1.730704\n",
       "Nepal                                      1.611028"
      ]
     },
     "execution_count": 29,
     "metadata": {},
     "output_type": "execute_result"
    }
   ],
   "source": [
    "top_paises = df_pivote_años[[\"país Name\", \"Crecimiento de la población (% anual)\"]].groupby(\"país Name\").mean().sort_values(\"Crecimiento de la población (% anual)\", ascending=False).head(10)\n",
    "top_paises"
   ]
  },
  {
   "cell_type": "code",
   "execution_count": 30,
   "metadata": {},
   "outputs": [
    {
     "data": {
      "application/vnd.plotly.v1+json": {
       "config": {
        "plotlyServerURL": "https://plot.ly"
       },
       "data": [
        {
         "alignmentgroup": "True",
         "hovertemplate": "país Name=%{x}<br>Crecimiento de la población (% anual)=%{y}<extra></extra>",
         "legendgroup": "",
         "marker": {
          "color": "#636efa",
          "pattern": {
           "shape": ""
          }
         },
         "name": "",
         "offsetgroup": "",
         "orientation": "v",
         "showlegend": false,
         "textposition": "auto",
         "type": "bar",
         "x": [
          "Níger",
          "Chad",
          "Afganistán",
          "Burkina Faso",
          "Rwanda",
          "Sierra Leona",
          "Kenya",
          "Argelia",
          "Egipto",
          "Nepal"
         ],
         "xaxis": "x",
         "y": [
          3.7401107425534903,
          3.222430645522612,
          2.862867988938838,
          2.674341740727286,
          2.381178923810774,
          2.282488528970262,
          1.9746325313738222,
          1.7522538993698682,
          1.730703995113118,
          1.611027868220318
         ],
         "yaxis": "y"
        }
       ],
       "layout": {
        "barmode": "relative",
        "legend": {
         "tracegroupgap": 0
        },
        "template": {
         "data": {
          "bar": [
           {
            "error_x": {
             "color": "#2a3f5f"
            },
            "error_y": {
             "color": "#2a3f5f"
            },
            "marker": {
             "line": {
              "color": "#E5ECF6",
              "width": 0.5
             },
             "pattern": {
              "fillmode": "overlay",
              "size": 10,
              "solidity": 0.2
             }
            },
            "type": "bar"
           }
          ],
          "barpolar": [
           {
            "marker": {
             "line": {
              "color": "#E5ECF6",
              "width": 0.5
             },
             "pattern": {
              "fillmode": "overlay",
              "size": 10,
              "solidity": 0.2
             }
            },
            "type": "barpolar"
           }
          ],
          "carpet": [
           {
            "aaxis": {
             "endlinecolor": "#2a3f5f",
             "gridcolor": "white",
             "linecolor": "white",
             "minorgridcolor": "white",
             "startlinecolor": "#2a3f5f"
            },
            "baxis": {
             "endlinecolor": "#2a3f5f",
             "gridcolor": "white",
             "linecolor": "white",
             "minorgridcolor": "white",
             "startlinecolor": "#2a3f5f"
            },
            "type": "carpet"
           }
          ],
          "choropleth": [
           {
            "colorbar": {
             "outlinewidth": 0,
             "ticks": ""
            },
            "type": "choropleth"
           }
          ],
          "contour": [
           {
            "colorbar": {
             "outlinewidth": 0,
             "ticks": ""
            },
            "colorscale": [
             [
              0,
              "#0d0887"
             ],
             [
              0.1111111111111111,
              "#46039f"
             ],
             [
              0.2222222222222222,
              "#7201a8"
             ],
             [
              0.3333333333333333,
              "#9c179e"
             ],
             [
              0.4444444444444444,
              "#bd3786"
             ],
             [
              0.5555555555555556,
              "#d8576b"
             ],
             [
              0.6666666666666666,
              "#ed7953"
             ],
             [
              0.7777777777777778,
              "#fb9f3a"
             ],
             [
              0.8888888888888888,
              "#fdca26"
             ],
             [
              1,
              "#f0f921"
             ]
            ],
            "type": "contour"
           }
          ],
          "contourcarpet": [
           {
            "colorbar": {
             "outlinewidth": 0,
             "ticks": ""
            },
            "type": "contourcarpet"
           }
          ],
          "heatmap": [
           {
            "colorbar": {
             "outlinewidth": 0,
             "ticks": ""
            },
            "colorscale": [
             [
              0,
              "#0d0887"
             ],
             [
              0.1111111111111111,
              "#46039f"
             ],
             [
              0.2222222222222222,
              "#7201a8"
             ],
             [
              0.3333333333333333,
              "#9c179e"
             ],
             [
              0.4444444444444444,
              "#bd3786"
             ],
             [
              0.5555555555555556,
              "#d8576b"
             ],
             [
              0.6666666666666666,
              "#ed7953"
             ],
             [
              0.7777777777777778,
              "#fb9f3a"
             ],
             [
              0.8888888888888888,
              "#fdca26"
             ],
             [
              1,
              "#f0f921"
             ]
            ],
            "type": "heatmap"
           }
          ],
          "heatmapgl": [
           {
            "colorbar": {
             "outlinewidth": 0,
             "ticks": ""
            },
            "colorscale": [
             [
              0,
              "#0d0887"
             ],
             [
              0.1111111111111111,
              "#46039f"
             ],
             [
              0.2222222222222222,
              "#7201a8"
             ],
             [
              0.3333333333333333,
              "#9c179e"
             ],
             [
              0.4444444444444444,
              "#bd3786"
             ],
             [
              0.5555555555555556,
              "#d8576b"
             ],
             [
              0.6666666666666666,
              "#ed7953"
             ],
             [
              0.7777777777777778,
              "#fb9f3a"
             ],
             [
              0.8888888888888888,
              "#fdca26"
             ],
             [
              1,
              "#f0f921"
             ]
            ],
            "type": "heatmapgl"
           }
          ],
          "histogram": [
           {
            "marker": {
             "pattern": {
              "fillmode": "overlay",
              "size": 10,
              "solidity": 0.2
             }
            },
            "type": "histogram"
           }
          ],
          "histogram2d": [
           {
            "colorbar": {
             "outlinewidth": 0,
             "ticks": ""
            },
            "colorscale": [
             [
              0,
              "#0d0887"
             ],
             [
              0.1111111111111111,
              "#46039f"
             ],
             [
              0.2222222222222222,
              "#7201a8"
             ],
             [
              0.3333333333333333,
              "#9c179e"
             ],
             [
              0.4444444444444444,
              "#bd3786"
             ],
             [
              0.5555555555555556,
              "#d8576b"
             ],
             [
              0.6666666666666666,
              "#ed7953"
             ],
             [
              0.7777777777777778,
              "#fb9f3a"
             ],
             [
              0.8888888888888888,
              "#fdca26"
             ],
             [
              1,
              "#f0f921"
             ]
            ],
            "type": "histogram2d"
           }
          ],
          "histogram2dcontour": [
           {
            "colorbar": {
             "outlinewidth": 0,
             "ticks": ""
            },
            "colorscale": [
             [
              0,
              "#0d0887"
             ],
             [
              0.1111111111111111,
              "#46039f"
             ],
             [
              0.2222222222222222,
              "#7201a8"
             ],
             [
              0.3333333333333333,
              "#9c179e"
             ],
             [
              0.4444444444444444,
              "#bd3786"
             ],
             [
              0.5555555555555556,
              "#d8576b"
             ],
             [
              0.6666666666666666,
              "#ed7953"
             ],
             [
              0.7777777777777778,
              "#fb9f3a"
             ],
             [
              0.8888888888888888,
              "#fdca26"
             ],
             [
              1,
              "#f0f921"
             ]
            ],
            "type": "histogram2dcontour"
           }
          ],
          "mesh3d": [
           {
            "colorbar": {
             "outlinewidth": 0,
             "ticks": ""
            },
            "type": "mesh3d"
           }
          ],
          "parcoords": [
           {
            "line": {
             "colorbar": {
              "outlinewidth": 0,
              "ticks": ""
             }
            },
            "type": "parcoords"
           }
          ],
          "pie": [
           {
            "automargin": true,
            "type": "pie"
           }
          ],
          "scatter": [
           {
            "fillpattern": {
             "fillmode": "overlay",
             "size": 10,
             "solidity": 0.2
            },
            "type": "scatter"
           }
          ],
          "scatter3d": [
           {
            "line": {
             "colorbar": {
              "outlinewidth": 0,
              "ticks": ""
             }
            },
            "marker": {
             "colorbar": {
              "outlinewidth": 0,
              "ticks": ""
             }
            },
            "type": "scatter3d"
           }
          ],
          "scattercarpet": [
           {
            "marker": {
             "colorbar": {
              "outlinewidth": 0,
              "ticks": ""
             }
            },
            "type": "scattercarpet"
           }
          ],
          "scattergeo": [
           {
            "marker": {
             "colorbar": {
              "outlinewidth": 0,
              "ticks": ""
             }
            },
            "type": "scattergeo"
           }
          ],
          "scattergl": [
           {
            "marker": {
             "colorbar": {
              "outlinewidth": 0,
              "ticks": ""
             }
            },
            "type": "scattergl"
           }
          ],
          "scattermapbox": [
           {
            "marker": {
             "colorbar": {
              "outlinewidth": 0,
              "ticks": ""
             }
            },
            "type": "scattermapbox"
           }
          ],
          "scatterpolar": [
           {
            "marker": {
             "colorbar": {
              "outlinewidth": 0,
              "ticks": ""
             }
            },
            "type": "scatterpolar"
           }
          ],
          "scatterpolargl": [
           {
            "marker": {
             "colorbar": {
              "outlinewidth": 0,
              "ticks": ""
             }
            },
            "type": "scatterpolargl"
           }
          ],
          "scatterternary": [
           {
            "marker": {
             "colorbar": {
              "outlinewidth": 0,
              "ticks": ""
             }
            },
            "type": "scatterternary"
           }
          ],
          "surface": [
           {
            "colorbar": {
             "outlinewidth": 0,
             "ticks": ""
            },
            "colorscale": [
             [
              0,
              "#0d0887"
             ],
             [
              0.1111111111111111,
              "#46039f"
             ],
             [
              0.2222222222222222,
              "#7201a8"
             ],
             [
              0.3333333333333333,
              "#9c179e"
             ],
             [
              0.4444444444444444,
              "#bd3786"
             ],
             [
              0.5555555555555556,
              "#d8576b"
             ],
             [
              0.6666666666666666,
              "#ed7953"
             ],
             [
              0.7777777777777778,
              "#fb9f3a"
             ],
             [
              0.8888888888888888,
              "#fdca26"
             ],
             [
              1,
              "#f0f921"
             ]
            ],
            "type": "surface"
           }
          ],
          "table": [
           {
            "cells": {
             "fill": {
              "color": "#EBF0F8"
             },
             "line": {
              "color": "white"
             }
            },
            "header": {
             "fill": {
              "color": "#C8D4E3"
             },
             "line": {
              "color": "white"
             }
            },
            "type": "table"
           }
          ]
         },
         "layout": {
          "annotationdefaults": {
           "arrowcolor": "#2a3f5f",
           "arrowhead": 0,
           "arrowwidth": 1
          },
          "autotypenumbers": "strict",
          "coloraxis": {
           "colorbar": {
            "outlinewidth": 0,
            "ticks": ""
           }
          },
          "colorscale": {
           "diverging": [
            [
             0,
             "#8e0152"
            ],
            [
             0.1,
             "#c51b7d"
            ],
            [
             0.2,
             "#de77ae"
            ],
            [
             0.3,
             "#f1b6da"
            ],
            [
             0.4,
             "#fde0ef"
            ],
            [
             0.5,
             "#f7f7f7"
            ],
            [
             0.6,
             "#e6f5d0"
            ],
            [
             0.7,
             "#b8e186"
            ],
            [
             0.8,
             "#7fbc41"
            ],
            [
             0.9,
             "#4d9221"
            ],
            [
             1,
             "#276419"
            ]
           ],
           "sequential": [
            [
             0,
             "#0d0887"
            ],
            [
             0.1111111111111111,
             "#46039f"
            ],
            [
             0.2222222222222222,
             "#7201a8"
            ],
            [
             0.3333333333333333,
             "#9c179e"
            ],
            [
             0.4444444444444444,
             "#bd3786"
            ],
            [
             0.5555555555555556,
             "#d8576b"
            ],
            [
             0.6666666666666666,
             "#ed7953"
            ],
            [
             0.7777777777777778,
             "#fb9f3a"
            ],
            [
             0.8888888888888888,
             "#fdca26"
            ],
            [
             1,
             "#f0f921"
            ]
           ],
           "sequentialminus": [
            [
             0,
             "#0d0887"
            ],
            [
             0.1111111111111111,
             "#46039f"
            ],
            [
             0.2222222222222222,
             "#7201a8"
            ],
            [
             0.3333333333333333,
             "#9c179e"
            ],
            [
             0.4444444444444444,
             "#bd3786"
            ],
            [
             0.5555555555555556,
             "#d8576b"
            ],
            [
             0.6666666666666666,
             "#ed7953"
            ],
            [
             0.7777777777777778,
             "#fb9f3a"
            ],
            [
             0.8888888888888888,
             "#fdca26"
            ],
            [
             1,
             "#f0f921"
            ]
           ]
          },
          "colorway": [
           "#636efa",
           "#EF553B",
           "#00cc96",
           "#ab63fa",
           "#FFA15A",
           "#19d3f3",
           "#FF6692",
           "#B6E880",
           "#FF97FF",
           "#FECB52"
          ],
          "font": {
           "color": "#2a3f5f"
          },
          "geo": {
           "bgcolor": "white",
           "lakecolor": "white",
           "landcolor": "#E5ECF6",
           "showlakes": true,
           "showland": true,
           "subunitcolor": "white"
          },
          "hoverlabel": {
           "align": "left"
          },
          "hovermode": "closest",
          "mapbox": {
           "style": "light"
          },
          "paper_bgcolor": "white",
          "plot_bgcolor": "#E5ECF6",
          "polar": {
           "angularaxis": {
            "gridcolor": "white",
            "linecolor": "white",
            "ticks": ""
           },
           "bgcolor": "#E5ECF6",
           "radialaxis": {
            "gridcolor": "white",
            "linecolor": "white",
            "ticks": ""
           }
          },
          "scene": {
           "xaxis": {
            "backgroundcolor": "#E5ECF6",
            "gridcolor": "white",
            "gridwidth": 2,
            "linecolor": "white",
            "showbackground": true,
            "ticks": "",
            "zerolinecolor": "white"
           },
           "yaxis": {
            "backgroundcolor": "#E5ECF6",
            "gridcolor": "white",
            "gridwidth": 2,
            "linecolor": "white",
            "showbackground": true,
            "ticks": "",
            "zerolinecolor": "white"
           },
           "zaxis": {
            "backgroundcolor": "#E5ECF6",
            "gridcolor": "white",
            "gridwidth": 2,
            "linecolor": "white",
            "showbackground": true,
            "ticks": "",
            "zerolinecolor": "white"
           }
          },
          "shapedefaults": {
           "line": {
            "color": "#2a3f5f"
           }
          },
          "ternary": {
           "aaxis": {
            "gridcolor": "white",
            "linecolor": "white",
            "ticks": ""
           },
           "baxis": {
            "gridcolor": "white",
            "linecolor": "white",
            "ticks": ""
           },
           "bgcolor": "#E5ECF6",
           "caxis": {
            "gridcolor": "white",
            "linecolor": "white",
            "ticks": ""
           }
          },
          "title": {
           "x": 0.05
          },
          "xaxis": {
           "automargin": true,
           "gridcolor": "white",
           "linecolor": "white",
           "ticks": "",
           "title": {
            "standoff": 15
           },
           "zerolinecolor": "white",
           "zerolinewidth": 2
          },
          "yaxis": {
           "automargin": true,
           "gridcolor": "white",
           "linecolor": "white",
           "ticks": "",
           "title": {
            "standoff": 15
           },
           "zerolinecolor": "white",
           "zerolinewidth": 2
          }
         }
        },
        "title": {
         "text": "TOP 10 países con mayor Crecimiento de la población (% anual) en promedio (2018-2022)"
        },
        "xaxis": {
         "anchor": "y",
         "domain": [
          0,
          1
         ],
         "title": {
          "text": ""
         }
        },
        "yaxis": {
         "anchor": "x",
         "domain": [
          0,
          1
         ],
         "title": {
          "text": "Crecimiento de la población (% anual)"
         }
        }
       }
      }
     },
     "metadata": {},
     "output_type": "display_data"
    }
   ],
   "source": [
    "fig = px.bar(top_paises, title=\"TOP 10 países con mayor Crecimiento de la población (% anual) en promedio (2018-2022)\", y=\"Crecimiento de la población (% anual)\")\n",
    "fig.update_xaxes(title_text=\"\")\n",
    "fig.show()"
   ]
  },
  {
   "cell_type": "code",
   "execution_count": 31,
   "metadata": {},
   "outputs": [
    {
     "data": {
      "text/html": [
       "<div>\n",
       "<style scoped>\n",
       "    .dataframe tbody tr th:only-of-type {\n",
       "        vertical-align: middle;\n",
       "    }\n",
       "\n",
       "    .dataframe tbody tr th {\n",
       "        vertical-align: top;\n",
       "    }\n",
       "\n",
       "    .dataframe thead th {\n",
       "        text-align: right;\n",
       "    }\n",
       "</style>\n",
       "<table border=\"1\" class=\"dataframe\">\n",
       "  <thead>\n",
       "    <tr style=\"text-align: right;\">\n",
       "      <th>serie Name</th>\n",
       "      <th>país Name</th>\n",
       "      <th>Año</th>\n",
       "      <th>Crecimiento de la población (% anual)</th>\n",
       "      <th>Crecimiento de la población rural (% anual)</th>\n",
       "      <th>Crecimiento de la población urbana (% anual)</th>\n",
       "      <th>Continente</th>\n",
       "    </tr>\n",
       "  </thead>\n",
       "  <tbody>\n",
       "    <tr>\n",
       "      <th>0</th>\n",
       "      <td>Afganistán</td>\n",
       "      <td>1987</td>\n",
       "      <td>-1.210190</td>\n",
       "      <td>-2.043746</td>\n",
       "      <td>2.128391</td>\n",
       "      <td>Asia</td>\n",
       "    </tr>\n",
       "    <tr>\n",
       "      <th>1</th>\n",
       "      <td>Afganistán</td>\n",
       "      <td>1988</td>\n",
       "      <td>0.586318</td>\n",
       "      <td>-0.275758</td>\n",
       "      <td>3.898014</td>\n",
       "      <td>Asia</td>\n",
       "    </tr>\n",
       "    <tr>\n",
       "      <th>2</th>\n",
       "      <td>Afganistán</td>\n",
       "      <td>1989</td>\n",
       "      <td>2.751877</td>\n",
       "      <td>2.637888</td>\n",
       "      <td>3.179585</td>\n",
       "      <td>Asia</td>\n",
       "    </tr>\n",
       "    <tr>\n",
       "      <th>3</th>\n",
       "      <td>Afganistán</td>\n",
       "      <td>1990</td>\n",
       "      <td>0.202434</td>\n",
       "      <td>0.089590</td>\n",
       "      <td>0.623574</td>\n",
       "      <td>Asia</td>\n",
       "    </tr>\n",
       "    <tr>\n",
       "      <th>4</th>\n",
       "      <td>Afganistán</td>\n",
       "      <td>1991</td>\n",
       "      <td>0.469880</td>\n",
       "      <td>0.356909</td>\n",
       "      <td>0.889255</td>\n",
       "      <td>Asia</td>\n",
       "    </tr>\n",
       "    <tr>\n",
       "      <th>...</th>\n",
       "      <td>...</td>\n",
       "      <td>...</td>\n",
       "      <td>...</td>\n",
       "      <td>...</td>\n",
       "      <td>...</td>\n",
       "      <td>...</td>\n",
       "    </tr>\n",
       "    <tr>\n",
       "      <th>1579</th>\n",
       "      <td>Venezuela</td>\n",
       "      <td>2018</td>\n",
       "      <td>-2.443543</td>\n",
       "      <td>-2.655330</td>\n",
       "      <td>-2.415197</td>\n",
       "      <td>América del Sur</td>\n",
       "    </tr>\n",
       "    <tr>\n",
       "      <th>1580</th>\n",
       "      <td>Venezuela</td>\n",
       "      <td>2019</td>\n",
       "      <td>-2.904996</td>\n",
       "      <td>-3.176733</td>\n",
       "      <td>-2.868725</td>\n",
       "      <td>América del Sur</td>\n",
       "    </tr>\n",
       "    <tr>\n",
       "      <th>1581</th>\n",
       "      <td>Venezuela</td>\n",
       "      <td>2020</td>\n",
       "      <td>-1.674986</td>\n",
       "      <td>-2.007172</td>\n",
       "      <td>-1.630797</td>\n",
       "      <td>América del Sur</td>\n",
       "    </tr>\n",
       "    <tr>\n",
       "      <th>1582</th>\n",
       "      <td>Venezuela</td>\n",
       "      <td>2021</td>\n",
       "      <td>-1.025179</td>\n",
       "      <td>-1.418423</td>\n",
       "      <td>-0.973083</td>\n",
       "      <td>América del Sur</td>\n",
       "    </tr>\n",
       "    <tr>\n",
       "      <th>1583</th>\n",
       "      <td>Venezuela</td>\n",
       "      <td>2022</td>\n",
       "      <td>0.360447</td>\n",
       "      <td>-0.094537</td>\n",
       "      <td>0.420433</td>\n",
       "      <td>América del Sur</td>\n",
       "    </tr>\n",
       "  </tbody>\n",
       "</table>\n",
       "<p>1584 rows × 6 columns</p>\n",
       "</div>"
      ],
      "text/plain": [
       "serie Name   país Name   Año  Crecimiento de la población (% anual)   \n",
       "0           Afganistán  1987                              -1.210190  \\\n",
       "1           Afganistán  1988                               0.586318   \n",
       "2           Afganistán  1989                               2.751877   \n",
       "3           Afganistán  1990                               0.202434   \n",
       "4           Afganistán  1991                               0.469880   \n",
       "...                ...   ...                                    ...   \n",
       "1579         Venezuela  2018                              -2.443543   \n",
       "1580         Venezuela  2019                              -2.904996   \n",
       "1581         Venezuela  2020                              -1.674986   \n",
       "1582         Venezuela  2021                              -1.025179   \n",
       "1583         Venezuela  2022                               0.360447   \n",
       "\n",
       "serie Name  Crecimiento de la población rural (% anual)   \n",
       "0                                             -2.043746  \\\n",
       "1                                             -0.275758   \n",
       "2                                              2.637888   \n",
       "3                                              0.089590   \n",
       "4                                              0.356909   \n",
       "...                                                 ...   \n",
       "1579                                          -2.655330   \n",
       "1580                                          -3.176733   \n",
       "1581                                          -2.007172   \n",
       "1582                                          -1.418423   \n",
       "1583                                          -0.094537   \n",
       "\n",
       "serie Name  Crecimiento de la población urbana (% anual)       Continente  \n",
       "0                                               2.128391             Asia  \n",
       "1                                               3.898014             Asia  \n",
       "2                                               3.179585             Asia  \n",
       "3                                               0.623574             Asia  \n",
       "4                                               0.889255             Asia  \n",
       "...                                                  ...              ...  \n",
       "1579                                           -2.415197  América del Sur  \n",
       "1580                                           -2.868725  América del Sur  \n",
       "1581                                           -1.630797  América del Sur  \n",
       "1582                                           -0.973083  América del Sur  \n",
       "1583                                            0.420433  América del Sur  \n",
       "\n",
       "[1584 rows x 6 columns]"
      ]
     },
     "execution_count": 31,
     "metadata": {},
     "output_type": "execute_result"
    }
   ],
   "source": [
    "df_pivoted"
   ]
  },
  {
   "cell_type": "code",
   "execution_count": 33,
   "metadata": {},
   "outputs": [],
   "source": [
    "df_pivoted.to_csv(\"../Data_preparada/Data_Población_Crecimiento.csv\", index=False)"
   ]
  }
 ],
 "metadata": {
  "kernelspec": {
   "display_name": "Python 3",
   "language": "python",
   "name": "python3"
  },
  "language_info": {
   "codemirror_mode": {
    "name": "ipython",
    "version": 3
   },
   "file_extension": ".py",
   "mimetype": "text/x-python",
   "name": "python",
   "nbconvert_exporter": "python",
   "pygments_lexer": "ipython3",
   "version": "3.11.2"
  }
 },
 "nbformat": 4,
 "nbformat_minor": 2
}
