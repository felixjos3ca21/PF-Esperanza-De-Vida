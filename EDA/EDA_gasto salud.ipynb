{
 "cells": [
  {
   "cell_type": "markdown",
   "metadata": {},
   "source": [
    "# Análisis Exploratorio de Datos"
   ]
  },
  {
   "cell_type": "markdown",
   "metadata": {},
   "source": [
    "Se importa las librerias a utilizar"
   ]
  },
  {
   "cell_type": "code",
   "execution_count": 1,
   "metadata": {},
   "outputs": [],
   "source": [
    "import pandas as pd\n",
    "import matplotlib.pyplot as plt\n",
    "import pandas as pd\n",
    "import matplotlib.pyplot as plt\n",
    "import plotly.graph_objs as go\n",
    "from plotly.subplots import make_subplots\n",
    "import ipywidgets as widgets\n",
    "from IPython.display import display"
   ]
  },
  {
   "cell_type": "markdown",
   "metadata": {},
   "source": [
    "Se crea un DataFrame con los datos de la Categoría Gasto Salud"
   ]
  },
  {
   "cell_type": "code",
   "execution_count": 2,
   "metadata": {},
   "outputs": [],
   "source": [
    "df = pd.read_csv('data_gasto_salud.csv')"
   ]
  },
  {
   "cell_type": "markdown",
   "metadata": {},
   "source": [
    "Un .info() para tener idea de cuantas columnas y que tipo de datos hay en cada una de ellas, y si tenemos datos Nan"
   ]
  },
  {
   "cell_type": "code",
   "execution_count": 3,
   "metadata": {},
   "outputs": [
    {
     "name": "stdout",
     "output_type": "stream",
     "text": [
      "<class 'pandas.core.frame.DataFrame'>\n",
      "RangeIndex: 132 entries, 0 to 131\n",
      "Data columns (total 40 columns):\n",
      " #   Column          Non-Null Count  Dtype  \n",
      "---  ------          --------------  -----  \n",
      " 0   país            132 non-null    object \n",
      " 1   codigo_pais     132 non-null    object \n",
      " 2   factor_(serie)  132 non-null    object \n",
      " 3   codigo_serie    132 non-null    object \n",
      " 4   1987            0 non-null      float64\n",
      " 5   1988            0 non-null      float64\n",
      " 6   1989            0 non-null      float64\n",
      " 7   1990            0 non-null      float64\n",
      " 8   1991            0 non-null      float64\n",
      " 9   1992            0 non-null      float64\n",
      " 10  1993            0 non-null      float64\n",
      " 11  1994            0 non-null      float64\n",
      " 12  1995            0 non-null      float64\n",
      " 13  1996            0 non-null      float64\n",
      " 14  1997            0 non-null      float64\n",
      " 15  1998            0 non-null      float64\n",
      " 16  1999            0 non-null      float64\n",
      " 17  2000            129 non-null    float64\n",
      " 18  2001            129 non-null    float64\n",
      " 19  2002            132 non-null    float64\n",
      " 20  2003            132 non-null    float64\n",
      " 21  2004            132 non-null    float64\n",
      " 22  2005            132 non-null    float64\n",
      " 23  2006            132 non-null    float64\n",
      " 24  2007            132 non-null    float64\n",
      " 25  2008            132 non-null    float64\n",
      " 26  2009            132 non-null    float64\n",
      " 27  2010            132 non-null    float64\n",
      " 28  2011            132 non-null    float64\n",
      " 29  2012            132 non-null    float64\n",
      " 30  2013            132 non-null    float64\n",
      " 31  2014            132 non-null    float64\n",
      " 32  2015            132 non-null    float64\n",
      " 33  2016            132 non-null    float64\n",
      " 34  2017            132 non-null    float64\n",
      " 35  2018            132 non-null    float64\n",
      " 36  2019            129 non-null    float64\n",
      " 37  2020            129 non-null    float64\n",
      " 38  2021            12 non-null     float64\n",
      " 39  2022            0 non-null      float64\n",
      "dtypes: float64(36), object(4)\n",
      "memory usage: 41.4+ KB\n"
     ]
    }
   ],
   "source": [
    "df.info()"
   ]
  },
  {
   "cell_type": "code",
   "execution_count": 4,
   "metadata": {},
   "outputs": [
    {
     "data": {
      "text/html": [
       "<div>\n",
       "<style scoped>\n",
       "    .dataframe tbody tr th:only-of-type {\n",
       "        vertical-align: middle;\n",
       "    }\n",
       "\n",
       "    .dataframe tbody tr th {\n",
       "        vertical-align: top;\n",
       "    }\n",
       "\n",
       "    .dataframe thead th {\n",
       "        text-align: right;\n",
       "    }\n",
       "</style>\n",
       "<table border=\"1\" class=\"dataframe\">\n",
       "  <thead>\n",
       "    <tr style=\"text-align: right;\">\n",
       "      <th></th>\n",
       "      <th>país</th>\n",
       "      <th>codigo_pais</th>\n",
       "      <th>factor_(serie)</th>\n",
       "      <th>codigo_serie</th>\n",
       "      <th>1987</th>\n",
       "      <th>1988</th>\n",
       "      <th>1989</th>\n",
       "      <th>1990</th>\n",
       "      <th>1991</th>\n",
       "      <th>1992</th>\n",
       "      <th>...</th>\n",
       "      <th>2013</th>\n",
       "      <th>2014</th>\n",
       "      <th>2015</th>\n",
       "      <th>2016</th>\n",
       "      <th>2017</th>\n",
       "      <th>2018</th>\n",
       "      <th>2019</th>\n",
       "      <th>2020</th>\n",
       "      <th>2021</th>\n",
       "      <th>2022</th>\n",
       "    </tr>\n",
       "  </thead>\n",
       "  <tbody>\n",
       "    <tr>\n",
       "      <th>0</th>\n",
       "      <td>Afganistán</td>\n",
       "      <td>AFG</td>\n",
       "      <td>Gasto nacional en salud del gobierno general p...</td>\n",
       "      <td>SH.XPD.GHED.PC.CD</td>\n",
       "      <td>NaN</td>\n",
       "      <td>NaN</td>\n",
       "      <td>NaN</td>\n",
       "      <td>NaN</td>\n",
       "      <td>NaN</td>\n",
       "      <td>NaN</td>\n",
       "      <td>...</td>\n",
       "      <td>2.8348</td>\n",
       "      <td>2.9856</td>\n",
       "      <td>3.1064</td>\n",
       "      <td>3.1222</td>\n",
       "      <td>3.4096</td>\n",
       "      <td>2.7733</td>\n",
       "      <td>2.4879</td>\n",
       "      <td>6.1311</td>\n",
       "      <td>2.6858</td>\n",
       "      <td>NaN</td>\n",
       "    </tr>\n",
       "    <tr>\n",
       "      <th>1</th>\n",
       "      <td>Afganistán</td>\n",
       "      <td>AFG</td>\n",
       "      <td>Gasto de bolsillo per cápita (US$ actuales)</td>\n",
       "      <td>SH.XPD.OOPC.PC.CD</td>\n",
       "      <td>NaN</td>\n",
       "      <td>NaN</td>\n",
       "      <td>NaN</td>\n",
       "      <td>NaN</td>\n",
       "      <td>NaN</td>\n",
       "      <td>NaN</td>\n",
       "      <td>...</td>\n",
       "      <td>40.5669</td>\n",
       "      <td>43.9721</td>\n",
       "      <td>47.0753</td>\n",
       "      <td>46.7139</td>\n",
       "      <td>50.5048</td>\n",
       "      <td>54.3732</td>\n",
       "      <td>57.0254</td>\n",
       "      <td>60.0667</td>\n",
       "      <td>62.7903</td>\n",
       "      <td>NaN</td>\n",
       "    </tr>\n",
       "    <tr>\n",
       "      <th>2</th>\n",
       "      <td>Afganistán</td>\n",
       "      <td>AFG</td>\n",
       "      <td>Gasto interno privado en salud per cápita (US$...</td>\n",
       "      <td>SH.XPD.PVTD.PC.CD</td>\n",
       "      <td>NaN</td>\n",
       "      <td>NaN</td>\n",
       "      <td>NaN</td>\n",
       "      <td>NaN</td>\n",
       "      <td>NaN</td>\n",
       "      <td>NaN</td>\n",
       "      <td>...</td>\n",
       "      <td>40.5669</td>\n",
       "      <td>43.9721</td>\n",
       "      <td>47.0753</td>\n",
       "      <td>46.7139</td>\n",
       "      <td>50.5058</td>\n",
       "      <td>54.4835</td>\n",
       "      <td>57.0254</td>\n",
       "      <td>61.2048</td>\n",
       "      <td>62.9002</td>\n",
       "      <td>NaN</td>\n",
       "    </tr>\n",
       "    <tr>\n",
       "      <th>3</th>\n",
       "      <td>Alemania</td>\n",
       "      <td>DEU</td>\n",
       "      <td>Gasto nacional en salud del gobierno general p...</td>\n",
       "      <td>SH.XPD.GHED.PC.CD</td>\n",
       "      <td>NaN</td>\n",
       "      <td>NaN</td>\n",
       "      <td>NaN</td>\n",
       "      <td>NaN</td>\n",
       "      <td>NaN</td>\n",
       "      <td>NaN</td>\n",
       "      <td>...</td>\n",
       "      <td>3897.2982</td>\n",
       "      <td>4087.5269</td>\n",
       "      <td>3559.0362</td>\n",
       "      <td>3665.8242</td>\n",
       "      <td>3929.0932</td>\n",
       "      <td>4251.8416</td>\n",
       "      <td>4227.0487</td>\n",
       "      <td>4651.7547</td>\n",
       "      <td>NaN</td>\n",
       "      <td>NaN</td>\n",
       "    </tr>\n",
       "    <tr>\n",
       "      <th>4</th>\n",
       "      <td>Alemania</td>\n",
       "      <td>DEU</td>\n",
       "      <td>Gasto de bolsillo per cápita (US$ actuales)</td>\n",
       "      <td>SH.XPD.OOPC.PC.CD</td>\n",
       "      <td>NaN</td>\n",
       "      <td>NaN</td>\n",
       "      <td>NaN</td>\n",
       "      <td>NaN</td>\n",
       "      <td>NaN</td>\n",
       "      <td>NaN</td>\n",
       "      <td>...</td>\n",
       "      <td>679.1858</td>\n",
       "      <td>690.4245</td>\n",
       "      <td>605.2361</td>\n",
       "      <td>614.9713</td>\n",
       "      <td>655.0565</td>\n",
       "      <td>726.2255</td>\n",
       "      <td>738.2104</td>\n",
       "      <td>743.7962</td>\n",
       "      <td>NaN</td>\n",
       "      <td>NaN</td>\n",
       "    </tr>\n",
       "  </tbody>\n",
       "</table>\n",
       "<p>5 rows × 40 columns</p>\n",
       "</div>"
      ],
      "text/plain": [
       "         país codigo_pais                                     factor_(serie)  \\\n",
       "0  Afganistán         AFG  Gasto nacional en salud del gobierno general p...   \n",
       "1  Afganistán         AFG        Gasto de bolsillo per cápita (US$ actuales)   \n",
       "2  Afganistán         AFG  Gasto interno privado en salud per cápita (US$...   \n",
       "3    Alemania         DEU  Gasto nacional en salud del gobierno general p...   \n",
       "4    Alemania         DEU        Gasto de bolsillo per cápita (US$ actuales)   \n",
       "\n",
       "        codigo_serie  1987  1988  1989  1990  1991  1992  ...       2013  \\\n",
       "0  SH.XPD.GHED.PC.CD   NaN   NaN   NaN   NaN   NaN   NaN  ...     2.8348   \n",
       "1  SH.XPD.OOPC.PC.CD   NaN   NaN   NaN   NaN   NaN   NaN  ...    40.5669   \n",
       "2  SH.XPD.PVTD.PC.CD   NaN   NaN   NaN   NaN   NaN   NaN  ...    40.5669   \n",
       "3  SH.XPD.GHED.PC.CD   NaN   NaN   NaN   NaN   NaN   NaN  ...  3897.2982   \n",
       "4  SH.XPD.OOPC.PC.CD   NaN   NaN   NaN   NaN   NaN   NaN  ...   679.1858   \n",
       "\n",
       "        2014       2015       2016       2017       2018       2019  \\\n",
       "0     2.9856     3.1064     3.1222     3.4096     2.7733     2.4879   \n",
       "1    43.9721    47.0753    46.7139    50.5048    54.3732    57.0254   \n",
       "2    43.9721    47.0753    46.7139    50.5058    54.4835    57.0254   \n",
       "3  4087.5269  3559.0362  3665.8242  3929.0932  4251.8416  4227.0487   \n",
       "4   690.4245   605.2361   614.9713   655.0565   726.2255   738.2104   \n",
       "\n",
       "        2020     2021  2022  \n",
       "0     6.1311   2.6858   NaN  \n",
       "1    60.0667  62.7903   NaN  \n",
       "2    61.2048  62.9002   NaN  \n",
       "3  4651.7547      NaN   NaN  \n",
       "4   743.7962      NaN   NaN  \n",
       "\n",
       "[5 rows x 40 columns]"
      ]
     },
     "execution_count": 4,
     "metadata": {},
     "output_type": "execute_result"
    }
   ],
   "source": [
    "df.head()"
   ]
  },
  {
   "cell_type": "markdown",
   "metadata": {},
   "source": [
    "Se utiliza .describe() para obtener una visión general de las estadísticas clave de las columnas numéricas en tu conjunto de datos"
   ]
  },
  {
   "cell_type": "code",
   "execution_count": 5,
   "metadata": {},
   "outputs": [
    {
     "data": {
      "text/html": [
       "<div>\n",
       "<style scoped>\n",
       "    .dataframe tbody tr th:only-of-type {\n",
       "        vertical-align: middle;\n",
       "    }\n",
       "\n",
       "    .dataframe tbody tr th {\n",
       "        vertical-align: top;\n",
       "    }\n",
       "\n",
       "    .dataframe thead th {\n",
       "        text-align: right;\n",
       "    }\n",
       "</style>\n",
       "<table border=\"1\" class=\"dataframe\">\n",
       "  <thead>\n",
       "    <tr style=\"text-align: right;\">\n",
       "      <th></th>\n",
       "      <th>1987</th>\n",
       "      <th>1988</th>\n",
       "      <th>1989</th>\n",
       "      <th>1990</th>\n",
       "      <th>1991</th>\n",
       "      <th>1992</th>\n",
       "      <th>1993</th>\n",
       "      <th>1994</th>\n",
       "      <th>1995</th>\n",
       "      <th>1996</th>\n",
       "      <th>...</th>\n",
       "      <th>2013</th>\n",
       "      <th>2014</th>\n",
       "      <th>2015</th>\n",
       "      <th>2016</th>\n",
       "      <th>2017</th>\n",
       "      <th>2018</th>\n",
       "      <th>2019</th>\n",
       "      <th>2020</th>\n",
       "      <th>2021</th>\n",
       "      <th>2022</th>\n",
       "    </tr>\n",
       "  </thead>\n",
       "  <tbody>\n",
       "    <tr>\n",
       "      <th>count</th>\n",
       "      <td>0.0</td>\n",
       "      <td>0.0</td>\n",
       "      <td>0.0</td>\n",
       "      <td>0.0</td>\n",
       "      <td>0.0</td>\n",
       "      <td>0.0</td>\n",
       "      <td>0.0</td>\n",
       "      <td>0.0</td>\n",
       "      <td>0.0</td>\n",
       "      <td>0.0</td>\n",
       "      <td>...</td>\n",
       "      <td>132.00</td>\n",
       "      <td>132.00</td>\n",
       "      <td>132.00</td>\n",
       "      <td>132.00</td>\n",
       "      <td>132.00</td>\n",
       "      <td>132.00</td>\n",
       "      <td>129.00</td>\n",
       "      <td>129.00</td>\n",
       "      <td>12.00</td>\n",
       "      <td>0.0</td>\n",
       "    </tr>\n",
       "    <tr>\n",
       "      <th>mean</th>\n",
       "      <td>NaN</td>\n",
       "      <td>NaN</td>\n",
       "      <td>NaN</td>\n",
       "      <td>NaN</td>\n",
       "      <td>NaN</td>\n",
       "      <td>NaN</td>\n",
       "      <td>NaN</td>\n",
       "      <td>NaN</td>\n",
       "      <td>NaN</td>\n",
       "      <td>NaN</td>\n",
       "      <td>...</td>\n",
       "      <td>864.34</td>\n",
       "      <td>880.41</td>\n",
       "      <td>797.49</td>\n",
       "      <td>802.51</td>\n",
       "      <td>835.73</td>\n",
       "      <td>870.33</td>\n",
       "      <td>871.74</td>\n",
       "      <td>914.20</td>\n",
       "      <td>2129.84</td>\n",
       "      <td>NaN</td>\n",
       "    </tr>\n",
       "    <tr>\n",
       "      <th>std</th>\n",
       "      <td>NaN</td>\n",
       "      <td>NaN</td>\n",
       "      <td>NaN</td>\n",
       "      <td>NaN</td>\n",
       "      <td>NaN</td>\n",
       "      <td>NaN</td>\n",
       "      <td>NaN</td>\n",
       "      <td>NaN</td>\n",
       "      <td>NaN</td>\n",
       "      <td>NaN</td>\n",
       "      <td>...</td>\n",
       "      <td>1380.29</td>\n",
       "      <td>1408.80</td>\n",
       "      <td>1275.46</td>\n",
       "      <td>1294.94</td>\n",
       "      <td>1336.06</td>\n",
       "      <td>1405.07</td>\n",
       "      <td>1408.41</td>\n",
       "      <td>1508.19</td>\n",
       "      <td>2588.21</td>\n",
       "      <td>NaN</td>\n",
       "    </tr>\n",
       "    <tr>\n",
       "      <th>min</th>\n",
       "      <td>NaN</td>\n",
       "      <td>NaN</td>\n",
       "      <td>NaN</td>\n",
       "      <td>NaN</td>\n",
       "      <td>NaN</td>\n",
       "      <td>NaN</td>\n",
       "      <td>NaN</td>\n",
       "      <td>NaN</td>\n",
       "      <td>NaN</td>\n",
       "      <td>NaN</td>\n",
       "      <td>...</td>\n",
       "      <td>2.83</td>\n",
       "      <td>2.99</td>\n",
       "      <td>3.11</td>\n",
       "      <td>3.12</td>\n",
       "      <td>3.41</td>\n",
       "      <td>2.77</td>\n",
       "      <td>2.49</td>\n",
       "      <td>5.95</td>\n",
       "      <td>2.69</td>\n",
       "      <td>NaN</td>\n",
       "    </tr>\n",
       "    <tr>\n",
       "      <th>25%</th>\n",
       "      <td>NaN</td>\n",
       "      <td>NaN</td>\n",
       "      <td>NaN</td>\n",
       "      <td>NaN</td>\n",
       "      <td>NaN</td>\n",
       "      <td>NaN</td>\n",
       "      <td>NaN</td>\n",
       "      <td>NaN</td>\n",
       "      <td>NaN</td>\n",
       "      <td>NaN</td>\n",
       "      <td>...</td>\n",
       "      <td>50.02</td>\n",
       "      <td>48.02</td>\n",
       "      <td>48.92</td>\n",
       "      <td>46.64</td>\n",
       "      <td>50.51</td>\n",
       "      <td>56.70</td>\n",
       "      <td>42.07</td>\n",
       "      <td>52.75</td>\n",
       "      <td>590.95</td>\n",
       "      <td>NaN</td>\n",
       "    </tr>\n",
       "    <tr>\n",
       "      <th>50%</th>\n",
       "      <td>NaN</td>\n",
       "      <td>NaN</td>\n",
       "      <td>NaN</td>\n",
       "      <td>NaN</td>\n",
       "      <td>NaN</td>\n",
       "      <td>NaN</td>\n",
       "      <td>NaN</td>\n",
       "      <td>NaN</td>\n",
       "      <td>NaN</td>\n",
       "      <td>NaN</td>\n",
       "      <td>...</td>\n",
       "      <td>286.89</td>\n",
       "      <td>290.19</td>\n",
       "      <td>260.21</td>\n",
       "      <td>236.08</td>\n",
       "      <td>249.29</td>\n",
       "      <td>256.18</td>\n",
       "      <td>254.07</td>\n",
       "      <td>253.68</td>\n",
       "      <td>1171.75</td>\n",
       "      <td>NaN</td>\n",
       "    </tr>\n",
       "    <tr>\n",
       "      <th>75%</th>\n",
       "      <td>NaN</td>\n",
       "      <td>NaN</td>\n",
       "      <td>NaN</td>\n",
       "      <td>NaN</td>\n",
       "      <td>NaN</td>\n",
       "      <td>NaN</td>\n",
       "      <td>NaN</td>\n",
       "      <td>NaN</td>\n",
       "      <td>NaN</td>\n",
       "      <td>NaN</td>\n",
       "      <td>...</td>\n",
       "      <td>898.38</td>\n",
       "      <td>951.39</td>\n",
       "      <td>881.71</td>\n",
       "      <td>883.89</td>\n",
       "      <td>932.44</td>\n",
       "      <td>933.27</td>\n",
       "      <td>901.84</td>\n",
       "      <td>904.10</td>\n",
       "      <td>2296.29</td>\n",
       "      <td>NaN</td>\n",
       "    </tr>\n",
       "    <tr>\n",
       "      <th>max</th>\n",
       "      <td>NaN</td>\n",
       "      <td>NaN</td>\n",
       "      <td>NaN</td>\n",
       "      <td>NaN</td>\n",
       "      <td>NaN</td>\n",
       "      <td>NaN</td>\n",
       "      <td>NaN</td>\n",
       "      <td>NaN</td>\n",
       "      <td>NaN</td>\n",
       "      <td>NaN</td>\n",
       "      <td>...</td>\n",
       "      <td>7857.19</td>\n",
       "      <td>7776.92</td>\n",
       "      <td>6469.65</td>\n",
       "      <td>6513.63</td>\n",
       "      <td>6652.85</td>\n",
       "      <td>7089.27</td>\n",
       "      <td>6863.65</td>\n",
       "      <td>6643.36</td>\n",
       "      <td>7717.88</td>\n",
       "      <td>NaN</td>\n",
       "    </tr>\n",
       "  </tbody>\n",
       "</table>\n",
       "<p>8 rows × 36 columns</p>\n",
       "</div>"
      ],
      "text/plain": [
       "       1987  1988  1989  1990  1991  1992  1993  1994  1995  1996  ...  \\\n",
       "count   0.0   0.0   0.0   0.0   0.0   0.0   0.0   0.0   0.0   0.0  ...   \n",
       "mean    NaN   NaN   NaN   NaN   NaN   NaN   NaN   NaN   NaN   NaN  ...   \n",
       "std     NaN   NaN   NaN   NaN   NaN   NaN   NaN   NaN   NaN   NaN  ...   \n",
       "min     NaN   NaN   NaN   NaN   NaN   NaN   NaN   NaN   NaN   NaN  ...   \n",
       "25%     NaN   NaN   NaN   NaN   NaN   NaN   NaN   NaN   NaN   NaN  ...   \n",
       "50%     NaN   NaN   NaN   NaN   NaN   NaN   NaN   NaN   NaN   NaN  ...   \n",
       "75%     NaN   NaN   NaN   NaN   NaN   NaN   NaN   NaN   NaN   NaN  ...   \n",
       "max     NaN   NaN   NaN   NaN   NaN   NaN   NaN   NaN   NaN   NaN  ...   \n",
       "\n",
       "          2013     2014     2015     2016     2017     2018     2019     2020  \\\n",
       "count   132.00   132.00   132.00   132.00   132.00   132.00   129.00   129.00   \n",
       "mean    864.34   880.41   797.49   802.51   835.73   870.33   871.74   914.20   \n",
       "std    1380.29  1408.80  1275.46  1294.94  1336.06  1405.07  1408.41  1508.19   \n",
       "min       2.83     2.99     3.11     3.12     3.41     2.77     2.49     5.95   \n",
       "25%      50.02    48.02    48.92    46.64    50.51    56.70    42.07    52.75   \n",
       "50%     286.89   290.19   260.21   236.08   249.29   256.18   254.07   253.68   \n",
       "75%     898.38   951.39   881.71   883.89   932.44   933.27   901.84   904.10   \n",
       "max    7857.19  7776.92  6469.65  6513.63  6652.85  7089.27  6863.65  6643.36   \n",
       "\n",
       "          2021  2022  \n",
       "count    12.00   0.0  \n",
       "mean   2129.84   NaN  \n",
       "std    2588.21   NaN  \n",
       "min       2.69   NaN  \n",
       "25%     590.95   NaN  \n",
       "50%    1171.75   NaN  \n",
       "75%    2296.29   NaN  \n",
       "max    7717.88   NaN  \n",
       "\n",
       "[8 rows x 36 columns]"
      ]
     },
     "execution_count": 5,
     "metadata": {},
     "output_type": "execute_result"
    }
   ],
   "source": [
    "df.describe().round(2)"
   ]
  },
  {
   "cell_type": "markdown",
   "metadata": {},
   "source": [
    "Para conocer si tenemos valores faltantes en las columnas de ['país'] ['codigo_pais'] ['factor_(serie)'] ['codigo_serie']"
   ]
  },
  {
   "cell_type": "code",
   "execution_count": 6,
   "metadata": {},
   "outputs": [
    {
     "name": "stdout",
     "output_type": "stream",
     "text": [
      "0\n",
      "0\n",
      "0\n",
      "0\n"
     ]
    }
   ],
   "source": [
    "print(df['país'].isna().sum())\n",
    "print(df['codigo_pais'].isna().sum())\n",
    "print(df['factor_(serie)'].isna().sum())\n",
    "print(df['codigo_serie'].isna().sum())\n"
   ]
  },
  {
   "cell_type": "markdown",
   "metadata": {},
   "source": [
    "Veamos en que países se encuentran en estudio."
   ]
  },
  {
   "cell_type": "code",
   "execution_count": 7,
   "metadata": {},
   "outputs": [
    {
     "name": "stdout",
     "output_type": "stream",
     "text": [
      "Cantidad de paises en estudio: 44\n"
     ]
    },
    {
     "data": {
      "text/html": [
       "<div>\n",
       "<style scoped>\n",
       "    .dataframe tbody tr th:only-of-type {\n",
       "        vertical-align: middle;\n",
       "    }\n",
       "\n",
       "    .dataframe tbody tr th {\n",
       "        vertical-align: top;\n",
       "    }\n",
       "\n",
       "    .dataframe thead th {\n",
       "        text-align: right;\n",
       "    }\n",
       "</style>\n",
       "<table border=\"1\" class=\"dataframe\">\n",
       "  <thead>\n",
       "    <tr style=\"text-align: right;\">\n",
       "      <th></th>\n",
       "      <th>Países</th>\n",
       "    </tr>\n",
       "  </thead>\n",
       "  <tbody>\n",
       "    <tr>\n",
       "      <th>0</th>\n",
       "      <td>Afganistán</td>\n",
       "    </tr>\n",
       "    <tr>\n",
       "      <th>1</th>\n",
       "      <td>Alemania</td>\n",
       "    </tr>\n",
       "    <tr>\n",
       "      <th>2</th>\n",
       "      <td>Argelia</td>\n",
       "    </tr>\n",
       "    <tr>\n",
       "      <th>3</th>\n",
       "      <td>Arabia Saudita</td>\n",
       "    </tr>\n",
       "    <tr>\n",
       "      <th>4</th>\n",
       "      <td>Argentina</td>\n",
       "    </tr>\n",
       "    <tr>\n",
       "      <th>5</th>\n",
       "      <td>Australia</td>\n",
       "    </tr>\n",
       "    <tr>\n",
       "      <th>6</th>\n",
       "      <td>Austria</td>\n",
       "    </tr>\n",
       "    <tr>\n",
       "      <th>7</th>\n",
       "      <td>Brasil</td>\n",
       "    </tr>\n",
       "    <tr>\n",
       "      <th>8</th>\n",
       "      <td>Burkina Faso</td>\n",
       "    </tr>\n",
       "    <tr>\n",
       "      <th>9</th>\n",
       "      <td>China</td>\n",
       "    </tr>\n",
       "    <tr>\n",
       "      <th>10</th>\n",
       "      <td>Canadá</td>\n",
       "    </tr>\n",
       "    <tr>\n",
       "      <th>11</th>\n",
       "      <td>Camboya</td>\n",
       "    </tr>\n",
       "    <tr>\n",
       "      <th>12</th>\n",
       "      <td>Chad</td>\n",
       "    </tr>\n",
       "    <tr>\n",
       "      <th>13</th>\n",
       "      <td>Dinamarca</td>\n",
       "    </tr>\n",
       "    <tr>\n",
       "      <th>14</th>\n",
       "      <td>Ecuador</td>\n",
       "    </tr>\n",
       "    <tr>\n",
       "      <th>15</th>\n",
       "      <td>Emiratos Árabes Unidos</td>\n",
       "    </tr>\n",
       "    <tr>\n",
       "      <th>16</th>\n",
       "      <td>Egipto, República Árabe de</td>\n",
       "    </tr>\n",
       "    <tr>\n",
       "      <th>17</th>\n",
       "      <td>Cuba</td>\n",
       "    </tr>\n",
       "    <tr>\n",
       "      <th>18</th>\n",
       "      <td>Costa Rica</td>\n",
       "    </tr>\n",
       "    <tr>\n",
       "      <th>19</th>\n",
       "      <td>Estados Unidos</td>\n",
       "    </tr>\n",
       "    <tr>\n",
       "      <th>20</th>\n",
       "      <td>España</td>\n",
       "    </tr>\n",
       "    <tr>\n",
       "      <th>21</th>\n",
       "      <td>Fiji</td>\n",
       "    </tr>\n",
       "    <tr>\n",
       "      <th>22</th>\n",
       "      <td>Finlandia</td>\n",
       "    </tr>\n",
       "    <tr>\n",
       "      <th>23</th>\n",
       "      <td>Federación de Rusia</td>\n",
       "    </tr>\n",
       "    <tr>\n",
       "      <th>24</th>\n",
       "      <td>Grecia</td>\n",
       "    </tr>\n",
       "    <tr>\n",
       "      <th>25</th>\n",
       "      <td>India</td>\n",
       "    </tr>\n",
       "    <tr>\n",
       "      <th>26</th>\n",
       "      <td>Marruecos</td>\n",
       "    </tr>\n",
       "    <tr>\n",
       "      <th>27</th>\n",
       "      <td>México</td>\n",
       "    </tr>\n",
       "    <tr>\n",
       "      <th>28</th>\n",
       "      <td>Nepal</td>\n",
       "    </tr>\n",
       "    <tr>\n",
       "      <th>29</th>\n",
       "      <td>Níger</td>\n",
       "    </tr>\n",
       "    <tr>\n",
       "      <th>30</th>\n",
       "      <td>Países Bajos</td>\n",
       "    </tr>\n",
       "    <tr>\n",
       "      <th>31</th>\n",
       "      <td>Nueva Zelandia</td>\n",
       "    </tr>\n",
       "    <tr>\n",
       "      <th>32</th>\n",
       "      <td>Reino Unido</td>\n",
       "    </tr>\n",
       "    <tr>\n",
       "      <th>33</th>\n",
       "      <td>Rwanda</td>\n",
       "    </tr>\n",
       "    <tr>\n",
       "      <th>34</th>\n",
       "      <td>Samoa</td>\n",
       "    </tr>\n",
       "    <tr>\n",
       "      <th>35</th>\n",
       "      <td>Sierra Leona</td>\n",
       "    </tr>\n",
       "    <tr>\n",
       "      <th>36</th>\n",
       "      <td>Sudáfrica</td>\n",
       "    </tr>\n",
       "    <tr>\n",
       "      <th>37</th>\n",
       "      <td>Singapur</td>\n",
       "    </tr>\n",
       "    <tr>\n",
       "      <th>38</th>\n",
       "      <td>Suiza</td>\n",
       "    </tr>\n",
       "    <tr>\n",
       "      <th>39</th>\n",
       "      <td>Venezuela</td>\n",
       "    </tr>\n",
       "    <tr>\n",
       "      <th>40</th>\n",
       "      <td>Colombia</td>\n",
       "    </tr>\n",
       "    <tr>\n",
       "      <th>41</th>\n",
       "      <td>Japón</td>\n",
       "    </tr>\n",
       "    <tr>\n",
       "      <th>42</th>\n",
       "      <td>Kenya</td>\n",
       "    </tr>\n",
       "    <tr>\n",
       "      <th>43</th>\n",
       "      <td>Noruega</td>\n",
       "    </tr>\n",
       "  </tbody>\n",
       "</table>\n",
       "</div>"
      ],
      "text/plain": [
       "                        Países\n",
       "0                   Afganistán\n",
       "1                     Alemania\n",
       "2                      Argelia\n",
       "3               Arabia Saudita\n",
       "4                    Argentina\n",
       "5                    Australia\n",
       "6                      Austria\n",
       "7                       Brasil\n",
       "8                 Burkina Faso\n",
       "9                        China\n",
       "10                      Canadá\n",
       "11                     Camboya\n",
       "12                        Chad\n",
       "13                   Dinamarca\n",
       "14                     Ecuador\n",
       "15      Emiratos Árabes Unidos\n",
       "16  Egipto, República Árabe de\n",
       "17                        Cuba\n",
       "18                  Costa Rica\n",
       "19              Estados Unidos\n",
       "20                      España\n",
       "21                        Fiji\n",
       "22                   Finlandia\n",
       "23         Federación de Rusia\n",
       "24                      Grecia\n",
       "25                       India\n",
       "26                   Marruecos\n",
       "27                      México\n",
       "28                       Nepal\n",
       "29                       Níger\n",
       "30                Países Bajos\n",
       "31              Nueva Zelandia\n",
       "32                 Reino Unido\n",
       "33                      Rwanda\n",
       "34                       Samoa\n",
       "35                Sierra Leona\n",
       "36                   Sudáfrica\n",
       "37                    Singapur\n",
       "38                       Suiza\n",
       "39                   Venezuela\n",
       "40                    Colombia\n",
       "41                       Japón\n",
       "42                       Kenya\n",
       "43                     Noruega"
      ]
     },
     "execution_count": 7,
     "metadata": {},
     "output_type": "execute_result"
    }
   ],
   "source": [
    "cantidad_paises = len(df['país'].unique())\n",
    "print('Cantidad de paises en estudio:',cantidad_paises)\n",
    "pd.DataFrame(df['país'].unique(), columns=['Países'])"
   ]
  },
  {
   "cell_type": "markdown",
   "metadata": {},
   "source": [
    "Veamos Variables se estudia"
   ]
  },
  {
   "cell_type": "code",
   "execution_count": 8,
   "metadata": {},
   "outputs": [
    {
     "name": "stdout",
     "output_type": "stream",
     "text": [
      "Cantidad de variables estudio: 3\n",
      "['Gasto nacional en salud del gobierno general per cápita (US$ a precios actuales)'\n",
      " 'Gasto de bolsillo per cápita (US$ actuales)'\n",
      " 'Gasto interno privado en salud per cápita (US$ a precios actuales)']\n"
     ]
    }
   ],
   "source": [
    "cantidad_series = len(df['factor_(serie)'].unique())\n",
    "print('Cantidad de variables estudio:',cantidad_series)\n",
    "serie_unicos = df['factor_(serie)'].unique()\n",
    "print(serie_unicos)"
   ]
  },
  {
   "cell_type": "code",
   "execution_count": null,
   "metadata": {},
   "outputs": [],
   "source": []
  },
  {
   "cell_type": "code",
   "execution_count": 9,
   "metadata": {},
   "outputs": [],
   "source": [
    "grupos = df.groupby('factor_(serie)').groups\n"
   ]
  },
  {
   "cell_type": "code",
   "execution_count": 10,
   "metadata": {},
   "outputs": [],
   "source": [
    "grupos = df.groupby('factor_(serie)')\n",
    "\n",
    "# Iterar a través de los grupos y convertirlos en DataFrames individuales\n",
    "dataframes_por_grupo = {}\n",
    "for nombre_grupo, grupo in grupos:\n",
    "    dataframes_por_grupo[nombre_grupo] = grupo.reset_index(drop=True)\n",
    "\n",
    "# Ahora dataframes_por_grupo contiene un DataFrame por cada grupo\n"
   ]
  },
  {
   "cell_type": "code",
   "execution_count": 11,
   "metadata": {},
   "outputs": [
    {
     "data": {
      "text/html": [
       "<div>\n",
       "<style scoped>\n",
       "    .dataframe tbody tr th:only-of-type {\n",
       "        vertical-align: middle;\n",
       "    }\n",
       "\n",
       "    .dataframe tbody tr th {\n",
       "        vertical-align: top;\n",
       "    }\n",
       "\n",
       "    .dataframe thead th {\n",
       "        text-align: right;\n",
       "    }\n",
       "</style>\n",
       "<table border=\"1\" class=\"dataframe\">\n",
       "  <thead>\n",
       "    <tr style=\"text-align: right;\">\n",
       "      <th></th>\n",
       "      <th>país</th>\n",
       "      <th>codigo_pais</th>\n",
       "      <th>factor_(serie)</th>\n",
       "      <th>codigo_serie</th>\n",
       "      <th>1987</th>\n",
       "      <th>1988</th>\n",
       "      <th>1989</th>\n",
       "      <th>1990</th>\n",
       "      <th>1991</th>\n",
       "      <th>1992</th>\n",
       "      <th>...</th>\n",
       "      <th>2013</th>\n",
       "      <th>2014</th>\n",
       "      <th>2015</th>\n",
       "      <th>2016</th>\n",
       "      <th>2017</th>\n",
       "      <th>2018</th>\n",
       "      <th>2019</th>\n",
       "      <th>2020</th>\n",
       "      <th>2021</th>\n",
       "      <th>2022</th>\n",
       "    </tr>\n",
       "  </thead>\n",
       "  <tbody>\n",
       "    <tr>\n",
       "      <th>0</th>\n",
       "      <td>Afganistán</td>\n",
       "      <td>AFG</td>\n",
       "      <td>Gasto nacional en salud del gobierno general p...</td>\n",
       "      <td>SH.XPD.GHED.PC.CD</td>\n",
       "      <td>NaN</td>\n",
       "      <td>NaN</td>\n",
       "      <td>NaN</td>\n",
       "      <td>NaN</td>\n",
       "      <td>NaN</td>\n",
       "      <td>NaN</td>\n",
       "      <td>...</td>\n",
       "      <td>2.8348</td>\n",
       "      <td>2.9856</td>\n",
       "      <td>3.1064</td>\n",
       "      <td>3.1222</td>\n",
       "      <td>3.4096</td>\n",
       "      <td>2.7733</td>\n",
       "      <td>2.4879</td>\n",
       "      <td>6.1311</td>\n",
       "      <td>2.6858</td>\n",
       "      <td>NaN</td>\n",
       "    </tr>\n",
       "    <tr>\n",
       "      <th>1</th>\n",
       "      <td>Alemania</td>\n",
       "      <td>DEU</td>\n",
       "      <td>Gasto nacional en salud del gobierno general p...</td>\n",
       "      <td>SH.XPD.GHED.PC.CD</td>\n",
       "      <td>NaN</td>\n",
       "      <td>NaN</td>\n",
       "      <td>NaN</td>\n",
       "      <td>NaN</td>\n",
       "      <td>NaN</td>\n",
       "      <td>NaN</td>\n",
       "      <td>...</td>\n",
       "      <td>3897.2982</td>\n",
       "      <td>4087.5269</td>\n",
       "      <td>3559.0362</td>\n",
       "      <td>3665.8242</td>\n",
       "      <td>3929.0932</td>\n",
       "      <td>4251.8416</td>\n",
       "      <td>4227.0487</td>\n",
       "      <td>4651.7547</td>\n",
       "      <td>NaN</td>\n",
       "      <td>NaN</td>\n",
       "    </tr>\n",
       "    <tr>\n",
       "      <th>2</th>\n",
       "      <td>Argelia</td>\n",
       "      <td>DZA</td>\n",
       "      <td>Gasto nacional en salud del gobierno general p...</td>\n",
       "      <td>SH.XPD.GHED.PC.CD</td>\n",
       "      <td>NaN</td>\n",
       "      <td>NaN</td>\n",
       "      <td>NaN</td>\n",
       "      <td>NaN</td>\n",
       "      <td>NaN</td>\n",
       "      <td>NaN</td>\n",
       "      <td>...</td>\n",
       "      <td>236.7045</td>\n",
       "      <td>260.0650</td>\n",
       "      <td>206.3872</td>\n",
       "      <td>177.4308</td>\n",
       "      <td>171.2448</td>\n",
       "      <td>169.7875</td>\n",
       "      <td>162.9809</td>\n",
       "      <td>134.4669</td>\n",
       "      <td>NaN</td>\n",
       "      <td>NaN</td>\n",
       "    </tr>\n",
       "    <tr>\n",
       "      <th>3</th>\n",
       "      <td>Arabia Saudita</td>\n",
       "      <td>SAU</td>\n",
       "      <td>Gasto nacional en salud del gobierno general p...</td>\n",
       "      <td>SH.XPD.GHED.PC.CD</td>\n",
       "      <td>NaN</td>\n",
       "      <td>NaN</td>\n",
       "      <td>NaN</td>\n",
       "      <td>NaN</td>\n",
       "      <td>NaN</td>\n",
       "      <td>NaN</td>\n",
       "      <td>...</td>\n",
       "      <td>737.0699</td>\n",
       "      <td>878.4365</td>\n",
       "      <td>820.5473</td>\n",
       "      <td>865.6788</td>\n",
       "      <td>906.1096</td>\n",
       "      <td>907.6440</td>\n",
       "      <td>NaN</td>\n",
       "      <td>NaN</td>\n",
       "      <td>NaN</td>\n",
       "      <td>NaN</td>\n",
       "    </tr>\n",
       "    <tr>\n",
       "      <th>4</th>\n",
       "      <td>Argentina</td>\n",
       "      <td>ARG</td>\n",
       "      <td>Gasto nacional en salud del gobierno general p...</td>\n",
       "      <td>SH.XPD.GHED.PC.CD</td>\n",
       "      <td>NaN</td>\n",
       "      <td>NaN</td>\n",
       "      <td>NaN</td>\n",
       "      <td>NaN</td>\n",
       "      <td>NaN</td>\n",
       "      <td>NaN</td>\n",
       "      <td>...</td>\n",
       "      <td>900.0331</td>\n",
       "      <td>837.8237</td>\n",
       "      <td>1017.4200</td>\n",
       "      <td>713.8523</td>\n",
       "      <td>964.1518</td>\n",
       "      <td>704.5697</td>\n",
       "      <td>613.2051</td>\n",
       "      <td>572.3730</td>\n",
       "      <td>NaN</td>\n",
       "      <td>NaN</td>\n",
       "    </tr>\n",
       "    <tr>\n",
       "      <th>5</th>\n",
       "      <td>Australia</td>\n",
       "      <td>AUS</td>\n",
       "      <td>Gasto nacional en salud del gobierno general p...</td>\n",
       "      <td>SH.XPD.GHED.PC.CD</td>\n",
       "      <td>NaN</td>\n",
       "      <td>NaN</td>\n",
       "      <td>NaN</td>\n",
       "      <td>NaN</td>\n",
       "      <td>NaN</td>\n",
       "      <td>NaN</td>\n",
       "      <td>...</td>\n",
       "      <td>3957.4645</td>\n",
       "      <td>4307.1738</td>\n",
       "      <td>3782.2175</td>\n",
       "      <td>3878.0321</td>\n",
       "      <td>4145.2279</td>\n",
       "      <td>4193.4361</td>\n",
       "      <td>4099.9641</td>\n",
       "      <td>4431.0308</td>\n",
       "      <td>NaN</td>\n",
       "      <td>NaN</td>\n",
       "    </tr>\n",
       "    <tr>\n",
       "      <th>6</th>\n",
       "      <td>Austria</td>\n",
       "      <td>AUT</td>\n",
       "      <td>Gasto nacional en salud del gobierno general p...</td>\n",
       "      <td>SH.XPD.GHED.PC.CD</td>\n",
       "      <td>NaN</td>\n",
       "      <td>NaN</td>\n",
       "      <td>NaN</td>\n",
       "      <td>NaN</td>\n",
       "      <td>NaN</td>\n",
       "      <td>NaN</td>\n",
       "      <td>...</td>\n",
       "      <td>3778.2967</td>\n",
       "      <td>3911.2834</td>\n",
       "      <td>3342.2683</td>\n",
       "      <td>3408.0496</td>\n",
       "      <td>3645.7023</td>\n",
       "      <td>3975.2571</td>\n",
       "      <td>3941.7404</td>\n",
       "      <td>4265.4493</td>\n",
       "      <td>NaN</td>\n",
       "      <td>NaN</td>\n",
       "    </tr>\n",
       "    <tr>\n",
       "      <th>7</th>\n",
       "      <td>Brasil</td>\n",
       "      <td>BRA</td>\n",
       "      <td>Gasto nacional en salud del gobierno general p...</td>\n",
       "      <td>SH.XPD.GHED.PC.CD</td>\n",
       "      <td>NaN</td>\n",
       "      <td>NaN</td>\n",
       "      <td>NaN</td>\n",
       "      <td>NaN</td>\n",
       "      <td>NaN</td>\n",
       "      <td>NaN</td>\n",
       "      <td>...</td>\n",
       "      <td>435.3187</td>\n",
       "      <td>446.5047</td>\n",
       "      <td>338.4918</td>\n",
       "      <td>342.7534</td>\n",
       "      <td>391.2318</td>\n",
       "      <td>354.7382</td>\n",
       "      <td>346.4730</td>\n",
       "      <td>313.5775</td>\n",
       "      <td>NaN</td>\n",
       "      <td>NaN</td>\n",
       "    </tr>\n",
       "    <tr>\n",
       "      <th>8</th>\n",
       "      <td>Burkina Faso</td>\n",
       "      <td>BFA</td>\n",
       "      <td>Gasto nacional en salud del gobierno general p...</td>\n",
       "      <td>SH.XPD.GHED.PC.CD</td>\n",
       "      <td>NaN</td>\n",
       "      <td>NaN</td>\n",
       "      <td>NaN</td>\n",
       "      <td>NaN</td>\n",
       "      <td>NaN</td>\n",
       "      <td>NaN</td>\n",
       "      <td>...</td>\n",
       "      <td>12.2911</td>\n",
       "      <td>12.4840</td>\n",
       "      <td>9.2050</td>\n",
       "      <td>15.8912</td>\n",
       "      <td>18.6508</td>\n",
       "      <td>16.5791</td>\n",
       "      <td>17.1731</td>\n",
       "      <td>23.5447</td>\n",
       "      <td>NaN</td>\n",
       "      <td>NaN</td>\n",
       "    </tr>\n",
       "    <tr>\n",
       "      <th>9</th>\n",
       "      <td>China</td>\n",
       "      <td>CHN</td>\n",
       "      <td>Gasto nacional en salud del gobierno general p...</td>\n",
       "      <td>SH.XPD.GHED.PC.CD</td>\n",
       "      <td>NaN</td>\n",
       "      <td>NaN</td>\n",
       "      <td>NaN</td>\n",
       "      <td>NaN</td>\n",
       "      <td>NaN</td>\n",
       "      <td>NaN</td>\n",
       "      <td>...</td>\n",
       "      <td>188.1411</td>\n",
       "      <td>212.0537</td>\n",
       "      <td>236.9807</td>\n",
       "      <td>231.7022</td>\n",
       "      <td>249.6963</td>\n",
       "      <td>284.7899</td>\n",
       "      <td>302.0738</td>\n",
       "      <td>319.2770</td>\n",
       "      <td>NaN</td>\n",
       "      <td>NaN</td>\n",
       "    </tr>\n",
       "    <tr>\n",
       "      <th>10</th>\n",
       "      <td>Canadá</td>\n",
       "      <td>CAN</td>\n",
       "      <td>Gasto nacional en salud del gobierno general p...</td>\n",
       "      <td>SH.XPD.GHED.PC.CD</td>\n",
       "      <td>NaN</td>\n",
       "      <td>NaN</td>\n",
       "      <td>NaN</td>\n",
       "      <td>NaN</td>\n",
       "      <td>NaN</td>\n",
       "      <td>NaN</td>\n",
       "      <td>...</td>\n",
       "      <td>3880.1697</td>\n",
       "      <td>3693.3187</td>\n",
       "      <td>3306.7204</td>\n",
       "      <td>3252.9003</td>\n",
       "      <td>3417.3765</td>\n",
       "      <td>3529.8142</td>\n",
       "      <td>3547.4286</td>\n",
       "      <td>4212.7786</td>\n",
       "      <td>4536.5404</td>\n",
       "      <td>NaN</td>\n",
       "    </tr>\n",
       "    <tr>\n",
       "      <th>11</th>\n",
       "      <td>Camboya</td>\n",
       "      <td>KHM</td>\n",
       "      <td>Gasto nacional en salud del gobierno general p...</td>\n",
       "      <td>SH.XPD.GHED.PC.CD</td>\n",
       "      <td>NaN</td>\n",
       "      <td>NaN</td>\n",
       "      <td>NaN</td>\n",
       "      <td>NaN</td>\n",
       "      <td>NaN</td>\n",
       "      <td>NaN</td>\n",
       "      <td>...</td>\n",
       "      <td>14.4117</td>\n",
       "      <td>13.6136</td>\n",
       "      <td>15.7424</td>\n",
       "      <td>17.0876</td>\n",
       "      <td>21.2571</td>\n",
       "      <td>25.3324</td>\n",
       "      <td>28.0170</td>\n",
       "      <td>32.0511</td>\n",
       "      <td>NaN</td>\n",
       "      <td>NaN</td>\n",
       "    </tr>\n",
       "    <tr>\n",
       "      <th>12</th>\n",
       "      <td>Chad</td>\n",
       "      <td>TCD</td>\n",
       "      <td>Gasto nacional en salud del gobierno general p...</td>\n",
       "      <td>SH.XPD.GHED.PC.CD</td>\n",
       "      <td>NaN</td>\n",
       "      <td>NaN</td>\n",
       "      <td>NaN</td>\n",
       "      <td>NaN</td>\n",
       "      <td>NaN</td>\n",
       "      <td>NaN</td>\n",
       "      <td>...</td>\n",
       "      <td>11.2928</td>\n",
       "      <td>12.4641</td>\n",
       "      <td>7.4498</td>\n",
       "      <td>5.7513</td>\n",
       "      <td>4.6527</td>\n",
       "      <td>4.5982</td>\n",
       "      <td>4.7642</td>\n",
       "      <td>5.9855</td>\n",
       "      <td>NaN</td>\n",
       "      <td>NaN</td>\n",
       "    </tr>\n",
       "    <tr>\n",
       "      <th>13</th>\n",
       "      <td>Dinamarca</td>\n",
       "      <td>DNK</td>\n",
       "      <td>Gasto nacional en salud del gobierno general p...</td>\n",
       "      <td>SH.XPD.GHED.PC.CD</td>\n",
       "      <td>NaN</td>\n",
       "      <td>NaN</td>\n",
       "      <td>NaN</td>\n",
       "      <td>NaN</td>\n",
       "      <td>NaN</td>\n",
       "      <td>NaN</td>\n",
       "      <td>...</td>\n",
       "      <td>5350.1471</td>\n",
       "      <td>5460.8808</td>\n",
       "      <td>4660.9074</td>\n",
       "      <td>4734.6531</td>\n",
       "      <td>4898.0510</td>\n",
       "      <td>5219.8909</td>\n",
       "      <td>5071.8133</td>\n",
       "      <td>5463.4555</td>\n",
       "      <td>6299.4677</td>\n",
       "      <td>NaN</td>\n",
       "    </tr>\n",
       "    <tr>\n",
       "      <th>14</th>\n",
       "      <td>Ecuador</td>\n",
       "      <td>ECU</td>\n",
       "      <td>Gasto nacional en salud del gobierno general p...</td>\n",
       "      <td>SH.XPD.GHED.PC.CD</td>\n",
       "      <td>NaN</td>\n",
       "      <td>NaN</td>\n",
       "      <td>NaN</td>\n",
       "      <td>NaN</td>\n",
       "      <td>NaN</td>\n",
       "      <td>NaN</td>\n",
       "      <td>...</td>\n",
       "      <td>231.4442</td>\n",
       "      <td>262.2959</td>\n",
       "      <td>264.3819</td>\n",
       "      <td>268.4577</td>\n",
       "      <td>283.8845</td>\n",
       "      <td>311.6362</td>\n",
       "      <td>301.0295</td>\n",
       "      <td>280.5714</td>\n",
       "      <td>NaN</td>\n",
       "      <td>NaN</td>\n",
       "    </tr>\n",
       "    <tr>\n",
       "      <th>15</th>\n",
       "      <td>Emiratos Árabes Unidos</td>\n",
       "      <td>ARE</td>\n",
       "      <td>Gasto nacional en salud del gobierno general p...</td>\n",
       "      <td>SH.XPD.GHED.PC.CD</td>\n",
       "      <td>NaN</td>\n",
       "      <td>NaN</td>\n",
       "      <td>NaN</td>\n",
       "      <td>NaN</td>\n",
       "      <td>NaN</td>\n",
       "      <td>NaN</td>\n",
       "      <td>...</td>\n",
       "      <td>1152.6653</td>\n",
       "      <td>1175.5598</td>\n",
       "      <td>1025.5169</td>\n",
       "      <td>992.4115</td>\n",
       "      <td>946.1766</td>\n",
       "      <td>987.6923</td>\n",
       "      <td>1015.1231</td>\n",
       "      <td>1336.7015</td>\n",
       "      <td>NaN</td>\n",
       "      <td>NaN</td>\n",
       "    </tr>\n",
       "    <tr>\n",
       "      <th>16</th>\n",
       "      <td>Egipto, República Árabe de</td>\n",
       "      <td>EGY</td>\n",
       "      <td>Gasto nacional en salud del gobierno general p...</td>\n",
       "      <td>SH.XPD.GHED.PC.CD</td>\n",
       "      <td>NaN</td>\n",
       "      <td>NaN</td>\n",
       "      <td>NaN</td>\n",
       "      <td>NaN</td>\n",
       "      <td>NaN</td>\n",
       "      <td>NaN</td>\n",
       "      <td>...</td>\n",
       "      <td>41.7311</td>\n",
       "      <td>46.7376</td>\n",
       "      <td>54.2135</td>\n",
       "      <td>44.8423</td>\n",
       "      <td>33.4462</td>\n",
       "      <td>34.2227</td>\n",
       "      <td>40.9831</td>\n",
       "      <td>48.1789</td>\n",
       "      <td>NaN</td>\n",
       "      <td>NaN</td>\n",
       "    </tr>\n",
       "    <tr>\n",
       "      <th>17</th>\n",
       "      <td>Cuba</td>\n",
       "      <td>CUB</td>\n",
       "      <td>Gasto nacional en salud del gobierno general p...</td>\n",
       "      <td>SH.XPD.GHED.PC.CD</td>\n",
       "      <td>NaN</td>\n",
       "      <td>NaN</td>\n",
       "      <td>NaN</td>\n",
       "      <td>NaN</td>\n",
       "      <td>NaN</td>\n",
       "      <td>NaN</td>\n",
       "      <td>...</td>\n",
       "      <td>622.7105</td>\n",
       "      <td>779.9081</td>\n",
       "      <td>890.1339</td>\n",
       "      <td>881.9601</td>\n",
       "      <td>874.4564</td>\n",
       "      <td>863.5435</td>\n",
       "      <td>901.8383</td>\n",
       "      <td>1079.6912</td>\n",
       "      <td>NaN</td>\n",
       "      <td>NaN</td>\n",
       "    </tr>\n",
       "    <tr>\n",
       "      <th>18</th>\n",
       "      <td>Costa Rica</td>\n",
       "      <td>CRI</td>\n",
       "      <td>Gasto nacional en salud del gobierno general p...</td>\n",
       "      <td>SH.XPD.GHED.PC.CD</td>\n",
       "      <td>NaN</td>\n",
       "      <td>NaN</td>\n",
       "      <td>NaN</td>\n",
       "      <td>NaN</td>\n",
       "      <td>NaN</td>\n",
       "      <td>NaN</td>\n",
       "      <td>...</td>\n",
       "      <td>579.9868</td>\n",
       "      <td>584.4431</td>\n",
       "      <td>636.4335</td>\n",
       "      <td>638.4593</td>\n",
       "      <td>627.5857</td>\n",
       "      <td>653.1535</td>\n",
       "      <td>663.6198</td>\n",
       "      <td>684.3743</td>\n",
       "      <td>NaN</td>\n",
       "      <td>NaN</td>\n",
       "    </tr>\n",
       "    <tr>\n",
       "      <th>19</th>\n",
       "      <td>Estados Unidos</td>\n",
       "      <td>USA</td>\n",
       "      <td>Gasto nacional en salud del gobierno general p...</td>\n",
       "      <td>SH.XPD.GHED.PC.CD</td>\n",
       "      <td>NaN</td>\n",
       "      <td>NaN</td>\n",
       "      <td>NaN</td>\n",
       "      <td>NaN</td>\n",
       "      <td>NaN</td>\n",
       "      <td>NaN</td>\n",
       "      <td>...</td>\n",
       "      <td>4175.3619</td>\n",
       "      <td>4484.1636</td>\n",
       "      <td>4748.7173</td>\n",
       "      <td>4906.4297</td>\n",
       "      <td>5057.3267</td>\n",
       "      <td>5275.9197</td>\n",
       "      <td>5495.1674</td>\n",
       "      <td>6643.3577</td>\n",
       "      <td>NaN</td>\n",
       "      <td>NaN</td>\n",
       "    </tr>\n",
       "    <tr>\n",
       "      <th>20</th>\n",
       "      <td>España</td>\n",
       "      <td>ESP</td>\n",
       "      <td>Gasto nacional en salud del gobierno general p...</td>\n",
       "      <td>SH.XPD.GHED.PC.CD</td>\n",
       "      <td>NaN</td>\n",
       "      <td>NaN</td>\n",
       "      <td>NaN</td>\n",
       "      <td>NaN</td>\n",
       "      <td>NaN</td>\n",
       "      <td>NaN</td>\n",
       "      <td>...</td>\n",
       "      <td>1867.1008</td>\n",
       "      <td>1882.7450</td>\n",
       "      <td>1675.2972</td>\n",
       "      <td>1700.5486</td>\n",
       "      <td>1780.1210</td>\n",
       "      <td>1925.1327</td>\n",
       "      <td>1915.3755</td>\n",
       "      <td>2125.0721</td>\n",
       "      <td>NaN</td>\n",
       "      <td>NaN</td>\n",
       "    </tr>\n",
       "    <tr>\n",
       "      <th>21</th>\n",
       "      <td>Fiji</td>\n",
       "      <td>FJI</td>\n",
       "      <td>Gasto nacional en salud del gobierno general p...</td>\n",
       "      <td>SH.XPD.GHED.PC.CD</td>\n",
       "      <td>NaN</td>\n",
       "      <td>NaN</td>\n",
       "      <td>NaN</td>\n",
       "      <td>NaN</td>\n",
       "      <td>NaN</td>\n",
       "      <td>NaN</td>\n",
       "      <td>...</td>\n",
       "      <td>92.9967</td>\n",
       "      <td>109.6079</td>\n",
       "      <td>107.1301</td>\n",
       "      <td>112.5119</td>\n",
       "      <td>122.9536</td>\n",
       "      <td>148.9922</td>\n",
       "      <td>149.3202</td>\n",
       "      <td>127.6994</td>\n",
       "      <td>NaN</td>\n",
       "      <td>NaN</td>\n",
       "    </tr>\n",
       "    <tr>\n",
       "      <th>22</th>\n",
       "      <td>Finlandia</td>\n",
       "      <td>FIN</td>\n",
       "      <td>Gasto nacional en salud del gobierno general p...</td>\n",
       "      <td>SH.XPD.GHED.PC.CD</td>\n",
       "      <td>NaN</td>\n",
       "      <td>NaN</td>\n",
       "      <td>NaN</td>\n",
       "      <td>NaN</td>\n",
       "      <td>NaN</td>\n",
       "      <td>NaN</td>\n",
       "      <td>...</td>\n",
       "      <td>3887.4130</td>\n",
       "      <td>3916.2643</td>\n",
       "      <td>3243.4137</td>\n",
       "      <td>3198.1152</td>\n",
       "      <td>3304.5710</td>\n",
       "      <td>3551.9492</td>\n",
       "      <td>3576.6797</td>\n",
       "      <td>3844.3448</td>\n",
       "      <td>NaN</td>\n",
       "      <td>NaN</td>\n",
       "    </tr>\n",
       "    <tr>\n",
       "      <th>23</th>\n",
       "      <td>Federación de Rusia</td>\n",
       "      <td>RUS</td>\n",
       "      <td>Gasto nacional en salud del gobierno general p...</td>\n",
       "      <td>SH.XPD.GHED.PC.CD</td>\n",
       "      <td>NaN</td>\n",
       "      <td>NaN</td>\n",
       "      <td>NaN</td>\n",
       "      <td>NaN</td>\n",
       "      <td>NaN</td>\n",
       "      <td>NaN</td>\n",
       "      <td>...</td>\n",
       "      <td>504.7486</td>\n",
       "      <td>456.9676</td>\n",
       "      <td>293.0913</td>\n",
       "      <td>265.0628</td>\n",
       "      <td>331.1040</td>\n",
       "      <td>362.2992</td>\n",
       "      <td>399.9335</td>\n",
       "      <td>545.9502</td>\n",
       "      <td>NaN</td>\n",
       "      <td>NaN</td>\n",
       "    </tr>\n",
       "    <tr>\n",
       "      <th>24</th>\n",
       "      <td>Grecia</td>\n",
       "      <td>GRC</td>\n",
       "      <td>Gasto nacional en salud del gobierno general p...</td>\n",
       "      <td>SH.XPD.GHED.PC.CD</td>\n",
       "      <td>NaN</td>\n",
       "      <td>NaN</td>\n",
       "      <td>NaN</td>\n",
       "      <td>NaN</td>\n",
       "      <td>NaN</td>\n",
       "      <td>NaN</td>\n",
       "      <td>...</td>\n",
       "      <td>1124.7289</td>\n",
       "      <td>967.1238</td>\n",
       "      <td>854.2432</td>\n",
       "      <td>777.7966</td>\n",
       "      <td>787.5415</td>\n",
       "      <td>836.2425</td>\n",
       "      <td>765.0709</td>\n",
       "      <td>904.0972</td>\n",
       "      <td>NaN</td>\n",
       "      <td>NaN</td>\n",
       "    </tr>\n",
       "    <tr>\n",
       "      <th>25</th>\n",
       "      <td>India</td>\n",
       "      <td>IND</td>\n",
       "      <td>Gasto nacional en salud del gobierno general p...</td>\n",
       "      <td>SH.XPD.GHED.PC.CD</td>\n",
       "      <td>NaN</td>\n",
       "      <td>NaN</td>\n",
       "      <td>NaN</td>\n",
       "      <td>NaN</td>\n",
       "      <td>NaN</td>\n",
       "      <td>NaN</td>\n",
       "      <td>...</td>\n",
       "      <td>12.8440</td>\n",
       "      <td>13.3858</td>\n",
       "      <td>14.9612</td>\n",
       "      <td>16.0932</td>\n",
       "      <td>18.7464</td>\n",
       "      <td>19.7878</td>\n",
       "      <td>20.3102</td>\n",
       "      <td>20.7536</td>\n",
       "      <td>NaN</td>\n",
       "      <td>NaN</td>\n",
       "    </tr>\n",
       "    <tr>\n",
       "      <th>26</th>\n",
       "      <td>Marruecos</td>\n",
       "      <td>MAR</td>\n",
       "      <td>Gasto nacional en salud del gobierno general p...</td>\n",
       "      <td>SH.XPD.GHED.PC.CD</td>\n",
       "      <td>NaN</td>\n",
       "      <td>NaN</td>\n",
       "      <td>NaN</td>\n",
       "      <td>NaN</td>\n",
       "      <td>NaN</td>\n",
       "      <td>NaN</td>\n",
       "      <td>...</td>\n",
       "      <td>79.5782</td>\n",
       "      <td>72.9720</td>\n",
       "      <td>63.1069</td>\n",
       "      <td>63.7261</td>\n",
       "      <td>66.1008</td>\n",
       "      <td>70.4457</td>\n",
       "      <td>71.8537</td>\n",
       "      <td>81.5774</td>\n",
       "      <td>NaN</td>\n",
       "      <td>NaN</td>\n",
       "    </tr>\n",
       "    <tr>\n",
       "      <th>27</th>\n",
       "      <td>México</td>\n",
       "      <td>MEX</td>\n",
       "      <td>Gasto nacional en salud del gobierno general p...</td>\n",
       "      <td>SH.XPD.GHED.PC.CD</td>\n",
       "      <td>NaN</td>\n",
       "      <td>NaN</td>\n",
       "      <td>NaN</td>\n",
       "      <td>NaN</td>\n",
       "      <td>NaN</td>\n",
       "      <td>NaN</td>\n",
       "      <td>...</td>\n",
       "      <td>339.2845</td>\n",
       "      <td>320.3562</td>\n",
       "      <td>291.3675</td>\n",
       "      <td>252.7444</td>\n",
       "      <td>260.2014</td>\n",
       "      <td>263.3517</td>\n",
       "      <td>271.7497</td>\n",
       "      <td>284.7801</td>\n",
       "      <td>NaN</td>\n",
       "      <td>NaN</td>\n",
       "    </tr>\n",
       "    <tr>\n",
       "      <th>28</th>\n",
       "      <td>Nepal</td>\n",
       "      <td>NPL</td>\n",
       "      <td>Gasto nacional en salud del gobierno general p...</td>\n",
       "      <td>SH.XPD.GHED.PC.CD</td>\n",
       "      <td>NaN</td>\n",
       "      <td>NaN</td>\n",
       "      <td>NaN</td>\n",
       "      <td>NaN</td>\n",
       "      <td>NaN</td>\n",
       "      <td>NaN</td>\n",
       "      <td>...</td>\n",
       "      <td>5.7878</td>\n",
       "      <td>7.2803</td>\n",
       "      <td>7.7942</td>\n",
       "      <td>8.7849</td>\n",
       "      <td>11.1304</td>\n",
       "      <td>11.8774</td>\n",
       "      <td>13.1075</td>\n",
       "      <td>17.5240</td>\n",
       "      <td>NaN</td>\n",
       "      <td>NaN</td>\n",
       "    </tr>\n",
       "    <tr>\n",
       "      <th>29</th>\n",
       "      <td>Níger</td>\n",
       "      <td>NER</td>\n",
       "      <td>Gasto nacional en salud del gobierno general p...</td>\n",
       "      <td>SH.XPD.GHED.PC.CD</td>\n",
       "      <td>NaN</td>\n",
       "      <td>NaN</td>\n",
       "      <td>NaN</td>\n",
       "      <td>NaN</td>\n",
       "      <td>NaN</td>\n",
       "      <td>NaN</td>\n",
       "      <td>...</td>\n",
       "      <td>7.3342</td>\n",
       "      <td>7.1380</td>\n",
       "      <td>5.3479</td>\n",
       "      <td>5.4477</td>\n",
       "      <td>9.6999</td>\n",
       "      <td>10.0223</td>\n",
       "      <td>11.1425</td>\n",
       "      <td>13.2247</td>\n",
       "      <td>NaN</td>\n",
       "      <td>NaN</td>\n",
       "    </tr>\n",
       "    <tr>\n",
       "      <th>30</th>\n",
       "      <td>Países Bajos</td>\n",
       "      <td>NLD</td>\n",
       "      <td>Gasto nacional en salud del gobierno general p...</td>\n",
       "      <td>SH.XPD.GHED.PC.CD</td>\n",
       "      <td>NaN</td>\n",
       "      <td>NaN</td>\n",
       "      <td>NaN</td>\n",
       "      <td>NaN</td>\n",
       "      <td>NaN</td>\n",
       "      <td>NaN</td>\n",
       "      <td>...</td>\n",
       "      <td>3817.9222</td>\n",
       "      <td>3799.8474</td>\n",
       "      <td>3089.0415</td>\n",
       "      <td>3112.7248</td>\n",
       "      <td>3174.0694</td>\n",
       "      <td>3503.8029</td>\n",
       "      <td>3519.2972</td>\n",
       "      <td>4022.2579</td>\n",
       "      <td>NaN</td>\n",
       "      <td>NaN</td>\n",
       "    </tr>\n",
       "    <tr>\n",
       "      <th>31</th>\n",
       "      <td>Nueva Zelandia</td>\n",
       "      <td>NZL</td>\n",
       "      <td>Gasto nacional en salud del gobierno general p...</td>\n",
       "      <td>SH.XPD.GHED.PC.CD</td>\n",
       "      <td>NaN</td>\n",
       "      <td>NaN</td>\n",
       "      <td>NaN</td>\n",
       "      <td>NaN</td>\n",
       "      <td>NaN</td>\n",
       "      <td>NaN</td>\n",
       "      <td>...</td>\n",
       "      <td>3117.1601</td>\n",
       "      <td>3246.6330</td>\n",
       "      <td>2689.6906</td>\n",
       "      <td>2787.8569</td>\n",
       "      <td>2945.5476</td>\n",
       "      <td>2961.7105</td>\n",
       "      <td>3069.0056</td>\n",
       "      <td>3241.8601</td>\n",
       "      <td>NaN</td>\n",
       "      <td>NaN</td>\n",
       "    </tr>\n",
       "    <tr>\n",
       "      <th>32</th>\n",
       "      <td>Reino Unido</td>\n",
       "      <td>GBR</td>\n",
       "      <td>Gasto nacional en salud del gobierno general p...</td>\n",
       "      <td>SH.XPD.GHED.PC.CD</td>\n",
       "      <td>NaN</td>\n",
       "      <td>NaN</td>\n",
       "      <td>NaN</td>\n",
       "      <td>NaN</td>\n",
       "      <td>NaN</td>\n",
       "      <td>NaN</td>\n",
       "      <td>...</td>\n",
       "      <td>3471.2180</td>\n",
       "      <td>3792.6334</td>\n",
       "      <td>3574.7141</td>\n",
       "      <td>3265.3109</td>\n",
       "      <td>3158.7108</td>\n",
       "      <td>3386.1484</td>\n",
       "      <td>3421.8411</td>\n",
       "      <td>4123.3496</td>\n",
       "      <td>NaN</td>\n",
       "      <td>NaN</td>\n",
       "    </tr>\n",
       "    <tr>\n",
       "      <th>33</th>\n",
       "      <td>Rwanda</td>\n",
       "      <td>RWA</td>\n",
       "      <td>Gasto nacional en salud del gobierno general p...</td>\n",
       "      <td>SH.XPD.GHED.PC.CD</td>\n",
       "      <td>NaN</td>\n",
       "      <td>NaN</td>\n",
       "      <td>NaN</td>\n",
       "      <td>NaN</td>\n",
       "      <td>NaN</td>\n",
       "      <td>NaN</td>\n",
       "      <td>...</td>\n",
       "      <td>15.3001</td>\n",
       "      <td>15.8957</td>\n",
       "      <td>15.4440</td>\n",
       "      <td>16.2713</td>\n",
       "      <td>16.8619</td>\n",
       "      <td>18.0181</td>\n",
       "      <td>20.1993</td>\n",
       "      <td>23.0020</td>\n",
       "      <td>NaN</td>\n",
       "      <td>NaN</td>\n",
       "    </tr>\n",
       "    <tr>\n",
       "      <th>34</th>\n",
       "      <td>Samoa</td>\n",
       "      <td>WSM</td>\n",
       "      <td>Gasto nacional en salud del gobierno general p...</td>\n",
       "      <td>SH.XPD.GHED.PC.CD</td>\n",
       "      <td>NaN</td>\n",
       "      <td>NaN</td>\n",
       "      <td>NaN</td>\n",
       "      <td>NaN</td>\n",
       "      <td>NaN</td>\n",
       "      <td>NaN</td>\n",
       "      <td>...</td>\n",
       "      <td>158.8610</td>\n",
       "      <td>174.0459</td>\n",
       "      <td>167.8362</td>\n",
       "      <td>159.1951</td>\n",
       "      <td>165.9599</td>\n",
       "      <td>153.5185</td>\n",
       "      <td>183.7204</td>\n",
       "      <td>146.5768</td>\n",
       "      <td>NaN</td>\n",
       "      <td>NaN</td>\n",
       "    </tr>\n",
       "    <tr>\n",
       "      <th>35</th>\n",
       "      <td>Sierra Leona</td>\n",
       "      <td>SLE</td>\n",
       "      <td>Gasto nacional en salud del gobierno general p...</td>\n",
       "      <td>SH.XPD.GHED.PC.CD</td>\n",
       "      <td>NaN</td>\n",
       "      <td>NaN</td>\n",
       "      <td>NaN</td>\n",
       "      <td>NaN</td>\n",
       "      <td>NaN</td>\n",
       "      <td>NaN</td>\n",
       "      <td>...</td>\n",
       "      <td>5.6955</td>\n",
       "      <td>9.3935</td>\n",
       "      <td>9.5283</td>\n",
       "      <td>9.5166</td>\n",
       "      <td>4.1225</td>\n",
       "      <td>3.9944</td>\n",
       "      <td>6.2763</td>\n",
       "      <td>6.7124</td>\n",
       "      <td>NaN</td>\n",
       "      <td>NaN</td>\n",
       "    </tr>\n",
       "    <tr>\n",
       "      <th>36</th>\n",
       "      <td>Sudáfrica</td>\n",
       "      <td>ZAF</td>\n",
       "      <td>Gasto nacional en salud del gobierno general p...</td>\n",
       "      <td>SH.XPD.GHED.PC.CD</td>\n",
       "      <td>NaN</td>\n",
       "      <td>NaN</td>\n",
       "      <td>NaN</td>\n",
       "      <td>NaN</td>\n",
       "      <td>NaN</td>\n",
       "      <td>NaN</td>\n",
       "      <td>...</td>\n",
       "      <td>308.2915</td>\n",
       "      <td>304.3931</td>\n",
       "      <td>285.0148</td>\n",
       "      <td>262.2486</td>\n",
       "      <td>307.2137</td>\n",
       "      <td>325.8386</td>\n",
       "      <td>321.7221</td>\n",
       "      <td>304.0861</td>\n",
       "      <td>NaN</td>\n",
       "      <td>NaN</td>\n",
       "    </tr>\n",
       "    <tr>\n",
       "      <th>37</th>\n",
       "      <td>Singapur</td>\n",
       "      <td>SGP</td>\n",
       "      <td>Gasto nacional en salud del gobierno general p...</td>\n",
       "      <td>SH.XPD.GHED.PC.CD</td>\n",
       "      <td>NaN</td>\n",
       "      <td>NaN</td>\n",
       "      <td>NaN</td>\n",
       "      <td>NaN</td>\n",
       "      <td>NaN</td>\n",
       "      <td>NaN</td>\n",
       "      <td>...</td>\n",
       "      <td>862.9614</td>\n",
       "      <td>985.5672</td>\n",
       "      <td>1072.9005</td>\n",
       "      <td>1160.3533</td>\n",
       "      <td>1254.5939</td>\n",
       "      <td>1320.9533</td>\n",
       "      <td>1461.3250</td>\n",
       "      <td>1853.7492</td>\n",
       "      <td>NaN</td>\n",
       "      <td>NaN</td>\n",
       "    </tr>\n",
       "    <tr>\n",
       "      <th>38</th>\n",
       "      <td>Suiza</td>\n",
       "      <td>CHE</td>\n",
       "      <td>Gasto nacional en salud del gobierno general p...</td>\n",
       "      <td>SH.XPD.GHED.PC.CD</td>\n",
       "      <td>NaN</td>\n",
       "      <td>NaN</td>\n",
       "      <td>NaN</td>\n",
       "      <td>NaN</td>\n",
       "      <td>NaN</td>\n",
       "      <td>NaN</td>\n",
       "      <td>...</td>\n",
       "      <td>3041.3440</td>\n",
       "      <td>3074.4641</td>\n",
       "      <td>2985.3067</td>\n",
       "      <td>2925.7936</td>\n",
       "      <td>3031.3860</td>\n",
       "      <td>3081.6693</td>\n",
       "      <td>3104.0176</td>\n",
       "      <td>3676.7657</td>\n",
       "      <td>NaN</td>\n",
       "      <td>NaN</td>\n",
       "    </tr>\n",
       "    <tr>\n",
       "      <th>39</th>\n",
       "      <td>Venezuela</td>\n",
       "      <td>VEN</td>\n",
       "      <td>Gasto nacional en salud del gobierno general p...</td>\n",
       "      <td>SH.XPD.GHED.PC.CD</td>\n",
       "      <td>NaN</td>\n",
       "      <td>NaN</td>\n",
       "      <td>NaN</td>\n",
       "      <td>NaN</td>\n",
       "      <td>NaN</td>\n",
       "      <td>NaN</td>\n",
       "      <td>...</td>\n",
       "      <td>268.3251</td>\n",
       "      <td>239.7762</td>\n",
       "      <td>221.9158</td>\n",
       "      <td>173.8544</td>\n",
       "      <td>226.3705</td>\n",
       "      <td>85.2163</td>\n",
       "      <td>42.0651</td>\n",
       "      <td>62.5910</td>\n",
       "      <td>NaN</td>\n",
       "      <td>NaN</td>\n",
       "    </tr>\n",
       "    <tr>\n",
       "      <th>40</th>\n",
       "      <td>Colombia</td>\n",
       "      <td>COL</td>\n",
       "      <td>Gasto nacional en salud del gobierno general p...</td>\n",
       "      <td>SH.XPD.GHED.PC.CD</td>\n",
       "      <td>NaN</td>\n",
       "      <td>NaN</td>\n",
       "      <td>NaN</td>\n",
       "      <td>NaN</td>\n",
       "      <td>NaN</td>\n",
       "      <td>NaN</td>\n",
       "      <td>...</td>\n",
       "      <td>405.1128</td>\n",
       "      <td>413.0469</td>\n",
       "      <td>331.9061</td>\n",
       "      <td>314.5387</td>\n",
       "      <td>351.8638</td>\n",
       "      <td>370.3602</td>\n",
       "      <td>371.6743</td>\n",
       "      <td>346.7855</td>\n",
       "      <td>NaN</td>\n",
       "      <td>NaN</td>\n",
       "    </tr>\n",
       "    <tr>\n",
       "      <th>41</th>\n",
       "      <td>Japón</td>\n",
       "      <td>JPN</td>\n",
       "      <td>Gasto nacional en salud del gobierno general p...</td>\n",
       "      <td>SH.XPD.GHED.PC.CD</td>\n",
       "      <td>NaN</td>\n",
       "      <td>NaN</td>\n",
       "      <td>NaN</td>\n",
       "      <td>NaN</td>\n",
       "      <td>NaN</td>\n",
       "      <td>NaN</td>\n",
       "      <td>...</td>\n",
       "      <td>3671.8220</td>\n",
       "      <td>3466.9430</td>\n",
       "      <td>3157.2462</td>\n",
       "      <td>3529.3218</td>\n",
       "      <td>3493.5408</td>\n",
       "      <td>3592.0952</td>\n",
       "      <td>3682.4886</td>\n",
       "      <td>3696.6652</td>\n",
       "      <td>NaN</td>\n",
       "      <td>NaN</td>\n",
       "    </tr>\n",
       "    <tr>\n",
       "      <th>42</th>\n",
       "      <td>Kenya</td>\n",
       "      <td>KEN</td>\n",
       "      <td>Gasto nacional en salud del gobierno general p...</td>\n",
       "      <td>SH.XPD.GHED.PC.CD</td>\n",
       "      <td>NaN</td>\n",
       "      <td>NaN</td>\n",
       "      <td>NaN</td>\n",
       "      <td>NaN</td>\n",
       "      <td>NaN</td>\n",
       "      <td>NaN</td>\n",
       "      <td>...</td>\n",
       "      <td>22.8679</td>\n",
       "      <td>27.3800</td>\n",
       "      <td>28.7939</td>\n",
       "      <td>31.7928</td>\n",
       "      <td>28.6856</td>\n",
       "      <td>32.6163</td>\n",
       "      <td>39.5731</td>\n",
       "      <td>39.5281</td>\n",
       "      <td>NaN</td>\n",
       "      <td>NaN</td>\n",
       "    </tr>\n",
       "    <tr>\n",
       "      <th>43</th>\n",
       "      <td>Noruega</td>\n",
       "      <td>NOR</td>\n",
       "      <td>Gasto nacional en salud del gobierno general p...</td>\n",
       "      <td>SH.XPD.GHED.PC.CD</td>\n",
       "      <td>NaN</td>\n",
       "      <td>NaN</td>\n",
       "      <td>NaN</td>\n",
       "      <td>NaN</td>\n",
       "      <td>NaN</td>\n",
       "      <td>NaN</td>\n",
       "      <td>...</td>\n",
       "      <td>7857.1947</td>\n",
       "      <td>7776.9154</td>\n",
       "      <td>6469.6495</td>\n",
       "      <td>6400.7000</td>\n",
       "      <td>6652.8494</td>\n",
       "      <td>7089.2721</td>\n",
       "      <td>6863.6533</td>\n",
       "      <td>6604.0411</td>\n",
       "      <td>7717.8848</td>\n",
       "      <td>NaN</td>\n",
       "    </tr>\n",
       "  </tbody>\n",
       "</table>\n",
       "<p>44 rows × 40 columns</p>\n",
       "</div>"
      ],
      "text/plain": [
       "                          país codigo_pais  \\\n",
       "0                   Afganistán         AFG   \n",
       "1                     Alemania         DEU   \n",
       "2                      Argelia         DZA   \n",
       "3               Arabia Saudita         SAU   \n",
       "4                    Argentina         ARG   \n",
       "5                    Australia         AUS   \n",
       "6                      Austria         AUT   \n",
       "7                       Brasil         BRA   \n",
       "8                 Burkina Faso         BFA   \n",
       "9                        China         CHN   \n",
       "10                      Canadá         CAN   \n",
       "11                     Camboya         KHM   \n",
       "12                        Chad         TCD   \n",
       "13                   Dinamarca         DNK   \n",
       "14                     Ecuador         ECU   \n",
       "15      Emiratos Árabes Unidos         ARE   \n",
       "16  Egipto, República Árabe de         EGY   \n",
       "17                        Cuba         CUB   \n",
       "18                  Costa Rica         CRI   \n",
       "19              Estados Unidos         USA   \n",
       "20                      España         ESP   \n",
       "21                        Fiji         FJI   \n",
       "22                   Finlandia         FIN   \n",
       "23         Federación de Rusia         RUS   \n",
       "24                      Grecia         GRC   \n",
       "25                       India         IND   \n",
       "26                   Marruecos         MAR   \n",
       "27                      México         MEX   \n",
       "28                       Nepal         NPL   \n",
       "29                       Níger         NER   \n",
       "30                Países Bajos         NLD   \n",
       "31              Nueva Zelandia         NZL   \n",
       "32                 Reino Unido         GBR   \n",
       "33                      Rwanda         RWA   \n",
       "34                       Samoa         WSM   \n",
       "35                Sierra Leona         SLE   \n",
       "36                   Sudáfrica         ZAF   \n",
       "37                    Singapur         SGP   \n",
       "38                       Suiza         CHE   \n",
       "39                   Venezuela         VEN   \n",
       "40                    Colombia         COL   \n",
       "41                       Japón         JPN   \n",
       "42                       Kenya         KEN   \n",
       "43                     Noruega         NOR   \n",
       "\n",
       "                                       factor_(serie)       codigo_serie  \\\n",
       "0   Gasto nacional en salud del gobierno general p...  SH.XPD.GHED.PC.CD   \n",
       "1   Gasto nacional en salud del gobierno general p...  SH.XPD.GHED.PC.CD   \n",
       "2   Gasto nacional en salud del gobierno general p...  SH.XPD.GHED.PC.CD   \n",
       "3   Gasto nacional en salud del gobierno general p...  SH.XPD.GHED.PC.CD   \n",
       "4   Gasto nacional en salud del gobierno general p...  SH.XPD.GHED.PC.CD   \n",
       "5   Gasto nacional en salud del gobierno general p...  SH.XPD.GHED.PC.CD   \n",
       "6   Gasto nacional en salud del gobierno general p...  SH.XPD.GHED.PC.CD   \n",
       "7   Gasto nacional en salud del gobierno general p...  SH.XPD.GHED.PC.CD   \n",
       "8   Gasto nacional en salud del gobierno general p...  SH.XPD.GHED.PC.CD   \n",
       "9   Gasto nacional en salud del gobierno general p...  SH.XPD.GHED.PC.CD   \n",
       "10  Gasto nacional en salud del gobierno general p...  SH.XPD.GHED.PC.CD   \n",
       "11  Gasto nacional en salud del gobierno general p...  SH.XPD.GHED.PC.CD   \n",
       "12  Gasto nacional en salud del gobierno general p...  SH.XPD.GHED.PC.CD   \n",
       "13  Gasto nacional en salud del gobierno general p...  SH.XPD.GHED.PC.CD   \n",
       "14  Gasto nacional en salud del gobierno general p...  SH.XPD.GHED.PC.CD   \n",
       "15  Gasto nacional en salud del gobierno general p...  SH.XPD.GHED.PC.CD   \n",
       "16  Gasto nacional en salud del gobierno general p...  SH.XPD.GHED.PC.CD   \n",
       "17  Gasto nacional en salud del gobierno general p...  SH.XPD.GHED.PC.CD   \n",
       "18  Gasto nacional en salud del gobierno general p...  SH.XPD.GHED.PC.CD   \n",
       "19  Gasto nacional en salud del gobierno general p...  SH.XPD.GHED.PC.CD   \n",
       "20  Gasto nacional en salud del gobierno general p...  SH.XPD.GHED.PC.CD   \n",
       "21  Gasto nacional en salud del gobierno general p...  SH.XPD.GHED.PC.CD   \n",
       "22  Gasto nacional en salud del gobierno general p...  SH.XPD.GHED.PC.CD   \n",
       "23  Gasto nacional en salud del gobierno general p...  SH.XPD.GHED.PC.CD   \n",
       "24  Gasto nacional en salud del gobierno general p...  SH.XPD.GHED.PC.CD   \n",
       "25  Gasto nacional en salud del gobierno general p...  SH.XPD.GHED.PC.CD   \n",
       "26  Gasto nacional en salud del gobierno general p...  SH.XPD.GHED.PC.CD   \n",
       "27  Gasto nacional en salud del gobierno general p...  SH.XPD.GHED.PC.CD   \n",
       "28  Gasto nacional en salud del gobierno general p...  SH.XPD.GHED.PC.CD   \n",
       "29  Gasto nacional en salud del gobierno general p...  SH.XPD.GHED.PC.CD   \n",
       "30  Gasto nacional en salud del gobierno general p...  SH.XPD.GHED.PC.CD   \n",
       "31  Gasto nacional en salud del gobierno general p...  SH.XPD.GHED.PC.CD   \n",
       "32  Gasto nacional en salud del gobierno general p...  SH.XPD.GHED.PC.CD   \n",
       "33  Gasto nacional en salud del gobierno general p...  SH.XPD.GHED.PC.CD   \n",
       "34  Gasto nacional en salud del gobierno general p...  SH.XPD.GHED.PC.CD   \n",
       "35  Gasto nacional en salud del gobierno general p...  SH.XPD.GHED.PC.CD   \n",
       "36  Gasto nacional en salud del gobierno general p...  SH.XPD.GHED.PC.CD   \n",
       "37  Gasto nacional en salud del gobierno general p...  SH.XPD.GHED.PC.CD   \n",
       "38  Gasto nacional en salud del gobierno general p...  SH.XPD.GHED.PC.CD   \n",
       "39  Gasto nacional en salud del gobierno general p...  SH.XPD.GHED.PC.CD   \n",
       "40  Gasto nacional en salud del gobierno general p...  SH.XPD.GHED.PC.CD   \n",
       "41  Gasto nacional en salud del gobierno general p...  SH.XPD.GHED.PC.CD   \n",
       "42  Gasto nacional en salud del gobierno general p...  SH.XPD.GHED.PC.CD   \n",
       "43  Gasto nacional en salud del gobierno general p...  SH.XPD.GHED.PC.CD   \n",
       "\n",
       "    1987  1988  1989  1990  1991  1992  ...       2013       2014       2015  \\\n",
       "0    NaN   NaN   NaN   NaN   NaN   NaN  ...     2.8348     2.9856     3.1064   \n",
       "1    NaN   NaN   NaN   NaN   NaN   NaN  ...  3897.2982  4087.5269  3559.0362   \n",
       "2    NaN   NaN   NaN   NaN   NaN   NaN  ...   236.7045   260.0650   206.3872   \n",
       "3    NaN   NaN   NaN   NaN   NaN   NaN  ...   737.0699   878.4365   820.5473   \n",
       "4    NaN   NaN   NaN   NaN   NaN   NaN  ...   900.0331   837.8237  1017.4200   \n",
       "5    NaN   NaN   NaN   NaN   NaN   NaN  ...  3957.4645  4307.1738  3782.2175   \n",
       "6    NaN   NaN   NaN   NaN   NaN   NaN  ...  3778.2967  3911.2834  3342.2683   \n",
       "7    NaN   NaN   NaN   NaN   NaN   NaN  ...   435.3187   446.5047   338.4918   \n",
       "8    NaN   NaN   NaN   NaN   NaN   NaN  ...    12.2911    12.4840     9.2050   \n",
       "9    NaN   NaN   NaN   NaN   NaN   NaN  ...   188.1411   212.0537   236.9807   \n",
       "10   NaN   NaN   NaN   NaN   NaN   NaN  ...  3880.1697  3693.3187  3306.7204   \n",
       "11   NaN   NaN   NaN   NaN   NaN   NaN  ...    14.4117    13.6136    15.7424   \n",
       "12   NaN   NaN   NaN   NaN   NaN   NaN  ...    11.2928    12.4641     7.4498   \n",
       "13   NaN   NaN   NaN   NaN   NaN   NaN  ...  5350.1471  5460.8808  4660.9074   \n",
       "14   NaN   NaN   NaN   NaN   NaN   NaN  ...   231.4442   262.2959   264.3819   \n",
       "15   NaN   NaN   NaN   NaN   NaN   NaN  ...  1152.6653  1175.5598  1025.5169   \n",
       "16   NaN   NaN   NaN   NaN   NaN   NaN  ...    41.7311    46.7376    54.2135   \n",
       "17   NaN   NaN   NaN   NaN   NaN   NaN  ...   622.7105   779.9081   890.1339   \n",
       "18   NaN   NaN   NaN   NaN   NaN   NaN  ...   579.9868   584.4431   636.4335   \n",
       "19   NaN   NaN   NaN   NaN   NaN   NaN  ...  4175.3619  4484.1636  4748.7173   \n",
       "20   NaN   NaN   NaN   NaN   NaN   NaN  ...  1867.1008  1882.7450  1675.2972   \n",
       "21   NaN   NaN   NaN   NaN   NaN   NaN  ...    92.9967   109.6079   107.1301   \n",
       "22   NaN   NaN   NaN   NaN   NaN   NaN  ...  3887.4130  3916.2643  3243.4137   \n",
       "23   NaN   NaN   NaN   NaN   NaN   NaN  ...   504.7486   456.9676   293.0913   \n",
       "24   NaN   NaN   NaN   NaN   NaN   NaN  ...  1124.7289   967.1238   854.2432   \n",
       "25   NaN   NaN   NaN   NaN   NaN   NaN  ...    12.8440    13.3858    14.9612   \n",
       "26   NaN   NaN   NaN   NaN   NaN   NaN  ...    79.5782    72.9720    63.1069   \n",
       "27   NaN   NaN   NaN   NaN   NaN   NaN  ...   339.2845   320.3562   291.3675   \n",
       "28   NaN   NaN   NaN   NaN   NaN   NaN  ...     5.7878     7.2803     7.7942   \n",
       "29   NaN   NaN   NaN   NaN   NaN   NaN  ...     7.3342     7.1380     5.3479   \n",
       "30   NaN   NaN   NaN   NaN   NaN   NaN  ...  3817.9222  3799.8474  3089.0415   \n",
       "31   NaN   NaN   NaN   NaN   NaN   NaN  ...  3117.1601  3246.6330  2689.6906   \n",
       "32   NaN   NaN   NaN   NaN   NaN   NaN  ...  3471.2180  3792.6334  3574.7141   \n",
       "33   NaN   NaN   NaN   NaN   NaN   NaN  ...    15.3001    15.8957    15.4440   \n",
       "34   NaN   NaN   NaN   NaN   NaN   NaN  ...   158.8610   174.0459   167.8362   \n",
       "35   NaN   NaN   NaN   NaN   NaN   NaN  ...     5.6955     9.3935     9.5283   \n",
       "36   NaN   NaN   NaN   NaN   NaN   NaN  ...   308.2915   304.3931   285.0148   \n",
       "37   NaN   NaN   NaN   NaN   NaN   NaN  ...   862.9614   985.5672  1072.9005   \n",
       "38   NaN   NaN   NaN   NaN   NaN   NaN  ...  3041.3440  3074.4641  2985.3067   \n",
       "39   NaN   NaN   NaN   NaN   NaN   NaN  ...   268.3251   239.7762   221.9158   \n",
       "40   NaN   NaN   NaN   NaN   NaN   NaN  ...   405.1128   413.0469   331.9061   \n",
       "41   NaN   NaN   NaN   NaN   NaN   NaN  ...  3671.8220  3466.9430  3157.2462   \n",
       "42   NaN   NaN   NaN   NaN   NaN   NaN  ...    22.8679    27.3800    28.7939   \n",
       "43   NaN   NaN   NaN   NaN   NaN   NaN  ...  7857.1947  7776.9154  6469.6495   \n",
       "\n",
       "         2016       2017       2018       2019       2020       2021  2022  \n",
       "0      3.1222     3.4096     2.7733     2.4879     6.1311     2.6858   NaN  \n",
       "1   3665.8242  3929.0932  4251.8416  4227.0487  4651.7547        NaN   NaN  \n",
       "2    177.4308   171.2448   169.7875   162.9809   134.4669        NaN   NaN  \n",
       "3    865.6788   906.1096   907.6440        NaN        NaN        NaN   NaN  \n",
       "4    713.8523   964.1518   704.5697   613.2051   572.3730        NaN   NaN  \n",
       "5   3878.0321  4145.2279  4193.4361  4099.9641  4431.0308        NaN   NaN  \n",
       "6   3408.0496  3645.7023  3975.2571  3941.7404  4265.4493        NaN   NaN  \n",
       "7    342.7534   391.2318   354.7382   346.4730   313.5775        NaN   NaN  \n",
       "8     15.8912    18.6508    16.5791    17.1731    23.5447        NaN   NaN  \n",
       "9    231.7022   249.6963   284.7899   302.0738   319.2770        NaN   NaN  \n",
       "10  3252.9003  3417.3765  3529.8142  3547.4286  4212.7786  4536.5404   NaN  \n",
       "11    17.0876    21.2571    25.3324    28.0170    32.0511        NaN   NaN  \n",
       "12     5.7513     4.6527     4.5982     4.7642     5.9855        NaN   NaN  \n",
       "13  4734.6531  4898.0510  5219.8909  5071.8133  5463.4555  6299.4677   NaN  \n",
       "14   268.4577   283.8845   311.6362   301.0295   280.5714        NaN   NaN  \n",
       "15   992.4115   946.1766   987.6923  1015.1231  1336.7015        NaN   NaN  \n",
       "16    44.8423    33.4462    34.2227    40.9831    48.1789        NaN   NaN  \n",
       "17   881.9601   874.4564   863.5435   901.8383  1079.6912        NaN   NaN  \n",
       "18   638.4593   627.5857   653.1535   663.6198   684.3743        NaN   NaN  \n",
       "19  4906.4297  5057.3267  5275.9197  5495.1674  6643.3577        NaN   NaN  \n",
       "20  1700.5486  1780.1210  1925.1327  1915.3755  2125.0721        NaN   NaN  \n",
       "21   112.5119   122.9536   148.9922   149.3202   127.6994        NaN   NaN  \n",
       "22  3198.1152  3304.5710  3551.9492  3576.6797  3844.3448        NaN   NaN  \n",
       "23   265.0628   331.1040   362.2992   399.9335   545.9502        NaN   NaN  \n",
       "24   777.7966   787.5415   836.2425   765.0709   904.0972        NaN   NaN  \n",
       "25    16.0932    18.7464    19.7878    20.3102    20.7536        NaN   NaN  \n",
       "26    63.7261    66.1008    70.4457    71.8537    81.5774        NaN   NaN  \n",
       "27   252.7444   260.2014   263.3517   271.7497   284.7801        NaN   NaN  \n",
       "28     8.7849    11.1304    11.8774    13.1075    17.5240        NaN   NaN  \n",
       "29     5.4477     9.6999    10.0223    11.1425    13.2247        NaN   NaN  \n",
       "30  3112.7248  3174.0694  3503.8029  3519.2972  4022.2579        NaN   NaN  \n",
       "31  2787.8569  2945.5476  2961.7105  3069.0056  3241.8601        NaN   NaN  \n",
       "32  3265.3109  3158.7108  3386.1484  3421.8411  4123.3496        NaN   NaN  \n",
       "33    16.2713    16.8619    18.0181    20.1993    23.0020        NaN   NaN  \n",
       "34   159.1951   165.9599   153.5185   183.7204   146.5768        NaN   NaN  \n",
       "35     9.5166     4.1225     3.9944     6.2763     6.7124        NaN   NaN  \n",
       "36   262.2486   307.2137   325.8386   321.7221   304.0861        NaN   NaN  \n",
       "37  1160.3533  1254.5939  1320.9533  1461.3250  1853.7492        NaN   NaN  \n",
       "38  2925.7936  3031.3860  3081.6693  3104.0176  3676.7657        NaN   NaN  \n",
       "39   173.8544   226.3705    85.2163    42.0651    62.5910        NaN   NaN  \n",
       "40   314.5387   351.8638   370.3602   371.6743   346.7855        NaN   NaN  \n",
       "41  3529.3218  3493.5408  3592.0952  3682.4886  3696.6652        NaN   NaN  \n",
       "42    31.7928    28.6856    32.6163    39.5731    39.5281        NaN   NaN  \n",
       "43  6400.7000  6652.8494  7089.2721  6863.6533  6604.0411  7717.8848   NaN  \n",
       "\n",
       "[44 rows x 40 columns]"
      ]
     },
     "execution_count": 11,
     "metadata": {},
     "output_type": "execute_result"
    }
   ],
   "source": [
    "dataframes_por_grupo['Gasto nacional en salud del gobierno general per cápita (US$ a precios actuales)']"
   ]
  },
  {
   "cell_type": "code",
   "execution_count": 12,
   "metadata": {},
   "outputs": [
    {
     "data": {
      "application/vnd.jupyter.widget-view+json": {
       "model_id": "560fe07673ee470f903cc72d874f95bd",
       "version_major": 2,
       "version_minor": 0
      },
      "text/plain": [
       "Output()"
      ]
     },
     "metadata": {},
     "output_type": "display_data"
    },
    {
     "data": {
      "application/vnd.plotly.v1+json": {
       "config": {
        "plotlyServerURL": "https://plot.ly"
       },
       "data": [
        {
         "mode": "lines+markers",
         "name": "Gasto nacional en salud del gobierno general per cápita (US$ a precios actuales)",
         "type": "scatter",
         "x": [
          "1987",
          "1988",
          "1989",
          "1990",
          "1991",
          "1992",
          "1993",
          "1994",
          "1995",
          "1996",
          "1997",
          "1998",
          "1999",
          "2000",
          "2001",
          "2002",
          "2003",
          "2004",
          "2005",
          "2006",
          "2007",
          "2008",
          "2009",
          "2010",
          "2011",
          "2012",
          "2013",
          "2014",
          "2015",
          "2016",
          "2017",
          "2018",
          "2019",
          "2020",
          "2021",
          "2022"
         ],
         "y": [
          null,
          null,
          null,
          null,
          null,
          null,
          null,
          null,
          null,
          null,
          null,
          null,
          null,
          null,
          null,
          0.1516,
          1.297,
          1.1862,
          1.3355,
          1.3553,
          1.8496,
          2.4466,
          2.3436,
          2.5501,
          2.9356,
          2.2844,
          2.8348,
          2.9856,
          3.1064,
          3.1222,
          3.4096,
          2.7733,
          2.4879,
          6.1311,
          2.6858,
          null
         ]
        },
        {
         "mode": "lines+markers",
         "name": "Gasto de bolsillo per cápita (US$ actuales)",
         "type": "scatter",
         "x": [
          "1987",
          "1988",
          "1989",
          "1990",
          "1991",
          "1992",
          "1993",
          "1994",
          "1995",
          "1996",
          "1997",
          "1998",
          "1999",
          "2000",
          "2001",
          "2002",
          "2003",
          "2004",
          "2005",
          "2006",
          "2007",
          "2008",
          "2009",
          "2010",
          "2011",
          "2012",
          "2013",
          "2014",
          "2015",
          "2016",
          "2017",
          "2018",
          "2019",
          "2020",
          "2021",
          "2022"
         ],
         "y": [
          null,
          null,
          null,
          null,
          null,
          null,
          null,
          null,
          null,
          null,
          null,
          null,
          null,
          null,
          null,
          14.5203,
          15.3332,
          18.1138,
          19.8271,
          22.2176,
          25.575,
          30.1387,
          31.4849,
          36.7965,
          38.3586,
          39.1898,
          40.5669,
          43.9721,
          47.0753,
          46.7139,
          50.5048,
          54.3732,
          57.0254,
          60.0667,
          62.7903,
          null
         ]
        },
        {
         "mode": "lines+markers",
         "name": "Gasto interno privado en salud per cápita (US$ a precios actuales)",
         "type": "scatter",
         "x": [
          "1987",
          "1988",
          "1989",
          "1990",
          "1991",
          "1992",
          "1993",
          "1994",
          "1995",
          "1996",
          "1997",
          "1998",
          "1999",
          "2000",
          "2001",
          "2002",
          "2003",
          "2004",
          "2005",
          "2006",
          "2007",
          "2008",
          "2009",
          "2010",
          "2011",
          "2012",
          "2013",
          "2014",
          "2015",
          "2016",
          "2017",
          "2018",
          "2019",
          "2020",
          "2021",
          "2022"
         ],
         "y": [
          null,
          null,
          null,
          null,
          null,
          null,
          null,
          null,
          null,
          null,
          null,
          null,
          null,
          null,
          null,
          14.5203,
          15.3332,
          18.1138,
          19.8271,
          22.2176,
          25.575,
          30.1387,
          31.4849,
          36.7965,
          38.3586,
          39.1898,
          40.5669,
          43.9721,
          47.0753,
          46.7139,
          50.5058,
          54.4835,
          57.0254,
          61.2048,
          62.9002,
          null
         ]
        }
       ],
       "layout": {
        "template": {
         "data": {
          "bar": [
           {
            "error_x": {
             "color": "#2a3f5f"
            },
            "error_y": {
             "color": "#2a3f5f"
            },
            "marker": {
             "line": {
              "color": "#E5ECF6",
              "width": 0.5
             },
             "pattern": {
              "fillmode": "overlay",
              "size": 10,
              "solidity": 0.2
             }
            },
            "type": "bar"
           }
          ],
          "barpolar": [
           {
            "marker": {
             "line": {
              "color": "#E5ECF6",
              "width": 0.5
             },
             "pattern": {
              "fillmode": "overlay",
              "size": 10,
              "solidity": 0.2
             }
            },
            "type": "barpolar"
           }
          ],
          "carpet": [
           {
            "aaxis": {
             "endlinecolor": "#2a3f5f",
             "gridcolor": "white",
             "linecolor": "white",
             "minorgridcolor": "white",
             "startlinecolor": "#2a3f5f"
            },
            "baxis": {
             "endlinecolor": "#2a3f5f",
             "gridcolor": "white",
             "linecolor": "white",
             "minorgridcolor": "white",
             "startlinecolor": "#2a3f5f"
            },
            "type": "carpet"
           }
          ],
          "choropleth": [
           {
            "colorbar": {
             "outlinewidth": 0,
             "ticks": ""
            },
            "type": "choropleth"
           }
          ],
          "contour": [
           {
            "colorbar": {
             "outlinewidth": 0,
             "ticks": ""
            },
            "colorscale": [
             [
              0,
              "#0d0887"
             ],
             [
              0.1111111111111111,
              "#46039f"
             ],
             [
              0.2222222222222222,
              "#7201a8"
             ],
             [
              0.3333333333333333,
              "#9c179e"
             ],
             [
              0.4444444444444444,
              "#bd3786"
             ],
             [
              0.5555555555555556,
              "#d8576b"
             ],
             [
              0.6666666666666666,
              "#ed7953"
             ],
             [
              0.7777777777777778,
              "#fb9f3a"
             ],
             [
              0.8888888888888888,
              "#fdca26"
             ],
             [
              1,
              "#f0f921"
             ]
            ],
            "type": "contour"
           }
          ],
          "contourcarpet": [
           {
            "colorbar": {
             "outlinewidth": 0,
             "ticks": ""
            },
            "type": "contourcarpet"
           }
          ],
          "heatmap": [
           {
            "colorbar": {
             "outlinewidth": 0,
             "ticks": ""
            },
            "colorscale": [
             [
              0,
              "#0d0887"
             ],
             [
              0.1111111111111111,
              "#46039f"
             ],
             [
              0.2222222222222222,
              "#7201a8"
             ],
             [
              0.3333333333333333,
              "#9c179e"
             ],
             [
              0.4444444444444444,
              "#bd3786"
             ],
             [
              0.5555555555555556,
              "#d8576b"
             ],
             [
              0.6666666666666666,
              "#ed7953"
             ],
             [
              0.7777777777777778,
              "#fb9f3a"
             ],
             [
              0.8888888888888888,
              "#fdca26"
             ],
             [
              1,
              "#f0f921"
             ]
            ],
            "type": "heatmap"
           }
          ],
          "heatmapgl": [
           {
            "colorbar": {
             "outlinewidth": 0,
             "ticks": ""
            },
            "colorscale": [
             [
              0,
              "#0d0887"
             ],
             [
              0.1111111111111111,
              "#46039f"
             ],
             [
              0.2222222222222222,
              "#7201a8"
             ],
             [
              0.3333333333333333,
              "#9c179e"
             ],
             [
              0.4444444444444444,
              "#bd3786"
             ],
             [
              0.5555555555555556,
              "#d8576b"
             ],
             [
              0.6666666666666666,
              "#ed7953"
             ],
             [
              0.7777777777777778,
              "#fb9f3a"
             ],
             [
              0.8888888888888888,
              "#fdca26"
             ],
             [
              1,
              "#f0f921"
             ]
            ],
            "type": "heatmapgl"
           }
          ],
          "histogram": [
           {
            "marker": {
             "pattern": {
              "fillmode": "overlay",
              "size": 10,
              "solidity": 0.2
             }
            },
            "type": "histogram"
           }
          ],
          "histogram2d": [
           {
            "colorbar": {
             "outlinewidth": 0,
             "ticks": ""
            },
            "colorscale": [
             [
              0,
              "#0d0887"
             ],
             [
              0.1111111111111111,
              "#46039f"
             ],
             [
              0.2222222222222222,
              "#7201a8"
             ],
             [
              0.3333333333333333,
              "#9c179e"
             ],
             [
              0.4444444444444444,
              "#bd3786"
             ],
             [
              0.5555555555555556,
              "#d8576b"
             ],
             [
              0.6666666666666666,
              "#ed7953"
             ],
             [
              0.7777777777777778,
              "#fb9f3a"
             ],
             [
              0.8888888888888888,
              "#fdca26"
             ],
             [
              1,
              "#f0f921"
             ]
            ],
            "type": "histogram2d"
           }
          ],
          "histogram2dcontour": [
           {
            "colorbar": {
             "outlinewidth": 0,
             "ticks": ""
            },
            "colorscale": [
             [
              0,
              "#0d0887"
             ],
             [
              0.1111111111111111,
              "#46039f"
             ],
             [
              0.2222222222222222,
              "#7201a8"
             ],
             [
              0.3333333333333333,
              "#9c179e"
             ],
             [
              0.4444444444444444,
              "#bd3786"
             ],
             [
              0.5555555555555556,
              "#d8576b"
             ],
             [
              0.6666666666666666,
              "#ed7953"
             ],
             [
              0.7777777777777778,
              "#fb9f3a"
             ],
             [
              0.8888888888888888,
              "#fdca26"
             ],
             [
              1,
              "#f0f921"
             ]
            ],
            "type": "histogram2dcontour"
           }
          ],
          "mesh3d": [
           {
            "colorbar": {
             "outlinewidth": 0,
             "ticks": ""
            },
            "type": "mesh3d"
           }
          ],
          "parcoords": [
           {
            "line": {
             "colorbar": {
              "outlinewidth": 0,
              "ticks": ""
             }
            },
            "type": "parcoords"
           }
          ],
          "pie": [
           {
            "automargin": true,
            "type": "pie"
           }
          ],
          "scatter": [
           {
            "fillpattern": {
             "fillmode": "overlay",
             "size": 10,
             "solidity": 0.2
            },
            "type": "scatter"
           }
          ],
          "scatter3d": [
           {
            "line": {
             "colorbar": {
              "outlinewidth": 0,
              "ticks": ""
             }
            },
            "marker": {
             "colorbar": {
              "outlinewidth": 0,
              "ticks": ""
             }
            },
            "type": "scatter3d"
           }
          ],
          "scattercarpet": [
           {
            "marker": {
             "colorbar": {
              "outlinewidth": 0,
              "ticks": ""
             }
            },
            "type": "scattercarpet"
           }
          ],
          "scattergeo": [
           {
            "marker": {
             "colorbar": {
              "outlinewidth": 0,
              "ticks": ""
             }
            },
            "type": "scattergeo"
           }
          ],
          "scattergl": [
           {
            "marker": {
             "colorbar": {
              "outlinewidth": 0,
              "ticks": ""
             }
            },
            "type": "scattergl"
           }
          ],
          "scattermapbox": [
           {
            "marker": {
             "colorbar": {
              "outlinewidth": 0,
              "ticks": ""
             }
            },
            "type": "scattermapbox"
           }
          ],
          "scatterpolar": [
           {
            "marker": {
             "colorbar": {
              "outlinewidth": 0,
              "ticks": ""
             }
            },
            "type": "scatterpolar"
           }
          ],
          "scatterpolargl": [
           {
            "marker": {
             "colorbar": {
              "outlinewidth": 0,
              "ticks": ""
             }
            },
            "type": "scatterpolargl"
           }
          ],
          "scatterternary": [
           {
            "marker": {
             "colorbar": {
              "outlinewidth": 0,
              "ticks": ""
             }
            },
            "type": "scatterternary"
           }
          ],
          "surface": [
           {
            "colorbar": {
             "outlinewidth": 0,
             "ticks": ""
            },
            "colorscale": [
             [
              0,
              "#0d0887"
             ],
             [
              0.1111111111111111,
              "#46039f"
             ],
             [
              0.2222222222222222,
              "#7201a8"
             ],
             [
              0.3333333333333333,
              "#9c179e"
             ],
             [
              0.4444444444444444,
              "#bd3786"
             ],
             [
              0.5555555555555556,
              "#d8576b"
             ],
             [
              0.6666666666666666,
              "#ed7953"
             ],
             [
              0.7777777777777778,
              "#fb9f3a"
             ],
             [
              0.8888888888888888,
              "#fdca26"
             ],
             [
              1,
              "#f0f921"
             ]
            ],
            "type": "surface"
           }
          ],
          "table": [
           {
            "cells": {
             "fill": {
              "color": "#EBF0F8"
             },
             "line": {
              "color": "white"
             }
            },
            "header": {
             "fill": {
              "color": "#C8D4E3"
             },
             "line": {
              "color": "white"
             }
            },
            "type": "table"
           }
          ]
         },
         "layout": {
          "annotationdefaults": {
           "arrowcolor": "#2a3f5f",
           "arrowhead": 0,
           "arrowwidth": 1
          },
          "autotypenumbers": "strict",
          "coloraxis": {
           "colorbar": {
            "outlinewidth": 0,
            "ticks": ""
           }
          },
          "colorscale": {
           "diverging": [
            [
             0,
             "#8e0152"
            ],
            [
             0.1,
             "#c51b7d"
            ],
            [
             0.2,
             "#de77ae"
            ],
            [
             0.3,
             "#f1b6da"
            ],
            [
             0.4,
             "#fde0ef"
            ],
            [
             0.5,
             "#f7f7f7"
            ],
            [
             0.6,
             "#e6f5d0"
            ],
            [
             0.7,
             "#b8e186"
            ],
            [
             0.8,
             "#7fbc41"
            ],
            [
             0.9,
             "#4d9221"
            ],
            [
             1,
             "#276419"
            ]
           ],
           "sequential": [
            [
             0,
             "#0d0887"
            ],
            [
             0.1111111111111111,
             "#46039f"
            ],
            [
             0.2222222222222222,
             "#7201a8"
            ],
            [
             0.3333333333333333,
             "#9c179e"
            ],
            [
             0.4444444444444444,
             "#bd3786"
            ],
            [
             0.5555555555555556,
             "#d8576b"
            ],
            [
             0.6666666666666666,
             "#ed7953"
            ],
            [
             0.7777777777777778,
             "#fb9f3a"
            ],
            [
             0.8888888888888888,
             "#fdca26"
            ],
            [
             1,
             "#f0f921"
            ]
           ],
           "sequentialminus": [
            [
             0,
             "#0d0887"
            ],
            [
             0.1111111111111111,
             "#46039f"
            ],
            [
             0.2222222222222222,
             "#7201a8"
            ],
            [
             0.3333333333333333,
             "#9c179e"
            ],
            [
             0.4444444444444444,
             "#bd3786"
            ],
            [
             0.5555555555555556,
             "#d8576b"
            ],
            [
             0.6666666666666666,
             "#ed7953"
            ],
            [
             0.7777777777777778,
             "#fb9f3a"
            ],
            [
             0.8888888888888888,
             "#fdca26"
            ],
            [
             1,
             "#f0f921"
            ]
           ]
          },
          "colorway": [
           "#636efa",
           "#EF553B",
           "#00cc96",
           "#ab63fa",
           "#FFA15A",
           "#19d3f3",
           "#FF6692",
           "#B6E880",
           "#FF97FF",
           "#FECB52"
          ],
          "font": {
           "color": "#2a3f5f"
          },
          "geo": {
           "bgcolor": "white",
           "lakecolor": "white",
           "landcolor": "#E5ECF6",
           "showlakes": true,
           "showland": true,
           "subunitcolor": "white"
          },
          "hoverlabel": {
           "align": "left"
          },
          "hovermode": "closest",
          "mapbox": {
           "style": "light"
          },
          "paper_bgcolor": "white",
          "plot_bgcolor": "#E5ECF6",
          "polar": {
           "angularaxis": {
            "gridcolor": "white",
            "linecolor": "white",
            "ticks": ""
           },
           "bgcolor": "#E5ECF6",
           "radialaxis": {
            "gridcolor": "white",
            "linecolor": "white",
            "ticks": ""
           }
          },
          "scene": {
           "xaxis": {
            "backgroundcolor": "#E5ECF6",
            "gridcolor": "white",
            "gridwidth": 2,
            "linecolor": "white",
            "showbackground": true,
            "ticks": "",
            "zerolinecolor": "white"
           },
           "yaxis": {
            "backgroundcolor": "#E5ECF6",
            "gridcolor": "white",
            "gridwidth": 2,
            "linecolor": "white",
            "showbackground": true,
            "ticks": "",
            "zerolinecolor": "white"
           },
           "zaxis": {
            "backgroundcolor": "#E5ECF6",
            "gridcolor": "white",
            "gridwidth": 2,
            "linecolor": "white",
            "showbackground": true,
            "ticks": "",
            "zerolinecolor": "white"
           }
          },
          "shapedefaults": {
           "line": {
            "color": "#2a3f5f"
           }
          },
          "ternary": {
           "aaxis": {
            "gridcolor": "white",
            "linecolor": "white",
            "ticks": ""
           },
           "baxis": {
            "gridcolor": "white",
            "linecolor": "white",
            "ticks": ""
           },
           "bgcolor": "#E5ECF6",
           "caxis": {
            "gridcolor": "white",
            "linecolor": "white",
            "ticks": ""
           }
          },
          "title": {
           "x": 0.05
          },
          "xaxis": {
           "automargin": true,
           "gridcolor": "white",
           "linecolor": "white",
           "ticks": "",
           "title": {
            "standoff": 15
           },
           "zerolinecolor": "white",
           "zerolinewidth": 2
          },
          "yaxis": {
           "automargin": true,
           "gridcolor": "white",
           "linecolor": "white",
           "ticks": "",
           "title": {
            "standoff": 15
           },
           "zerolinecolor": "white",
           "zerolinewidth": 2
          }
         }
        },
        "title": {
         "text": "Datos para Afganistán"
        },
        "xaxis": {
         "title": {
          "text": "Año"
         }
        },
        "yaxis": {
         "title": {
          "text": "Valor"
         }
        }
       }
      }
     },
     "metadata": {},
     "output_type": "display_data"
    },
    {
     "data": {
      "application/vnd.jupyter.widget-view+json": {
       "model_id": "211ea4afdebc44aea4869927dcfaae37",
       "version_major": 2,
       "version_minor": 0
      },
      "text/plain": [
       "interactive(children=(Dropdown(description='Seleccionar país:', options=('Afganistán', 'Alemania', 'Argelia', …"
      ]
     },
     "execution_count": 12,
     "metadata": {},
     "output_type": "execute_result"
    },
    {
     "data": {
      "application/vnd.plotly.v1+json": {
       "config": {
        "plotlyServerURL": "https://plot.ly"
       },
       "data": [
        {
         "mode": "lines+markers",
         "name": "Gasto nacional en salud del gobierno general per cápita (US$ a precios actuales)",
         "type": "scatter",
         "x": [
          "1987",
          "1988",
          "1989",
          "1990",
          "1991",
          "1992",
          "1993",
          "1994",
          "1995",
          "1996",
          "1997",
          "1998",
          "1999",
          "2000",
          "2001",
          "2002",
          "2003",
          "2004",
          "2005",
          "2006",
          "2007",
          "2008",
          "2009",
          "2010",
          "2011",
          "2012",
          "2013",
          "2014",
          "2015",
          "2016",
          "2017",
          "2018",
          "2019",
          "2020",
          "2021",
          "2022"
         ],
         "y": [
          null,
          null,
          null,
          null,
          null,
          null,
          null,
          null,
          null,
          null,
          null,
          null,
          null,
          385.8289,
          368.2593,
          121.4679,
          142.7899,
          160.6907,
          200.9482,
          238.6248,
          309.1785,
          409.3296,
          468.7552,
          577.8154,
          725.4014,
          850.2487,
          900.0331,
          837.8237,
          1017.42,
          713.8523,
          964.1518,
          704.5697,
          613.2051,
          572.373,
          null,
          null
         ]
        },
        {
         "mode": "lines+markers",
         "name": "Gasto de bolsillo per cápita (US$ actuales)",
         "type": "scatter",
         "x": [
          "1987",
          "1988",
          "1989",
          "1990",
          "1991",
          "1992",
          "1993",
          "1994",
          "1995",
          "1996",
          "1997",
          "1998",
          "1999",
          "2000",
          "2001",
          "2002",
          "2003",
          "2004",
          "2005",
          "2006",
          "2007",
          "2008",
          "2009",
          "2010",
          "2011",
          "2012",
          "2013",
          "2014",
          "2015",
          "2016",
          "2017",
          "2018",
          "2019",
          "2020",
          "2021",
          "2022"
         ],
         "y": [
          null,
          null,
          null,
          null,
          null,
          null,
          null,
          null,
          null,
          null,
          null,
          null,
          null,
          205.1698,
          197.8818,
          66.7807,
          73.7273,
          85.7126,
          129.2318,
          147.0283,
          178.1093,
          224.8172,
          204.725,
          262.4815,
          323.4051,
          355.309,
          379.5228,
          346.3052,
          395.4825,
          339.836,
          394.2307,
          312.3998,
          256.9761,
          209.1102,
          null,
          null
         ]
        },
        {
         "mode": "lines+markers",
         "name": "Gasto interno privado en salud per cápita (US$ a precios actuales)",
         "type": "scatter",
         "x": [
          "1987",
          "1988",
          "1989",
          "1990",
          "1991",
          "1992",
          "1993",
          "1994",
          "1995",
          "1996",
          "1997",
          "1998",
          "1999",
          "2000",
          "2001",
          "2002",
          "2003",
          "2004",
          "2005",
          "2006",
          "2007",
          "2008",
          "2009",
          "2010",
          "2011",
          "2012",
          "2013",
          "2014",
          "2015",
          "2016",
          "2017",
          "2018",
          "2019",
          "2020",
          "2021",
          "2022"
         ],
         "y": [
          null,
          null,
          null,
          null,
          null,
          null,
          null,
          null,
          null,
          null,
          null,
          null,
          null,
          318.9011,
          301.7615,
          96.7994,
          117.2963,
          130.0161,
          185.2328,
          213.5347,
          258.8039,
          326.6979,
          310.7723,
          399.2238,
          470.1846,
          504.647,
          508.8661,
          436.0244,
          503.3041,
          431.9147,
          554.8214,
          414.4965,
          343.0039,
          288.8625,
          null,
          null
         ]
        }
       ],
       "layout": {
        "template": {
         "data": {
          "bar": [
           {
            "error_x": {
             "color": "#2a3f5f"
            },
            "error_y": {
             "color": "#2a3f5f"
            },
            "marker": {
             "line": {
              "color": "#E5ECF6",
              "width": 0.5
             },
             "pattern": {
              "fillmode": "overlay",
              "size": 10,
              "solidity": 0.2
             }
            },
            "type": "bar"
           }
          ],
          "barpolar": [
           {
            "marker": {
             "line": {
              "color": "#E5ECF6",
              "width": 0.5
             },
             "pattern": {
              "fillmode": "overlay",
              "size": 10,
              "solidity": 0.2
             }
            },
            "type": "barpolar"
           }
          ],
          "carpet": [
           {
            "aaxis": {
             "endlinecolor": "#2a3f5f",
             "gridcolor": "white",
             "linecolor": "white",
             "minorgridcolor": "white",
             "startlinecolor": "#2a3f5f"
            },
            "baxis": {
             "endlinecolor": "#2a3f5f",
             "gridcolor": "white",
             "linecolor": "white",
             "minorgridcolor": "white",
             "startlinecolor": "#2a3f5f"
            },
            "type": "carpet"
           }
          ],
          "choropleth": [
           {
            "colorbar": {
             "outlinewidth": 0,
             "ticks": ""
            },
            "type": "choropleth"
           }
          ],
          "contour": [
           {
            "colorbar": {
             "outlinewidth": 0,
             "ticks": ""
            },
            "colorscale": [
             [
              0,
              "#0d0887"
             ],
             [
              0.1111111111111111,
              "#46039f"
             ],
             [
              0.2222222222222222,
              "#7201a8"
             ],
             [
              0.3333333333333333,
              "#9c179e"
             ],
             [
              0.4444444444444444,
              "#bd3786"
             ],
             [
              0.5555555555555556,
              "#d8576b"
             ],
             [
              0.6666666666666666,
              "#ed7953"
             ],
             [
              0.7777777777777778,
              "#fb9f3a"
             ],
             [
              0.8888888888888888,
              "#fdca26"
             ],
             [
              1,
              "#f0f921"
             ]
            ],
            "type": "contour"
           }
          ],
          "contourcarpet": [
           {
            "colorbar": {
             "outlinewidth": 0,
             "ticks": ""
            },
            "type": "contourcarpet"
           }
          ],
          "heatmap": [
           {
            "colorbar": {
             "outlinewidth": 0,
             "ticks": ""
            },
            "colorscale": [
             [
              0,
              "#0d0887"
             ],
             [
              0.1111111111111111,
              "#46039f"
             ],
             [
              0.2222222222222222,
              "#7201a8"
             ],
             [
              0.3333333333333333,
              "#9c179e"
             ],
             [
              0.4444444444444444,
              "#bd3786"
             ],
             [
              0.5555555555555556,
              "#d8576b"
             ],
             [
              0.6666666666666666,
              "#ed7953"
             ],
             [
              0.7777777777777778,
              "#fb9f3a"
             ],
             [
              0.8888888888888888,
              "#fdca26"
             ],
             [
              1,
              "#f0f921"
             ]
            ],
            "type": "heatmap"
           }
          ],
          "heatmapgl": [
           {
            "colorbar": {
             "outlinewidth": 0,
             "ticks": ""
            },
            "colorscale": [
             [
              0,
              "#0d0887"
             ],
             [
              0.1111111111111111,
              "#46039f"
             ],
             [
              0.2222222222222222,
              "#7201a8"
             ],
             [
              0.3333333333333333,
              "#9c179e"
             ],
             [
              0.4444444444444444,
              "#bd3786"
             ],
             [
              0.5555555555555556,
              "#d8576b"
             ],
             [
              0.6666666666666666,
              "#ed7953"
             ],
             [
              0.7777777777777778,
              "#fb9f3a"
             ],
             [
              0.8888888888888888,
              "#fdca26"
             ],
             [
              1,
              "#f0f921"
             ]
            ],
            "type": "heatmapgl"
           }
          ],
          "histogram": [
           {
            "marker": {
             "pattern": {
              "fillmode": "overlay",
              "size": 10,
              "solidity": 0.2
             }
            },
            "type": "histogram"
           }
          ],
          "histogram2d": [
           {
            "colorbar": {
             "outlinewidth": 0,
             "ticks": ""
            },
            "colorscale": [
             [
              0,
              "#0d0887"
             ],
             [
              0.1111111111111111,
              "#46039f"
             ],
             [
              0.2222222222222222,
              "#7201a8"
             ],
             [
              0.3333333333333333,
              "#9c179e"
             ],
             [
              0.4444444444444444,
              "#bd3786"
             ],
             [
              0.5555555555555556,
              "#d8576b"
             ],
             [
              0.6666666666666666,
              "#ed7953"
             ],
             [
              0.7777777777777778,
              "#fb9f3a"
             ],
             [
              0.8888888888888888,
              "#fdca26"
             ],
             [
              1,
              "#f0f921"
             ]
            ],
            "type": "histogram2d"
           }
          ],
          "histogram2dcontour": [
           {
            "colorbar": {
             "outlinewidth": 0,
             "ticks": ""
            },
            "colorscale": [
             [
              0,
              "#0d0887"
             ],
             [
              0.1111111111111111,
              "#46039f"
             ],
             [
              0.2222222222222222,
              "#7201a8"
             ],
             [
              0.3333333333333333,
              "#9c179e"
             ],
             [
              0.4444444444444444,
              "#bd3786"
             ],
             [
              0.5555555555555556,
              "#d8576b"
             ],
             [
              0.6666666666666666,
              "#ed7953"
             ],
             [
              0.7777777777777778,
              "#fb9f3a"
             ],
             [
              0.8888888888888888,
              "#fdca26"
             ],
             [
              1,
              "#f0f921"
             ]
            ],
            "type": "histogram2dcontour"
           }
          ],
          "mesh3d": [
           {
            "colorbar": {
             "outlinewidth": 0,
             "ticks": ""
            },
            "type": "mesh3d"
           }
          ],
          "parcoords": [
           {
            "line": {
             "colorbar": {
              "outlinewidth": 0,
              "ticks": ""
             }
            },
            "type": "parcoords"
           }
          ],
          "pie": [
           {
            "automargin": true,
            "type": "pie"
           }
          ],
          "scatter": [
           {
            "fillpattern": {
             "fillmode": "overlay",
             "size": 10,
             "solidity": 0.2
            },
            "type": "scatter"
           }
          ],
          "scatter3d": [
           {
            "line": {
             "colorbar": {
              "outlinewidth": 0,
              "ticks": ""
             }
            },
            "marker": {
             "colorbar": {
              "outlinewidth": 0,
              "ticks": ""
             }
            },
            "type": "scatter3d"
           }
          ],
          "scattercarpet": [
           {
            "marker": {
             "colorbar": {
              "outlinewidth": 0,
              "ticks": ""
             }
            },
            "type": "scattercarpet"
           }
          ],
          "scattergeo": [
           {
            "marker": {
             "colorbar": {
              "outlinewidth": 0,
              "ticks": ""
             }
            },
            "type": "scattergeo"
           }
          ],
          "scattergl": [
           {
            "marker": {
             "colorbar": {
              "outlinewidth": 0,
              "ticks": ""
             }
            },
            "type": "scattergl"
           }
          ],
          "scattermapbox": [
           {
            "marker": {
             "colorbar": {
              "outlinewidth": 0,
              "ticks": ""
             }
            },
            "type": "scattermapbox"
           }
          ],
          "scatterpolar": [
           {
            "marker": {
             "colorbar": {
              "outlinewidth": 0,
              "ticks": ""
             }
            },
            "type": "scatterpolar"
           }
          ],
          "scatterpolargl": [
           {
            "marker": {
             "colorbar": {
              "outlinewidth": 0,
              "ticks": ""
             }
            },
            "type": "scatterpolargl"
           }
          ],
          "scatterternary": [
           {
            "marker": {
             "colorbar": {
              "outlinewidth": 0,
              "ticks": ""
             }
            },
            "type": "scatterternary"
           }
          ],
          "surface": [
           {
            "colorbar": {
             "outlinewidth": 0,
             "ticks": ""
            },
            "colorscale": [
             [
              0,
              "#0d0887"
             ],
             [
              0.1111111111111111,
              "#46039f"
             ],
             [
              0.2222222222222222,
              "#7201a8"
             ],
             [
              0.3333333333333333,
              "#9c179e"
             ],
             [
              0.4444444444444444,
              "#bd3786"
             ],
             [
              0.5555555555555556,
              "#d8576b"
             ],
             [
              0.6666666666666666,
              "#ed7953"
             ],
             [
              0.7777777777777778,
              "#fb9f3a"
             ],
             [
              0.8888888888888888,
              "#fdca26"
             ],
             [
              1,
              "#f0f921"
             ]
            ],
            "type": "surface"
           }
          ],
          "table": [
           {
            "cells": {
             "fill": {
              "color": "#EBF0F8"
             },
             "line": {
              "color": "white"
             }
            },
            "header": {
             "fill": {
              "color": "#C8D4E3"
             },
             "line": {
              "color": "white"
             }
            },
            "type": "table"
           }
          ]
         },
         "layout": {
          "annotationdefaults": {
           "arrowcolor": "#2a3f5f",
           "arrowhead": 0,
           "arrowwidth": 1
          },
          "autotypenumbers": "strict",
          "coloraxis": {
           "colorbar": {
            "outlinewidth": 0,
            "ticks": ""
           }
          },
          "colorscale": {
           "diverging": [
            [
             0,
             "#8e0152"
            ],
            [
             0.1,
             "#c51b7d"
            ],
            [
             0.2,
             "#de77ae"
            ],
            [
             0.3,
             "#f1b6da"
            ],
            [
             0.4,
             "#fde0ef"
            ],
            [
             0.5,
             "#f7f7f7"
            ],
            [
             0.6,
             "#e6f5d0"
            ],
            [
             0.7,
             "#b8e186"
            ],
            [
             0.8,
             "#7fbc41"
            ],
            [
             0.9,
             "#4d9221"
            ],
            [
             1,
             "#276419"
            ]
           ],
           "sequential": [
            [
             0,
             "#0d0887"
            ],
            [
             0.1111111111111111,
             "#46039f"
            ],
            [
             0.2222222222222222,
             "#7201a8"
            ],
            [
             0.3333333333333333,
             "#9c179e"
            ],
            [
             0.4444444444444444,
             "#bd3786"
            ],
            [
             0.5555555555555556,
             "#d8576b"
            ],
            [
             0.6666666666666666,
             "#ed7953"
            ],
            [
             0.7777777777777778,
             "#fb9f3a"
            ],
            [
             0.8888888888888888,
             "#fdca26"
            ],
            [
             1,
             "#f0f921"
            ]
           ],
           "sequentialminus": [
            [
             0,
             "#0d0887"
            ],
            [
             0.1111111111111111,
             "#46039f"
            ],
            [
             0.2222222222222222,
             "#7201a8"
            ],
            [
             0.3333333333333333,
             "#9c179e"
            ],
            [
             0.4444444444444444,
             "#bd3786"
            ],
            [
             0.5555555555555556,
             "#d8576b"
            ],
            [
             0.6666666666666666,
             "#ed7953"
            ],
            [
             0.7777777777777778,
             "#fb9f3a"
            ],
            [
             0.8888888888888888,
             "#fdca26"
            ],
            [
             1,
             "#f0f921"
            ]
           ]
          },
          "colorway": [
           "#636efa",
           "#EF553B",
           "#00cc96",
           "#ab63fa",
           "#FFA15A",
           "#19d3f3",
           "#FF6692",
           "#B6E880",
           "#FF97FF",
           "#FECB52"
          ],
          "font": {
           "color": "#2a3f5f"
          },
          "geo": {
           "bgcolor": "white",
           "lakecolor": "white",
           "landcolor": "#E5ECF6",
           "showlakes": true,
           "showland": true,
           "subunitcolor": "white"
          },
          "hoverlabel": {
           "align": "left"
          },
          "hovermode": "closest",
          "mapbox": {
           "style": "light"
          },
          "paper_bgcolor": "white",
          "plot_bgcolor": "#E5ECF6",
          "polar": {
           "angularaxis": {
            "gridcolor": "white",
            "linecolor": "white",
            "ticks": ""
           },
           "bgcolor": "#E5ECF6",
           "radialaxis": {
            "gridcolor": "white",
            "linecolor": "white",
            "ticks": ""
           }
          },
          "scene": {
           "xaxis": {
            "backgroundcolor": "#E5ECF6",
            "gridcolor": "white",
            "gridwidth": 2,
            "linecolor": "white",
            "showbackground": true,
            "ticks": "",
            "zerolinecolor": "white"
           },
           "yaxis": {
            "backgroundcolor": "#E5ECF6",
            "gridcolor": "white",
            "gridwidth": 2,
            "linecolor": "white",
            "showbackground": true,
            "ticks": "",
            "zerolinecolor": "white"
           },
           "zaxis": {
            "backgroundcolor": "#E5ECF6",
            "gridcolor": "white",
            "gridwidth": 2,
            "linecolor": "white",
            "showbackground": true,
            "ticks": "",
            "zerolinecolor": "white"
           }
          },
          "shapedefaults": {
           "line": {
            "color": "#2a3f5f"
           }
          },
          "ternary": {
           "aaxis": {
            "gridcolor": "white",
            "linecolor": "white",
            "ticks": ""
           },
           "baxis": {
            "gridcolor": "white",
            "linecolor": "white",
            "ticks": ""
           },
           "bgcolor": "#E5ECF6",
           "caxis": {
            "gridcolor": "white",
            "linecolor": "white",
            "ticks": ""
           }
          },
          "title": {
           "x": 0.05
          },
          "xaxis": {
           "automargin": true,
           "gridcolor": "white",
           "linecolor": "white",
           "ticks": "",
           "title": {
            "standoff": 15
           },
           "zerolinecolor": "white",
           "zerolinewidth": 2
          },
          "yaxis": {
           "automargin": true,
           "gridcolor": "white",
           "linecolor": "white",
           "ticks": "",
           "title": {
            "standoff": 15
           },
           "zerolinecolor": "white",
           "zerolinewidth": 2
          }
         }
        },
        "title": {
         "text": "Datos para Argentina"
        },
        "xaxis": {
         "title": {
          "text": "Año"
         }
        },
        "yaxis": {
         "title": {
          "text": "Valor"
         }
        }
       }
      }
     },
     "metadata": {},
     "output_type": "display_data"
    },
    {
     "data": {
      "application/vnd.plotly.v1+json": {
       "config": {
        "plotlyServerURL": "https://plot.ly"
       },
       "data": [
        {
         "mode": "lines+markers",
         "name": "Gasto nacional en salud del gobierno general per cápita (US$ a precios actuales)",
         "type": "scatter",
         "x": [
          "1987",
          "1988",
          "1989",
          "1990",
          "1991",
          "1992",
          "1993",
          "1994",
          "1995",
          "1996",
          "1997",
          "1998",
          "1999",
          "2000",
          "2001",
          "2002",
          "2003",
          "2004",
          "2005",
          "2006",
          "2007",
          "2008",
          "2009",
          "2010",
          "2011",
          "2012",
          "2013",
          "2014",
          "2015",
          "2016",
          "2017",
          "2018",
          "2019",
          "2020",
          "2021",
          "2022"
         ],
         "y": [
          null,
          null,
          null,
          null,
          null,
          null,
          null,
          null,
          null,
          null,
          null,
          null,
          null,
          87.0322,
          68.9027,
          62.4481,
          114.301,
          143.9062,
          161.7697,
          198.3157,
          219.8569,
          211.6221,
          245.1854,
          322.4091,
          360.0105,
          338.4242,
          308.2915,
          304.3931,
          285.0148,
          262.2486,
          307.2137,
          325.8386,
          321.7221,
          304.0861,
          null,
          null
         ]
        },
        {
         "mode": "lines+markers",
         "name": "Gasto de bolsillo per cápita (US$ actuales)",
         "type": "scatter",
         "x": [
          "1987",
          "1988",
          "1989",
          "1990",
          "1991",
          "1992",
          "1993",
          "1994",
          "1995",
          "1996",
          "1997",
          "1998",
          "1999",
          "2000",
          "2001",
          "2002",
          "2003",
          "2004",
          "2005",
          "2006",
          "2007",
          "2008",
          "2009",
          "2010",
          "2011",
          "2012",
          "2013",
          "2014",
          "2015",
          "2016",
          "2017",
          "2018",
          "2019",
          "2020",
          "2021",
          "2022"
         ],
         "y": [
          null,
          null,
          null,
          null,
          null,
          null,
          null,
          null,
          null,
          null,
          null,
          null,
          null,
          34.3936,
          28.8541,
          24.5208,
          35.5457,
          43.3009,
          45.7491,
          44.6797,
          44.6355,
          39.5192,
          39.9765,
          50.2193,
          53.7991,
          50.5217,
          45.864,
          31.0292,
          28.6454,
          26.8069,
          31.319,
          33.1793,
          31.4808,
          26.233,
          null,
          null
         ]
        },
        {
         "mode": "lines+markers",
         "name": "Gasto interno privado en salud per cápita (US$ a precios actuales)",
         "type": "scatter",
         "x": [
          "1987",
          "1988",
          "1989",
          "1990",
          "1991",
          "1992",
          "1993",
          "1994",
          "1995",
          "1996",
          "1997",
          "1998",
          "1999",
          "2000",
          "2001",
          "2002",
          "2003",
          "2004",
          "2005",
          "2006",
          "2007",
          "2008",
          "2009",
          "2010",
          "2011",
          "2012",
          "2013",
          "2014",
          "2015",
          "2016",
          "2017",
          "2018",
          "2019",
          "2020",
          "2021",
          "2022"
         ],
         "y": [
          null,
          null,
          null,
          null,
          null,
          null,
          null,
          null,
          null,
          null,
          null,
          null,
          null,
          149.2622,
          134.049,
          117.2521,
          158.0797,
          201.7054,
          194.9682,
          196.7302,
          206.5918,
          199.2417,
          207.8611,
          257.7159,
          284.8347,
          272.4287,
          253.7611,
          233.9541,
          205.9918,
          191.6253,
          223.7319,
          236.953,
          222.5651,
          178.993,
          null,
          null
         ]
        }
       ],
       "layout": {
        "template": {
         "data": {
          "bar": [
           {
            "error_x": {
             "color": "#2a3f5f"
            },
            "error_y": {
             "color": "#2a3f5f"
            },
            "marker": {
             "line": {
              "color": "#E5ECF6",
              "width": 0.5
             },
             "pattern": {
              "fillmode": "overlay",
              "size": 10,
              "solidity": 0.2
             }
            },
            "type": "bar"
           }
          ],
          "barpolar": [
           {
            "marker": {
             "line": {
              "color": "#E5ECF6",
              "width": 0.5
             },
             "pattern": {
              "fillmode": "overlay",
              "size": 10,
              "solidity": 0.2
             }
            },
            "type": "barpolar"
           }
          ],
          "carpet": [
           {
            "aaxis": {
             "endlinecolor": "#2a3f5f",
             "gridcolor": "white",
             "linecolor": "white",
             "minorgridcolor": "white",
             "startlinecolor": "#2a3f5f"
            },
            "baxis": {
             "endlinecolor": "#2a3f5f",
             "gridcolor": "white",
             "linecolor": "white",
             "minorgridcolor": "white",
             "startlinecolor": "#2a3f5f"
            },
            "type": "carpet"
           }
          ],
          "choropleth": [
           {
            "colorbar": {
             "outlinewidth": 0,
             "ticks": ""
            },
            "type": "choropleth"
           }
          ],
          "contour": [
           {
            "colorbar": {
             "outlinewidth": 0,
             "ticks": ""
            },
            "colorscale": [
             [
              0,
              "#0d0887"
             ],
             [
              0.1111111111111111,
              "#46039f"
             ],
             [
              0.2222222222222222,
              "#7201a8"
             ],
             [
              0.3333333333333333,
              "#9c179e"
             ],
             [
              0.4444444444444444,
              "#bd3786"
             ],
             [
              0.5555555555555556,
              "#d8576b"
             ],
             [
              0.6666666666666666,
              "#ed7953"
             ],
             [
              0.7777777777777778,
              "#fb9f3a"
             ],
             [
              0.8888888888888888,
              "#fdca26"
             ],
             [
              1,
              "#f0f921"
             ]
            ],
            "type": "contour"
           }
          ],
          "contourcarpet": [
           {
            "colorbar": {
             "outlinewidth": 0,
             "ticks": ""
            },
            "type": "contourcarpet"
           }
          ],
          "heatmap": [
           {
            "colorbar": {
             "outlinewidth": 0,
             "ticks": ""
            },
            "colorscale": [
             [
              0,
              "#0d0887"
             ],
             [
              0.1111111111111111,
              "#46039f"
             ],
             [
              0.2222222222222222,
              "#7201a8"
             ],
             [
              0.3333333333333333,
              "#9c179e"
             ],
             [
              0.4444444444444444,
              "#bd3786"
             ],
             [
              0.5555555555555556,
              "#d8576b"
             ],
             [
              0.6666666666666666,
              "#ed7953"
             ],
             [
              0.7777777777777778,
              "#fb9f3a"
             ],
             [
              0.8888888888888888,
              "#fdca26"
             ],
             [
              1,
              "#f0f921"
             ]
            ],
            "type": "heatmap"
           }
          ],
          "heatmapgl": [
           {
            "colorbar": {
             "outlinewidth": 0,
             "ticks": ""
            },
            "colorscale": [
             [
              0,
              "#0d0887"
             ],
             [
              0.1111111111111111,
              "#46039f"
             ],
             [
              0.2222222222222222,
              "#7201a8"
             ],
             [
              0.3333333333333333,
              "#9c179e"
             ],
             [
              0.4444444444444444,
              "#bd3786"
             ],
             [
              0.5555555555555556,
              "#d8576b"
             ],
             [
              0.6666666666666666,
              "#ed7953"
             ],
             [
              0.7777777777777778,
              "#fb9f3a"
             ],
             [
              0.8888888888888888,
              "#fdca26"
             ],
             [
              1,
              "#f0f921"
             ]
            ],
            "type": "heatmapgl"
           }
          ],
          "histogram": [
           {
            "marker": {
             "pattern": {
              "fillmode": "overlay",
              "size": 10,
              "solidity": 0.2
             }
            },
            "type": "histogram"
           }
          ],
          "histogram2d": [
           {
            "colorbar": {
             "outlinewidth": 0,
             "ticks": ""
            },
            "colorscale": [
             [
              0,
              "#0d0887"
             ],
             [
              0.1111111111111111,
              "#46039f"
             ],
             [
              0.2222222222222222,
              "#7201a8"
             ],
             [
              0.3333333333333333,
              "#9c179e"
             ],
             [
              0.4444444444444444,
              "#bd3786"
             ],
             [
              0.5555555555555556,
              "#d8576b"
             ],
             [
              0.6666666666666666,
              "#ed7953"
             ],
             [
              0.7777777777777778,
              "#fb9f3a"
             ],
             [
              0.8888888888888888,
              "#fdca26"
             ],
             [
              1,
              "#f0f921"
             ]
            ],
            "type": "histogram2d"
           }
          ],
          "histogram2dcontour": [
           {
            "colorbar": {
             "outlinewidth": 0,
             "ticks": ""
            },
            "colorscale": [
             [
              0,
              "#0d0887"
             ],
             [
              0.1111111111111111,
              "#46039f"
             ],
             [
              0.2222222222222222,
              "#7201a8"
             ],
             [
              0.3333333333333333,
              "#9c179e"
             ],
             [
              0.4444444444444444,
              "#bd3786"
             ],
             [
              0.5555555555555556,
              "#d8576b"
             ],
             [
              0.6666666666666666,
              "#ed7953"
             ],
             [
              0.7777777777777778,
              "#fb9f3a"
             ],
             [
              0.8888888888888888,
              "#fdca26"
             ],
             [
              1,
              "#f0f921"
             ]
            ],
            "type": "histogram2dcontour"
           }
          ],
          "mesh3d": [
           {
            "colorbar": {
             "outlinewidth": 0,
             "ticks": ""
            },
            "type": "mesh3d"
           }
          ],
          "parcoords": [
           {
            "line": {
             "colorbar": {
              "outlinewidth": 0,
              "ticks": ""
             }
            },
            "type": "parcoords"
           }
          ],
          "pie": [
           {
            "automargin": true,
            "type": "pie"
           }
          ],
          "scatter": [
           {
            "fillpattern": {
             "fillmode": "overlay",
             "size": 10,
             "solidity": 0.2
            },
            "type": "scatter"
           }
          ],
          "scatter3d": [
           {
            "line": {
             "colorbar": {
              "outlinewidth": 0,
              "ticks": ""
             }
            },
            "marker": {
             "colorbar": {
              "outlinewidth": 0,
              "ticks": ""
             }
            },
            "type": "scatter3d"
           }
          ],
          "scattercarpet": [
           {
            "marker": {
             "colorbar": {
              "outlinewidth": 0,
              "ticks": ""
             }
            },
            "type": "scattercarpet"
           }
          ],
          "scattergeo": [
           {
            "marker": {
             "colorbar": {
              "outlinewidth": 0,
              "ticks": ""
             }
            },
            "type": "scattergeo"
           }
          ],
          "scattergl": [
           {
            "marker": {
             "colorbar": {
              "outlinewidth": 0,
              "ticks": ""
             }
            },
            "type": "scattergl"
           }
          ],
          "scattermapbox": [
           {
            "marker": {
             "colorbar": {
              "outlinewidth": 0,
              "ticks": ""
             }
            },
            "type": "scattermapbox"
           }
          ],
          "scatterpolar": [
           {
            "marker": {
             "colorbar": {
              "outlinewidth": 0,
              "ticks": ""
             }
            },
            "type": "scatterpolar"
           }
          ],
          "scatterpolargl": [
           {
            "marker": {
             "colorbar": {
              "outlinewidth": 0,
              "ticks": ""
             }
            },
            "type": "scatterpolargl"
           }
          ],
          "scatterternary": [
           {
            "marker": {
             "colorbar": {
              "outlinewidth": 0,
              "ticks": ""
             }
            },
            "type": "scatterternary"
           }
          ],
          "surface": [
           {
            "colorbar": {
             "outlinewidth": 0,
             "ticks": ""
            },
            "colorscale": [
             [
              0,
              "#0d0887"
             ],
             [
              0.1111111111111111,
              "#46039f"
             ],
             [
              0.2222222222222222,
              "#7201a8"
             ],
             [
              0.3333333333333333,
              "#9c179e"
             ],
             [
              0.4444444444444444,
              "#bd3786"
             ],
             [
              0.5555555555555556,
              "#d8576b"
             ],
             [
              0.6666666666666666,
              "#ed7953"
             ],
             [
              0.7777777777777778,
              "#fb9f3a"
             ],
             [
              0.8888888888888888,
              "#fdca26"
             ],
             [
              1,
              "#f0f921"
             ]
            ],
            "type": "surface"
           }
          ],
          "table": [
           {
            "cells": {
             "fill": {
              "color": "#EBF0F8"
             },
             "line": {
              "color": "white"
             }
            },
            "header": {
             "fill": {
              "color": "#C8D4E3"
             },
             "line": {
              "color": "white"
             }
            },
            "type": "table"
           }
          ]
         },
         "layout": {
          "annotationdefaults": {
           "arrowcolor": "#2a3f5f",
           "arrowhead": 0,
           "arrowwidth": 1
          },
          "autotypenumbers": "strict",
          "coloraxis": {
           "colorbar": {
            "outlinewidth": 0,
            "ticks": ""
           }
          },
          "colorscale": {
           "diverging": [
            [
             0,
             "#8e0152"
            ],
            [
             0.1,
             "#c51b7d"
            ],
            [
             0.2,
             "#de77ae"
            ],
            [
             0.3,
             "#f1b6da"
            ],
            [
             0.4,
             "#fde0ef"
            ],
            [
             0.5,
             "#f7f7f7"
            ],
            [
             0.6,
             "#e6f5d0"
            ],
            [
             0.7,
             "#b8e186"
            ],
            [
             0.8,
             "#7fbc41"
            ],
            [
             0.9,
             "#4d9221"
            ],
            [
             1,
             "#276419"
            ]
           ],
           "sequential": [
            [
             0,
             "#0d0887"
            ],
            [
             0.1111111111111111,
             "#46039f"
            ],
            [
             0.2222222222222222,
             "#7201a8"
            ],
            [
             0.3333333333333333,
             "#9c179e"
            ],
            [
             0.4444444444444444,
             "#bd3786"
            ],
            [
             0.5555555555555556,
             "#d8576b"
            ],
            [
             0.6666666666666666,
             "#ed7953"
            ],
            [
             0.7777777777777778,
             "#fb9f3a"
            ],
            [
             0.8888888888888888,
             "#fdca26"
            ],
            [
             1,
             "#f0f921"
            ]
           ],
           "sequentialminus": [
            [
             0,
             "#0d0887"
            ],
            [
             0.1111111111111111,
             "#46039f"
            ],
            [
             0.2222222222222222,
             "#7201a8"
            ],
            [
             0.3333333333333333,
             "#9c179e"
            ],
            [
             0.4444444444444444,
             "#bd3786"
            ],
            [
             0.5555555555555556,
             "#d8576b"
            ],
            [
             0.6666666666666666,
             "#ed7953"
            ],
            [
             0.7777777777777778,
             "#fb9f3a"
            ],
            [
             0.8888888888888888,
             "#fdca26"
            ],
            [
             1,
             "#f0f921"
            ]
           ]
          },
          "colorway": [
           "#636efa",
           "#EF553B",
           "#00cc96",
           "#ab63fa",
           "#FFA15A",
           "#19d3f3",
           "#FF6692",
           "#B6E880",
           "#FF97FF",
           "#FECB52"
          ],
          "font": {
           "color": "#2a3f5f"
          },
          "geo": {
           "bgcolor": "white",
           "lakecolor": "white",
           "landcolor": "#E5ECF6",
           "showlakes": true,
           "showland": true,
           "subunitcolor": "white"
          },
          "hoverlabel": {
           "align": "left"
          },
          "hovermode": "closest",
          "mapbox": {
           "style": "light"
          },
          "paper_bgcolor": "white",
          "plot_bgcolor": "#E5ECF6",
          "polar": {
           "angularaxis": {
            "gridcolor": "white",
            "linecolor": "white",
            "ticks": ""
           },
           "bgcolor": "#E5ECF6",
           "radialaxis": {
            "gridcolor": "white",
            "linecolor": "white",
            "ticks": ""
           }
          },
          "scene": {
           "xaxis": {
            "backgroundcolor": "#E5ECF6",
            "gridcolor": "white",
            "gridwidth": 2,
            "linecolor": "white",
            "showbackground": true,
            "ticks": "",
            "zerolinecolor": "white"
           },
           "yaxis": {
            "backgroundcolor": "#E5ECF6",
            "gridcolor": "white",
            "gridwidth": 2,
            "linecolor": "white",
            "showbackground": true,
            "ticks": "",
            "zerolinecolor": "white"
           },
           "zaxis": {
            "backgroundcolor": "#E5ECF6",
            "gridcolor": "white",
            "gridwidth": 2,
            "linecolor": "white",
            "showbackground": true,
            "ticks": "",
            "zerolinecolor": "white"
           }
          },
          "shapedefaults": {
           "line": {
            "color": "#2a3f5f"
           }
          },
          "ternary": {
           "aaxis": {
            "gridcolor": "white",
            "linecolor": "white",
            "ticks": ""
           },
           "baxis": {
            "gridcolor": "white",
            "linecolor": "white",
            "ticks": ""
           },
           "bgcolor": "#E5ECF6",
           "caxis": {
            "gridcolor": "white",
            "linecolor": "white",
            "ticks": ""
           }
          },
          "title": {
           "x": 0.05
          },
          "xaxis": {
           "automargin": true,
           "gridcolor": "white",
           "linecolor": "white",
           "ticks": "",
           "title": {
            "standoff": 15
           },
           "zerolinecolor": "white",
           "zerolinewidth": 2
          },
          "yaxis": {
           "automargin": true,
           "gridcolor": "white",
           "linecolor": "white",
           "ticks": "",
           "title": {
            "standoff": 15
           },
           "zerolinecolor": "white",
           "zerolinewidth": 2
          }
         }
        },
        "title": {
         "text": "Datos para Sudáfrica"
        },
        "xaxis": {
         "title": {
          "text": "Año"
         }
        },
        "yaxis": {
         "title": {
          "text": "Valor"
         }
        }
       }
      }
     },
     "metadata": {},
     "output_type": "display_data"
    }
   ],
   "source": [
    "#Crear una lista con los nombres de los países en el DataFrame\n",
    "paises = df['país'].unique().tolist()\n",
    "# Crear un widget de menú desplegable (dropdown) para seleccionar un país\n",
    "dropdown_paises = widgets.Dropdown(\n",
    "    options=paises,\n",
    "    description='Seleccionar país:'\n",
    ")\n",
    "# Función para graficar los datos por país seleccionado\n",
    "def graficar_datos_por_pais(pais):\n",
    "    datos_pais = df[df['país'] == pais]\n",
    "    columnas_años = datos_pais.columns[4:]  # Suponiendo que las columnas de años comienzan desde la cuarta columna\n",
    "    fig = go.Figure()\n",
    "    for i in range(len(datos_pais)):\n",
    "        valores = datos_pais.iloc[i, 4:]\n",
    "        nombre_variable = datos_pais.iloc[i]['factor_(serie)']  # Obtener el nombre de la variable\n",
    "        fig.add_trace(go.Scatter(x=columnas_años, y=valores, mode='lines+markers', name=nombre_variable))\n",
    "    fig.update_layout(\n",
    "        title=f'Datos para {pais}',\n",
    "        xaxis_title='Año',\n",
    "        yaxis_title='Valor'\n",
    "    )\n",
    "    fig.show()\n",
    "# Mostrar un widget vacío para eliminar el gráfico por defecto\n",
    "display(widgets.Output())\n",
    "# Interactividad: enlazar el widget de menú desplegable a la función de graficado\n",
    "widgets.interactive(graficar_datos_por_pais, pais=dropdown_paises)"
   ]
  },
  {
   "cell_type": "code",
   "execution_count": 13,
   "metadata": {},
   "outputs": [
    {
     "data": {
      "image/png": "[encoded data removed]",
      "text/plain": [
       "<Figure size 1000x600 with 1 Axes>"
      ]
     },
     "metadata": {},
     "output_type": "display_data"
    },
    {
     "data": {
      "image/png": "[encoded data removed]",
      "text/plain": [
       "<Figure size 1000x600 with 1 Axes>"
      ]
     },
     "metadata": {},
     "output_type": "display_data"
    },
    {
     "data": {
      "image/png": "[encoded data removed]",
      "text/plain": [
       "<Figure size 1000x600 with 1 Axes>"
      ]
     },
     "metadata": {},
     "output_type": "display_data"
    }
   ],
   "source": [
    "# Iterar sobre los dataframes\n",
    "for nombre_grupo, dataframe in dataframes_por_grupo.items():\n",
    "    # Obtener la lista de columnas para graficar (años)\n",
    "    columnas_años = dataframe.columns[4:]\n",
    "    \n",
    "    # Configurar el gráfico\n",
    "    plt.figure(figsize=(10, 6))\n",
    "    plt.title(f'Gráfico para {nombre_grupo}')\n",
    "    plt.xlabel('Año')\n",
    "    plt.ylabel('Valor')\n",
    "    \n",
    "    # Iterar a través de las filas (paises)\n",
    "    for i in range(len(dataframe)):\n",
    "        # Obtener los valores (suponiendo que los valores comienzan en la cuarta columna)\n",
    "        valores = dataframe.iloc[i, 4:]\n",
    "        plt.plot(columnas_años, valores, label=dataframe.iloc[i, 0])  # El nombre del país está en la primera columna\n",
    "    \n",
    "    # Mostrar leyenda y gráfico\n",
    "    # Posicionar la leyenda afuera del gráfico\n",
    "    plt.legend(loc='center left', bbox_to_anchor=(1, 0.5))\n",
    "    # Rotar las etiquetas del eje x a 90 grados\n",
    "    plt.xticks(rotation=90)\n",
    "    plt.show()\n"
   ]
  }
 ],
 "metadata": {
  "kernelspec": {
   "display_name": "proy_pf_env",
   "language": "python",
   "name": "python3"
  },
  "language_info": {
   "codemirror_mode": {
    "name": "ipython",
    "version": 3
   },
   "file_extension": ".py",
   "mimetype": "text/x-python",
   "name": "python",
   "nbconvert_exporter": "python",
   "pygments_lexer": "ipython3",
   "version": "3.10.11"
  },
  "orig_nbformat": 4
 },
 "nbformat": 4,
 "nbformat_minor": 2
}
