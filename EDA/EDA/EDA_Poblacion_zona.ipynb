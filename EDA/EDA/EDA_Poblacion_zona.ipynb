{
 "cells": [
  {
   "cell_type": "code",
   "execution_count": 1,
   "metadata": {},
   "outputs": [],
   "source": [
    "import pandas as pd\n",
    "import plotly.express as px"
   ]
  },
  {
   "cell_type": "code",
   "execution_count": 2,
   "metadata": {},
   "outputs": [
    {
     "data": {
      "text/html": [
       "<div>\n",
       "<style scoped>\n",
       "    .dataframe tbody tr th:only-of-type {\n",
       "        vertical-align: middle;\n",
       "    }\n",
       "\n",
       "    .dataframe tbody tr th {\n",
       "        vertical-align: top;\n",
       "    }\n",
       "\n",
       "    .dataframe thead th {\n",
       "        text-align: right;\n",
       "    }\n",
       "</style>\n",
       "<table border=\"1\" class=\"dataframe\">\n",
       "  <thead>\n",
       "    <tr style=\"text-align: right;\">\n",
       "      <th></th>\n",
       "      <th>país Name</th>\n",
       "      <th>país Code</th>\n",
       "      <th>serie Name</th>\n",
       "      <th>serie Code</th>\n",
       "      <th>1987 [YR1987]</th>\n",
       "      <th>1988 [YR1988]</th>\n",
       "      <th>1989 [YR1989]</th>\n",
       "      <th>1990 [YR1990]</th>\n",
       "      <th>1991 [YR1991]</th>\n",
       "      <th>1992 [YR1992]</th>\n",
       "      <th>...</th>\n",
       "      <th>2013 [YR2013]</th>\n",
       "      <th>2014 [YR2014]</th>\n",
       "      <th>2015 [YR2015]</th>\n",
       "      <th>2016 [YR2016]</th>\n",
       "      <th>2017 [YR2017]</th>\n",
       "      <th>2018 [YR2018]</th>\n",
       "      <th>2019 [YR2019]</th>\n",
       "      <th>2020 [YR2020]</th>\n",
       "      <th>2021 [YR2021]</th>\n",
       "      <th>2022 [YR2022]</th>\n",
       "    </tr>\n",
       "  </thead>\n",
       "  <tbody>\n",
       "    <tr>\n",
       "      <th>0</th>\n",
       "      <td>Afganistán</td>\n",
       "      <td>AFG</td>\n",
       "      <td>Población, total</td>\n",
       "      <td>SP.POP.TOTL</td>\n",
       "      <td>10322758.0</td>\n",
       "      <td>10383460.0</td>\n",
       "      <td>10673168.0</td>\n",
       "      <td>10694796.0</td>\n",
       "      <td>10745167.0</td>\n",
       "      <td>12057433.0</td>\n",
       "      <td>...</td>\n",
       "      <td>31541209.0</td>\n",
       "      <td>32716210.0</td>\n",
       "      <td>33753499.0</td>\n",
       "      <td>34636207.0</td>\n",
       "      <td>35643418.0</td>\n",
       "      <td>36686784.0</td>\n",
       "      <td>37769499.0</td>\n",
       "      <td>38972230.0</td>\n",
       "      <td>40099462.0</td>\n",
       "      <td>41128771.0</td>\n",
       "    </tr>\n",
       "    <tr>\n",
       "      <th>1</th>\n",
       "      <td>Afganistán</td>\n",
       "      <td>AFG</td>\n",
       "      <td>Población, mujeres</td>\n",
       "      <td>SP.POP.TOTL.FE.IN</td>\n",
       "      <td>5152650.0</td>\n",
       "      <td>5188060.0</td>\n",
       "      <td>5334609.0</td>\n",
       "      <td>5346409.0</td>\n",
       "      <td>5372208.0</td>\n",
       "      <td>6028939.0</td>\n",
       "      <td>...</td>\n",
       "      <td>15594637.0</td>\n",
       "      <td>16172321.0</td>\n",
       "      <td>16682054.0</td>\n",
       "      <td>17115346.0</td>\n",
       "      <td>17614722.0</td>\n",
       "      <td>18136922.0</td>\n",
       "      <td>18679089.0</td>\n",
       "      <td>19279930.0</td>\n",
       "      <td>19844584.0</td>\n",
       "      <td>20362329.0</td>\n",
       "    </tr>\n",
       "    <tr>\n",
       "      <th>2</th>\n",
       "      <td>Afganistán</td>\n",
       "      <td>AFG</td>\n",
       "      <td>Población, hombres</td>\n",
       "      <td>SP.POP.TOTL.MA.IN</td>\n",
       "      <td>5170108.0</td>\n",
       "      <td>5195399.0</td>\n",
       "      <td>5338559.0</td>\n",
       "      <td>5348387.0</td>\n",
       "      <td>5372959.0</td>\n",
       "      <td>6028494.0</td>\n",
       "      <td>...</td>\n",
       "      <td>15946572.0</td>\n",
       "      <td>16543889.0</td>\n",
       "      <td>17071446.0</td>\n",
       "      <td>17520861.0</td>\n",
       "      <td>18028696.0</td>\n",
       "      <td>18549862.0</td>\n",
       "      <td>19090409.0</td>\n",
       "      <td>19692301.0</td>\n",
       "      <td>20254878.0</td>\n",
       "      <td>20766442.0</td>\n",
       "    </tr>\n",
       "    <tr>\n",
       "      <th>3</th>\n",
       "      <td>Afganistán</td>\n",
       "      <td>AFG</td>\n",
       "      <td>Población urbana</td>\n",
       "      <td>SP.URB.TOTL</td>\n",
       "      <td>2096965.0</td>\n",
       "      <td>2180319.0</td>\n",
       "      <td>2250758.0</td>\n",
       "      <td>2264837.0</td>\n",
       "      <td>2285067.0</td>\n",
       "      <td>2574865.0</td>\n",
       "      <td>...</td>\n",
       "      <td>7687539.0</td>\n",
       "      <td>8043935.0</td>\n",
       "      <td>8371880.0</td>\n",
       "      <td>8665979.0</td>\n",
       "      <td>8999963.0</td>\n",
       "      <td>9353296.0</td>\n",
       "      <td>9727157.0</td>\n",
       "      <td>10142913.0</td>\n",
       "      <td>10551772.0</td>\n",
       "      <td>10946834.0</td>\n",
       "    </tr>\n",
       "    <tr>\n",
       "      <th>4</th>\n",
       "      <td>Afganistán</td>\n",
       "      <td>AFG</td>\n",
       "      <td>Población rural</td>\n",
       "      <td>SP.RUR.TOTL</td>\n",
       "      <td>8225793.0</td>\n",
       "      <td>8203141.0</td>\n",
       "      <td>8422410.0</td>\n",
       "      <td>8429959.0</td>\n",
       "      <td>8460100.0</td>\n",
       "      <td>9482568.0</td>\n",
       "      <td>...</td>\n",
       "      <td>23853670.0</td>\n",
       "      <td>24672275.0</td>\n",
       "      <td>25381619.0</td>\n",
       "      <td>25970228.0</td>\n",
       "      <td>26643455.0</td>\n",
       "      <td>27333488.0</td>\n",
       "      <td>28042342.0</td>\n",
       "      <td>28829317.0</td>\n",
       "      <td>29547690.0</td>\n",
       "      <td>30181937.0</td>\n",
       "    </tr>\n",
       "    <tr>\n",
       "      <th>...</th>\n",
       "      <td>...</td>\n",
       "      <td>...</td>\n",
       "      <td>...</td>\n",
       "      <td>...</td>\n",
       "      <td>...</td>\n",
       "      <td>...</td>\n",
       "      <td>...</td>\n",
       "      <td>...</td>\n",
       "      <td>...</td>\n",
       "      <td>...</td>\n",
       "      <td>...</td>\n",
       "      <td>...</td>\n",
       "      <td>...</td>\n",
       "      <td>...</td>\n",
       "      <td>...</td>\n",
       "      <td>...</td>\n",
       "      <td>...</td>\n",
       "      <td>...</td>\n",
       "      <td>...</td>\n",
       "      <td>...</td>\n",
       "      <td>...</td>\n",
       "    </tr>\n",
       "    <tr>\n",
       "      <th>220</th>\n",
       "      <td>NaN</td>\n",
       "      <td>NaN</td>\n",
       "      <td>NaN</td>\n",
       "      <td>NaN</td>\n",
       "      <td>NaN</td>\n",
       "      <td>NaN</td>\n",
       "      <td>NaN</td>\n",
       "      <td>NaN</td>\n",
       "      <td>NaN</td>\n",
       "      <td>NaN</td>\n",
       "      <td>...</td>\n",
       "      <td>NaN</td>\n",
       "      <td>NaN</td>\n",
       "      <td>NaN</td>\n",
       "      <td>NaN</td>\n",
       "      <td>NaN</td>\n",
       "      <td>NaN</td>\n",
       "      <td>NaN</td>\n",
       "      <td>NaN</td>\n",
       "      <td>NaN</td>\n",
       "      <td>NaN</td>\n",
       "    </tr>\n",
       "    <tr>\n",
       "      <th>221</th>\n",
       "      <td>NaN</td>\n",
       "      <td>NaN</td>\n",
       "      <td>NaN</td>\n",
       "      <td>NaN</td>\n",
       "      <td>NaN</td>\n",
       "      <td>NaN</td>\n",
       "      <td>NaN</td>\n",
       "      <td>NaN</td>\n",
       "      <td>NaN</td>\n",
       "      <td>NaN</td>\n",
       "      <td>...</td>\n",
       "      <td>NaN</td>\n",
       "      <td>NaN</td>\n",
       "      <td>NaN</td>\n",
       "      <td>NaN</td>\n",
       "      <td>NaN</td>\n",
       "      <td>NaN</td>\n",
       "      <td>NaN</td>\n",
       "      <td>NaN</td>\n",
       "      <td>NaN</td>\n",
       "      <td>NaN</td>\n",
       "    </tr>\n",
       "    <tr>\n",
       "      <th>222</th>\n",
       "      <td>NaN</td>\n",
       "      <td>NaN</td>\n",
       "      <td>NaN</td>\n",
       "      <td>NaN</td>\n",
       "      <td>NaN</td>\n",
       "      <td>NaN</td>\n",
       "      <td>NaN</td>\n",
       "      <td>NaN</td>\n",
       "      <td>NaN</td>\n",
       "      <td>NaN</td>\n",
       "      <td>...</td>\n",
       "      <td>NaN</td>\n",
       "      <td>NaN</td>\n",
       "      <td>NaN</td>\n",
       "      <td>NaN</td>\n",
       "      <td>NaN</td>\n",
       "      <td>NaN</td>\n",
       "      <td>NaN</td>\n",
       "      <td>NaN</td>\n",
       "      <td>NaN</td>\n",
       "      <td>NaN</td>\n",
       "    </tr>\n",
       "    <tr>\n",
       "      <th>223</th>\n",
       "      <td>Data from Database: Indicadores del desarrollo...</td>\n",
       "      <td>NaN</td>\n",
       "      <td>NaN</td>\n",
       "      <td>NaN</td>\n",
       "      <td>NaN</td>\n",
       "      <td>NaN</td>\n",
       "      <td>NaN</td>\n",
       "      <td>NaN</td>\n",
       "      <td>NaN</td>\n",
       "      <td>NaN</td>\n",
       "      <td>...</td>\n",
       "      <td>NaN</td>\n",
       "      <td>NaN</td>\n",
       "      <td>NaN</td>\n",
       "      <td>NaN</td>\n",
       "      <td>NaN</td>\n",
       "      <td>NaN</td>\n",
       "      <td>NaN</td>\n",
       "      <td>NaN</td>\n",
       "      <td>NaN</td>\n",
       "      <td>NaN</td>\n",
       "    </tr>\n",
       "    <tr>\n",
       "      <th>224</th>\n",
       "      <td>Last Updated: 10/26/2023</td>\n",
       "      <td>NaN</td>\n",
       "      <td>NaN</td>\n",
       "      <td>NaN</td>\n",
       "      <td>NaN</td>\n",
       "      <td>NaN</td>\n",
       "      <td>NaN</td>\n",
       "      <td>NaN</td>\n",
       "      <td>NaN</td>\n",
       "      <td>NaN</td>\n",
       "      <td>...</td>\n",
       "      <td>NaN</td>\n",
       "      <td>NaN</td>\n",
       "      <td>NaN</td>\n",
       "      <td>NaN</td>\n",
       "      <td>NaN</td>\n",
       "      <td>NaN</td>\n",
       "      <td>NaN</td>\n",
       "      <td>NaN</td>\n",
       "      <td>NaN</td>\n",
       "      <td>NaN</td>\n",
       "    </tr>\n",
       "  </tbody>\n",
       "</table>\n",
       "<p>225 rows × 40 columns</p>\n",
       "</div>"
      ],
      "text/plain": [
       "                                             país Name país Code   \n",
       "0                                           Afganistán       AFG  \\\n",
       "1                                           Afganistán       AFG   \n",
       "2                                           Afganistán       AFG   \n",
       "3                                           Afganistán       AFG   \n",
       "4                                           Afganistán       AFG   \n",
       "..                                                 ...       ...   \n",
       "220                                                NaN       NaN   \n",
       "221                                                NaN       NaN   \n",
       "222                                                NaN       NaN   \n",
       "223  Data from Database: Indicadores del desarrollo...       NaN   \n",
       "224                           Last Updated: 10/26/2023       NaN   \n",
       "\n",
       "             serie Name         serie Code  1987 [YR1987]  1988 [YR1988]   \n",
       "0      Población, total        SP.POP.TOTL     10322758.0     10383460.0  \\\n",
       "1    Población, mujeres  SP.POP.TOTL.FE.IN      5152650.0      5188060.0   \n",
       "2    Población, hombres  SP.POP.TOTL.MA.IN      5170108.0      5195399.0   \n",
       "3      Población urbana        SP.URB.TOTL      2096965.0      2180319.0   \n",
       "4       Población rural        SP.RUR.TOTL      8225793.0      8203141.0   \n",
       "..                  ...                ...            ...            ...   \n",
       "220                 NaN                NaN            NaN            NaN   \n",
       "221                 NaN                NaN            NaN            NaN   \n",
       "222                 NaN                NaN            NaN            NaN   \n",
       "223                 NaN                NaN            NaN            NaN   \n",
       "224                 NaN                NaN            NaN            NaN   \n",
       "\n",
       "     1989 [YR1989]  1990 [YR1990]  1991 [YR1991]  1992 [YR1992]  ...   \n",
       "0       10673168.0     10694796.0     10745167.0     12057433.0  ...  \\\n",
       "1        5334609.0      5346409.0      5372208.0      6028939.0  ...   \n",
       "2        5338559.0      5348387.0      5372959.0      6028494.0  ...   \n",
       "3        2250758.0      2264837.0      2285067.0      2574865.0  ...   \n",
       "4        8422410.0      8429959.0      8460100.0      9482568.0  ...   \n",
       "..             ...            ...            ...            ...  ...   \n",
       "220            NaN            NaN            NaN            NaN  ...   \n",
       "221            NaN            NaN            NaN            NaN  ...   \n",
       "222            NaN            NaN            NaN            NaN  ...   \n",
       "223            NaN            NaN            NaN            NaN  ...   \n",
       "224            NaN            NaN            NaN            NaN  ...   \n",
       "\n",
       "     2013 [YR2013]  2014 [YR2014]  2015 [YR2015]  2016 [YR2016]   \n",
       "0       31541209.0     32716210.0     33753499.0     34636207.0  \\\n",
       "1       15594637.0     16172321.0     16682054.0     17115346.0   \n",
       "2       15946572.0     16543889.0     17071446.0     17520861.0   \n",
       "3        7687539.0      8043935.0      8371880.0      8665979.0   \n",
       "4       23853670.0     24672275.0     25381619.0     25970228.0   \n",
       "..             ...            ...            ...            ...   \n",
       "220            NaN            NaN            NaN            NaN   \n",
       "221            NaN            NaN            NaN            NaN   \n",
       "222            NaN            NaN            NaN            NaN   \n",
       "223            NaN            NaN            NaN            NaN   \n",
       "224            NaN            NaN            NaN            NaN   \n",
       "\n",
       "     2017 [YR2017]  2018 [YR2018]  2019 [YR2019]  2020 [YR2020]   \n",
       "0       35643418.0     36686784.0     37769499.0     38972230.0  \\\n",
       "1       17614722.0     18136922.0     18679089.0     19279930.0   \n",
       "2       18028696.0     18549862.0     19090409.0     19692301.0   \n",
       "3        8999963.0      9353296.0      9727157.0     10142913.0   \n",
       "4       26643455.0     27333488.0     28042342.0     28829317.0   \n",
       "..             ...            ...            ...            ...   \n",
       "220            NaN            NaN            NaN            NaN   \n",
       "221            NaN            NaN            NaN            NaN   \n",
       "222            NaN            NaN            NaN            NaN   \n",
       "223            NaN            NaN            NaN            NaN   \n",
       "224            NaN            NaN            NaN            NaN   \n",
       "\n",
       "     2021 [YR2021]  2022 [YR2022]  \n",
       "0       40099462.0     41128771.0  \n",
       "1       19844584.0     20362329.0  \n",
       "2       20254878.0     20766442.0  \n",
       "3       10551772.0     10946834.0  \n",
       "4       29547690.0     30181937.0  \n",
       "..             ...            ...  \n",
       "220            NaN            NaN  \n",
       "221            NaN            NaN  \n",
       "222            NaN            NaN  \n",
       "223            NaN            NaN  \n",
       "224            NaN            NaN  \n",
       "\n",
       "[225 rows x 40 columns]"
      ]
     },
     "execution_count": 2,
     "metadata": {},
     "output_type": "execute_result"
    }
   ],
   "source": [
    "df_poblacion = pd.read_excel(\"../Data/Data_Poblacion_Zona_Genero.xlsx\")\n",
    "df_poblacion"
   ]
  },
  {
   "cell_type": "code",
   "execution_count": 3,
   "metadata": {},
   "outputs": [
    {
     "data": {
      "text/html": [
       "<div>\n",
       "<style scoped>\n",
       "    .dataframe tbody tr th:only-of-type {\n",
       "        vertical-align: middle;\n",
       "    }\n",
       "\n",
       "    .dataframe tbody tr th {\n",
       "        vertical-align: top;\n",
       "    }\n",
       "\n",
       "    .dataframe thead th {\n",
       "        text-align: right;\n",
       "    }\n",
       "</style>\n",
       "<table border=\"1\" class=\"dataframe\">\n",
       "  <thead>\n",
       "    <tr style=\"text-align: right;\">\n",
       "      <th></th>\n",
       "      <th>país Name</th>\n",
       "      <th>país Code</th>\n",
       "      <th>serie Name</th>\n",
       "      <th>serie Code</th>\n",
       "      <th>1987 [YR1987]</th>\n",
       "      <th>1988 [YR1988]</th>\n",
       "      <th>1989 [YR1989]</th>\n",
       "      <th>1990 [YR1990]</th>\n",
       "      <th>1991 [YR1991]</th>\n",
       "      <th>1992 [YR1992]</th>\n",
       "      <th>...</th>\n",
       "      <th>2013 [YR2013]</th>\n",
       "      <th>2014 [YR2014]</th>\n",
       "      <th>2015 [YR2015]</th>\n",
       "      <th>2016 [YR2016]</th>\n",
       "      <th>2017 [YR2017]</th>\n",
       "      <th>2018 [YR2018]</th>\n",
       "      <th>2019 [YR2019]</th>\n",
       "      <th>2020 [YR2020]</th>\n",
       "      <th>2021 [YR2021]</th>\n",
       "      <th>2022 [YR2022]</th>\n",
       "    </tr>\n",
       "  </thead>\n",
       "  <tbody>\n",
       "    <tr>\n",
       "      <th>0</th>\n",
       "      <td>Afganistán</td>\n",
       "      <td>AFG</td>\n",
       "      <td>Población, total</td>\n",
       "      <td>SP.POP.TOTL</td>\n",
       "      <td>10322758.0</td>\n",
       "      <td>10383460.0</td>\n",
       "      <td>10673168.0</td>\n",
       "      <td>10694796.0</td>\n",
       "      <td>10745167.0</td>\n",
       "      <td>12057433.0</td>\n",
       "      <td>...</td>\n",
       "      <td>31541209.0</td>\n",
       "      <td>32716210.0</td>\n",
       "      <td>33753499.0</td>\n",
       "      <td>34636207.0</td>\n",
       "      <td>35643418.0</td>\n",
       "      <td>36686784.0</td>\n",
       "      <td>37769499.0</td>\n",
       "      <td>38972230.0</td>\n",
       "      <td>40099462.0</td>\n",
       "      <td>41128771.0</td>\n",
       "    </tr>\n",
       "    <tr>\n",
       "      <th>1</th>\n",
       "      <td>Afganistán</td>\n",
       "      <td>AFG</td>\n",
       "      <td>Población, mujeres</td>\n",
       "      <td>SP.POP.TOTL.FE.IN</td>\n",
       "      <td>5152650.0</td>\n",
       "      <td>5188060.0</td>\n",
       "      <td>5334609.0</td>\n",
       "      <td>5346409.0</td>\n",
       "      <td>5372208.0</td>\n",
       "      <td>6028939.0</td>\n",
       "      <td>...</td>\n",
       "      <td>15594637.0</td>\n",
       "      <td>16172321.0</td>\n",
       "      <td>16682054.0</td>\n",
       "      <td>17115346.0</td>\n",
       "      <td>17614722.0</td>\n",
       "      <td>18136922.0</td>\n",
       "      <td>18679089.0</td>\n",
       "      <td>19279930.0</td>\n",
       "      <td>19844584.0</td>\n",
       "      <td>20362329.0</td>\n",
       "    </tr>\n",
       "    <tr>\n",
       "      <th>2</th>\n",
       "      <td>Afganistán</td>\n",
       "      <td>AFG</td>\n",
       "      <td>Población, hombres</td>\n",
       "      <td>SP.POP.TOTL.MA.IN</td>\n",
       "      <td>5170108.0</td>\n",
       "      <td>5195399.0</td>\n",
       "      <td>5338559.0</td>\n",
       "      <td>5348387.0</td>\n",
       "      <td>5372959.0</td>\n",
       "      <td>6028494.0</td>\n",
       "      <td>...</td>\n",
       "      <td>15946572.0</td>\n",
       "      <td>16543889.0</td>\n",
       "      <td>17071446.0</td>\n",
       "      <td>17520861.0</td>\n",
       "      <td>18028696.0</td>\n",
       "      <td>18549862.0</td>\n",
       "      <td>19090409.0</td>\n",
       "      <td>19692301.0</td>\n",
       "      <td>20254878.0</td>\n",
       "      <td>20766442.0</td>\n",
       "    </tr>\n",
       "    <tr>\n",
       "      <th>3</th>\n",
       "      <td>Afganistán</td>\n",
       "      <td>AFG</td>\n",
       "      <td>Población urbana</td>\n",
       "      <td>SP.URB.TOTL</td>\n",
       "      <td>2096965.0</td>\n",
       "      <td>2180319.0</td>\n",
       "      <td>2250758.0</td>\n",
       "      <td>2264837.0</td>\n",
       "      <td>2285067.0</td>\n",
       "      <td>2574865.0</td>\n",
       "      <td>...</td>\n",
       "      <td>7687539.0</td>\n",
       "      <td>8043935.0</td>\n",
       "      <td>8371880.0</td>\n",
       "      <td>8665979.0</td>\n",
       "      <td>8999963.0</td>\n",
       "      <td>9353296.0</td>\n",
       "      <td>9727157.0</td>\n",
       "      <td>10142913.0</td>\n",
       "      <td>10551772.0</td>\n",
       "      <td>10946834.0</td>\n",
       "    </tr>\n",
       "    <tr>\n",
       "      <th>4</th>\n",
       "      <td>Afganistán</td>\n",
       "      <td>AFG</td>\n",
       "      <td>Población rural</td>\n",
       "      <td>SP.RUR.TOTL</td>\n",
       "      <td>8225793.0</td>\n",
       "      <td>8203141.0</td>\n",
       "      <td>8422410.0</td>\n",
       "      <td>8429959.0</td>\n",
       "      <td>8460100.0</td>\n",
       "      <td>9482568.0</td>\n",
       "      <td>...</td>\n",
       "      <td>23853670.0</td>\n",
       "      <td>24672275.0</td>\n",
       "      <td>25381619.0</td>\n",
       "      <td>25970228.0</td>\n",
       "      <td>26643455.0</td>\n",
       "      <td>27333488.0</td>\n",
       "      <td>28042342.0</td>\n",
       "      <td>28829317.0</td>\n",
       "      <td>29547690.0</td>\n",
       "      <td>30181937.0</td>\n",
       "    </tr>\n",
       "    <tr>\n",
       "      <th>...</th>\n",
       "      <td>...</td>\n",
       "      <td>...</td>\n",
       "      <td>...</td>\n",
       "      <td>...</td>\n",
       "      <td>...</td>\n",
       "      <td>...</td>\n",
       "      <td>...</td>\n",
       "      <td>...</td>\n",
       "      <td>...</td>\n",
       "      <td>...</td>\n",
       "      <td>...</td>\n",
       "      <td>...</td>\n",
       "      <td>...</td>\n",
       "      <td>...</td>\n",
       "      <td>...</td>\n",
       "      <td>...</td>\n",
       "      <td>...</td>\n",
       "      <td>...</td>\n",
       "      <td>...</td>\n",
       "      <td>...</td>\n",
       "      <td>...</td>\n",
       "    </tr>\n",
       "    <tr>\n",
       "      <th>215</th>\n",
       "      <td>Noruega</td>\n",
       "      <td>NOR</td>\n",
       "      <td>Población, total</td>\n",
       "      <td>SP.POP.TOTL</td>\n",
       "      <td>4186905.0</td>\n",
       "      <td>4209488.0</td>\n",
       "      <td>4226901.0</td>\n",
       "      <td>4241473.0</td>\n",
       "      <td>4261732.0</td>\n",
       "      <td>4286401.0</td>\n",
       "      <td>...</td>\n",
       "      <td>5079623.0</td>\n",
       "      <td>5137232.0</td>\n",
       "      <td>5188607.0</td>\n",
       "      <td>5234519.0</td>\n",
       "      <td>5276968.0</td>\n",
       "      <td>5311916.0</td>\n",
       "      <td>5347896.0</td>\n",
       "      <td>5379475.0</td>\n",
       "      <td>5408320.0</td>\n",
       "      <td>5457127.0</td>\n",
       "    </tr>\n",
       "    <tr>\n",
       "      <th>216</th>\n",
       "      <td>Noruega</td>\n",
       "      <td>NOR</td>\n",
       "      <td>Población, mujeres</td>\n",
       "      <td>SP.POP.TOTL.FE.IN</td>\n",
       "      <td>2116854.0</td>\n",
       "      <td>2127349.0</td>\n",
       "      <td>2136197.0</td>\n",
       "      <td>2144309.0</td>\n",
       "      <td>2154532.0</td>\n",
       "      <td>2166482.0</td>\n",
       "      <td>...</td>\n",
       "      <td>2528233.0</td>\n",
       "      <td>2554202.0</td>\n",
       "      <td>2577286.0</td>\n",
       "      <td>2598214.0</td>\n",
       "      <td>2618212.0</td>\n",
       "      <td>2635181.0</td>\n",
       "      <td>2652054.0</td>\n",
       "      <td>2666540.0</td>\n",
       "      <td>2680087.0</td>\n",
       "      <td>2703524.0</td>\n",
       "    </tr>\n",
       "    <tr>\n",
       "      <th>217</th>\n",
       "      <td>Noruega</td>\n",
       "      <td>NOR</td>\n",
       "      <td>Población, hombres</td>\n",
       "      <td>SP.POP.TOTL.MA.IN</td>\n",
       "      <td>2070051.0</td>\n",
       "      <td>2082138.0</td>\n",
       "      <td>2090705.0</td>\n",
       "      <td>2097163.0</td>\n",
       "      <td>2107201.0</td>\n",
       "      <td>2119918.0</td>\n",
       "      <td>...</td>\n",
       "      <td>2551391.0</td>\n",
       "      <td>2583030.0</td>\n",
       "      <td>2611322.0</td>\n",
       "      <td>2636304.0</td>\n",
       "      <td>2658756.0</td>\n",
       "      <td>2676735.0</td>\n",
       "      <td>2695841.0</td>\n",
       "      <td>2712935.0</td>\n",
       "      <td>2728232.0</td>\n",
       "      <td>2753603.0</td>\n",
       "    </tr>\n",
       "    <tr>\n",
       "      <th>218</th>\n",
       "      <td>Noruega</td>\n",
       "      <td>NOR</td>\n",
       "      <td>Población urbana</td>\n",
       "      <td>SP.URB.TOTL</td>\n",
       "      <td>2996568.0</td>\n",
       "      <td>3018161.0</td>\n",
       "      <td>3036098.0</td>\n",
       "      <td>3051994.0</td>\n",
       "      <td>3079741.0</td>\n",
       "      <td>3114713.0</td>\n",
       "      <td>...</td>\n",
       "      <td>4078226.0</td>\n",
       "      <td>4145335.0</td>\n",
       "      <td>4207493.0</td>\n",
       "      <td>4265348.0</td>\n",
       "      <td>4320306.0</td>\n",
       "      <td>4368945.0</td>\n",
       "      <td>4418218.0</td>\n",
       "      <td>4463566.0</td>\n",
       "      <td>4506374.0</td>\n",
       "      <td>4565651.0</td>\n",
       "    </tr>\n",
       "    <tr>\n",
       "      <th>219</th>\n",
       "      <td>Noruega</td>\n",
       "      <td>NOR</td>\n",
       "      <td>Población rural</td>\n",
       "      <td>SP.RUR.TOTL</td>\n",
       "      <td>1190337.0</td>\n",
       "      <td>1191327.0</td>\n",
       "      <td>1190803.0</td>\n",
       "      <td>1189479.0</td>\n",
       "      <td>1181991.0</td>\n",
       "      <td>1171688.0</td>\n",
       "      <td>...</td>\n",
       "      <td>1001397.0</td>\n",
       "      <td>991897.0</td>\n",
       "      <td>981114.0</td>\n",
       "      <td>969171.0</td>\n",
       "      <td>956662.0</td>\n",
       "      <td>942971.0</td>\n",
       "      <td>929678.0</td>\n",
       "      <td>915909.0</td>\n",
       "      <td>901946.0</td>\n",
       "      <td>891476.0</td>\n",
       "    </tr>\n",
       "  </tbody>\n",
       "</table>\n",
       "<p>220 rows × 40 columns</p>\n",
       "</div>"
      ],
      "text/plain": [
       "      país Name país Code          serie Name         serie Code   \n",
       "0    Afganistán       AFG    Población, total        SP.POP.TOTL  \\\n",
       "1    Afganistán       AFG  Población, mujeres  SP.POP.TOTL.FE.IN   \n",
       "2    Afganistán       AFG  Población, hombres  SP.POP.TOTL.MA.IN   \n",
       "3    Afganistán       AFG    Población urbana        SP.URB.TOTL   \n",
       "4    Afganistán       AFG     Población rural        SP.RUR.TOTL   \n",
       "..          ...       ...                 ...                ...   \n",
       "215     Noruega       NOR    Población, total        SP.POP.TOTL   \n",
       "216     Noruega       NOR  Población, mujeres  SP.POP.TOTL.FE.IN   \n",
       "217     Noruega       NOR  Población, hombres  SP.POP.TOTL.MA.IN   \n",
       "218     Noruega       NOR    Población urbana        SP.URB.TOTL   \n",
       "219     Noruega       NOR     Población rural        SP.RUR.TOTL   \n",
       "\n",
       "     1987 [YR1987]  1988 [YR1988]  1989 [YR1989]  1990 [YR1990]   \n",
       "0       10322758.0     10383460.0     10673168.0     10694796.0  \\\n",
       "1        5152650.0      5188060.0      5334609.0      5346409.0   \n",
       "2        5170108.0      5195399.0      5338559.0      5348387.0   \n",
       "3        2096965.0      2180319.0      2250758.0      2264837.0   \n",
       "4        8225793.0      8203141.0      8422410.0      8429959.0   \n",
       "..             ...            ...            ...            ...   \n",
       "215      4186905.0      4209488.0      4226901.0      4241473.0   \n",
       "216      2116854.0      2127349.0      2136197.0      2144309.0   \n",
       "217      2070051.0      2082138.0      2090705.0      2097163.0   \n",
       "218      2996568.0      3018161.0      3036098.0      3051994.0   \n",
       "219      1190337.0      1191327.0      1190803.0      1189479.0   \n",
       "\n",
       "     1991 [YR1991]  1992 [YR1992]  ...  2013 [YR2013]  2014 [YR2014]   \n",
       "0       10745167.0     12057433.0  ...     31541209.0     32716210.0  \\\n",
       "1        5372208.0      6028939.0  ...     15594637.0     16172321.0   \n",
       "2        5372959.0      6028494.0  ...     15946572.0     16543889.0   \n",
       "3        2285067.0      2574865.0  ...      7687539.0      8043935.0   \n",
       "4        8460100.0      9482568.0  ...     23853670.0     24672275.0   \n",
       "..             ...            ...  ...            ...            ...   \n",
       "215      4261732.0      4286401.0  ...      5079623.0      5137232.0   \n",
       "216      2154532.0      2166482.0  ...      2528233.0      2554202.0   \n",
       "217      2107201.0      2119918.0  ...      2551391.0      2583030.0   \n",
       "218      3079741.0      3114713.0  ...      4078226.0      4145335.0   \n",
       "219      1181991.0      1171688.0  ...      1001397.0       991897.0   \n",
       "\n",
       "     2015 [YR2015]  2016 [YR2016]  2017 [YR2017]  2018 [YR2018]   \n",
       "0       33753499.0     34636207.0     35643418.0     36686784.0  \\\n",
       "1       16682054.0     17115346.0     17614722.0     18136922.0   \n",
       "2       17071446.0     17520861.0     18028696.0     18549862.0   \n",
       "3        8371880.0      8665979.0      8999963.0      9353296.0   \n",
       "4       25381619.0     25970228.0     26643455.0     27333488.0   \n",
       "..             ...            ...            ...            ...   \n",
       "215      5188607.0      5234519.0      5276968.0      5311916.0   \n",
       "216      2577286.0      2598214.0      2618212.0      2635181.0   \n",
       "217      2611322.0      2636304.0      2658756.0      2676735.0   \n",
       "218      4207493.0      4265348.0      4320306.0      4368945.0   \n",
       "219       981114.0       969171.0       956662.0       942971.0   \n",
       "\n",
       "     2019 [YR2019]  2020 [YR2020]  2021 [YR2021]  2022 [YR2022]  \n",
       "0       37769499.0     38972230.0     40099462.0     41128771.0  \n",
       "1       18679089.0     19279930.0     19844584.0     20362329.0  \n",
       "2       19090409.0     19692301.0     20254878.0     20766442.0  \n",
       "3        9727157.0     10142913.0     10551772.0     10946834.0  \n",
       "4       28042342.0     28829317.0     29547690.0     30181937.0  \n",
       "..             ...            ...            ...            ...  \n",
       "215      5347896.0      5379475.0      5408320.0      5457127.0  \n",
       "216      2652054.0      2666540.0      2680087.0      2703524.0  \n",
       "217      2695841.0      2712935.0      2728232.0      2753603.0  \n",
       "218      4418218.0      4463566.0      4506374.0      4565651.0  \n",
       "219       929678.0       915909.0       901946.0       891476.0  \n",
       "\n",
       "[220 rows x 40 columns]"
      ]
     },
     "execution_count": 3,
     "metadata": {},
     "output_type": "execute_result"
    }
   ],
   "source": [
    "df_poblacion.dropna(subset=['país Code'], inplace=True)\n",
    "df_poblacion"
   ]
  },
  {
   "cell_type": "code",
   "execution_count": 4,
   "metadata": {},
   "outputs": [
    {
     "name": "stdout",
     "output_type": "stream",
     "text": [
      "<class 'pandas.core.frame.DataFrame'>\n",
      "Index: 220 entries, 0 to 219\n",
      "Data columns (total 40 columns):\n",
      " #   Column         Non-Null Count  Dtype  \n",
      "---  ------         --------------  -----  \n",
      " 0   país Name      220 non-null    object \n",
      " 1   país Code      220 non-null    object \n",
      " 2   serie Name     220 non-null    object \n",
      " 3   serie Code     220 non-null    object \n",
      " 4   1987 [YR1987]  220 non-null    float64\n",
      " 5   1988 [YR1988]  220 non-null    float64\n",
      " 6   1989 [YR1989]  220 non-null    float64\n",
      " 7   1990 [YR1990]  220 non-null    float64\n",
      " 8   1991 [YR1991]  220 non-null    float64\n",
      " 9   1992 [YR1992]  220 non-null    float64\n",
      " 10  1993 [YR1993]  220 non-null    float64\n",
      " 11  1994 [YR1994]  220 non-null    float64\n",
      " 12  1995 [YR1995]  220 non-null    float64\n",
      " 13  1996 [YR1996]  220 non-null    float64\n",
      " 14  1997 [YR1997]  220 non-null    float64\n",
      " 15  1998 [YR1998]  220 non-null    float64\n",
      " 16  1999 [YR1999]  220 non-null    float64\n",
      " 17  2000 [YR2000]  220 non-null    float64\n",
      " 18  2001 [YR2001]  220 non-null    float64\n",
      " 19  2002 [YR2002]  220 non-null    float64\n",
      " 20  2003 [YR2003]  220 non-null    float64\n",
      " 21  2004 [YR2004]  220 non-null    float64\n",
      " 22  2005 [YR2005]  220 non-null    float64\n",
      " 23  2006 [YR2006]  220 non-null    float64\n",
      " 24  2007 [YR2007]  220 non-null    float64\n",
      " 25  2008 [YR2008]  220 non-null    float64\n",
      " 26  2009 [YR2009]  220 non-null    float64\n",
      " 27  2010 [YR2010]  220 non-null    float64\n",
      " 28  2011 [YR2011]  220 non-null    float64\n",
      " 29  2012 [YR2012]  220 non-null    float64\n",
      " 30  2013 [YR2013]  220 non-null    float64\n",
      " 31  2014 [YR2014]  220 non-null    float64\n",
      " 32  2015 [YR2015]  220 non-null    float64\n",
      " 33  2016 [YR2016]  220 non-null    float64\n",
      " 34  2017 [YR2017]  220 non-null    float64\n",
      " 35  2018 [YR2018]  220 non-null    float64\n",
      " 36  2019 [YR2019]  220 non-null    float64\n",
      " 37  2020 [YR2020]  220 non-null    float64\n",
      " 38  2021 [YR2021]  220 non-null    float64\n",
      " 39  2022 [YR2022]  220 non-null    float64\n",
      "dtypes: float64(36), object(4)\n",
      "memory usage: 70.5+ KB\n"
     ]
    }
   ],
   "source": [
    "df_poblacion.info()"
   ]
  },
  {
   "cell_type": "code",
   "execution_count": 5,
   "metadata": {},
   "outputs": [
    {
     "data": {
      "text/plain": [
       "serie Name\n",
       "Población, total      44\n",
       "Población, mujeres    44\n",
       "Población, hombres    44\n",
       "Población urbana      44\n",
       "Población rural       44\n",
       "Name: count, dtype: int64"
      ]
     },
     "execution_count": 5,
     "metadata": {},
     "output_type": "execute_result"
    }
   ],
   "source": [
    "df_poblacion[\"serie Name\"].value_counts()"
   ]
  },
  {
   "cell_type": "code",
   "execution_count": 6,
   "metadata": {},
   "outputs": [],
   "source": [
    "columns_to_convert = df_poblacion.columns[4:40]\n",
    "\n",
    "df_poblacion[columns_to_convert] = df_poblacion[columns_to_convert].apply(pd.to_numeric, errors='coerce')"
   ]
  },
  {
   "cell_type": "code",
   "execution_count": 7,
   "metadata": {},
   "outputs": [
    {
     "name": "stdout",
     "output_type": "stream",
     "text": [
      "<class 'pandas.core.frame.DataFrame'>\n",
      "Index: 220 entries, 0 to 219\n",
      "Data columns (total 40 columns):\n",
      " #   Column         Non-Null Count  Dtype  \n",
      "---  ------         --------------  -----  \n",
      " 0   país Name      220 non-null    object \n",
      " 1   país Code      220 non-null    object \n",
      " 2   serie Name     220 non-null    object \n",
      " 3   serie Code     220 non-null    object \n",
      " 4   1987 [YR1987]  220 non-null    float64\n",
      " 5   1988 [YR1988]  220 non-null    float64\n",
      " 6   1989 [YR1989]  220 non-null    float64\n",
      " 7   1990 [YR1990]  220 non-null    float64\n",
      " 8   1991 [YR1991]  220 non-null    float64\n",
      " 9   1992 [YR1992]  220 non-null    float64\n",
      " 10  1993 [YR1993]  220 non-null    float64\n",
      " 11  1994 [YR1994]  220 non-null    float64\n",
      " 12  1995 [YR1995]  220 non-null    float64\n",
      " 13  1996 [YR1996]  220 non-null    float64\n",
      " 14  1997 [YR1997]  220 non-null    float64\n",
      " 15  1998 [YR1998]  220 non-null    float64\n",
      " 16  1999 [YR1999]  220 non-null    float64\n",
      " 17  2000 [YR2000]  220 non-null    float64\n",
      " 18  2001 [YR2001]  220 non-null    float64\n",
      " 19  2002 [YR2002]  220 non-null    float64\n",
      " 20  2003 [YR2003]  220 non-null    float64\n",
      " 21  2004 [YR2004]  220 non-null    float64\n",
      " 22  2005 [YR2005]  220 non-null    float64\n",
      " 23  2006 [YR2006]  220 non-null    float64\n",
      " 24  2007 [YR2007]  220 non-null    float64\n",
      " 25  2008 [YR2008]  220 non-null    float64\n",
      " 26  2009 [YR2009]  220 non-null    float64\n",
      " 27  2010 [YR2010]  220 non-null    float64\n",
      " 28  2011 [YR2011]  220 non-null    float64\n",
      " 29  2012 [YR2012]  220 non-null    float64\n",
      " 30  2013 [YR2013]  220 non-null    float64\n",
      " 31  2014 [YR2014]  220 non-null    float64\n",
      " 32  2015 [YR2015]  220 non-null    float64\n",
      " 33  2016 [YR2016]  220 non-null    float64\n",
      " 34  2017 [YR2017]  220 non-null    float64\n",
      " 35  2018 [YR2018]  220 non-null    float64\n",
      " 36  2019 [YR2019]  220 non-null    float64\n",
      " 37  2020 [YR2020]  220 non-null    float64\n",
      " 38  2021 [YR2021]  220 non-null    float64\n",
      " 39  2022 [YR2022]  220 non-null    float64\n",
      "dtypes: float64(36), object(4)\n",
      "memory usage: 70.5+ KB\n"
     ]
    }
   ],
   "source": [
    "df_poblacion.info()"
   ]
  },
  {
   "cell_type": "code",
   "execution_count": 8,
   "metadata": {},
   "outputs": [
    {
     "data": {
      "text/html": [
       "<div>\n",
       "<style scoped>\n",
       "    .dataframe tbody tr th:only-of-type {\n",
       "        vertical-align: middle;\n",
       "    }\n",
       "\n",
       "    .dataframe tbody tr th {\n",
       "        vertical-align: top;\n",
       "    }\n",
       "\n",
       "    .dataframe thead th {\n",
       "        text-align: right;\n",
       "    }\n",
       "</style>\n",
       "<table border=\"1\" class=\"dataframe\">\n",
       "  <thead>\n",
       "    <tr style=\"text-align: right;\">\n",
       "      <th></th>\n",
       "      <th>país Name</th>\n",
       "      <th>país Code</th>\n",
       "      <th>serie Name</th>\n",
       "      <th>serie Code</th>\n",
       "      <th>1987 [YR1987]</th>\n",
       "      <th>1988 [YR1988]</th>\n",
       "      <th>1989 [YR1989]</th>\n",
       "      <th>1990 [YR1990]</th>\n",
       "      <th>1991 [YR1991]</th>\n",
       "      <th>1992 [YR1992]</th>\n",
       "      <th>...</th>\n",
       "      <th>2013 [YR2013]</th>\n",
       "      <th>2014 [YR2014]</th>\n",
       "      <th>2015 [YR2015]</th>\n",
       "      <th>2016 [YR2016]</th>\n",
       "      <th>2017 [YR2017]</th>\n",
       "      <th>2018 [YR2018]</th>\n",
       "      <th>2019 [YR2019]</th>\n",
       "      <th>2020 [YR2020]</th>\n",
       "      <th>2021 [YR2021]</th>\n",
       "      <th>2022 [YR2022]</th>\n",
       "    </tr>\n",
       "  </thead>\n",
       "  <tbody>\n",
       "  </tbody>\n",
       "</table>\n",
       "<p>0 rows × 40 columns</p>\n",
       "</div>"
      ],
      "text/plain": [
       "Empty DataFrame\n",
       "Columns: [país Name, país Code, serie Name, serie Code, 1987 [YR1987], 1988 [YR1988], 1989 [YR1989], 1990 [YR1990], 1991 [YR1991], 1992 [YR1992], 1993 [YR1993], 1994 [YR1994], 1995 [YR1995], 1996 [YR1996], 1997 [YR1997], 1998 [YR1998], 1999 [YR1999], 2000 [YR2000], 2001 [YR2001], 2002 [YR2002], 2003 [YR2003], 2004 [YR2004], 2005 [YR2005], 2006 [YR2006], 2007 [YR2007], 2008 [YR2008], 2009 [YR2009], 2010 [YR2010], 2011 [YR2011], 2012 [YR2012], 2013 [YR2013], 2014 [YR2014], 2015 [YR2015], 2016 [YR2016], 2017 [YR2017], 2018 [YR2018], 2019 [YR2019], 2020 [YR2020], 2021 [YR2021], 2022 [YR2022]]\n",
       "Index: []\n",
       "\n",
       "[0 rows x 40 columns]"
      ]
     },
     "execution_count": 8,
     "metadata": {},
     "output_type": "execute_result"
    }
   ],
   "source": [
    "df_poblacion[df_poblacion.duplicated()]"
   ]
  },
  {
   "cell_type": "code",
   "execution_count": 9,
   "metadata": {},
   "outputs": [],
   "source": [
    "df_poblacion = df_poblacion.drop(columns=[\"país Code\", \"serie Code\"])"
   ]
  },
  {
   "cell_type": "code",
   "execution_count": 10,
   "metadata": {},
   "outputs": [
    {
     "data": {
      "text/html": [
       "<div>\n",
       "<style scoped>\n",
       "    .dataframe tbody tr th:only-of-type {\n",
       "        vertical-align: middle;\n",
       "    }\n",
       "\n",
       "    .dataframe tbody tr th {\n",
       "        vertical-align: top;\n",
       "    }\n",
       "\n",
       "    .dataframe thead th {\n",
       "        text-align: right;\n",
       "    }\n",
       "</style>\n",
       "<table border=\"1\" class=\"dataframe\">\n",
       "  <thead>\n",
       "    <tr style=\"text-align: right;\">\n",
       "      <th>serie Name</th>\n",
       "      <th>país Name</th>\n",
       "      <th>Año</th>\n",
       "      <th>Población rural</th>\n",
       "      <th>Población urbana</th>\n",
       "      <th>Población, hombres</th>\n",
       "      <th>Población, mujeres</th>\n",
       "      <th>Población, total</th>\n",
       "    </tr>\n",
       "  </thead>\n",
       "  <tbody>\n",
       "    <tr>\n",
       "      <th>0</th>\n",
       "      <td>Afganistán</td>\n",
       "      <td>1987</td>\n",
       "      <td>8225793.0</td>\n",
       "      <td>2096965.0</td>\n",
       "      <td>5170108.0</td>\n",
       "      <td>5152650.0</td>\n",
       "      <td>10322758.0</td>\n",
       "    </tr>\n",
       "    <tr>\n",
       "      <th>1</th>\n",
       "      <td>Afganistán</td>\n",
       "      <td>1988</td>\n",
       "      <td>8203141.0</td>\n",
       "      <td>2180319.0</td>\n",
       "      <td>5195399.0</td>\n",
       "      <td>5188060.0</td>\n",
       "      <td>10383460.0</td>\n",
       "    </tr>\n",
       "    <tr>\n",
       "      <th>2</th>\n",
       "      <td>Afganistán</td>\n",
       "      <td>1989</td>\n",
       "      <td>8422410.0</td>\n",
       "      <td>2250758.0</td>\n",
       "      <td>5338559.0</td>\n",
       "      <td>5334609.0</td>\n",
       "      <td>10673168.0</td>\n",
       "    </tr>\n",
       "    <tr>\n",
       "      <th>3</th>\n",
       "      <td>Afganistán</td>\n",
       "      <td>1990</td>\n",
       "      <td>8429959.0</td>\n",
       "      <td>2264837.0</td>\n",
       "      <td>5348387.0</td>\n",
       "      <td>5346409.0</td>\n",
       "      <td>10694796.0</td>\n",
       "    </tr>\n",
       "    <tr>\n",
       "      <th>4</th>\n",
       "      <td>Afganistán</td>\n",
       "      <td>1991</td>\n",
       "      <td>8460100.0</td>\n",
       "      <td>2285067.0</td>\n",
       "      <td>5372959.0</td>\n",
       "      <td>5372208.0</td>\n",
       "      <td>10745167.0</td>\n",
       "    </tr>\n",
       "    <tr>\n",
       "      <th>...</th>\n",
       "      <td>...</td>\n",
       "      <td>...</td>\n",
       "      <td>...</td>\n",
       "      <td>...</td>\n",
       "      <td>...</td>\n",
       "      <td>...</td>\n",
       "      <td>...</td>\n",
       "    </tr>\n",
       "    <tr>\n",
       "      <th>1579</th>\n",
       "      <td>Venezuela</td>\n",
       "      <td>2018</td>\n",
       "      <td>3517041.0</td>\n",
       "      <td>26308612.0</td>\n",
       "      <td>14804135.0</td>\n",
       "      <td>15021517.0</td>\n",
       "      <td>29825653.0</td>\n",
       "    </tr>\n",
       "    <tr>\n",
       "      <th>1580</th>\n",
       "      <td>Venezuela</td>\n",
       "      <td>2019</td>\n",
       "      <td>3407070.0</td>\n",
       "      <td>25564613.0</td>\n",
       "      <td>14365872.0</td>\n",
       "      <td>14605811.0</td>\n",
       "      <td>28971683.0</td>\n",
       "    </tr>\n",
       "    <tr>\n",
       "      <th>1581</th>\n",
       "      <td>Venezuela</td>\n",
       "      <td>2020</td>\n",
       "      <td>3339366.0</td>\n",
       "      <td>25151087.0</td>\n",
       "      <td>14113760.0</td>\n",
       "      <td>14376694.0</td>\n",
       "      <td>28490453.0</td>\n",
       "    </tr>\n",
       "    <tr>\n",
       "      <th>1582</th>\n",
       "      <td>Venezuela</td>\n",
       "      <td>2021</td>\n",
       "      <td>3292334.0</td>\n",
       "      <td>24907533.0</td>\n",
       "      <td>13956811.0</td>\n",
       "      <td>14243056.0</td>\n",
       "      <td>28199867.0</td>\n",
       "    </tr>\n",
       "    <tr>\n",
       "      <th>1583</th>\n",
       "      <td>Venezuela</td>\n",
       "      <td>2022</td>\n",
       "      <td>3289223.0</td>\n",
       "      <td>25012473.0</td>\n",
       "      <td>13996791.0</td>\n",
       "      <td>14304904.0</td>\n",
       "      <td>28301696.0</td>\n",
       "    </tr>\n",
       "  </tbody>\n",
       "</table>\n",
       "<p>1584 rows × 7 columns</p>\n",
       "</div>"
      ],
      "text/plain": [
       "serie Name   país Name   Año  Población rural  Población urbana   \n",
       "0           Afganistán  1987        8225793.0         2096965.0  \\\n",
       "1           Afganistán  1988        8203141.0         2180319.0   \n",
       "2           Afganistán  1989        8422410.0         2250758.0   \n",
       "3           Afganistán  1990        8429959.0         2264837.0   \n",
       "4           Afganistán  1991        8460100.0         2285067.0   \n",
       "...                ...   ...              ...               ...   \n",
       "1579         Venezuela  2018        3517041.0        26308612.0   \n",
       "1580         Venezuela  2019        3407070.0        25564613.0   \n",
       "1581         Venezuela  2020        3339366.0        25151087.0   \n",
       "1582         Venezuela  2021        3292334.0        24907533.0   \n",
       "1583         Venezuela  2022        3289223.0        25012473.0   \n",
       "\n",
       "serie Name  Población, hombres  Población, mujeres  Población, total  \n",
       "0                    5170108.0           5152650.0        10322758.0  \n",
       "1                    5195399.0           5188060.0        10383460.0  \n",
       "2                    5338559.0           5334609.0        10673168.0  \n",
       "3                    5348387.0           5346409.0        10694796.0  \n",
       "4                    5372959.0           5372208.0        10745167.0  \n",
       "...                        ...                 ...               ...  \n",
       "1579                14804135.0          15021517.0        29825653.0  \n",
       "1580                14365872.0          14605811.0        28971683.0  \n",
       "1581                14113760.0          14376694.0        28490453.0  \n",
       "1582                13956811.0          14243056.0        28199867.0  \n",
       "1583                13996791.0          14304904.0        28301696.0  \n",
       "\n",
       "[1584 rows x 7 columns]"
      ]
     },
     "execution_count": 10,
     "metadata": {},
     "output_type": "execute_result"
    }
   ],
   "source": [
    "df_melted = df_poblacion.melt(id_vars=['país Name', 'serie Name'], var_name='Año', value_name='Valor')\n",
    "\n",
    "df_pivoted = df_melted.pivot_table(index=['país Name', 'Año'], columns='serie Name', values='Valor')\n",
    "\n",
    "df_pivoted.reset_index(inplace=True)\n",
    "\n",
    "df_pivoted[\"Año\"] = df_pivoted['Año'].str[:4]\n",
    "df_pivoted"
   ]
  },
  {
   "cell_type": "code",
   "execution_count": 11,
   "metadata": {},
   "outputs": [],
   "source": [
    "def graficar(pais, indicador):\n",
    "    df_pivoted_pais = df_pivoted[df_pivoted[\"país Name\"]==pais]\n",
    "    fig = px.line(data_frame=df_pivoted_pais, x=\"Año\", y=indicador)\n",
    "    fig.show()"
   ]
  },
  {
   "cell_type": "code",
   "execution_count": 12,
   "metadata": {},
   "outputs": [
    {
     "data": {
      "application/vnd.plotly.v1+json": {
       "config": {
        "plotlyServerURL": "https://plot.ly"
       },
       "data": [
        {
         "hovertemplate": "Año=%{x}<br>Población urbana=%{y}<extra></extra>",
         "legendgroup": "",
         "line": {
          "color": "#636efa",
          "dash": "solid"
         },
         "marker": {
          "symbol": "circle"
         },
         "mode": "lines",
         "name": "",
         "orientation": "v",
         "showlegend": false,
         "type": "scatter",
         "x": [
          "1987",
          "1988",
          "1989",
          "1990",
          "1991",
          "1992",
          "1993",
          "1994",
          "1995",
          "1996",
          "1997",
          "1998",
          "1999",
          "2000",
          "2001",
          "2002",
          "2003",
          "2004",
          "2005",
          "2006",
          "2007",
          "2008",
          "2009",
          "2010",
          "2011",
          "2012",
          "2013",
          "2014",
          "2015",
          "2016",
          "2017",
          "2018",
          "2019",
          "2020",
          "2021",
          "2022"
         ],
         "xaxis": "x",
         "y": [
          56695484,
          57044790,
          57469536,
          58079842,
          58625381,
          59146205,
          59647492,
          60028206,
          60378049,
          60725922,
          60986289,
          61167004,
          61376500,
          61629857,
          61902439,
          62174878,
          62376854,
          62529997,
          62660267,
          62753557,
          62833410,
          62875807,
          62877220,
          62940432,
          61940177,
          62064608,
          62242278,
          62510392,
          63062064,
          63592936,
          63861626,
          64096118,
          64294010,
          64410589,
          64513567,
          65286292
         ],
         "yaxis": "y"
        }
       ],
       "layout": {
        "legend": {
         "tracegroupgap": 0
        },
        "margin": {
         "t": 60
        },
        "template": {
         "data": {
          "bar": [
           {
            "error_x": {
             "color": "#2a3f5f"
            },
            "error_y": {
             "color": "#2a3f5f"
            },
            "marker": {
             "line": {
              "color": "#E5ECF6",
              "width": 0.5
             },
             "pattern": {
              "fillmode": "overlay",
              "size": 10,
              "solidity": 0.2
             }
            },
            "type": "bar"
           }
          ],
          "barpolar": [
           {
            "marker": {
             "line": {
              "color": "#E5ECF6",
              "width": 0.5
             },
             "pattern": {
              "fillmode": "overlay",
              "size": 10,
              "solidity": 0.2
             }
            },
            "type": "barpolar"
           }
          ],
          "carpet": [
           {
            "aaxis": {
             "endlinecolor": "#2a3f5f",
             "gridcolor": "white",
             "linecolor": "white",
             "minorgridcolor": "white",
             "startlinecolor": "#2a3f5f"
            },
            "baxis": {
             "endlinecolor": "#2a3f5f",
             "gridcolor": "white",
             "linecolor": "white",
             "minorgridcolor": "white",
             "startlinecolor": "#2a3f5f"
            },
            "type": "carpet"
           }
          ],
          "choropleth": [
           {
            "colorbar": {
             "outlinewidth": 0,
             "ticks": ""
            },
            "type": "choropleth"
           }
          ],
          "contour": [
           {
            "colorbar": {
             "outlinewidth": 0,
             "ticks": ""
            },
            "colorscale": [
             [
              0,
              "#0d0887"
             ],
             [
              0.1111111111111111,
              "#46039f"
             ],
             [
              0.2222222222222222,
              "#7201a8"
             ],
             [
              0.3333333333333333,
              "#9c179e"
             ],
             [
              0.4444444444444444,
              "#bd3786"
             ],
             [
              0.5555555555555556,
              "#d8576b"
             ],
             [
              0.6666666666666666,
              "#ed7953"
             ],
             [
              0.7777777777777778,
              "#fb9f3a"
             ],
             [
              0.8888888888888888,
              "#fdca26"
             ],
             [
              1,
              "#f0f921"
             ]
            ],
            "type": "contour"
           }
          ],
          "contourcarpet": [
           {
            "colorbar": {
             "outlinewidth": 0,
             "ticks": ""
            },
            "type": "contourcarpet"
           }
          ],
          "heatmap": [
           {
            "colorbar": {
             "outlinewidth": 0,
             "ticks": ""
            },
            "colorscale": [
             [
              0,
              "#0d0887"
             ],
             [
              0.1111111111111111,
              "#46039f"
             ],
             [
              0.2222222222222222,
              "#7201a8"
             ],
             [
              0.3333333333333333,
              "#9c179e"
             ],
             [
              0.4444444444444444,
              "#bd3786"
             ],
             [
              0.5555555555555556,
              "#d8576b"
             ],
             [
              0.6666666666666666,
              "#ed7953"
             ],
             [
              0.7777777777777778,
              "#fb9f3a"
             ],
             [
              0.8888888888888888,
              "#fdca26"
             ],
             [
              1,
              "#f0f921"
             ]
            ],
            "type": "heatmap"
           }
          ],
          "heatmapgl": [
           {
            "colorbar": {
             "outlinewidth": 0,
             "ticks": ""
            },
            "colorscale": [
             [
              0,
              "#0d0887"
             ],
             [
              0.1111111111111111,
              "#46039f"
             ],
             [
              0.2222222222222222,
              "#7201a8"
             ],
             [
              0.3333333333333333,
              "#9c179e"
             ],
             [
              0.4444444444444444,
              "#bd3786"
             ],
             [
              0.5555555555555556,
              "#d8576b"
             ],
             [
              0.6666666666666666,
              "#ed7953"
             ],
             [
              0.7777777777777778,
              "#fb9f3a"
             ],
             [
              0.8888888888888888,
              "#fdca26"
             ],
             [
              1,
              "#f0f921"
             ]
            ],
            "type": "heatmapgl"
           }
          ],
          "histogram": [
           {
            "marker": {
             "pattern": {
              "fillmode": "overlay",
              "size": 10,
              "solidity": 0.2
             }
            },
            "type": "histogram"
           }
          ],
          "histogram2d": [
           {
            "colorbar": {
             "outlinewidth": 0,
             "ticks": ""
            },
            "colorscale": [
             [
              0,
              "#0d0887"
             ],
             [
              0.1111111111111111,
              "#46039f"
             ],
             [
              0.2222222222222222,
              "#7201a8"
             ],
             [
              0.3333333333333333,
              "#9c179e"
             ],
             [
              0.4444444444444444,
              "#bd3786"
             ],
             [
              0.5555555555555556,
              "#d8576b"
             ],
             [
              0.6666666666666666,
              "#ed7953"
             ],
             [
              0.7777777777777778,
              "#fb9f3a"
             ],
             [
              0.8888888888888888,
              "#fdca26"
             ],
             [
              1,
              "#f0f921"
             ]
            ],
            "type": "histogram2d"
           }
          ],
          "histogram2dcontour": [
           {
            "colorbar": {
             "outlinewidth": 0,
             "ticks": ""
            },
            "colorscale": [
             [
              0,
              "#0d0887"
             ],
             [
              0.1111111111111111,
              "#46039f"
             ],
             [
              0.2222222222222222,
              "#7201a8"
             ],
             [
              0.3333333333333333,
              "#9c179e"
             ],
             [
              0.4444444444444444,
              "#bd3786"
             ],
             [
              0.5555555555555556,
              "#d8576b"
             ],
             [
              0.6666666666666666,
              "#ed7953"
             ],
             [
              0.7777777777777778,
              "#fb9f3a"
             ],
             [
              0.8888888888888888,
              "#fdca26"
             ],
             [
              1,
              "#f0f921"
             ]
            ],
            "type": "histogram2dcontour"
           }
          ],
          "mesh3d": [
           {
            "colorbar": {
             "outlinewidth": 0,
             "ticks": ""
            },
            "type": "mesh3d"
           }
          ],
          "parcoords": [
           {
            "line": {
             "colorbar": {
              "outlinewidth": 0,
              "ticks": ""
             }
            },
            "type": "parcoords"
           }
          ],
          "pie": [
           {
            "automargin": true,
            "type": "pie"
           }
          ],
          "scatter": [
           {
            "fillpattern": {
             "fillmode": "overlay",
             "size": 10,
             "solidity": 0.2
            },
            "type": "scatter"
           }
          ],
          "scatter3d": [
           {
            "line": {
             "colorbar": {
              "outlinewidth": 0,
              "ticks": ""
             }
            },
            "marker": {
             "colorbar": {
              "outlinewidth": 0,
              "ticks": ""
             }
            },
            "type": "scatter3d"
           }
          ],
          "scattercarpet": [
           {
            "marker": {
             "colorbar": {
              "outlinewidth": 0,
              "ticks": ""
             }
            },
            "type": "scattercarpet"
           }
          ],
          "scattergeo": [
           {
            "marker": {
             "colorbar": {
              "outlinewidth": 0,
              "ticks": ""
             }
            },
            "type": "scattergeo"
           }
          ],
          "scattergl": [
           {
            "marker": {
             "colorbar": {
              "outlinewidth": 0,
              "ticks": ""
             }
            },
            "type": "scattergl"
           }
          ],
          "scattermapbox": [
           {
            "marker": {
             "colorbar": {
              "outlinewidth": 0,
              "ticks": ""
             }
            },
            "type": "scattermapbox"
           }
          ],
          "scatterpolar": [
           {
            "marker": {
             "colorbar": {
              "outlinewidth": 0,
              "ticks": ""
             }
            },
            "type": "scatterpolar"
           }
          ],
          "scatterpolargl": [
           {
            "marker": {
             "colorbar": {
              "outlinewidth": 0,
              "ticks": ""
             }
            },
            "type": "scatterpolargl"
           }
          ],
          "scatterternary": [
           {
            "marker": {
             "colorbar": {
              "outlinewidth": 0,
              "ticks": ""
             }
            },
            "type": "scatterternary"
           }
          ],
          "surface": [
           {
            "colorbar": {
             "outlinewidth": 0,
             "ticks": ""
            },
            "colorscale": [
             [
              0,
              "#0d0887"
             ],
             [
              0.1111111111111111,
              "#46039f"
             ],
             [
              0.2222222222222222,
              "#7201a8"
             ],
             [
              0.3333333333333333,
              "#9c179e"
             ],
             [
              0.4444444444444444,
              "#bd3786"
             ],
             [
              0.5555555555555556,
              "#d8576b"
             ],
             [
              0.6666666666666666,
              "#ed7953"
             ],
             [
              0.7777777777777778,
              "#fb9f3a"
             ],
             [
              0.8888888888888888,
              "#fdca26"
             ],
             [
              1,
              "#f0f921"
             ]
            ],
            "type": "surface"
           }
          ],
          "table": [
           {
            "cells": {
             "fill": {
              "color": "#EBF0F8"
             },
             "line": {
              "color": "white"
             }
            },
            "header": {
             "fill": {
              "color": "#C8D4E3"
             },
             "line": {
              "color": "white"
             }
            },
            "type": "table"
           }
          ]
         },
         "layout": {
          "annotationdefaults": {
           "arrowcolor": "#2a3f5f",
           "arrowhead": 0,
           "arrowwidth": 1
          },
          "autotypenumbers": "strict",
          "coloraxis": {
           "colorbar": {
            "outlinewidth": 0,
            "ticks": ""
           }
          },
          "colorscale": {
           "diverging": [
            [
             0,
             "#8e0152"
            ],
            [
             0.1,
             "#c51b7d"
            ],
            [
             0.2,
             "#de77ae"
            ],
            [
             0.3,
             "#f1b6da"
            ],
            [
             0.4,
             "#fde0ef"
            ],
            [
             0.5,
             "#f7f7f7"
            ],
            [
             0.6,
             "#e6f5d0"
            ],
            [
             0.7,
             "#b8e186"
            ],
            [
             0.8,
             "#7fbc41"
            ],
            [
             0.9,
             "#4d9221"
            ],
            [
             1,
             "#276419"
            ]
           ],
           "sequential": [
            [
             0,
             "#0d0887"
            ],
            [
             0.1111111111111111,
             "#46039f"
            ],
            [
             0.2222222222222222,
             "#7201a8"
            ],
            [
             0.3333333333333333,
             "#9c179e"
            ],
            [
             0.4444444444444444,
             "#bd3786"
            ],
            [
             0.5555555555555556,
             "#d8576b"
            ],
            [
             0.6666666666666666,
             "#ed7953"
            ],
            [
             0.7777777777777778,
             "#fb9f3a"
            ],
            [
             0.8888888888888888,
             "#fdca26"
            ],
            [
             1,
             "#f0f921"
            ]
           ],
           "sequentialminus": [
            [
             0,
             "#0d0887"
            ],
            [
             0.1111111111111111,
             "#46039f"
            ],
            [
             0.2222222222222222,
             "#7201a8"
            ],
            [
             0.3333333333333333,
             "#9c179e"
            ],
            [
             0.4444444444444444,
             "#bd3786"
            ],
            [
             0.5555555555555556,
             "#d8576b"
            ],
            [
             0.6666666666666666,
             "#ed7953"
            ],
            [
             0.7777777777777778,
             "#fb9f3a"
            ],
            [
             0.8888888888888888,
             "#fdca26"
            ],
            [
             1,
             "#f0f921"
            ]
           ]
          },
          "colorway": [
           "#636efa",
           "#EF553B",
           "#00cc96",
           "#ab63fa",
           "#FFA15A",
           "#19d3f3",
           "#FF6692",
           "#B6E880",
           "#FF97FF",
           "#FECB52"
          ],
          "font": {
           "color": "#2a3f5f"
          },
          "geo": {
           "bgcolor": "white",
           "lakecolor": "white",
           "landcolor": "#E5ECF6",
           "showlakes": true,
           "showland": true,
           "subunitcolor": "white"
          },
          "hoverlabel": {
           "align": "left"
          },
          "hovermode": "closest",
          "mapbox": {
           "style": "light"
          },
          "paper_bgcolor": "white",
          "plot_bgcolor": "#E5ECF6",
          "polar": {
           "angularaxis": {
            "gridcolor": "white",
            "linecolor": "white",
            "ticks": ""
           },
           "bgcolor": "#E5ECF6",
           "radialaxis": {
            "gridcolor": "white",
            "linecolor": "white",
            "ticks": ""
           }
          },
          "scene": {
           "xaxis": {
            "backgroundcolor": "#E5ECF6",
            "gridcolor": "white",
            "gridwidth": 2,
            "linecolor": "white",
            "showbackground": true,
            "ticks": "",
            "zerolinecolor": "white"
           },
           "yaxis": {
            "backgroundcolor": "#E5ECF6",
            "gridcolor": "white",
            "gridwidth": 2,
            "linecolor": "white",
            "showbackground": true,
            "ticks": "",
            "zerolinecolor": "white"
           },
           "zaxis": {
            "backgroundcolor": "#E5ECF6",
            "gridcolor": "white",
            "gridwidth": 2,
            "linecolor": "white",
            "showbackground": true,
            "ticks": "",
            "zerolinecolor": "white"
           }
          },
          "shapedefaults": {
           "line": {
            "color": "#2a3f5f"
           }
          },
          "ternary": {
           "aaxis": {
            "gridcolor": "white",
            "linecolor": "white",
            "ticks": ""
           },
           "baxis": {
            "gridcolor": "white",
            "linecolor": "white",
            "ticks": ""
           },
           "bgcolor": "#E5ECF6",
           "caxis": {
            "gridcolor": "white",
            "linecolor": "white",
            "ticks": ""
           }
          },
          "title": {
           "x": 0.05
          },
          "xaxis": {
           "automargin": true,
           "gridcolor": "white",
           "linecolor": "white",
           "ticks": "",
           "title": {
            "standoff": 15
           },
           "zerolinecolor": "white",
           "zerolinewidth": 2
          },
          "yaxis": {
           "automargin": true,
           "gridcolor": "white",
           "linecolor": "white",
           "ticks": "",
           "title": {
            "standoff": 15
           },
           "zerolinecolor": "white",
           "zerolinewidth": 2
          }
         }
        },
        "xaxis": {
         "anchor": "y",
         "domain": [
          0,
          1
         ],
         "title": {
          "text": "Año"
         }
        },
        "yaxis": {
         "anchor": "x",
         "domain": [
          0,
          1
         ],
         "title": {
          "text": "Población urbana"
         }
        }
       }
      }
     },
     "metadata": {},
     "output_type": "display_data"
    }
   ],
   "source": [
    "graficar(\"Alemania\", \"Población urbana\")"
   ]
  },
  {
   "cell_type": "code",
   "execution_count": 13,
   "metadata": {},
   "outputs": [
    {
     "data": {
      "text/plain": [
       "array(['Afganistán', 'Alemania', 'Arabia Saudita', 'Argelia', 'Argentina',\n",
       "       'Australia', 'Austria', 'Brasil', 'Burkina Faso', 'Camboya',\n",
       "       'Canadá', 'Chad', 'China', 'Colombia', 'Costa Rica', 'Cuba',\n",
       "       'Dinamarca', 'Ecuador', 'Egipto, República Árabe de',\n",
       "       'Emiratos Árabes Unidos', 'España', 'Estados Unidos',\n",
       "       'Federación de Rusia', 'Fiji', 'Finlandia', 'Grecia', 'India',\n",
       "       'Japón', 'Kenya', 'Marruecos', 'México', 'Nepal', 'Noruega',\n",
       "       'Nueva Zelandia', 'Níger', 'Países Bajos', 'Reino Unido', 'Rwanda',\n",
       "       'Samoa', 'Sierra Leona', 'Singapur', 'Sudáfrica', 'Suiza',\n",
       "       'Venezuela'], dtype=object)"
      ]
     },
     "execution_count": 13,
     "metadata": {},
     "output_type": "execute_result"
    }
   ],
   "source": [
    "df_pivoted[\"país Name\"].unique()"
   ]
  },
  {
   "cell_type": "code",
   "execution_count": 14,
   "metadata": {},
   "outputs": [],
   "source": [
    "df_pivoted.loc[df_pivoted[\"país Name\"] == \"Egipto, República Árabe de\", \"país Name\"] = \"Egipto\"\n",
    "df_pivoted.loc[df_pivoted[\"país Name\"] == \"Federación de Rusia\", \"país Name\"] = \"Rusia\""
   ]
  },
  {
   "cell_type": "code",
   "execution_count": 15,
   "metadata": {},
   "outputs": [],
   "source": [
    "paises_continentes = {\n",
    "    'Afganistán': 'Asia',\n",
    "    'Alemania': 'Europa',\n",
    "    'Arabia Saudita': 'Asia',\n",
    "    'Argelia': 'África',\n",
    "    'Argentina': 'América del Sur',\n",
    "    'Australia': 'Oceanía',\n",
    "    'Austria': 'Europa',\n",
    "    'Brasil': 'América del Sur',\n",
    "    'Burkina Faso': 'África',\n",
    "    'Camboya': 'Asia',\n",
    "    'Canadá': 'América del Norte',\n",
    "    'Chad': 'África',\n",
    "    'China': 'Asia',\n",
    "    'Colombia': 'América del Sur',\n",
    "    'Costa Rica': 'América Central',\n",
    "    'Cuba': 'América Central',\n",
    "    'Dinamarca': 'Europa',\n",
    "    'Ecuador': 'América del Sur',\n",
    "    'Egipto, República Árabe de': 'África',\n",
    "    'Emiratos Árabes Unidos': 'Asia',\n",
    "    'España': 'Europa',\n",
    "    'Estados Unidos': 'América del Norte',\n",
    "    'Federación de Rusia': 'Europa',\n",
    "    'Fiji': 'Oceanía',\n",
    "    'Finlandia': 'Europa',\n",
    "    'Grecia': 'Europa',\n",
    "    'India': 'Asia',\n",
    "    'Japón': 'Asia',\n",
    "    'Kenya': 'África',\n",
    "    'Marruecos': 'África',\n",
    "    'México': 'América del Norte',\n",
    "    'Nepal': 'Asia',\n",
    "    'Noruega': 'Europa',\n",
    "    'Nueva Zelandia': 'Oceanía',\n",
    "    'Níger': 'África',\n",
    "    'Países Bajos': 'Europa',\n",
    "    'Reino Unido': 'Europa',\n",
    "    'Rwanda': 'África',\n",
    "    'Samoa': 'Oceanía',\n",
    "    'Sierra Leona': 'África',\n",
    "    'Singapur': 'Asia',\n",
    "    'Sudáfrica': 'África',\n",
    "    'Suiza': 'Europa',\n",
    "    'Venezuela': 'América del Sur'\n",
    "}"
   ]
  },
  {
   "cell_type": "code",
   "execution_count": 16,
   "metadata": {},
   "outputs": [],
   "source": [
    "df_pivoted[\"Continente\"] = df_pivoted[\"país Name\"].map(paises_continentes)"
   ]
  },
  {
   "cell_type": "code",
   "execution_count": 17,
   "metadata": {},
   "outputs": [
    {
     "data": {
      "text/html": [
       "<div>\n",
       "<style scoped>\n",
       "    .dataframe tbody tr th:only-of-type {\n",
       "        vertical-align: middle;\n",
       "    }\n",
       "\n",
       "    .dataframe tbody tr th {\n",
       "        vertical-align: top;\n",
       "    }\n",
       "\n",
       "    .dataframe thead th {\n",
       "        text-align: right;\n",
       "    }\n",
       "</style>\n",
       "<table border=\"1\" class=\"dataframe\">\n",
       "  <thead>\n",
       "    <tr style=\"text-align: right;\">\n",
       "      <th></th>\n",
       "      <th>serie Name</th>\n",
       "      <th>Población rural</th>\n",
       "      <th>Población urbana</th>\n",
       "      <th>Población, hombres</th>\n",
       "      <th>Población, mujeres</th>\n",
       "      <th>Población, total</th>\n",
       "    </tr>\n",
       "    <tr>\n",
       "      <th>Continente</th>\n",
       "      <th>Año</th>\n",
       "      <th></th>\n",
       "      <th></th>\n",
       "      <th></th>\n",
       "      <th></th>\n",
       "      <th></th>\n",
       "    </tr>\n",
       "  </thead>\n",
       "  <tbody>\n",
       "    <tr>\n",
       "      <th rowspan=\"5\" valign=\"top\">América Central</th>\n",
       "      <th>1987</th>\n",
       "      <td>2.221004e+06</td>\n",
       "      <td>4.404749e+06</td>\n",
       "      <td>3.351423e+06</td>\n",
       "      <td>3.274330e+06</td>\n",
       "      <td>6.625752e+06</td>\n",
       "    </tr>\n",
       "    <tr>\n",
       "      <th>1988</th>\n",
       "      <td>2.216016e+06</td>\n",
       "      <td>4.497431e+06</td>\n",
       "      <td>3.394889e+06</td>\n",
       "      <td>3.318558e+06</td>\n",
       "      <td>6.713447e+06</td>\n",
       "    </tr>\n",
       "    <tr>\n",
       "      <th>1989</th>\n",
       "      <td>2.210840e+06</td>\n",
       "      <td>4.592254e+06</td>\n",
       "      <td>3.439396e+06</td>\n",
       "      <td>3.363698e+06</td>\n",
       "      <td>6.803094e+06</td>\n",
       "    </tr>\n",
       "    <tr>\n",
       "      <th>1990</th>\n",
       "      <td>2.204777e+06</td>\n",
       "      <td>4.687690e+06</td>\n",
       "      <td>3.483748e+06</td>\n",
       "      <td>3.408719e+06</td>\n",
       "      <td>6.892466e+06</td>\n",
       "    </tr>\n",
       "    <tr>\n",
       "      <th>1991</th>\n",
       "      <td>2.205153e+06</td>\n",
       "      <td>4.771460e+06</td>\n",
       "      <td>3.525424e+06</td>\n",
       "      <td>3.451189e+06</td>\n",
       "      <td>6.976613e+06</td>\n",
       "    </tr>\n",
       "    <tr>\n",
       "      <th>...</th>\n",
       "      <th>...</th>\n",
       "      <td>...</td>\n",
       "      <td>...</td>\n",
       "      <td>...</td>\n",
       "      <td>...</td>\n",
       "      <td>...</td>\n",
       "    </tr>\n",
       "    <tr>\n",
       "      <th rowspan=\"5\" valign=\"top\">África</th>\n",
       "      <th>2018</th>\n",
       "      <td>1.565769e+07</td>\n",
       "      <td>1.368837e+07</td>\n",
       "      <td>1.461540e+07</td>\n",
       "      <td>1.473066e+07</td>\n",
       "      <td>2.934606e+07</td>\n",
       "    </tr>\n",
       "    <tr>\n",
       "      <th>2019</th>\n",
       "      <td>1.588095e+07</td>\n",
       "      <td>1.405817e+07</td>\n",
       "      <td>1.491458e+07</td>\n",
       "      <td>1.502453e+07</td>\n",
       "      <td>2.993912e+07</td>\n",
       "    </tr>\n",
       "    <tr>\n",
       "      <th>2020</th>\n",
       "      <td>1.610326e+07</td>\n",
       "      <td>1.443112e+07</td>\n",
       "      <td>1.521481e+07</td>\n",
       "      <td>1.531958e+07</td>\n",
       "      <td>3.053438e+07</td>\n",
       "    </tr>\n",
       "    <tr>\n",
       "      <th>2021</th>\n",
       "      <td>1.631913e+07</td>\n",
       "      <td>1.479954e+07</td>\n",
       "      <td>1.550902e+07</td>\n",
       "      <td>1.560966e+07</td>\n",
       "      <td>3.111868e+07</td>\n",
       "    </tr>\n",
       "    <tr>\n",
       "      <th>2022</th>\n",
       "      <td>1.652975e+07</td>\n",
       "      <td>1.516692e+07</td>\n",
       "      <td>1.580021e+07</td>\n",
       "      <td>1.589646e+07</td>\n",
       "      <td>3.169667e+07</td>\n",
       "    </tr>\n",
       "  </tbody>\n",
       "</table>\n",
       "<p>252 rows × 5 columns</p>\n",
       "</div>"
      ],
      "text/plain": [
       "serie Name            Población rural  Población urbana  Población, hombres   \n",
       "Continente      Año                                                           \n",
       "América Central 1987     2.221004e+06      4.404749e+06        3.351423e+06  \\\n",
       "                1988     2.216016e+06      4.497431e+06        3.394889e+06   \n",
       "                1989     2.210840e+06      4.592254e+06        3.439396e+06   \n",
       "                1990     2.204777e+06      4.687690e+06        3.483748e+06   \n",
       "                1991     2.205153e+06      4.771460e+06        3.525424e+06   \n",
       "...                               ...               ...                 ...   \n",
       "África          2018     1.565769e+07      1.368837e+07        1.461540e+07   \n",
       "                2019     1.588095e+07      1.405817e+07        1.491458e+07   \n",
       "                2020     1.610326e+07      1.443112e+07        1.521481e+07   \n",
       "                2021     1.631913e+07      1.479954e+07        1.550902e+07   \n",
       "                2022     1.652975e+07      1.516692e+07        1.580021e+07   \n",
       "\n",
       "serie Name            Población, mujeres  Población, total  \n",
       "Continente      Año                                         \n",
       "América Central 1987        3.274330e+06      6.625752e+06  \n",
       "                1988        3.318558e+06      6.713447e+06  \n",
       "                1989        3.363698e+06      6.803094e+06  \n",
       "                1990        3.408719e+06      6.892466e+06  \n",
       "                1991        3.451189e+06      6.976613e+06  \n",
       "...                                  ...               ...  \n",
       "África          2018        1.473066e+07      2.934606e+07  \n",
       "                2019        1.502453e+07      2.993912e+07  \n",
       "                2020        1.531958e+07      3.053438e+07  \n",
       "                2021        1.560966e+07      3.111868e+07  \n",
       "                2022        1.589646e+07      3.169667e+07  \n",
       "\n",
       "[252 rows x 5 columns]"
      ]
     },
     "execution_count": 17,
     "metadata": {},
     "output_type": "execute_result"
    }
   ],
   "source": [
    "df_contientes = df_pivoted.iloc[:,1:].groupby([\"Continente\", \"Año\"]).mean()\n",
    "df_contientes"
   ]
  },
  {
   "cell_type": "code",
   "execution_count": 18,
   "metadata": {},
   "outputs": [
    {
     "data": {
      "text/html": [
       "<div>\n",
       "<style scoped>\n",
       "    .dataframe tbody tr th:only-of-type {\n",
       "        vertical-align: middle;\n",
       "    }\n",
       "\n",
       "    .dataframe tbody tr th {\n",
       "        vertical-align: top;\n",
       "    }\n",
       "\n",
       "    .dataframe thead th {\n",
       "        text-align: right;\n",
       "    }\n",
       "</style>\n",
       "<table border=\"1\" class=\"dataframe\">\n",
       "  <thead>\n",
       "    <tr style=\"text-align: right;\">\n",
       "      <th>serie Name</th>\n",
       "      <th>Continente</th>\n",
       "      <th>Año</th>\n",
       "      <th>Población rural</th>\n",
       "      <th>Población urbana</th>\n",
       "      <th>Población, hombres</th>\n",
       "      <th>Población, mujeres</th>\n",
       "      <th>Población, total</th>\n",
       "    </tr>\n",
       "  </thead>\n",
       "  <tbody>\n",
       "    <tr>\n",
       "      <th>0</th>\n",
       "      <td>América Central</td>\n",
       "      <td>1987</td>\n",
       "      <td>2.221004e+06</td>\n",
       "      <td>4.404749e+06</td>\n",
       "      <td>3.351423e+06</td>\n",
       "      <td>3.274330e+06</td>\n",
       "      <td>6.625752e+06</td>\n",
       "    </tr>\n",
       "    <tr>\n",
       "      <th>1</th>\n",
       "      <td>América Central</td>\n",
       "      <td>1988</td>\n",
       "      <td>2.216016e+06</td>\n",
       "      <td>4.497431e+06</td>\n",
       "      <td>3.394889e+06</td>\n",
       "      <td>3.318558e+06</td>\n",
       "      <td>6.713447e+06</td>\n",
       "    </tr>\n",
       "    <tr>\n",
       "      <th>2</th>\n",
       "      <td>América Central</td>\n",
       "      <td>1989</td>\n",
       "      <td>2.210840e+06</td>\n",
       "      <td>4.592254e+06</td>\n",
       "      <td>3.439396e+06</td>\n",
       "      <td>3.363698e+06</td>\n",
       "      <td>6.803094e+06</td>\n",
       "    </tr>\n",
       "    <tr>\n",
       "      <th>3</th>\n",
       "      <td>América Central</td>\n",
       "      <td>1990</td>\n",
       "      <td>2.204777e+06</td>\n",
       "      <td>4.687690e+06</td>\n",
       "      <td>3.483748e+06</td>\n",
       "      <td>3.408719e+06</td>\n",
       "      <td>6.892466e+06</td>\n",
       "    </tr>\n",
       "    <tr>\n",
       "      <th>4</th>\n",
       "      <td>América Central</td>\n",
       "      <td>1991</td>\n",
       "      <td>2.205153e+06</td>\n",
       "      <td>4.771460e+06</td>\n",
       "      <td>3.525424e+06</td>\n",
       "      <td>3.451189e+06</td>\n",
       "      <td>6.976613e+06</td>\n",
       "    </tr>\n",
       "    <tr>\n",
       "      <th>...</th>\n",
       "      <td>...</td>\n",
       "      <td>...</td>\n",
       "      <td>...</td>\n",
       "      <td>...</td>\n",
       "      <td>...</td>\n",
       "      <td>...</td>\n",
       "      <td>...</td>\n",
       "    </tr>\n",
       "    <tr>\n",
       "      <th>247</th>\n",
       "      <td>África</td>\n",
       "      <td>2018</td>\n",
       "      <td>1.565769e+07</td>\n",
       "      <td>1.368837e+07</td>\n",
       "      <td>1.461540e+07</td>\n",
       "      <td>1.473066e+07</td>\n",
       "      <td>2.934606e+07</td>\n",
       "    </tr>\n",
       "    <tr>\n",
       "      <th>248</th>\n",
       "      <td>África</td>\n",
       "      <td>2019</td>\n",
       "      <td>1.588095e+07</td>\n",
       "      <td>1.405817e+07</td>\n",
       "      <td>1.491458e+07</td>\n",
       "      <td>1.502453e+07</td>\n",
       "      <td>2.993912e+07</td>\n",
       "    </tr>\n",
       "    <tr>\n",
       "      <th>249</th>\n",
       "      <td>África</td>\n",
       "      <td>2020</td>\n",
       "      <td>1.610326e+07</td>\n",
       "      <td>1.443112e+07</td>\n",
       "      <td>1.521481e+07</td>\n",
       "      <td>1.531958e+07</td>\n",
       "      <td>3.053438e+07</td>\n",
       "    </tr>\n",
       "    <tr>\n",
       "      <th>250</th>\n",
       "      <td>África</td>\n",
       "      <td>2021</td>\n",
       "      <td>1.631913e+07</td>\n",
       "      <td>1.479954e+07</td>\n",
       "      <td>1.550902e+07</td>\n",
       "      <td>1.560966e+07</td>\n",
       "      <td>3.111868e+07</td>\n",
       "    </tr>\n",
       "    <tr>\n",
       "      <th>251</th>\n",
       "      <td>África</td>\n",
       "      <td>2022</td>\n",
       "      <td>1.652975e+07</td>\n",
       "      <td>1.516692e+07</td>\n",
       "      <td>1.580021e+07</td>\n",
       "      <td>1.589646e+07</td>\n",
       "      <td>3.169667e+07</td>\n",
       "    </tr>\n",
       "  </tbody>\n",
       "</table>\n",
       "<p>252 rows × 7 columns</p>\n",
       "</div>"
      ],
      "text/plain": [
       "serie Name       Continente   Año  Población rural  Población urbana   \n",
       "0           América Central  1987     2.221004e+06      4.404749e+06  \\\n",
       "1           América Central  1988     2.216016e+06      4.497431e+06   \n",
       "2           América Central  1989     2.210840e+06      4.592254e+06   \n",
       "3           América Central  1990     2.204777e+06      4.687690e+06   \n",
       "4           América Central  1991     2.205153e+06      4.771460e+06   \n",
       "..                      ...   ...              ...               ...   \n",
       "247                  África  2018     1.565769e+07      1.368837e+07   \n",
       "248                  África  2019     1.588095e+07      1.405817e+07   \n",
       "249                  África  2020     1.610326e+07      1.443112e+07   \n",
       "250                  África  2021     1.631913e+07      1.479954e+07   \n",
       "251                  África  2022     1.652975e+07      1.516692e+07   \n",
       "\n",
       "serie Name  Población, hombres  Población, mujeres  Población, total  \n",
       "0                 3.351423e+06        3.274330e+06      6.625752e+06  \n",
       "1                 3.394889e+06        3.318558e+06      6.713447e+06  \n",
       "2                 3.439396e+06        3.363698e+06      6.803094e+06  \n",
       "3                 3.483748e+06        3.408719e+06      6.892466e+06  \n",
       "4                 3.525424e+06        3.451189e+06      6.976613e+06  \n",
       "..                         ...                 ...               ...  \n",
       "247               1.461540e+07        1.473066e+07      2.934606e+07  \n",
       "248               1.491458e+07        1.502453e+07      2.993912e+07  \n",
       "249               1.521481e+07        1.531958e+07      3.053438e+07  \n",
       "250               1.550902e+07        1.560966e+07      3.111868e+07  \n",
       "251               1.580021e+07        1.589646e+07      3.169667e+07  \n",
       "\n",
       "[252 rows x 7 columns]"
      ]
     },
     "execution_count": 18,
     "metadata": {},
     "output_type": "execute_result"
    }
   ],
   "source": [
    "df_contientes.reset_index(inplace=True)\n",
    "df_contientes"
   ]
  },
  {
   "cell_type": "code",
   "execution_count": 19,
   "metadata": {},
   "outputs": [],
   "source": [
    "def graficar_indicador(indicador):\n",
    "    fig = px.line(data_frame=df_contientes, x=\"Año\", y=indicador, color=\"Continente\")\n",
    "    fig.show()"
   ]
  },
  {
   "cell_type": "code",
   "execution_count": 20,
   "metadata": {},
   "outputs": [
    {
     "data": {
      "application/vnd.plotly.v1+json": {
       "config": {
        "plotlyServerURL": "https://plot.ly"
       },
       "data": [
        {
         "hovertemplate": "Continente=América Central<br>Año=%{x}<br>Población rural=%{y}<extra></extra>",
         "legendgroup": "América Central",
         "line": {
          "color": "#636efa",
          "dash": "solid"
         },
         "marker": {
          "symbol": "circle"
         },
         "mode": "lines",
         "name": "América Central",
         "orientation": "v",
         "showlegend": true,
         "type": "scatter",
         "x": [
          "1987",
          "1988",
          "1989",
          "1990",
          "1991",
          "1992",
          "1993",
          "1994",
          "1995",
          "1996",
          "1997",
          "1998",
          "1999",
          "2000",
          "2001",
          "2002",
          "2003",
          "2004",
          "2005",
          "2006",
          "2007",
          "2008",
          "2009",
          "2010",
          "2011",
          "2012",
          "2013",
          "2014",
          "2015",
          "2016",
          "2017",
          "2018",
          "2019",
          "2020",
          "2021",
          "2022"
         ],
         "xaxis": "x",
         "y": [
          2221003.5,
          2216016,
          2210840.5,
          2204777,
          2205153,
          2211271,
          2215206.5,
          2216982,
          2217073,
          2215958.5,
          2211583.5,
          2203780,
          2195073,
          2184988,
          2163815.5,
          2140804,
          2120091.5,
          2101987.5,
          2082778,
          2062316.5,
          2040894.5,
          2018926,
          1996842,
          1974364.5,
          1951800,
          1929988,
          1911435.5,
          1893802,
          1876315,
          1858826,
          1840330.5,
          1821360.5,
          1801773.5,
          1781179.5,
          1756722.5,
          1732108
         ],
         "yaxis": "y"
        },
        {
         "hovertemplate": "Continente=América del Norte<br>Año=%{x}<br>Población rural=%{y}<extra></extra>",
         "legendgroup": "América del Norte",
         "line": {
          "color": "#EF553B",
          "dash": "solid"
         },
         "marker": {
          "symbol": "circle"
         },
         "mode": "lines",
         "name": "América del Norte",
         "orientation": "v",
         "showlegend": true,
         "type": "scatter",
         "x": [
          "1987",
          "1988",
          "1989",
          "1990",
          "1991",
          "1992",
          "1993",
          "1994",
          "1995",
          "1996",
          "1997",
          "1998",
          "1999",
          "2000",
          "2001",
          "2002",
          "2003",
          "2004",
          "2005",
          "2006",
          "2007",
          "2008",
          "2009",
          "2010",
          "2011",
          "2012",
          "2013",
          "2014",
          "2015",
          "2016",
          "2017",
          "2018",
          "2019",
          "2020",
          "2021",
          "2022"
         ],
         "xaxis": "x",
         "y": [
          30192555.666666668,
          30284830,
          30393767.666666668,
          30499369.333333332,
          30506272,
          30497480.333333332,
          30469819,
          30418706.333333332,
          30354014.333333332,
          30296923.666666668,
          30244706.333333332,
          30175650.666666668,
          30097831.333333332,
          30043683,
          30081206,
          30130988.333333332,
          30159784,
          30198815.666666668,
          30235639.666666668,
          30273283.666666668,
          30293273,
          30309350,
          30310017.666666668,
          30308362.666666668,
          30284418,
          30269624.666666668,
          30231258,
          30186168.333333332,
          30122794.333333332,
          30056366.666666668,
          29960109,
          29831169.666666668,
          29672345.333333332,
          29585736.666666668,
          29311387.666666668,
          29108707.666666668
         ],
         "yaxis": "y"
        },
        {
         "hovertemplate": "Continente=América del Sur<br>Año=%{x}<br>Población rural=%{y}<extra></extra>",
         "legendgroup": "América del Sur",
         "line": {
          "color": "#00cc96",
          "dash": "solid"
         },
         "marker": {
          "symbol": "circle"
         },
         "mode": "lines",
         "name": "América del Sur",
         "orientation": "v",
         "showlegend": true,
         "type": "scatter",
         "x": [
          "1987",
          "1988",
          "1989",
          "1990",
          "1991",
          "1992",
          "1993",
          "1994",
          "1995",
          "1996",
          "1997",
          "1998",
          "1999",
          "2000",
          "2001",
          "2002",
          "2003",
          "2004",
          "2005",
          "2006",
          "2007",
          "2008",
          "2009",
          "2010",
          "2011",
          "2012",
          "2013",
          "2014",
          "2015",
          "2016",
          "2017",
          "2018",
          "2019",
          "2020",
          "2021",
          "2022"
         ],
         "xaxis": "x",
         "y": [
          12497546.6,
          12426127.8,
          12347058.4,
          12259197.2,
          12167665,
          12077195.4,
          11981185.4,
          11880470,
          11774806.4,
          11663318.2,
          11524198.6,
          11378964.6,
          11228539.8,
          11073635.2,
          11027933.8,
          11005076.8,
          10978574.6,
          10947493.6,
          10913676.6,
          10875388.8,
          10832382.6,
          10784387,
          10733815.4,
          10676317.4,
          10622742.2,
          10567686,
          10510067.2,
          10449698.4,
          10388585.4,
          10326029.6,
          10262583.6,
          10198007.2,
          10128062,
          10048418.4,
          9956997.2,
          9862496.2
         ],
         "yaxis": "y"
        },
        {
         "hovertemplate": "Continente=Asia<br>Año=%{x}<br>Población rural=%{y}<extra></extra>",
         "legendgroup": "Asia",
         "line": {
          "color": "#ab63fa",
          "dash": "solid"
         },
         "marker": {
          "symbol": "circle"
         },
         "mode": "lines",
         "name": "Asia",
         "orientation": "v",
         "showlegend": true,
         "type": "scatter",
         "x": [
          "1987",
          "1988",
          "1989",
          "1990",
          "1991",
          "1992",
          "1993",
          "1994",
          "1995",
          "1996",
          "1997",
          "1998",
          "1999",
          "2000",
          "2001",
          "2002",
          "2003",
          "2004",
          "2005",
          "2006",
          "2007",
          "2008",
          "2009",
          "2010",
          "2011",
          "2012",
          "2013",
          "2014",
          "2015",
          "2016",
          "2017",
          "2018",
          "2019",
          "2020",
          "2021",
          "2022"
         ],
         "xaxis": "x",
         "y": [
          166469601.44444445,
          168419297.1111111,
          170318685.33333334,
          172117728.33333334,
          173660319.7777778,
          175186215.66666666,
          176671473.66666666,
          178039398,
          179272165,
          180386424.7777778,
          181434931.2222222,
          182378154.44444445,
          183188123.44444445,
          183838497.1111111,
          183907476.1111111,
          183699285.55555555,
          183405282.2222222,
          182944972,
          182403068.44444445,
          181846484.33333334,
          181184093.1111111,
          180455807.55555555,
          179707019.8888889,
          178893153.66666666,
          178269923.55555555,
          177761927.55555555,
          177171583.7777778,
          176475654.44444445,
          175657496.8888889,
          174797655.44444445,
          173924472.33333334,
          172904710.2222222,
          171771182.2222222,
          170530271,
          169066738.44444445,
          167437475.66666666
         ],
         "yaxis": "y"
        },
        {
         "hovertemplate": "Continente=Europa<br>Año=%{x}<br>Población rural=%{y}<extra></extra>",
         "legendgroup": "Europa",
         "line": {
          "color": "#FFA15A",
          "dash": "solid"
         },
         "marker": {
          "symbol": "circle"
         },
         "mode": "lines",
         "name": "Europa",
         "orientation": "v",
         "showlegend": true,
         "type": "scatter",
         "x": [
          "1987",
          "1988",
          "1989",
          "1990",
          "1991",
          "1992",
          "1993",
          "1994",
          "1995",
          "1996",
          "1997",
          "1998",
          "1999",
          "2000",
          "2001",
          "2002",
          "2003",
          "2004",
          "2005",
          "2006",
          "2007",
          "2008",
          "2009",
          "2010",
          "2011",
          "2012",
          "2013",
          "2014",
          "2015",
          "2016",
          "2017",
          "2018",
          "2019",
          "2020",
          "2021",
          "2022"
         ],
         "xaxis": "x",
         "y": [
          5848906.9,
          5840247.7,
          5855446.1,
          5863200.2,
          5868556.7,
          5875769.9,
          5875116.8,
          5859127.1,
          5840719.2,
          5821598.5,
          5799139.9,
          5774368.3,
          5751763.9,
          5732296.2,
          5709741.2,
          5671692.6,
          5633280.5,
          5594241.9,
          5556471.7,
          5519738.3,
          5487013.2,
          5452988.7,
          5410191.2,
          5364090.7,
          5285330.8,
          5252039.4,
          5218076.8,
          5191916.1,
          5178297.6,
          5164243.1,
          5140426.8,
          5113636.9,
          5086277,
          5050359.4,
          5003821.9,
          4980970.6
         ],
         "yaxis": "y"
        },
        {
         "hovertemplate": "Continente=Oceanía<br>Año=%{x}<br>Población rural=%{y}<extra></extra>",
         "legendgroup": "Oceanía",
         "line": {
          "color": "#19d3f3",
          "dash": "solid"
         },
         "marker": {
          "symbol": "circle"
         },
         "mode": "lines",
         "name": "Oceanía",
         "orientation": "v",
         "showlegend": true,
         "type": "scatter",
         "x": [
          "1987",
          "1988",
          "1989",
          "1990",
          "1991",
          "1992",
          "1993",
          "1994",
          "1995",
          "1996",
          "1997",
          "1998",
          "1999",
          "2000",
          "2001",
          "2002",
          "2003",
          "2004",
          "2005",
          "2006",
          "2007",
          "2008",
          "2009",
          "2010",
          "2011",
          "2012",
          "2013",
          "2014",
          "2015",
          "2016",
          "2017",
          "2018",
          "2019",
          "2020",
          "2021",
          "2022"
         ],
         "xaxis": "x",
         "y": [
          866783,
          876197.25,
          886219.25,
          895538.5,
          908528,
          919770.75,
          930388.25,
          941855.25,
          954713,
          969063.5,
          984136.75,
          998619.75,
          1013509.75,
          1029099.75,
          1045903.75,
          1051032.75,
          1056589.75,
          1060822.75,
          1065677,
          1071739.75,
          1082153.25,
          1093612.75,
          1105672,
          1113830.25,
          1120132,
          1128581,
          1137312,
          1145487.75,
          1153842,
          1163620.5,
          1173582.25,
          1181394.25,
          1188388.5,
          1194236.75,
          1187324.5,
          1188482.75
         ],
         "yaxis": "y"
        },
        {
         "hovertemplate": "Continente=África<br>Año=%{x}<br>Población rural=%{y}<extra></extra>",
         "legendgroup": "África",
         "line": {
          "color": "#FF6692",
          "dash": "solid"
         },
         "marker": {
          "symbol": "circle"
         },
         "mode": "lines",
         "name": "África",
         "orientation": "v",
         "showlegend": true,
         "type": "scatter",
         "x": [
          "1987",
          "1988",
          "1989",
          "1990",
          "1991",
          "1992",
          "1993",
          "1994",
          "1995",
          "1996",
          "1997",
          "1998",
          "1999",
          "2000",
          "2001",
          "2002",
          "2003",
          "2004",
          "2005",
          "2006",
          "2007",
          "2008",
          "2009",
          "2010",
          "2011",
          "2012",
          "2013",
          "2014",
          "2015",
          "2016",
          "2017",
          "2018",
          "2019",
          "2020",
          "2021",
          "2022"
         ],
         "xaxis": "x",
         "y": [
          9651700.333333334,
          9873698.222222222,
          10091283,
          10299599.777777778,
          10487864.444444444,
          10651811.333333334,
          10810003.555555556,
          10821246.444444444,
          10866132.111111112,
          11116578.444444444,
          11351299,
          11515155.111111112,
          11663664.444444444,
          11820166.888888888,
          11993612.333333334,
          12172979.555555556,
          12363923.666666666,
          12567169.222222222,
          12763483.444444444,
          12958262,
          13161345.666666666,
          13376499.111111112,
          13600955.333333334,
          13826446,
          14054767.777777778,
          14286143.222222222,
          14518802.222222222,
          14754514,
          14997035.111111112,
          15219521,
          15432478.555555556,
          15657689.555555556,
          15880949.666666666,
          16103258.888888888,
          16319132.555555556,
          16529746.333333334
         ],
         "yaxis": "y"
        }
       ],
       "layout": {
        "legend": {
         "title": {
          "text": "Continente"
         },
         "tracegroupgap": 0
        },
        "margin": {
         "t": 60
        },
        "template": {
         "data": {
          "bar": [
           {
            "error_x": {
             "color": "#2a3f5f"
            },
            "error_y": {
             "color": "#2a3f5f"
            },
            "marker": {
             "line": {
              "color": "#E5ECF6",
              "width": 0.5
             },
             "pattern": {
              "fillmode": "overlay",
              "size": 10,
              "solidity": 0.2
             }
            },
            "type": "bar"
           }
          ],
          "barpolar": [
           {
            "marker": {
             "line": {
              "color": "#E5ECF6",
              "width": 0.5
             },
             "pattern": {
              "fillmode": "overlay",
              "size": 10,
              "solidity": 0.2
             }
            },
            "type": "barpolar"
           }
          ],
          "carpet": [
           {
            "aaxis": {
             "endlinecolor": "#2a3f5f",
             "gridcolor": "white",
             "linecolor": "white",
             "minorgridcolor": "white",
             "startlinecolor": "#2a3f5f"
            },
            "baxis": {
             "endlinecolor": "#2a3f5f",
             "gridcolor": "white",
             "linecolor": "white",
             "minorgridcolor": "white",
             "startlinecolor": "#2a3f5f"
            },
            "type": "carpet"
           }
          ],
          "choropleth": [
           {
            "colorbar": {
             "outlinewidth": 0,
             "ticks": ""
            },
            "type": "choropleth"
           }
          ],
          "contour": [
           {
            "colorbar": {
             "outlinewidth": 0,
             "ticks": ""
            },
            "colorscale": [
             [
              0,
              "#0d0887"
             ],
             [
              0.1111111111111111,
              "#46039f"
             ],
             [
              0.2222222222222222,
              "#7201a8"
             ],
             [
              0.3333333333333333,
              "#9c179e"
             ],
             [
              0.4444444444444444,
              "#bd3786"
             ],
             [
              0.5555555555555556,
              "#d8576b"
             ],
             [
              0.6666666666666666,
              "#ed7953"
             ],
             [
              0.7777777777777778,
              "#fb9f3a"
             ],
             [
              0.8888888888888888,
              "#fdca26"
             ],
             [
              1,
              "#f0f921"
             ]
            ],
            "type": "contour"
           }
          ],
          "contourcarpet": [
           {
            "colorbar": {
             "outlinewidth": 0,
             "ticks": ""
            },
            "type": "contourcarpet"
           }
          ],
          "heatmap": [
           {
            "colorbar": {
             "outlinewidth": 0,
             "ticks": ""
            },
            "colorscale": [
             [
              0,
              "#0d0887"
             ],
             [
              0.1111111111111111,
              "#46039f"
             ],
             [
              0.2222222222222222,
              "#7201a8"
             ],
             [
              0.3333333333333333,
              "#9c179e"
             ],
             [
              0.4444444444444444,
              "#bd3786"
             ],
             [
              0.5555555555555556,
              "#d8576b"
             ],
             [
              0.6666666666666666,
              "#ed7953"
             ],
             [
              0.7777777777777778,
              "#fb9f3a"
             ],
             [
              0.8888888888888888,
              "#fdca26"
             ],
             [
              1,
              "#f0f921"
             ]
            ],
            "type": "heatmap"
           }
          ],
          "heatmapgl": [
           {
            "colorbar": {
             "outlinewidth": 0,
             "ticks": ""
            },
            "colorscale": [
             [
              0,
              "#0d0887"
             ],
             [
              0.1111111111111111,
              "#46039f"
             ],
             [
              0.2222222222222222,
              "#7201a8"
             ],
             [
              0.3333333333333333,
              "#9c179e"
             ],
             [
              0.4444444444444444,
              "#bd3786"
             ],
             [
              0.5555555555555556,
              "#d8576b"
             ],
             [
              0.6666666666666666,
              "#ed7953"
             ],
             [
              0.7777777777777778,
              "#fb9f3a"
             ],
             [
              0.8888888888888888,
              "#fdca26"
             ],
             [
              1,
              "#f0f921"
             ]
            ],
            "type": "heatmapgl"
           }
          ],
          "histogram": [
           {
            "marker": {
             "pattern": {
              "fillmode": "overlay",
              "size": 10,
              "solidity": 0.2
             }
            },
            "type": "histogram"
           }
          ],
          "histogram2d": [
           {
            "colorbar": {
             "outlinewidth": 0,
             "ticks": ""
            },
            "colorscale": [
             [
              0,
              "#0d0887"
             ],
             [
              0.1111111111111111,
              "#46039f"
             ],
             [
              0.2222222222222222,
              "#7201a8"
             ],
             [
              0.3333333333333333,
              "#9c179e"
             ],
             [
              0.4444444444444444,
              "#bd3786"
             ],
             [
              0.5555555555555556,
              "#d8576b"
             ],
             [
              0.6666666666666666,
              "#ed7953"
             ],
             [
              0.7777777777777778,
              "#fb9f3a"
             ],
             [
              0.8888888888888888,
              "#fdca26"
             ],
             [
              1,
              "#f0f921"
             ]
            ],
            "type": "histogram2d"
           }
          ],
          "histogram2dcontour": [
           {
            "colorbar": {
             "outlinewidth": 0,
             "ticks": ""
            },
            "colorscale": [
             [
              0,
              "#0d0887"
             ],
             [
              0.1111111111111111,
              "#46039f"
             ],
             [
              0.2222222222222222,
              "#7201a8"
             ],
             [
              0.3333333333333333,
              "#9c179e"
             ],
             [
              0.4444444444444444,
              "#bd3786"
             ],
             [
              0.5555555555555556,
              "#d8576b"
             ],
             [
              0.6666666666666666,
              "#ed7953"
             ],
             [
              0.7777777777777778,
              "#fb9f3a"
             ],
             [
              0.8888888888888888,
              "#fdca26"
             ],
             [
              1,
              "#f0f921"
             ]
            ],
            "type": "histogram2dcontour"
           }
          ],
          "mesh3d": [
           {
            "colorbar": {
             "outlinewidth": 0,
             "ticks": ""
            },
            "type": "mesh3d"
           }
          ],
          "parcoords": [
           {
            "line": {
             "colorbar": {
              "outlinewidth": 0,
              "ticks": ""
             }
            },
            "type": "parcoords"
           }
          ],
          "pie": [
           {
            "automargin": true,
            "type": "pie"
           }
          ],
          "scatter": [
           {
            "fillpattern": {
             "fillmode": "overlay",
             "size": 10,
             "solidity": 0.2
            },
            "type": "scatter"
           }
          ],
          "scatter3d": [
           {
            "line": {
             "colorbar": {
              "outlinewidth": 0,
              "ticks": ""
             }
            },
            "marker": {
             "colorbar": {
              "outlinewidth": 0,
              "ticks": ""
             }
            },
            "type": "scatter3d"
           }
          ],
          "scattercarpet": [
           {
            "marker": {
             "colorbar": {
              "outlinewidth": 0,
              "ticks": ""
             }
            },
            "type": "scattercarpet"
           }
          ],
          "scattergeo": [
           {
            "marker": {
             "colorbar": {
              "outlinewidth": 0,
              "ticks": ""
             }
            },
            "type": "scattergeo"
           }
          ],
          "scattergl": [
           {
            "marker": {
             "colorbar": {
              "outlinewidth": 0,
              "ticks": ""
             }
            },
            "type": "scattergl"
           }
          ],
          "scattermapbox": [
           {
            "marker": {
             "colorbar": {
              "outlinewidth": 0,
              "ticks": ""
             }
            },
            "type": "scattermapbox"
           }
          ],
          "scatterpolar": [
           {
            "marker": {
             "colorbar": {
              "outlinewidth": 0,
              "ticks": ""
             }
            },
            "type": "scatterpolar"
           }
          ],
          "scatterpolargl": [
           {
            "marker": {
             "colorbar": {
              "outlinewidth": 0,
              "ticks": ""
             }
            },
            "type": "scatterpolargl"
           }
          ],
          "scatterternary": [
           {
            "marker": {
             "colorbar": {
              "outlinewidth": 0,
              "ticks": ""
             }
            },
            "type": "scatterternary"
           }
          ],
          "surface": [
           {
            "colorbar": {
             "outlinewidth": 0,
             "ticks": ""
            },
            "colorscale": [
             [
              0,
              "#0d0887"
             ],
             [
              0.1111111111111111,
              "#46039f"
             ],
             [
              0.2222222222222222,
              "#7201a8"
             ],
             [
              0.3333333333333333,
              "#9c179e"
             ],
             [
              0.4444444444444444,
              "#bd3786"
             ],
             [
              0.5555555555555556,
              "#d8576b"
             ],
             [
              0.6666666666666666,
              "#ed7953"
             ],
             [
              0.7777777777777778,
              "#fb9f3a"
             ],
             [
              0.8888888888888888,
              "#fdca26"
             ],
             [
              1,
              "#f0f921"
             ]
            ],
            "type": "surface"
           }
          ],
          "table": [
           {
            "cells": {
             "fill": {
              "color": "#EBF0F8"
             },
             "line": {
              "color": "white"
             }
            },
            "header": {
             "fill": {
              "color": "#C8D4E3"
             },
             "line": {
              "color": "white"
             }
            },
            "type": "table"
           }
          ]
         },
         "layout": {
          "annotationdefaults": {
           "arrowcolor": "#2a3f5f",
           "arrowhead": 0,
           "arrowwidth": 1
          },
          "autotypenumbers": "strict",
          "coloraxis": {
           "colorbar": {
            "outlinewidth": 0,
            "ticks": ""
           }
          },
          "colorscale": {
           "diverging": [
            [
             0,
             "#8e0152"
            ],
            [
             0.1,
             "#c51b7d"
            ],
            [
             0.2,
             "#de77ae"
            ],
            [
             0.3,
             "#f1b6da"
            ],
            [
             0.4,
             "#fde0ef"
            ],
            [
             0.5,
             "#f7f7f7"
            ],
            [
             0.6,
             "#e6f5d0"
            ],
            [
             0.7,
             "#b8e186"
            ],
            [
             0.8,
             "#7fbc41"
            ],
            [
             0.9,
             "#4d9221"
            ],
            [
             1,
             "#276419"
            ]
           ],
           "sequential": [
            [
             0,
             "#0d0887"
            ],
            [
             0.1111111111111111,
             "#46039f"
            ],
            [
             0.2222222222222222,
             "#7201a8"
            ],
            [
             0.3333333333333333,
             "#9c179e"
            ],
            [
             0.4444444444444444,
             "#bd3786"
            ],
            [
             0.5555555555555556,
             "#d8576b"
            ],
            [
             0.6666666666666666,
             "#ed7953"
            ],
            [
             0.7777777777777778,
             "#fb9f3a"
            ],
            [
             0.8888888888888888,
             "#fdca26"
            ],
            [
             1,
             "#f0f921"
            ]
           ],
           "sequentialminus": [
            [
             0,
             "#0d0887"
            ],
            [
             0.1111111111111111,
             "#46039f"
            ],
            [
             0.2222222222222222,
             "#7201a8"
            ],
            [
             0.3333333333333333,
             "#9c179e"
            ],
            [
             0.4444444444444444,
             "#bd3786"
            ],
            [
             0.5555555555555556,
             "#d8576b"
            ],
            [
             0.6666666666666666,
             "#ed7953"
            ],
            [
             0.7777777777777778,
             "#fb9f3a"
            ],
            [
             0.8888888888888888,
             "#fdca26"
            ],
            [
             1,
             "#f0f921"
            ]
           ]
          },
          "colorway": [
           "#636efa",
           "#EF553B",
           "#00cc96",
           "#ab63fa",
           "#FFA15A",
           "#19d3f3",
           "#FF6692",
           "#B6E880",
           "#FF97FF",
           "#FECB52"
          ],
          "font": {
           "color": "#2a3f5f"
          },
          "geo": {
           "bgcolor": "white",
           "lakecolor": "white",
           "landcolor": "#E5ECF6",
           "showlakes": true,
           "showland": true,
           "subunitcolor": "white"
          },
          "hoverlabel": {
           "align": "left"
          },
          "hovermode": "closest",
          "mapbox": {
           "style": "light"
          },
          "paper_bgcolor": "white",
          "plot_bgcolor": "#E5ECF6",
          "polar": {
           "angularaxis": {
            "gridcolor": "white",
            "linecolor": "white",
            "ticks": ""
           },
           "bgcolor": "#E5ECF6",
           "radialaxis": {
            "gridcolor": "white",
            "linecolor": "white",
            "ticks": ""
           }
          },
          "scene": {
           "xaxis": {
            "backgroundcolor": "#E5ECF6",
            "gridcolor": "white",
            "gridwidth": 2,
            "linecolor": "white",
            "showbackground": true,
            "ticks": "",
            "zerolinecolor": "white"
           },
           "yaxis": {
            "backgroundcolor": "#E5ECF6",
            "gridcolor": "white",
            "gridwidth": 2,
            "linecolor": "white",
            "showbackground": true,
            "ticks": "",
            "zerolinecolor": "white"
           },
           "zaxis": {
            "backgroundcolor": "#E5ECF6",
            "gridcolor": "white",
            "gridwidth": 2,
            "linecolor": "white",
            "showbackground": true,
            "ticks": "",
            "zerolinecolor": "white"
           }
          },
          "shapedefaults": {
           "line": {
            "color": "#2a3f5f"
           }
          },
          "ternary": {
           "aaxis": {
            "gridcolor": "white",
            "linecolor": "white",
            "ticks": ""
           },
           "baxis": {
            "gridcolor": "white",
            "linecolor": "white",
            "ticks": ""
           },
           "bgcolor": "#E5ECF6",
           "caxis": {
            "gridcolor": "white",
            "linecolor": "white",
            "ticks": ""
           }
          },
          "title": {
           "x": 0.05
          },
          "xaxis": {
           "automargin": true,
           "gridcolor": "white",
           "linecolor": "white",
           "ticks": "",
           "title": {
            "standoff": 15
           },
           "zerolinecolor": "white",
           "zerolinewidth": 2
          },
          "yaxis": {
           "automargin": true,
           "gridcolor": "white",
           "linecolor": "white",
           "ticks": "",
           "title": {
            "standoff": 15
           },
           "zerolinecolor": "white",
           "zerolinewidth": 2
          }
         }
        },
        "xaxis": {
         "anchor": "y",
         "domain": [
          0,
          1
         ],
         "title": {
          "text": "Año"
         }
        },
        "yaxis": {
         "anchor": "x",
         "domain": [
          0,
          1
         ],
         "title": {
          "text": "Población rural"
         }
        }
       }
      }
     },
     "metadata": {},
     "output_type": "display_data"
    },
    {
     "data": {
      "application/vnd.plotly.v1+json": {
       "config": {
        "plotlyServerURL": "https://plot.ly"
       },
       "data": [
        {
         "hovertemplate": "Continente=América Central<br>Año=%{x}<br>Población urbana=%{y}<extra></extra>",
         "legendgroup": "América Central",
         "line": {
          "color": "#636efa",
          "dash": "solid"
         },
         "marker": {
          "symbol": "circle"
         },
         "mode": "lines",
         "name": "América Central",
         "orientation": "v",
         "showlegend": true,
         "type": "scatter",
         "x": [
          "1987",
          "1988",
          "1989",
          "1990",
          "1991",
          "1992",
          "1993",
          "1994",
          "1995",
          "1996",
          "1997",
          "1998",
          "1999",
          "2000",
          "2001",
          "2002",
          "2003",
          "2004",
          "2005",
          "2006",
          "2007",
          "2008",
          "2009",
          "2010",
          "2011",
          "2012",
          "2013",
          "2014",
          "2015",
          "2016",
          "2017",
          "2018",
          "2019",
          "2020",
          "2021",
          "2022"
         ],
         "xaxis": "x",
         "y": [
          4404749,
          4497431,
          4592253.5,
          4687689.5,
          4771460,
          4841572.5,
          4907946.5,
          4971197.5,
          5032706.5,
          5093674,
          5157191.5,
          5223809.5,
          5290689,
          5357504,
          5432359,
          5505533,
          5573822,
          5637059.5,
          5698222.5,
          5757084.5,
          5814058.5,
          5870339,
          5926314,
          5981970,
          6037518,
          6092953.5,
          6145121.5,
          6194355,
          6241253,
          6284782.5,
          6324793,
          6363128.5,
          6398841,
          6430722,
          6448442,
          6464402
         ],
         "yaxis": "y"
        },
        {
         "hovertemplate": "Continente=América del Norte<br>Año=%{x}<br>Población urbana=%{y}<extra></extra>",
         "legendgroup": "América del Norte",
         "line": {
          "color": "#EF553B",
          "dash": "solid"
         },
         "marker": {
          "symbol": "circle"
         },
         "mode": "lines",
         "name": "América del Norte",
         "orientation": "v",
         "showlegend": true,
         "type": "scatter",
         "x": [
          "1987",
          "1988",
          "1989",
          "1990",
          "1991",
          "1992",
          "1993",
          "1994",
          "1995",
          "1996",
          "1997",
          "1998",
          "1999",
          "2000",
          "2001",
          "2002",
          "2003",
          "2004",
          "2005",
          "2006",
          "2007",
          "2008",
          "2009",
          "2010",
          "2011",
          "2012",
          "2013",
          "2014",
          "2015",
          "2016",
          "2017",
          "2018",
          "2019",
          "2020",
          "2021",
          "2022"
         ],
         "xaxis": "x",
         "y": [
          85237146,
          86442757.33333333,
          87716075.66666667,
          89178819.33333333,
          90950399.66666667,
          92795329,
          94614251.33333333,
          96394989.33333333,
          98162613.33333333,
          99900000.66666667,
          101670641,
          103416501.66666667,
          105160867.33333333,
          106863511.33333333,
          108380175.66666667,
          109836462.66666667,
          111233983.33333333,
          112698439.66666667,
          114165278.33333333,
          115672675,
          117181128.66666667,
          118699174.33333333,
          120173266.33333333,
          121646448.33333333,
          123073345.33333333,
          124512973,
          125913271,
          127340382,
          128741138.66666667,
          130177121,
          131542098.33333333,
          132807878.33333333,
          133999819.33333333,
          135586590,
          136343009,
          137465153.66666666
         ],
         "yaxis": "y"
        },
        {
         "hovertemplate": "Continente=América del Sur<br>Año=%{x}<br>Población urbana=%{y}<extra></extra>",
         "legendgroup": "América del Sur",
         "line": {
          "color": "#00cc96",
          "dash": "solid"
         },
         "marker": {
          "symbol": "circle"
         },
         "mode": "lines",
         "name": "América del Sur",
         "orientation": "v",
         "showlegend": true,
         "type": "scatter",
         "x": [
          "1987",
          "1988",
          "1989",
          "1990",
          "1991",
          "1992",
          "1993",
          "1994",
          "1995",
          "1996",
          "1997",
          "1998",
          "1999",
          "2000",
          "2001",
          "2002",
          "2003",
          "2004",
          "2005",
          "2006",
          "2007",
          "2008",
          "2009",
          "2010",
          "2011",
          "2012",
          "2013",
          "2014",
          "2015",
          "2016",
          "2017",
          "2018",
          "2019",
          "2020",
          "2021",
          "2022"
         ],
         "xaxis": "x",
         "y": [
          33971212.6,
          34968282.2,
          35968495.8,
          36969985.2,
          37957800.8,
          38927364,
          39896370.4,
          40870152.8,
          41845295.2,
          42817959.4,
          43811806,
          44805220.4,
          45792130.4,
          46769137.8,
          47623260.8,
          48438383.4,
          49231093.8,
          50012631.8,
          50791837.8,
          51560928.2,
          52315433,
          53054018.8,
          53783477,
          54456214.6,
          55195173.4,
          55921854.8,
          56634661.2,
          57341971.4,
          58044518,
          58725360.4,
          59369780.2,
          59957868.8,
          60516821.8,
          61068137,
          61572830,
          62082513.4
         ],
         "yaxis": "y"
        },
        {
         "hovertemplate": "Continente=Asia<br>Año=%{x}<br>Población urbana=%{y}<extra></extra>",
         "legendgroup": "Asia",
         "line": {
          "color": "#ab63fa",
          "dash": "solid"
         },
         "marker": {
          "symbol": "circle"
         },
         "mode": "lines",
         "name": "Asia",
         "orientation": "v",
         "showlegend": true,
         "type": "scatter",
         "x": [
          "1987",
          "1988",
          "1989",
          "1990",
          "1991",
          "1992",
          "1993",
          "1994",
          "1995",
          "1996",
          "1997",
          "1998",
          "1999",
          "2000",
          "2001",
          "2002",
          "2003",
          "2004",
          "2005",
          "2006",
          "2007",
          "2008",
          "2009",
          "2010",
          "2011",
          "2012",
          "2013",
          "2014",
          "2015",
          "2016",
          "2017",
          "2018",
          "2019",
          "2020",
          "2021",
          "2022"
         ],
         "xaxis": "x",
         "y": [
          64295418.55555555,
          66531277.333333336,
          68814294,
          71136643.33333333,
          73630658.66666667,
          76155463.1111111,
          78719435.44444445,
          81324737.22222222,
          83960889.55555555,
          86648587.77777778,
          89389243.1111111,
          92172516.22222222,
          94949322.1111111,
          97738570.44444445,
          101051517.33333333,
          104687966.8888889,
          108342271.8888889,
          111999059.22222222,
          115710153.33333333,
          119416923.55555555,
          123123778.77777778,
          126874289.22222222,
          130623998.1111111,
          134337271.1111111,
          137895462,
          141536847.66666666,
          145203195.8888889,
          148880221.2222222,
          152548125.44444445,
          156273692.66666666,
          160065959.2222222,
          163716402.8888889,
          167233526.55555555,
          170518178.66666666,
          173499707.7777778,
          176385227.2222222
         ],
         "yaxis": "y"
        },
        {
         "hovertemplate": "Continente=Europa<br>Año=%{x}<br>Población urbana=%{y}<extra></extra>",
         "legendgroup": "Europa",
         "line": {
          "color": "#FFA15A",
          "dash": "solid"
         },
         "marker": {
          "symbol": "circle"
         },
         "mode": "lines",
         "name": "Europa",
         "orientation": "v",
         "showlegend": true,
         "type": "scatter",
         "x": [
          "1987",
          "1988",
          "1989",
          "1990",
          "1991",
          "1992",
          "1993",
          "1994",
          "1995",
          "1996",
          "1997",
          "1998",
          "1999",
          "2000",
          "2001",
          "2002",
          "2003",
          "2004",
          "2005",
          "2006",
          "2007",
          "2008",
          "2009",
          "2010",
          "2011",
          "2012",
          "2013",
          "2014",
          "2015",
          "2016",
          "2017",
          "2018",
          "2019",
          "2020",
          "2021",
          "2022"
         ],
         "xaxis": "x",
         "y": [
          16786909.2,
          16869867.3,
          16963004.7,
          17082644.9,
          17209396.6,
          17340404.9,
          17464681.8,
          17571872.9,
          17672441,
          17769479.6,
          17857655.4,
          17941785.1,
          18031123.2,
          18128285.3,
          18246359.9,
          18410595.5,
          18581883.2,
          18750675.7,
          18922001.1,
          19090646.2,
          19268159,
          19440914.8,
          19585486.2,
          19720462,
          19743712.8,
          19862964,
          19968549.4,
          20088116.4,
          20250220.8,
          20417601.6,
          20559037.2,
          20696794.4,
          20840693.6,
          20953971.8,
          21023944.6,
          21185548.4
         ],
         "yaxis": "y"
        },
        {
         "hovertemplate": "Continente=Oceanía<br>Año=%{x}<br>Población urbana=%{y}<extra></extra>",
         "legendgroup": "Oceanía",
         "line": {
          "color": "#19d3f3",
          "dash": "solid"
         },
         "marker": {
          "symbol": "circle"
         },
         "mode": "lines",
         "name": "Oceanía",
         "orientation": "v",
         "showlegend": true,
         "type": "scatter",
         "x": [
          "1987",
          "1988",
          "1989",
          "1990",
          "1991",
          "1992",
          "1993",
          "1994",
          "1995",
          "1996",
          "1997",
          "1998",
          "1999",
          "2000",
          "2001",
          "2002",
          "2003",
          "2004",
          "2005",
          "2006",
          "2007",
          "2008",
          "2009",
          "2010",
          "2011",
          "2012",
          "2013",
          "2014",
          "2015",
          "2016",
          "2017",
          "2018",
          "2019",
          "2020",
          "2021",
          "2022"
         ],
         "xaxis": "x",
         "y": [
          4248173.25,
          4310649.25,
          4377332.25,
          4440347.5,
          4524639.25,
          4571977.5,
          4611503.75,
          4655489.25,
          4706644.5,
          4763441,
          4812726.25,
          4855609.25,
          4899739.5,
          4946655,
          4999609,
          5069025,
          5141831,
          5207924.5,
          5277896.25,
          5355267.25,
          5450983.75,
          5555766.5,
          5666531,
          5756742.5,
          5837050.5,
          5934106,
          6033593.25,
          6131888,
          6232699.5,
          6343610,
          6460030.5,
          6567590.75,
          6674058.25,
          6775973.25,
          6798388.75,
          6875313
         ],
         "yaxis": "y"
        },
        {
         "hovertemplate": "Continente=África<br>Año=%{x}<br>Población urbana=%{y}<extra></extra>",
         "legendgroup": "África",
         "line": {
          "color": "#FF6692",
          "dash": "solid"
         },
         "marker": {
          "symbol": "circle"
         },
         "mode": "lines",
         "name": "África",
         "orientation": "v",
         "showlegend": true,
         "type": "scatter",
         "x": [
          "1987",
          "1988",
          "1989",
          "1990",
          "1991",
          "1992",
          "1993",
          "1994",
          "1995",
          "1996",
          "1997",
          "1998",
          "1999",
          "2000",
          "2001",
          "2002",
          "2003",
          "2004",
          "2005",
          "2006",
          "2007",
          "2008",
          "2009",
          "2010",
          "2011",
          "2012",
          "2013",
          "2014",
          "2015",
          "2016",
          "2017",
          "2018",
          "2019",
          "2020",
          "2021",
          "2022"
         ],
         "xaxis": "x",
         "y": [
          5450921.444444444,
          5683277.666666667,
          5917290.666666667,
          6156306.333333333,
          6385153.777777778,
          6607450.444444444,
          6830022.666666667,
          7041584.555555556,
          7245932.777777778,
          7471797.555555556,
          7697217.555555556,
          7911039.333333333,
          8123506,
          8341239.111111111,
          8568851.444444444,
          8805623.111111112,
          9039961.777777778,
          9282026.888888888,
          9535932.333333334,
          9798624.111111112,
          10070805,
          10354823.222222222,
          10650353.666666666,
          10954539.444444444,
          11269512.111111112,
          11595583.111111112,
          11930388.777777778,
          12280853.333333334,
          12658048.555555556,
          13000276.222222222,
          13325474.222222222,
          13688370.111111112,
          14058165.333333334,
          14431123.666666666,
          14799544.777777778,
          15166924.555555556
         ],
         "yaxis": "y"
        }
       ],
       "layout": {
        "legend": {
         "title": {
          "text": "Continente"
         },
         "tracegroupgap": 0
        },
        "margin": {
         "t": 60
        },
        "template": {
         "data": {
          "bar": [
           {
            "error_x": {
             "color": "#2a3f5f"
            },
            "error_y": {
             "color": "#2a3f5f"
            },
            "marker": {
             "line": {
              "color": "#E5ECF6",
              "width": 0.5
             },
             "pattern": {
              "fillmode": "overlay",
              "size": 10,
              "solidity": 0.2
             }
            },
            "type": "bar"
           }
          ],
          "barpolar": [
           {
            "marker": {
             "line": {
              "color": "#E5ECF6",
              "width": 0.5
             },
             "pattern": {
              "fillmode": "overlay",
              "size": 10,
              "solidity": 0.2
             }
            },
            "type": "barpolar"
           }
          ],
          "carpet": [
           {
            "aaxis": {
             "endlinecolor": "#2a3f5f",
             "gridcolor": "white",
             "linecolor": "white",
             "minorgridcolor": "white",
             "startlinecolor": "#2a3f5f"
            },
            "baxis": {
             "endlinecolor": "#2a3f5f",
             "gridcolor": "white",
             "linecolor": "white",
             "minorgridcolor": "white",
             "startlinecolor": "#2a3f5f"
            },
            "type": "carpet"
           }
          ],
          "choropleth": [
           {
            "colorbar": {
             "outlinewidth": 0,
             "ticks": ""
            },
            "type": "choropleth"
           }
          ],
          "contour": [
           {
            "colorbar": {
             "outlinewidth": 0,
             "ticks": ""
            },
            "colorscale": [
             [
              0,
              "#0d0887"
             ],
             [
              0.1111111111111111,
              "#46039f"
             ],
             [
              0.2222222222222222,
              "#7201a8"
             ],
             [
              0.3333333333333333,
              "#9c179e"
             ],
             [
              0.4444444444444444,
              "#bd3786"
             ],
             [
              0.5555555555555556,
              "#d8576b"
             ],
             [
              0.6666666666666666,
              "#ed7953"
             ],
             [
              0.7777777777777778,
              "#fb9f3a"
             ],
             [
              0.8888888888888888,
              "#fdca26"
             ],
             [
              1,
              "#f0f921"
             ]
            ],
            "type": "contour"
           }
          ],
          "contourcarpet": [
           {
            "colorbar": {
             "outlinewidth": 0,
             "ticks": ""
            },
            "type": "contourcarpet"
           }
          ],
          "heatmap": [
           {
            "colorbar": {
             "outlinewidth": 0,
             "ticks": ""
            },
            "colorscale": [
             [
              0,
              "#0d0887"
             ],
             [
              0.1111111111111111,
              "#46039f"
             ],
             [
              0.2222222222222222,
              "#7201a8"
             ],
             [
              0.3333333333333333,
              "#9c179e"
             ],
             [
              0.4444444444444444,
              "#bd3786"
             ],
             [
              0.5555555555555556,
              "#d8576b"
             ],
             [
              0.6666666666666666,
              "#ed7953"
             ],
             [
              0.7777777777777778,
              "#fb9f3a"
             ],
             [
              0.8888888888888888,
              "#fdca26"
             ],
             [
              1,
              "#f0f921"
             ]
            ],
            "type": "heatmap"
           }
          ],
          "heatmapgl": [
           {
            "colorbar": {
             "outlinewidth": 0,
             "ticks": ""
            },
            "colorscale": [
             [
              0,
              "#0d0887"
             ],
             [
              0.1111111111111111,
              "#46039f"
             ],
             [
              0.2222222222222222,
              "#7201a8"
             ],
             [
              0.3333333333333333,
              "#9c179e"
             ],
             [
              0.4444444444444444,
              "#bd3786"
             ],
             [
              0.5555555555555556,
              "#d8576b"
             ],
             [
              0.6666666666666666,
              "#ed7953"
             ],
             [
              0.7777777777777778,
              "#fb9f3a"
             ],
             [
              0.8888888888888888,
              "#fdca26"
             ],
             [
              1,
              "#f0f921"
             ]
            ],
            "type": "heatmapgl"
           }
          ],
          "histogram": [
           {
            "marker": {
             "pattern": {
              "fillmode": "overlay",
              "size": 10,
              "solidity": 0.2
             }
            },
            "type": "histogram"
           }
          ],
          "histogram2d": [
           {
            "colorbar": {
             "outlinewidth": 0,
             "ticks": ""
            },
            "colorscale": [
             [
              0,
              "#0d0887"
             ],
             [
              0.1111111111111111,
              "#46039f"
             ],
             [
              0.2222222222222222,
              "#7201a8"
             ],
             [
              0.3333333333333333,
              "#9c179e"
             ],
             [
              0.4444444444444444,
              "#bd3786"
             ],
             [
              0.5555555555555556,
              "#d8576b"
             ],
             [
              0.6666666666666666,
              "#ed7953"
             ],
             [
              0.7777777777777778,
              "#fb9f3a"
             ],
             [
              0.8888888888888888,
              "#fdca26"
             ],
             [
              1,
              "#f0f921"
             ]
            ],
            "type": "histogram2d"
           }
          ],
          "histogram2dcontour": [
           {
            "colorbar": {
             "outlinewidth": 0,
             "ticks": ""
            },
            "colorscale": [
             [
              0,
              "#0d0887"
             ],
             [
              0.1111111111111111,
              "#46039f"
             ],
             [
              0.2222222222222222,
              "#7201a8"
             ],
             [
              0.3333333333333333,
              "#9c179e"
             ],
             [
              0.4444444444444444,
              "#bd3786"
             ],
             [
              0.5555555555555556,
              "#d8576b"
             ],
             [
              0.6666666666666666,
              "#ed7953"
             ],
             [
              0.7777777777777778,
              "#fb9f3a"
             ],
             [
              0.8888888888888888,
              "#fdca26"
             ],
             [
              1,
              "#f0f921"
             ]
            ],
            "type": "histogram2dcontour"
           }
          ],
          "mesh3d": [
           {
            "colorbar": {
             "outlinewidth": 0,
             "ticks": ""
            },
            "type": "mesh3d"
           }
          ],
          "parcoords": [
           {
            "line": {
             "colorbar": {
              "outlinewidth": 0,
              "ticks": ""
             }
            },
            "type": "parcoords"
           }
          ],
          "pie": [
           {
            "automargin": true,
            "type": "pie"
           }
          ],
          "scatter": [
           {
            "fillpattern": {
             "fillmode": "overlay",
             "size": 10,
             "solidity": 0.2
            },
            "type": "scatter"
           }
          ],
          "scatter3d": [
           {
            "line": {
             "colorbar": {
              "outlinewidth": 0,
              "ticks": ""
             }
            },
            "marker": {
             "colorbar": {
              "outlinewidth": 0,
              "ticks": ""
             }
            },
            "type": "scatter3d"
           }
          ],
          "scattercarpet": [
           {
            "marker": {
             "colorbar": {
              "outlinewidth": 0,
              "ticks": ""
             }
            },
            "type": "scattercarpet"
           }
          ],
          "scattergeo": [
           {
            "marker": {
             "colorbar": {
              "outlinewidth": 0,
              "ticks": ""
             }
            },
            "type": "scattergeo"
           }
          ],
          "scattergl": [
           {
            "marker": {
             "colorbar": {
              "outlinewidth": 0,
              "ticks": ""
             }
            },
            "type": "scattergl"
           }
          ],
          "scattermapbox": [
           {
            "marker": {
             "colorbar": {
              "outlinewidth": 0,
              "ticks": ""
             }
            },
            "type": "scattermapbox"
           }
          ],
          "scatterpolar": [
           {
            "marker": {
             "colorbar": {
              "outlinewidth": 0,
              "ticks": ""
             }
            },
            "type": "scatterpolar"
           }
          ],
          "scatterpolargl": [
           {
            "marker": {
             "colorbar": {
              "outlinewidth": 0,
              "ticks": ""
             }
            },
            "type": "scatterpolargl"
           }
          ],
          "scatterternary": [
           {
            "marker": {
             "colorbar": {
              "outlinewidth": 0,
              "ticks": ""
             }
            },
            "type": "scatterternary"
           }
          ],
          "surface": [
           {
            "colorbar": {
             "outlinewidth": 0,
             "ticks": ""
            },
            "colorscale": [
             [
              0,
              "#0d0887"
             ],
             [
              0.1111111111111111,
              "#46039f"
             ],
             [
              0.2222222222222222,
              "#7201a8"
             ],
             [
              0.3333333333333333,
              "#9c179e"
             ],
             [
              0.4444444444444444,
              "#bd3786"
             ],
             [
              0.5555555555555556,
              "#d8576b"
             ],
             [
              0.6666666666666666,
              "#ed7953"
             ],
             [
              0.7777777777777778,
              "#fb9f3a"
             ],
             [
              0.8888888888888888,
              "#fdca26"
             ],
             [
              1,
              "#f0f921"
             ]
            ],
            "type": "surface"
           }
          ],
          "table": [
           {
            "cells": {
             "fill": {
              "color": "#EBF0F8"
             },
             "line": {
              "color": "white"
             }
            },
            "header": {
             "fill": {
              "color": "#C8D4E3"
             },
             "line": {
              "color": "white"
             }
            },
            "type": "table"
           }
          ]
         },
         "layout": {
          "annotationdefaults": {
           "arrowcolor": "#2a3f5f",
           "arrowhead": 0,
           "arrowwidth": 1
          },
          "autotypenumbers": "strict",
          "coloraxis": {
           "colorbar": {
            "outlinewidth": 0,
            "ticks": ""
           }
          },
          "colorscale": {
           "diverging": [
            [
             0,
             "#8e0152"
            ],
            [
             0.1,
             "#c51b7d"
            ],
            [
             0.2,
             "#de77ae"
            ],
            [
             0.3,
             "#f1b6da"
            ],
            [
             0.4,
             "#fde0ef"
            ],
            [
             0.5,
             "#f7f7f7"
            ],
            [
             0.6,
             "#e6f5d0"
            ],
            [
             0.7,
             "#b8e186"
            ],
            [
             0.8,
             "#7fbc41"
            ],
            [
             0.9,
             "#4d9221"
            ],
            [
             1,
             "#276419"
            ]
           ],
           "sequential": [
            [
             0,
             "#0d0887"
            ],
            [
             0.1111111111111111,
             "#46039f"
            ],
            [
             0.2222222222222222,
             "#7201a8"
            ],
            [
             0.3333333333333333,
             "#9c179e"
            ],
            [
             0.4444444444444444,
             "#bd3786"
            ],
            [
             0.5555555555555556,
             "#d8576b"
            ],
            [
             0.6666666666666666,
             "#ed7953"
            ],
            [
             0.7777777777777778,
             "#fb9f3a"
            ],
            [
             0.8888888888888888,
             "#fdca26"
            ],
            [
             1,
             "#f0f921"
            ]
           ],
           "sequentialminus": [
            [
             0,
             "#0d0887"
            ],
            [
             0.1111111111111111,
             "#46039f"
            ],
            [
             0.2222222222222222,
             "#7201a8"
            ],
            [
             0.3333333333333333,
             "#9c179e"
            ],
            [
             0.4444444444444444,
             "#bd3786"
            ],
            [
             0.5555555555555556,
             "#d8576b"
            ],
            [
             0.6666666666666666,
             "#ed7953"
            ],
            [
             0.7777777777777778,
             "#fb9f3a"
            ],
            [
             0.8888888888888888,
             "#fdca26"
            ],
            [
             1,
             "#f0f921"
            ]
           ]
          },
          "colorway": [
           "#636efa",
           "#EF553B",
           "#00cc96",
           "#ab63fa",
           "#FFA15A",
           "#19d3f3",
           "#FF6692",
           "#B6E880",
           "#FF97FF",
           "#FECB52"
          ],
          "font": {
           "color": "#2a3f5f"
          },
          "geo": {
           "bgcolor": "white",
           "lakecolor": "white",
           "landcolor": "#E5ECF6",
           "showlakes": true,
           "showland": true,
           "subunitcolor": "white"
          },
          "hoverlabel": {
           "align": "left"
          },
          "hovermode": "closest",
          "mapbox": {
           "style": "light"
          },
          "paper_bgcolor": "white",
          "plot_bgcolor": "#E5ECF6",
          "polar": {
           "angularaxis": {
            "gridcolor": "white",
            "linecolor": "white",
            "ticks": ""
           },
           "bgcolor": "#E5ECF6",
           "radialaxis": {
            "gridcolor": "white",
            "linecolor": "white",
            "ticks": ""
           }
          },
          "scene": {
           "xaxis": {
            "backgroundcolor": "#E5ECF6",
            "gridcolor": "white",
            "gridwidth": 2,
            "linecolor": "white",
            "showbackground": true,
            "ticks": "",
            "zerolinecolor": "white"
           },
           "yaxis": {
            "backgroundcolor": "#E5ECF6",
            "gridcolor": "white",
            "gridwidth": 2,
            "linecolor": "white",
            "showbackground": true,
            "ticks": "",
            "zerolinecolor": "white"
           },
           "zaxis": {
            "backgroundcolor": "#E5ECF6",
            "gridcolor": "white",
            "gridwidth": 2,
            "linecolor": "white",
            "showbackground": true,
            "ticks": "",
            "zerolinecolor": "white"
           }
          },
          "shapedefaults": {
           "line": {
            "color": "#2a3f5f"
           }
          },
          "ternary": {
           "aaxis": {
            "gridcolor": "white",
            "linecolor": "white",
            "ticks": ""
           },
           "baxis": {
            "gridcolor": "white",
            "linecolor": "white",
            "ticks": ""
           },
           "bgcolor": "#E5ECF6",
           "caxis": {
            "gridcolor": "white",
            "linecolor": "white",
            "ticks": ""
           }
          },
          "title": {
           "x": 0.05
          },
          "xaxis": {
           "automargin": true,
           "gridcolor": "white",
           "linecolor": "white",
           "ticks": "",
           "title": {
            "standoff": 15
           },
           "zerolinecolor": "white",
           "zerolinewidth": 2
          },
          "yaxis": {
           "automargin": true,
           "gridcolor": "white",
           "linecolor": "white",
           "ticks": "",
           "title": {
            "standoff": 15
           },
           "zerolinecolor": "white",
           "zerolinewidth": 2
          }
         }
        },
        "xaxis": {
         "anchor": "y",
         "domain": [
          0,
          1
         ],
         "title": {
          "text": "Año"
         }
        },
        "yaxis": {
         "anchor": "x",
         "domain": [
          0,
          1
         ],
         "title": {
          "text": "Población urbana"
         }
        }
       }
      }
     },
     "metadata": {},
     "output_type": "display_data"
    },
    {
     "data": {
      "application/vnd.plotly.v1+json": {
       "config": {
        "plotlyServerURL": "https://plot.ly"
       },
       "data": [
        {
         "hovertemplate": "Continente=América Central<br>Año=%{x}<br>Población, hombres=%{y}<extra></extra>",
         "legendgroup": "América Central",
         "line": {
          "color": "#636efa",
          "dash": "solid"
         },
         "marker": {
          "symbol": "circle"
         },
         "mode": "lines",
         "name": "América Central",
         "orientation": "v",
         "showlegend": true,
         "type": "scatter",
         "x": [
          "1987",
          "1988",
          "1989",
          "1990",
          "1991",
          "1992",
          "1993",
          "1994",
          "1995",
          "1996",
          "1997",
          "1998",
          "1999",
          "2000",
          "2001",
          "2002",
          "2003",
          "2004",
          "2005",
          "2006",
          "2007",
          "2008",
          "2009",
          "2010",
          "2011",
          "2012",
          "2013",
          "2014",
          "2015",
          "2016",
          "2017",
          "2018",
          "2019",
          "2020",
          "2021",
          "2022"
         ],
         "xaxis": "x",
         "y": [
          3351423,
          3394889,
          3439395.5,
          3483748.5,
          3525424.5,
          3562992.5,
          3597464,
          3628346.5,
          3656584.5,
          3683916.5,
          3710775.5,
          3737315,
          3763420,
          3788723.5,
          3812479,
          3834695,
          3856561.5,
          3877884.5,
          3897593,
          3915486.5,
          3931982.5,
          3947907,
          3963640.5,
          3979100,
          3994555.5,
          4010230,
          4025787,
          4040286,
          4053546,
          4064872,
          4073701.5,
          4081315.5,
          4087329,
          4090720,
          4083999.5,
          4076701.5
         ],
         "yaxis": "y"
        },
        {
         "hovertemplate": "Continente=América del Norte<br>Año=%{x}<br>Población, hombres=%{y}<extra></extra>",
         "legendgroup": "América del Norte",
         "line": {
          "color": "#EF553B",
          "dash": "solid"
         },
         "marker": {
          "symbol": "circle"
         },
         "mode": "lines",
         "name": "América del Norte",
         "orientation": "v",
         "showlegend": true,
         "type": "scatter",
         "x": [
          "1987",
          "1988",
          "1989",
          "1990",
          "1991",
          "1992",
          "1993",
          "1994",
          "1995",
          "1996",
          "1997",
          "1998",
          "1999",
          "2000",
          "2001",
          "2002",
          "2003",
          "2004",
          "2005",
          "2006",
          "2007",
          "2008",
          "2009",
          "2010",
          "2011",
          "2012",
          "2013",
          "2014",
          "2015",
          "2016",
          "2017",
          "2018",
          "2019",
          "2020",
          "2021",
          "2022"
         ],
         "xaxis": "x",
         "y": [
          56599195,
          57242084.666666664,
          57930645.333333336,
          58714538.666666664,
          59604279.333333336,
          60521407.666666664,
          61411622,
          62270440.666666664,
          63117752.333333336,
          63954643.666666664,
          64812432.333333336,
          65654634,
          66499518,
          67334771,
          68114913.33333333,
          68858951.33333333,
          69559448.66666667,
          70306691,
          71056737,
          71823353.66666667,
          72575688.66666667,
          73326848.66666667,
          74047083,
          74765959,
          75480827.66666667,
          76233524,
          76952179.66666667,
          77676362,
          78373250.66666667,
          79084873.66666667,
          79745081.66666667,
          80334186,
          80865862.66666667,
          81593786,
          81777739.66666667,
          82187650.66666667
         ],
         "yaxis": "y"
        },
        {
         "hovertemplate": "Continente=América del Sur<br>Año=%{x}<br>Población, hombres=%{y}<extra></extra>",
         "legendgroup": "América del Sur",
         "line": {
          "color": "#00cc96",
          "dash": "solid"
         },
         "marker": {
          "symbol": "circle"
         },
         "mode": "lines",
         "name": "América del Sur",
         "orientation": "v",
         "showlegend": true,
         "type": "scatter",
         "x": [
          "1987",
          "1988",
          "1989",
          "1990",
          "1991",
          "1992",
          "1993",
          "1994",
          "1995",
          "1996",
          "1997",
          "1998",
          "1999",
          "2000",
          "2001",
          "2002",
          "2003",
          "2004",
          "2005",
          "2006",
          "2007",
          "2008",
          "2009",
          "2010",
          "2011",
          "2012",
          "2013",
          "2014",
          "2015",
          "2016",
          "2017",
          "2018",
          "2019",
          "2020",
          "2021",
          "2022"
         ],
         "xaxis": "x",
         "y": [
          23121401.8,
          23578463.4,
          24032900.8,
          24482215.2,
          24921601,
          25352057.8,
          25779122.6,
          26206477.2,
          26631883,
          27052622.4,
          27469705.2,
          27883006.4,
          28290167,
          28688059.6,
          29076668.8,
          29456656.8,
          29824405.6,
          30184758.8,
          30542853.2,
          30894123.8,
          31235720.8,
          31567322.4,
          31894126.6,
          32189996.8,
          32520719.6,
          32844317.8,
          33159812.6,
          33472451.2,
          33782060.6,
          34077954.4,
          34355349.6,
          34605260.6,
          34837351.4,
          35057695.6,
          35245675.8,
          35435865
         ],
         "yaxis": "y"
        },
        {
         "hovertemplate": "Continente=Asia<br>Año=%{x}<br>Población, hombres=%{y}<extra></extra>",
         "legendgroup": "Asia",
         "line": {
          "color": "#ab63fa",
          "dash": "solid"
         },
         "marker": {
          "symbol": "circle"
         },
         "mode": "lines",
         "name": "Asia",
         "orientation": "v",
         "showlegend": true,
         "type": "scatter",
         "x": [
          "1987",
          "1988",
          "1989",
          "1990",
          "1991",
          "1992",
          "1993",
          "1994",
          "1995",
          "1996",
          "1997",
          "1998",
          "1999",
          "2000",
          "2001",
          "2002",
          "2003",
          "2004",
          "2005",
          "2006",
          "2007",
          "2008",
          "2009",
          "2010",
          "2011",
          "2012",
          "2013",
          "2014",
          "2015",
          "2016",
          "2017",
          "2018",
          "2019",
          "2020",
          "2021",
          "2022"
         ],
         "xaxis": "x",
         "y": [
          118065516.77777778,
          120220019.1111111,
          122375823.33333333,
          124508526.77777778,
          126605083.55555555,
          128711440.44444445,
          130817427.22222222,
          132888165.66666667,
          134909834.33333334,
          136900069.33333334,
          138886432.7777778,
          140836948.44444445,
          142715861.33333334,
          144521753.8888889,
          146287291,
          148064141.33333334,
          149801797.66666666,
          151452262.33333334,
          153092354.2222222,
          154735809.2222222,
          156334517.66666666,
          157923995,
          159497148.55555555,
          160995555.44444445,
          162490966.2222222,
          164083228.8888889,
          165644111.55555555,
          167155256.44444445,
          168605899.66666666,
          170072582.2222222,
          171553807.8888889,
          172871862.8888889,
          174059446.33333334,
          175047172.66666666,
          175744409.44444445,
          176313804.44444445
         ],
         "yaxis": "y"
        },
        {
         "hovertemplate": "Continente=Europa<br>Año=%{x}<br>Población, hombres=%{y}<extra></extra>",
         "legendgroup": "Europa",
         "line": {
          "color": "#FFA15A",
          "dash": "solid"
         },
         "marker": {
          "symbol": "circle"
         },
         "mode": "lines",
         "name": "Europa",
         "orientation": "v",
         "showlegend": true,
         "type": "scatter",
         "x": [
          "1987",
          "1988",
          "1989",
          "1990",
          "1991",
          "1992",
          "1993",
          "1994",
          "1995",
          "1996",
          "1997",
          "1998",
          "1999",
          "2000",
          "2001",
          "2002",
          "2003",
          "2004",
          "2005",
          "2006",
          "2007",
          "2008",
          "2009",
          "2010",
          "2011",
          "2012",
          "2013",
          "2014",
          "2015",
          "2016",
          "2017",
          "2018",
          "2019",
          "2020",
          "2021",
          "2022"
         ],
         "xaxis": "x",
         "y": [
          10976466.6,
          11019636.9,
          11079909.5,
          11150066.5,
          11223148.3,
          11299382.9,
          11368256.6,
          11420715.9,
          11467462,
          11510927.7,
          11547732.6,
          11580802.5,
          11617079.5,
          11658403.2,
          11708070.8,
          11774952.2,
          11847039.9,
          11918102.6,
          11992019.6,
          12065095.1,
          12145948.2,
          12224706.4,
          12282693.5,
          12332689.6,
          12312007.7,
          12360080.3,
          12400561.5,
          12451981.3,
          12531393.4,
          12612427.5,
          12673791.6,
          12730787.3,
          12790469.2,
          12830421.4,
          12843042.2,
          12913135
         ],
         "yaxis": "y"
        },
        {
         "hovertemplate": "Continente=Oceanía<br>Año=%{x}<br>Población, hombres=%{y}<extra></extra>",
         "legendgroup": "Oceanía",
         "line": {
          "color": "#19d3f3",
          "dash": "solid"
         },
         "marker": {
          "symbol": "circle"
         },
         "mode": "lines",
         "name": "Oceanía",
         "orientation": "v",
         "showlegend": true,
         "type": "scatter",
         "x": [
          "1987",
          "1988",
          "1989",
          "1990",
          "1991",
          "1992",
          "1993",
          "1994",
          "1995",
          "1996",
          "1997",
          "1998",
          "1999",
          "2000",
          "2001",
          "2002",
          "2003",
          "2004",
          "2005",
          "2006",
          "2007",
          "2008",
          "2009",
          "2010",
          "2011",
          "2012",
          "2013",
          "2014",
          "2015",
          "2016",
          "2017",
          "2018",
          "2019",
          "2020",
          "2021",
          "2022"
         ],
         "xaxis": "x",
         "y": [
          2552157.25,
          2586510.75,
          2623476,
          2658342.5,
          2705279.5,
          2733379.75,
          2757524.5,
          2784422.25,
          2815643.5,
          2849905.75,
          2880122.25,
          2906727.25,
          2934365.5,
          2963967.5,
          2997887,
          3034986.5,
          3074112.75,
          3109213,
          3146609.5,
          3188661.25,
          3242870,
          3302701,
          3365158.5,
          3413960.25,
          3456232.5,
          3508006.25,
          3560727.25,
          3611834,
          3663973,
          3722163.25,
          3784093.25,
          3841859.75,
          3900430.75,
          3956163.5,
          3965146.75,
          4004824.75
         ],
         "yaxis": "y"
        },
        {
         "hovertemplate": "Continente=África<br>Año=%{x}<br>Población, hombres=%{y}<extra></extra>",
         "legendgroup": "África",
         "line": {
          "color": "#FF6692",
          "dash": "solid"
         },
         "marker": {
          "symbol": "circle"
         },
         "mode": "lines",
         "name": "África",
         "orientation": "v",
         "showlegend": true,
         "type": "scatter",
         "x": [
          "1987",
          "1988",
          "1989",
          "1990",
          "1991",
          "1992",
          "1993",
          "1994",
          "1995",
          "1996",
          "1997",
          "1998",
          "1999",
          "2000",
          "2001",
          "2002",
          "2003",
          "2004",
          "2005",
          "2006",
          "2007",
          "2008",
          "2009",
          "2010",
          "2011",
          "2012",
          "2013",
          "2014",
          "2015",
          "2016",
          "2017",
          "2018",
          "2019",
          "2020",
          "2021",
          "2022"
         ],
         "xaxis": "x",
         "y": [
          7482869.333333333,
          7711347.333333333,
          7938801.444444444,
          8163573.777777778,
          8371929.111111111,
          8556383.888888888,
          8729428.555555556,
          8820947.111111112,
          8925993.555555556,
          9149348.333333334,
          9376946.222222222,
          9570211,
          9752970.888888888,
          9943177.888888888,
          10147036.555555556,
          10358982.777777778,
          10577106.888888888,
          10805842.111111112,
          11037063.444444444,
          11272061.111111112,
          11515415.222222222,
          11770118.222222222,
          12034915.666666666,
          12304540.111111112,
          12580767.555555556,
          12863942.333333334,
          13152121.888888888,
          13451256.222222222,
          13771905.444444444,
          14055108.777777778,
          14319127.666666666,
          14615402.777777778,
          14914580.111111112,
          15214806.333333334,
          15509015.777777778,
          15800214.555555556
         ],
         "yaxis": "y"
        }
       ],
       "layout": {
        "legend": {
         "title": {
          "text": "Continente"
         },
         "tracegroupgap": 0
        },
        "margin": {
         "t": 60
        },
        "template": {
         "data": {
          "bar": [
           {
            "error_x": {
             "color": "#2a3f5f"
            },
            "error_y": {
             "color": "#2a3f5f"
            },
            "marker": {
             "line": {
              "color": "#E5ECF6",
              "width": 0.5
             },
             "pattern": {
              "fillmode": "overlay",
              "size": 10,
              "solidity": 0.2
             }
            },
            "type": "bar"
           }
          ],
          "barpolar": [
           {
            "marker": {
             "line": {
              "color": "#E5ECF6",
              "width": 0.5
             },
             "pattern": {
              "fillmode": "overlay",
              "size": 10,
              "solidity": 0.2
             }
            },
            "type": "barpolar"
           }
          ],
          "carpet": [
           {
            "aaxis": {
             "endlinecolor": "#2a3f5f",
             "gridcolor": "white",
             "linecolor": "white",
             "minorgridcolor": "white",
             "startlinecolor": "#2a3f5f"
            },
            "baxis": {
             "endlinecolor": "#2a3f5f",
             "gridcolor": "white",
             "linecolor": "white",
             "minorgridcolor": "white",
             "startlinecolor": "#2a3f5f"
            },
            "type": "carpet"
           }
          ],
          "choropleth": [
           {
            "colorbar": {
             "outlinewidth": 0,
             "ticks": ""
            },
            "type": "choropleth"
           }
          ],
          "contour": [
           {
            "colorbar": {
             "outlinewidth": 0,
             "ticks": ""
            },
            "colorscale": [
             [
              0,
              "#0d0887"
             ],
             [
              0.1111111111111111,
              "#46039f"
             ],
             [
              0.2222222222222222,
              "#7201a8"
             ],
             [
              0.3333333333333333,
              "#9c179e"
             ],
             [
              0.4444444444444444,
              "#bd3786"
             ],
             [
              0.5555555555555556,
              "#d8576b"
             ],
             [
              0.6666666666666666,
              "#ed7953"
             ],
             [
              0.7777777777777778,
              "#fb9f3a"
             ],
             [
              0.8888888888888888,
              "#fdca26"
             ],
             [
              1,
              "#f0f921"
             ]
            ],
            "type": "contour"
           }
          ],
          "contourcarpet": [
           {
            "colorbar": {
             "outlinewidth": 0,
             "ticks": ""
            },
            "type": "contourcarpet"
           }
          ],
          "heatmap": [
           {
            "colorbar": {
             "outlinewidth": 0,
             "ticks": ""
            },
            "colorscale": [
             [
              0,
              "#0d0887"
             ],
             [
              0.1111111111111111,
              "#46039f"
             ],
             [
              0.2222222222222222,
              "#7201a8"
             ],
             [
              0.3333333333333333,
              "#9c179e"
             ],
             [
              0.4444444444444444,
              "#bd3786"
             ],
             [
              0.5555555555555556,
              "#d8576b"
             ],
             [
              0.6666666666666666,
              "#ed7953"
             ],
             [
              0.7777777777777778,
              "#fb9f3a"
             ],
             [
              0.8888888888888888,
              "#fdca26"
             ],
             [
              1,
              "#f0f921"
             ]
            ],
            "type": "heatmap"
           }
          ],
          "heatmapgl": [
           {
            "colorbar": {
             "outlinewidth": 0,
             "ticks": ""
            },
            "colorscale": [
             [
              0,
              "#0d0887"
             ],
             [
              0.1111111111111111,
              "#46039f"
             ],
             [
              0.2222222222222222,
              "#7201a8"
             ],
             [
              0.3333333333333333,
              "#9c179e"
             ],
             [
              0.4444444444444444,
              "#bd3786"
             ],
             [
              0.5555555555555556,
              "#d8576b"
             ],
             [
              0.6666666666666666,
              "#ed7953"
             ],
             [
              0.7777777777777778,
              "#fb9f3a"
             ],
             [
              0.8888888888888888,
              "#fdca26"
             ],
             [
              1,
              "#f0f921"
             ]
            ],
            "type": "heatmapgl"
           }
          ],
          "histogram": [
           {
            "marker": {
             "pattern": {
              "fillmode": "overlay",
              "size": 10,
              "solidity": 0.2
             }
            },
            "type": "histogram"
           }
          ],
          "histogram2d": [
           {
            "colorbar": {
             "outlinewidth": 0,
             "ticks": ""
            },
            "colorscale": [
             [
              0,
              "#0d0887"
             ],
             [
              0.1111111111111111,
              "#46039f"
             ],
             [
              0.2222222222222222,
              "#7201a8"
             ],
             [
              0.3333333333333333,
              "#9c179e"
             ],
             [
              0.4444444444444444,
              "#bd3786"
             ],
             [
              0.5555555555555556,
              "#d8576b"
             ],
             [
              0.6666666666666666,
              "#ed7953"
             ],
             [
              0.7777777777777778,
              "#fb9f3a"
             ],
             [
              0.8888888888888888,
              "#fdca26"
             ],
             [
              1,
              "#f0f921"
             ]
            ],
            "type": "histogram2d"
           }
          ],
          "histogram2dcontour": [
           {
            "colorbar": {
             "outlinewidth": 0,
             "ticks": ""
            },
            "colorscale": [
             [
              0,
              "#0d0887"
             ],
             [
              0.1111111111111111,
              "#46039f"
             ],
             [
              0.2222222222222222,
              "#7201a8"
             ],
             [
              0.3333333333333333,
              "#9c179e"
             ],
             [
              0.4444444444444444,
              "#bd3786"
             ],
             [
              0.5555555555555556,
              "#d8576b"
             ],
             [
              0.6666666666666666,
              "#ed7953"
             ],
             [
              0.7777777777777778,
              "#fb9f3a"
             ],
             [
              0.8888888888888888,
              "#fdca26"
             ],
             [
              1,
              "#f0f921"
             ]
            ],
            "type": "histogram2dcontour"
           }
          ],
          "mesh3d": [
           {
            "colorbar": {
             "outlinewidth": 0,
             "ticks": ""
            },
            "type": "mesh3d"
           }
          ],
          "parcoords": [
           {
            "line": {
             "colorbar": {
              "outlinewidth": 0,
              "ticks": ""
             }
            },
            "type": "parcoords"
           }
          ],
          "pie": [
           {
            "automargin": true,
            "type": "pie"
           }
          ],
          "scatter": [
           {
            "fillpattern": {
             "fillmode": "overlay",
             "size": 10,
             "solidity": 0.2
            },
            "type": "scatter"
           }
          ],
          "scatter3d": [
           {
            "line": {
             "colorbar": {
              "outlinewidth": 0,
              "ticks": ""
             }
            },
            "marker": {
             "colorbar": {
              "outlinewidth": 0,
              "ticks": ""
             }
            },
            "type": "scatter3d"
           }
          ],
          "scattercarpet": [
           {
            "marker": {
             "colorbar": {
              "outlinewidth": 0,
              "ticks": ""
             }
            },
            "type": "scattercarpet"
           }
          ],
          "scattergeo": [
           {
            "marker": {
             "colorbar": {
              "outlinewidth": 0,
              "ticks": ""
             }
            },
            "type": "scattergeo"
           }
          ],
          "scattergl": [
           {
            "marker": {
             "colorbar": {
              "outlinewidth": 0,
              "ticks": ""
             }
            },
            "type": "scattergl"
           }
          ],
          "scattermapbox": [
           {
            "marker": {
             "colorbar": {
              "outlinewidth": 0,
              "ticks": ""
             }
            },
            "type": "scattermapbox"
           }
          ],
          "scatterpolar": [
           {
            "marker": {
             "colorbar": {
              "outlinewidth": 0,
              "ticks": ""
             }
            },
            "type": "scatterpolar"
           }
          ],
          "scatterpolargl": [
           {
            "marker": {
             "colorbar": {
              "outlinewidth": 0,
              "ticks": ""
             }
            },
            "type": "scatterpolargl"
           }
          ],
          "scatterternary": [
           {
            "marker": {
             "colorbar": {
              "outlinewidth": 0,
              "ticks": ""
             }
            },
            "type": "scatterternary"
           }
          ],
          "surface": [
           {
            "colorbar": {
             "outlinewidth": 0,
             "ticks": ""
            },
            "colorscale": [
             [
              0,
              "#0d0887"
             ],
             [
              0.1111111111111111,
              "#46039f"
             ],
             [
              0.2222222222222222,
              "#7201a8"
             ],
             [
              0.3333333333333333,
              "#9c179e"
             ],
             [
              0.4444444444444444,
              "#bd3786"
             ],
             [
              0.5555555555555556,
              "#d8576b"
             ],
             [
              0.6666666666666666,
              "#ed7953"
             ],
             [
              0.7777777777777778,
              "#fb9f3a"
             ],
             [
              0.8888888888888888,
              "#fdca26"
             ],
             [
              1,
              "#f0f921"
             ]
            ],
            "type": "surface"
           }
          ],
          "table": [
           {
            "cells": {
             "fill": {
              "color": "#EBF0F8"
             },
             "line": {
              "color": "white"
             }
            },
            "header": {
             "fill": {
              "color": "#C8D4E3"
             },
             "line": {
              "color": "white"
             }
            },
            "type": "table"
           }
          ]
         },
         "layout": {
          "annotationdefaults": {
           "arrowcolor": "#2a3f5f",
           "arrowhead": 0,
           "arrowwidth": 1
          },
          "autotypenumbers": "strict",
          "coloraxis": {
           "colorbar": {
            "outlinewidth": 0,
            "ticks": ""
           }
          },
          "colorscale": {
           "diverging": [
            [
             0,
             "#8e0152"
            ],
            [
             0.1,
             "#c51b7d"
            ],
            [
             0.2,
             "#de77ae"
            ],
            [
             0.3,
             "#f1b6da"
            ],
            [
             0.4,
             "#fde0ef"
            ],
            [
             0.5,
             "#f7f7f7"
            ],
            [
             0.6,
             "#e6f5d0"
            ],
            [
             0.7,
             "#b8e186"
            ],
            [
             0.8,
             "#7fbc41"
            ],
            [
             0.9,
             "#4d9221"
            ],
            [
             1,
             "#276419"
            ]
           ],
           "sequential": [
            [
             0,
             "#0d0887"
            ],
            [
             0.1111111111111111,
             "#46039f"
            ],
            [
             0.2222222222222222,
             "#7201a8"
            ],
            [
             0.3333333333333333,
             "#9c179e"
            ],
            [
             0.4444444444444444,
             "#bd3786"
            ],
            [
             0.5555555555555556,
             "#d8576b"
            ],
            [
             0.6666666666666666,
             "#ed7953"
            ],
            [
             0.7777777777777778,
             "#fb9f3a"
            ],
            [
             0.8888888888888888,
             "#fdca26"
            ],
            [
             1,
             "#f0f921"
            ]
           ],
           "sequentialminus": [
            [
             0,
             "#0d0887"
            ],
            [
             0.1111111111111111,
             "#46039f"
            ],
            [
             0.2222222222222222,
             "#7201a8"
            ],
            [
             0.3333333333333333,
             "#9c179e"
            ],
            [
             0.4444444444444444,
             "#bd3786"
            ],
            [
             0.5555555555555556,
             "#d8576b"
            ],
            [
             0.6666666666666666,
             "#ed7953"
            ],
            [
             0.7777777777777778,
             "#fb9f3a"
            ],
            [
             0.8888888888888888,
             "#fdca26"
            ],
            [
             1,
             "#f0f921"
            ]
           ]
          },
          "colorway": [
           "#636efa",
           "#EF553B",
           "#00cc96",
           "#ab63fa",
           "#FFA15A",
           "#19d3f3",
           "#FF6692",
           "#B6E880",
           "#FF97FF",
           "#FECB52"
          ],
          "font": {
           "color": "#2a3f5f"
          },
          "geo": {
           "bgcolor": "white",
           "lakecolor": "white",
           "landcolor": "#E5ECF6",
           "showlakes": true,
           "showland": true,
           "subunitcolor": "white"
          },
          "hoverlabel": {
           "align": "left"
          },
          "hovermode": "closest",
          "mapbox": {
           "style": "light"
          },
          "paper_bgcolor": "white",
          "plot_bgcolor": "#E5ECF6",
          "polar": {
           "angularaxis": {
            "gridcolor": "white",
            "linecolor": "white",
            "ticks": ""
           },
           "bgcolor": "#E5ECF6",
           "radialaxis": {
            "gridcolor": "white",
            "linecolor": "white",
            "ticks": ""
           }
          },
          "scene": {
           "xaxis": {
            "backgroundcolor": "#E5ECF6",
            "gridcolor": "white",
            "gridwidth": 2,
            "linecolor": "white",
            "showbackground": true,
            "ticks": "",
            "zerolinecolor": "white"
           },
           "yaxis": {
            "backgroundcolor": "#E5ECF6",
            "gridcolor": "white",
            "gridwidth": 2,
            "linecolor": "white",
            "showbackground": true,
            "ticks": "",
            "zerolinecolor": "white"
           },
           "zaxis": {
            "backgroundcolor": "#E5ECF6",
            "gridcolor": "white",
            "gridwidth": 2,
            "linecolor": "white",
            "showbackground": true,
            "ticks": "",
            "zerolinecolor": "white"
           }
          },
          "shapedefaults": {
           "line": {
            "color": "#2a3f5f"
           }
          },
          "ternary": {
           "aaxis": {
            "gridcolor": "white",
            "linecolor": "white",
            "ticks": ""
           },
           "baxis": {
            "gridcolor": "white",
            "linecolor": "white",
            "ticks": ""
           },
           "bgcolor": "#E5ECF6",
           "caxis": {
            "gridcolor": "white",
            "linecolor": "white",
            "ticks": ""
           }
          },
          "title": {
           "x": 0.05
          },
          "xaxis": {
           "automargin": true,
           "gridcolor": "white",
           "linecolor": "white",
           "ticks": "",
           "title": {
            "standoff": 15
           },
           "zerolinecolor": "white",
           "zerolinewidth": 2
          },
          "yaxis": {
           "automargin": true,
           "gridcolor": "white",
           "linecolor": "white",
           "ticks": "",
           "title": {
            "standoff": 15
           },
           "zerolinecolor": "white",
           "zerolinewidth": 2
          }
         }
        },
        "xaxis": {
         "anchor": "y",
         "domain": [
          0,
          1
         ],
         "title": {
          "text": "Año"
         }
        },
        "yaxis": {
         "anchor": "x",
         "domain": [
          0,
          1
         ],
         "title": {
          "text": "Población, hombres"
         }
        }
       }
      }
     },
     "metadata": {},
     "output_type": "display_data"
    },
    {
     "data": {
      "application/vnd.plotly.v1+json": {
       "config": {
        "plotlyServerURL": "https://plot.ly"
       },
       "data": [
        {
         "hovertemplate": "Continente=América Central<br>Año=%{x}<br>Población, mujeres=%{y}<extra></extra>",
         "legendgroup": "América Central",
         "line": {
          "color": "#636efa",
          "dash": "solid"
         },
         "marker": {
          "symbol": "circle"
         },
         "mode": "lines",
         "name": "América Central",
         "orientation": "v",
         "showlegend": true,
         "type": "scatter",
         "x": [
          "1987",
          "1988",
          "1989",
          "1990",
          "1991",
          "1992",
          "1993",
          "1994",
          "1995",
          "1996",
          "1997",
          "1998",
          "1999",
          "2000",
          "2001",
          "2002",
          "2003",
          "2004",
          "2005",
          "2006",
          "2007",
          "2008",
          "2009",
          "2010",
          "2011",
          "2012",
          "2013",
          "2014",
          "2015",
          "2016",
          "2017",
          "2018",
          "2019",
          "2020",
          "2021",
          "2022"
         ],
         "xaxis": "x",
         "y": [
          3274329.5,
          3318558,
          3363698.5,
          3408719,
          3451189,
          3489851.5,
          3525689,
          3559833,
          3593195.5,
          3625716,
          3657999.5,
          3690275,
          3722342.5,
          3753768,
          3783695.5,
          3811641.5,
          3837352,
          3861162.5,
          3883408.5,
          3903914,
          3922971,
          3941358.5,
          3959516,
          3977235,
          3994763.5,
          4012711.5,
          4030770,
          4047872,
          4064022.5,
          4078736,
          4091422,
          4103173,
          4113285,
          4121181.5,
          4121165,
          4119808
         ],
         "yaxis": "y"
        },
        {
         "hovertemplate": "Continente=América del Norte<br>Año=%{x}<br>Población, mujeres=%{y}<extra></extra>",
         "legendgroup": "América del Norte",
         "line": {
          "color": "#EF553B",
          "dash": "solid"
         },
         "marker": {
          "symbol": "circle"
         },
         "mode": "lines",
         "name": "América del Norte",
         "orientation": "v",
         "showlegend": true,
         "type": "scatter",
         "x": [
          "1987",
          "1988",
          "1989",
          "1990",
          "1991",
          "1992",
          "1993",
          "1994",
          "1995",
          "1996",
          "1997",
          "1998",
          "1999",
          "2000",
          "2001",
          "2002",
          "2003",
          "2004",
          "2005",
          "2006",
          "2007",
          "2008",
          "2009",
          "2010",
          "2011",
          "2012",
          "2013",
          "2014",
          "2015",
          "2016",
          "2017",
          "2018",
          "2019",
          "2020",
          "2021",
          "2022"
         ],
         "xaxis": "x",
         "y": [
          58830506.666666664,
          59485502.666666664,
          60179197.666666664,
          60963650,
          61852392.666666664,
          62771401.333333336,
          63672448.666666664,
          64543254.333333336,
          65398875.333333336,
          66242280.666666664,
          67102915.333333336,
          67937518.33333333,
          68759180.33333333,
          69572423,
          70346468.33333333,
          71108499.33333333,
          71834318.66666667,
          72590564.66666667,
          73344181,
          74122604.66666667,
          74898712.33333333,
          75681676,
          76436201.33333333,
          77188851.66666667,
          77876936.33333333,
          78549074,
          79192349,
          79850188.66666667,
          80490682.33333333,
          81148614,
          81757124.66666667,
          82304862.33333333,
          82806301.66666667,
          83578541,
          83876657,
          84386211.33333333
         ],
         "yaxis": "y"
        },
        {
         "hovertemplate": "Continente=América del Sur<br>Año=%{x}<br>Población, mujeres=%{y}<extra></extra>",
         "legendgroup": "América del Sur",
         "line": {
          "color": "#00cc96",
          "dash": "solid"
         },
         "marker": {
          "symbol": "circle"
         },
         "mode": "lines",
         "name": "América del Sur",
         "orientation": "v",
         "showlegend": true,
         "type": "scatter",
         "x": [
          "1987",
          "1988",
          "1989",
          "1990",
          "1991",
          "1992",
          "1993",
          "1994",
          "1995",
          "1996",
          "1997",
          "1998",
          "1999",
          "2000",
          "2001",
          "2002",
          "2003",
          "2004",
          "2005",
          "2006",
          "2007",
          "2008",
          "2009",
          "2010",
          "2011",
          "2012",
          "2013",
          "2014",
          "2015",
          "2016",
          "2017",
          "2018",
          "2019",
          "2020",
          "2021",
          "2022"
         ],
         "xaxis": "x",
         "y": [
          23347357.2,
          23815947,
          24282654,
          24746967,
          25203864,
          25652501.6,
          26098433.2,
          26544145.8,
          26988218,
          27428655.4,
          27866299,
          28301179,
          28730503.2,
          29154713.6,
          29574525.8,
          29986803,
          30385262.4,
          30775366.4,
          31162661,
          31542193,
          31912095,
          32271083.6,
          32623165.8,
          32942535.2,
          33297195.6,
          33645222.8,
          33984915.6,
          34319218.8,
          34651043,
          34973435.8,
          35277014.6,
          35550615.4,
          35807532.8,
          36058860.2,
          36284151.8,
          36509144.4
         ],
         "yaxis": "y"
        },
        {
         "hovertemplate": "Continente=Asia<br>Año=%{x}<br>Población, mujeres=%{y}<extra></extra>",
         "legendgroup": "Asia",
         "line": {
          "color": "#ab63fa",
          "dash": "solid"
         },
         "marker": {
          "symbol": "circle"
         },
         "mode": "lines",
         "name": "Asia",
         "orientation": "v",
         "showlegend": true,
         "type": "scatter",
         "x": [
          "1987",
          "1988",
          "1989",
          "1990",
          "1991",
          "1992",
          "1993",
          "1994",
          "1995",
          "1996",
          "1997",
          "1998",
          "1999",
          "2000",
          "2001",
          "2002",
          "2003",
          "2004",
          "2005",
          "2006",
          "2007",
          "2008",
          "2009",
          "2010",
          "2011",
          "2012",
          "2013",
          "2014",
          "2015",
          "2016",
          "2017",
          "2018",
          "2019",
          "2020",
          "2021",
          "2022"
         ],
         "xaxis": "x",
         "y": [
          112699503.1111111,
          114730555.22222222,
          116757155.8888889,
          118745844.8888889,
          120685894.8888889,
          122630238.33333333,
          124573481.66666667,
          126475969.1111111,
          128323220.44444445,
          130134943.33333333,
          131937741.8888889,
          133713721.8888889,
          135421584.33333334,
          137055314.1111111,
          138671702.66666666,
          140323111.1111111,
          141945756.44444445,
          143491769.1111111,
          145020867.55555555,
          146527598.55555555,
          147973354.2222222,
          149406101.66666666,
          150833869.7777778,
          152234869.1111111,
          153674419,
          155215546.1111111,
          156730667.8888889,
          158200619.2222222,
          159599722.7777778,
          160998766,
          162436623.44444445,
          163749250.2222222,
          164945262.33333334,
          166001277.2222222,
          166822037,
          167508898.33333334
         ],
         "yaxis": "y"
        },
        {
         "hovertemplate": "Continente=Europa<br>Año=%{x}<br>Población, mujeres=%{y}<extra></extra>",
         "legendgroup": "Europa",
         "line": {
          "color": "#FFA15A",
          "dash": "solid"
         },
         "marker": {
          "symbol": "circle"
         },
         "mode": "lines",
         "name": "Europa",
         "orientation": "v",
         "showlegend": true,
         "type": "scatter",
         "x": [
          "1987",
          "1988",
          "1989",
          "1990",
          "1991",
          "1992",
          "1993",
          "1994",
          "1995",
          "1996",
          "1997",
          "1998",
          "1999",
          "2000",
          "2001",
          "2002",
          "2003",
          "2004",
          "2005",
          "2006",
          "2007",
          "2008",
          "2009",
          "2010",
          "2011",
          "2012",
          "2013",
          "2014",
          "2015",
          "2016",
          "2017",
          "2018",
          "2019",
          "2020",
          "2021",
          "2022"
         ],
         "xaxis": "x",
         "y": [
          11659349.6,
          11690478.2,
          11738541.4,
          11795778.6,
          11854804.8,
          11916791.7,
          11971541.8,
          12010284.2,
          12045698,
          12080150.7,
          12109062.6,
          12135350.9,
          12165807.5,
          12202178.2,
          12248030.3,
          12307336.1,
          12368123.9,
          12426814.7,
          12486453.2,
          12545289.5,
          12609224.1,
          12669197.3,
          12712984.1,
          12751863,
          12717036.1,
          12754923,
          12786064.4,
          12828051.3,
          12897125,
          12969416.8,
          13025672.5,
          13079644,
          13136501.4,
          13173909.9,
          13184724.2,
          13253384
         ],
         "yaxis": "y"
        },
        {
         "hovertemplate": "Continente=Oceanía<br>Año=%{x}<br>Población, mujeres=%{y}<extra></extra>",
         "legendgroup": "Oceanía",
         "line": {
          "color": "#19d3f3",
          "dash": "solid"
         },
         "marker": {
          "symbol": "circle"
         },
         "mode": "lines",
         "name": "Oceanía",
         "orientation": "v",
         "showlegend": true,
         "type": "scatter",
         "x": [
          "1987",
          "1988",
          "1989",
          "1990",
          "1991",
          "1992",
          "1993",
          "1994",
          "1995",
          "1996",
          "1997",
          "1998",
          "1999",
          "2000",
          "2001",
          "2002",
          "2003",
          "2004",
          "2005",
          "2006",
          "2007",
          "2008",
          "2009",
          "2010",
          "2011",
          "2012",
          "2013",
          "2014",
          "2015",
          "2016",
          "2017",
          "2018",
          "2019",
          "2020",
          "2021",
          "2022"
         ],
         "xaxis": "x",
         "y": [
          2562798.5,
          2600335.75,
          2640075,
          2677543.75,
          2727887.5,
          2758368,
          2784367.5,
          2812922.75,
          2845714,
          2882599.25,
          2916741.25,
          2947501.75,
          2978883.75,
          3011787,
          3047625.25,
          3085071,
          3124307.5,
          3159534.5,
          3196963.5,
          3238345.75,
          3290267,
          3346677.25,
          3407044.75,
          3456612.75,
          3500950,
          3554681,
          3610177.75,
          3665541.75,
          3722568.5,
          3785067.25,
          3849518.75,
          3907126,
          3962016.25,
          4014046.5,
          4020566,
          4058971.5
         ],
         "yaxis": "y"
        },
        {
         "hovertemplate": "Continente=África<br>Año=%{x}<br>Población, mujeres=%{y}<extra></extra>",
         "legendgroup": "África",
         "line": {
          "color": "#FF6692",
          "dash": "solid"
         },
         "marker": {
          "symbol": "circle"
         },
         "mode": "lines",
         "name": "África",
         "orientation": "v",
         "showlegend": true,
         "type": "scatter",
         "x": [
          "1987",
          "1988",
          "1989",
          "1990",
          "1991",
          "1992",
          "1993",
          "1994",
          "1995",
          "1996",
          "1997",
          "1998",
          "1999",
          "2000",
          "2001",
          "2002",
          "2003",
          "2004",
          "2005",
          "2006",
          "2007",
          "2008",
          "2009",
          "2010",
          "2011",
          "2012",
          "2013",
          "2014",
          "2015",
          "2016",
          "2017",
          "2018",
          "2019",
          "2020",
          "2021",
          "2022"
         ],
         "xaxis": "x",
         "y": [
          7619752.666666667,
          7845628.444444444,
          8069772.333333333,
          8292332.333333333,
          8501089.333333334,
          8702878,
          8910598,
          9041883.555555556,
          9186071.444444444,
          9439027.666666666,
          9671570.555555556,
          9855983.666666666,
          10034199.666666666,
          10218228.222222222,
          10415427.555555556,
          10619619.888888888,
          10826778.555555556,
          11043353.666666666,
          11262352.333333334,
          11484825.222222222,
          11716735.444444444,
          11961204.222222222,
          12216393.333333334,
          12476445.222222222,
          12743512.222222222,
          13017784.111111112,
          13297069.111111112,
          13584111,
          13883178.333333334,
          14164688.333333334,
          14438825.111111112,
          14730656.888888888,
          15024534.888888888,
          15319576.333333334,
          15609661.666666666,
          15896456.111111112
         ],
         "yaxis": "y"
        }
       ],
       "layout": {
        "legend": {
         "title": {
          "text": "Continente"
         },
         "tracegroupgap": 0
        },
        "margin": {
         "t": 60
        },
        "template": {
         "data": {
          "bar": [
           {
            "error_x": {
             "color": "#2a3f5f"
            },
            "error_y": {
             "color": "#2a3f5f"
            },
            "marker": {
             "line": {
              "color": "#E5ECF6",
              "width": 0.5
             },
             "pattern": {
              "fillmode": "overlay",
              "size": 10,
              "solidity": 0.2
             }
            },
            "type": "bar"
           }
          ],
          "barpolar": [
           {
            "marker": {
             "line": {
              "color": "#E5ECF6",
              "width": 0.5
             },
             "pattern": {
              "fillmode": "overlay",
              "size": 10,
              "solidity": 0.2
             }
            },
            "type": "barpolar"
           }
          ],
          "carpet": [
           {
            "aaxis": {
             "endlinecolor": "#2a3f5f",
             "gridcolor": "white",
             "linecolor": "white",
             "minorgridcolor": "white",
             "startlinecolor": "#2a3f5f"
            },
            "baxis": {
             "endlinecolor": "#2a3f5f",
             "gridcolor": "white",
             "linecolor": "white",
             "minorgridcolor": "white",
             "startlinecolor": "#2a3f5f"
            },
            "type": "carpet"
           }
          ],
          "choropleth": [
           {
            "colorbar": {
             "outlinewidth": 0,
             "ticks": ""
            },
            "type": "choropleth"
           }
          ],
          "contour": [
           {
            "colorbar": {
             "outlinewidth": 0,
             "ticks": ""
            },
            "colorscale": [
             [
              0,
              "#0d0887"
             ],
             [
              0.1111111111111111,
              "#46039f"
             ],
             [
              0.2222222222222222,
              "#7201a8"
             ],
             [
              0.3333333333333333,
              "#9c179e"
             ],
             [
              0.4444444444444444,
              "#bd3786"
             ],
             [
              0.5555555555555556,
              "#d8576b"
             ],
             [
              0.6666666666666666,
              "#ed7953"
             ],
             [
              0.7777777777777778,
              "#fb9f3a"
             ],
             [
              0.8888888888888888,
              "#fdca26"
             ],
             [
              1,
              "#f0f921"
             ]
            ],
            "type": "contour"
           }
          ],
          "contourcarpet": [
           {
            "colorbar": {
             "outlinewidth": 0,
             "ticks": ""
            },
            "type": "contourcarpet"
           }
          ],
          "heatmap": [
           {
            "colorbar": {
             "outlinewidth": 0,
             "ticks": ""
            },
            "colorscale": [
             [
              0,
              "#0d0887"
             ],
             [
              0.1111111111111111,
              "#46039f"
             ],
             [
              0.2222222222222222,
              "#7201a8"
             ],
             [
              0.3333333333333333,
              "#9c179e"
             ],
             [
              0.4444444444444444,
              "#bd3786"
             ],
             [
              0.5555555555555556,
              "#d8576b"
             ],
             [
              0.6666666666666666,
              "#ed7953"
             ],
             [
              0.7777777777777778,
              "#fb9f3a"
             ],
             [
              0.8888888888888888,
              "#fdca26"
             ],
             [
              1,
              "#f0f921"
             ]
            ],
            "type": "heatmap"
           }
          ],
          "heatmapgl": [
           {
            "colorbar": {
             "outlinewidth": 0,
             "ticks": ""
            },
            "colorscale": [
             [
              0,
              "#0d0887"
             ],
             [
              0.1111111111111111,
              "#46039f"
             ],
             [
              0.2222222222222222,
              "#7201a8"
             ],
             [
              0.3333333333333333,
              "#9c179e"
             ],
             [
              0.4444444444444444,
              "#bd3786"
             ],
             [
              0.5555555555555556,
              "#d8576b"
             ],
             [
              0.6666666666666666,
              "#ed7953"
             ],
             [
              0.7777777777777778,
              "#fb9f3a"
             ],
             [
              0.8888888888888888,
              "#fdca26"
             ],
             [
              1,
              "#f0f921"
             ]
            ],
            "type": "heatmapgl"
           }
          ],
          "histogram": [
           {
            "marker": {
             "pattern": {
              "fillmode": "overlay",
              "size": 10,
              "solidity": 0.2
             }
            },
            "type": "histogram"
           }
          ],
          "histogram2d": [
           {
            "colorbar": {
             "outlinewidth": 0,
             "ticks": ""
            },
            "colorscale": [
             [
              0,
              "#0d0887"
             ],
             [
              0.1111111111111111,
              "#46039f"
             ],
             [
              0.2222222222222222,
              "#7201a8"
             ],
             [
              0.3333333333333333,
              "#9c179e"
             ],
             [
              0.4444444444444444,
              "#bd3786"
             ],
             [
              0.5555555555555556,
              "#d8576b"
             ],
             [
              0.6666666666666666,
              "#ed7953"
             ],
             [
              0.7777777777777778,
              "#fb9f3a"
             ],
             [
              0.8888888888888888,
              "#fdca26"
             ],
             [
              1,
              "#f0f921"
             ]
            ],
            "type": "histogram2d"
           }
          ],
          "histogram2dcontour": [
           {
            "colorbar": {
             "outlinewidth": 0,
             "ticks": ""
            },
            "colorscale": [
             [
              0,
              "#0d0887"
             ],
             [
              0.1111111111111111,
              "#46039f"
             ],
             [
              0.2222222222222222,
              "#7201a8"
             ],
             [
              0.3333333333333333,
              "#9c179e"
             ],
             [
              0.4444444444444444,
              "#bd3786"
             ],
             [
              0.5555555555555556,
              "#d8576b"
             ],
             [
              0.6666666666666666,
              "#ed7953"
             ],
             [
              0.7777777777777778,
              "#fb9f3a"
             ],
             [
              0.8888888888888888,
              "#fdca26"
             ],
             [
              1,
              "#f0f921"
             ]
            ],
            "type": "histogram2dcontour"
           }
          ],
          "mesh3d": [
           {
            "colorbar": {
             "outlinewidth": 0,
             "ticks": ""
            },
            "type": "mesh3d"
           }
          ],
          "parcoords": [
           {
            "line": {
             "colorbar": {
              "outlinewidth": 0,
              "ticks": ""
             }
            },
            "type": "parcoords"
           }
          ],
          "pie": [
           {
            "automargin": true,
            "type": "pie"
           }
          ],
          "scatter": [
           {
            "fillpattern": {
             "fillmode": "overlay",
             "size": 10,
             "solidity": 0.2
            },
            "type": "scatter"
           }
          ],
          "scatter3d": [
           {
            "line": {
             "colorbar": {
              "outlinewidth": 0,
              "ticks": ""
             }
            },
            "marker": {
             "colorbar": {
              "outlinewidth": 0,
              "ticks": ""
             }
            },
            "type": "scatter3d"
           }
          ],
          "scattercarpet": [
           {
            "marker": {
             "colorbar": {
              "outlinewidth": 0,
              "ticks": ""
             }
            },
            "type": "scattercarpet"
           }
          ],
          "scattergeo": [
           {
            "marker": {
             "colorbar": {
              "outlinewidth": 0,
              "ticks": ""
             }
            },
            "type": "scattergeo"
           }
          ],
          "scattergl": [
           {
            "marker": {
             "colorbar": {
              "outlinewidth": 0,
              "ticks": ""
             }
            },
            "type": "scattergl"
           }
          ],
          "scattermapbox": [
           {
            "marker": {
             "colorbar": {
              "outlinewidth": 0,
              "ticks": ""
             }
            },
            "type": "scattermapbox"
           }
          ],
          "scatterpolar": [
           {
            "marker": {
             "colorbar": {
              "outlinewidth": 0,
              "ticks": ""
             }
            },
            "type": "scatterpolar"
           }
          ],
          "scatterpolargl": [
           {
            "marker": {
             "colorbar": {
              "outlinewidth": 0,
              "ticks": ""
             }
            },
            "type": "scatterpolargl"
           }
          ],
          "scatterternary": [
           {
            "marker": {
             "colorbar": {
              "outlinewidth": 0,
              "ticks": ""
             }
            },
            "type": "scatterternary"
           }
          ],
          "surface": [
           {
            "colorbar": {
             "outlinewidth": 0,
             "ticks": ""
            },
            "colorscale": [
             [
              0,
              "#0d0887"
             ],
             [
              0.1111111111111111,
              "#46039f"
             ],
             [
              0.2222222222222222,
              "#7201a8"
             ],
             [
              0.3333333333333333,
              "#9c179e"
             ],
             [
              0.4444444444444444,
              "#bd3786"
             ],
             [
              0.5555555555555556,
              "#d8576b"
             ],
             [
              0.6666666666666666,
              "#ed7953"
             ],
             [
              0.7777777777777778,
              "#fb9f3a"
             ],
             [
              0.8888888888888888,
              "#fdca26"
             ],
             [
              1,
              "#f0f921"
             ]
            ],
            "type": "surface"
           }
          ],
          "table": [
           {
            "cells": {
             "fill": {
              "color": "#EBF0F8"
             },
             "line": {
              "color": "white"
             }
            },
            "header": {
             "fill": {
              "color": "#C8D4E3"
             },
             "line": {
              "color": "white"
             }
            },
            "type": "table"
           }
          ]
         },
         "layout": {
          "annotationdefaults": {
           "arrowcolor": "#2a3f5f",
           "arrowhead": 0,
           "arrowwidth": 1
          },
          "autotypenumbers": "strict",
          "coloraxis": {
           "colorbar": {
            "outlinewidth": 0,
            "ticks": ""
           }
          },
          "colorscale": {
           "diverging": [
            [
             0,
             "#8e0152"
            ],
            [
             0.1,
             "#c51b7d"
            ],
            [
             0.2,
             "#de77ae"
            ],
            [
             0.3,
             "#f1b6da"
            ],
            [
             0.4,
             "#fde0ef"
            ],
            [
             0.5,
             "#f7f7f7"
            ],
            [
             0.6,
             "#e6f5d0"
            ],
            [
             0.7,
             "#b8e186"
            ],
            [
             0.8,
             "#7fbc41"
            ],
            [
             0.9,
             "#4d9221"
            ],
            [
             1,
             "#276419"
            ]
           ],
           "sequential": [
            [
             0,
             "#0d0887"
            ],
            [
             0.1111111111111111,
             "#46039f"
            ],
            [
             0.2222222222222222,
             "#7201a8"
            ],
            [
             0.3333333333333333,
             "#9c179e"
            ],
            [
             0.4444444444444444,
             "#bd3786"
            ],
            [
             0.5555555555555556,
             "#d8576b"
            ],
            [
             0.6666666666666666,
             "#ed7953"
            ],
            [
             0.7777777777777778,
             "#fb9f3a"
            ],
            [
             0.8888888888888888,
             "#fdca26"
            ],
            [
             1,
             "#f0f921"
            ]
           ],
           "sequentialminus": [
            [
             0,
             "#0d0887"
            ],
            [
             0.1111111111111111,
             "#46039f"
            ],
            [
             0.2222222222222222,
             "#7201a8"
            ],
            [
             0.3333333333333333,
             "#9c179e"
            ],
            [
             0.4444444444444444,
             "#bd3786"
            ],
            [
             0.5555555555555556,
             "#d8576b"
            ],
            [
             0.6666666666666666,
             "#ed7953"
            ],
            [
             0.7777777777777778,
             "#fb9f3a"
            ],
            [
             0.8888888888888888,
             "#fdca26"
            ],
            [
             1,
             "#f0f921"
            ]
           ]
          },
          "colorway": [
           "#636efa",
           "#EF553B",
           "#00cc96",
           "#ab63fa",
           "#FFA15A",
           "#19d3f3",
           "#FF6692",
           "#B6E880",
           "#FF97FF",
           "#FECB52"
          ],
          "font": {
           "color": "#2a3f5f"
          },
          "geo": {
           "bgcolor": "white",
           "lakecolor": "white",
           "landcolor": "#E5ECF6",
           "showlakes": true,
           "showland": true,
           "subunitcolor": "white"
          },
          "hoverlabel": {
           "align": "left"
          },
          "hovermode": "closest",
          "mapbox": {
           "style": "light"
          },
          "paper_bgcolor": "white",
          "plot_bgcolor": "#E5ECF6",
          "polar": {
           "angularaxis": {
            "gridcolor": "white",
            "linecolor": "white",
            "ticks": ""
           },
           "bgcolor": "#E5ECF6",
           "radialaxis": {
            "gridcolor": "white",
            "linecolor": "white",
            "ticks": ""
           }
          },
          "scene": {
           "xaxis": {
            "backgroundcolor": "#E5ECF6",
            "gridcolor": "white",
            "gridwidth": 2,
            "linecolor": "white",
            "showbackground": true,
            "ticks": "",
            "zerolinecolor": "white"
           },
           "yaxis": {
            "backgroundcolor": "#E5ECF6",
            "gridcolor": "white",
            "gridwidth": 2,
            "linecolor": "white",
            "showbackground": true,
            "ticks": "",
            "zerolinecolor": "white"
           },
           "zaxis": {
            "backgroundcolor": "#E5ECF6",
            "gridcolor": "white",
            "gridwidth": 2,
            "linecolor": "white",
            "showbackground": true,
            "ticks": "",
            "zerolinecolor": "white"
           }
          },
          "shapedefaults": {
           "line": {
            "color": "#2a3f5f"
           }
          },
          "ternary": {
           "aaxis": {
            "gridcolor": "white",
            "linecolor": "white",
            "ticks": ""
           },
           "baxis": {
            "gridcolor": "white",
            "linecolor": "white",
            "ticks": ""
           },
           "bgcolor": "#E5ECF6",
           "caxis": {
            "gridcolor": "white",
            "linecolor": "white",
            "ticks": ""
           }
          },
          "title": {
           "x": 0.05
          },
          "xaxis": {
           "automargin": true,
           "gridcolor": "white",
           "linecolor": "white",
           "ticks": "",
           "title": {
            "standoff": 15
           },
           "zerolinecolor": "white",
           "zerolinewidth": 2
          },
          "yaxis": {
           "automargin": true,
           "gridcolor": "white",
           "linecolor": "white",
           "ticks": "",
           "title": {
            "standoff": 15
           },
           "zerolinecolor": "white",
           "zerolinewidth": 2
          }
         }
        },
        "xaxis": {
         "anchor": "y",
         "domain": [
          0,
          1
         ],
         "title": {
          "text": "Año"
         }
        },
        "yaxis": {
         "anchor": "x",
         "domain": [
          0,
          1
         ],
         "title": {
          "text": "Población, mujeres"
         }
        }
       }
      }
     },
     "metadata": {},
     "output_type": "display_data"
    },
    {
     "data": {
      "application/vnd.plotly.v1+json": {
       "config": {
        "plotlyServerURL": "https://plot.ly"
       },
       "data": [
        {
         "hovertemplate": "Continente=América Central<br>Año=%{x}<br>Población, total=%{y}<extra></extra>",
         "legendgroup": "América Central",
         "line": {
          "color": "#636efa",
          "dash": "solid"
         },
         "marker": {
          "symbol": "circle"
         },
         "mode": "lines",
         "name": "América Central",
         "orientation": "v",
         "showlegend": true,
         "type": "scatter",
         "x": [
          "1987",
          "1988",
          "1989",
          "1990",
          "1991",
          "1992",
          "1993",
          "1994",
          "1995",
          "1996",
          "1997",
          "1998",
          "1999",
          "2000",
          "2001",
          "2002",
          "2003",
          "2004",
          "2005",
          "2006",
          "2007",
          "2008",
          "2009",
          "2010",
          "2011",
          "2012",
          "2013",
          "2014",
          "2015",
          "2016",
          "2017",
          "2018",
          "2019",
          "2020",
          "2021",
          "2022"
         ],
         "xaxis": "x",
         "y": [
          6625752.5,
          6713447,
          6803094,
          6892466.5,
          6976613,
          7052843.5,
          7123153,
          7188179.5,
          7249779.5,
          7309632.5,
          7368775,
          7427589.5,
          7485762,
          7542492,
          7596174.5,
          7646337,
          7693913.5,
          7739047,
          7781000.5,
          7819401,
          7854953,
          7889265,
          7923156,
          7956334.5,
          7989318,
          8022941.5,
          8056557,
          8088157,
          8117568,
          8143608.5,
          8165123.5,
          8184489,
          8200614.5,
          8211901.5,
          8205164.5,
          8196510
         ],
         "yaxis": "y"
        },
        {
         "hovertemplate": "Continente=América del Norte<br>Año=%{x}<br>Población, total=%{y}<extra></extra>",
         "legendgroup": "América del Norte",
         "line": {
          "color": "#EF553B",
          "dash": "solid"
         },
         "marker": {
          "symbol": "circle"
         },
         "mode": "lines",
         "name": "América del Norte",
         "orientation": "v",
         "showlegend": true,
         "type": "scatter",
         "x": [
          "1987",
          "1988",
          "1989",
          "1990",
          "1991",
          "1992",
          "1993",
          "1994",
          "1995",
          "1996",
          "1997",
          "1998",
          "1999",
          "2000",
          "2001",
          "2002",
          "2003",
          "2004",
          "2005",
          "2006",
          "2007",
          "2008",
          "2009",
          "2010",
          "2011",
          "2012",
          "2013",
          "2014",
          "2015",
          "2016",
          "2017",
          "2018",
          "2019",
          "2020",
          "2021",
          "2022"
         ],
         "xaxis": "x",
         "y": [
          115429701.66666667,
          116727587.33333333,
          118109843.33333333,
          119678188.66666667,
          121456671.66666667,
          123292809.33333333,
          125084070.33333333,
          126813695.66666667,
          128516627.66666667,
          130196924.33333333,
          131915347.33333333,
          133592152.33333333,
          135258698.66666666,
          136907194.33333334,
          138461381.66666666,
          139967451,
          141393767.33333334,
          142897255.33333334,
          144400918,
          145945958.66666666,
          147474401.66666666,
          149008524.33333334,
          150483284,
          151954811,
          153357763.33333334,
          154782597.66666666,
          156144529,
          157526550.33333334,
          158863933,
          160233487.66666666,
          161502207.33333334,
          162639048,
          163672164.66666666,
          165172326.66666666,
          165654396.66666666,
          166573861.33333334
         ],
         "yaxis": "y"
        },
        {
         "hovertemplate": "Continente=América del Sur<br>Año=%{x}<br>Población, total=%{y}<extra></extra>",
         "legendgroup": "América del Sur",
         "line": {
          "color": "#00cc96",
          "dash": "solid"
         },
         "marker": {
          "symbol": "circle"
         },
         "mode": "lines",
         "name": "América del Sur",
         "orientation": "v",
         "showlegend": true,
         "type": "scatter",
         "x": [
          "1987",
          "1988",
          "1989",
          "1990",
          "1991",
          "1992",
          "1993",
          "1994",
          "1995",
          "1996",
          "1997",
          "1998",
          "1999",
          "2000",
          "2001",
          "2002",
          "2003",
          "2004",
          "2005",
          "2006",
          "2007",
          "2008",
          "2009",
          "2010",
          "2011",
          "2012",
          "2013",
          "2014",
          "2015",
          "2016",
          "2017",
          "2018",
          "2019",
          "2020",
          "2021",
          "2022"
         ],
         "xaxis": "x",
         "y": [
          46468759.2,
          47394410,
          48315554.2,
          49229182.4,
          50125465.8,
          51004559.4,
          51877555.8,
          52750622.8,
          53620101.6,
          54481277.6,
          55336004.6,
          56184185,
          57020670.2,
          57842773,
          58651194.6,
          59443460.2,
          60209668.4,
          60960125.4,
          61705514.4,
          62436317,
          63147815.6,
          63838405.8,
          64517292.4,
          65132532,
          65817915.6,
          66489540.8,
          67144728.4,
          67791669.8,
          68433103.4,
          69051390,
          69632363.8,
          70155876,
          70644883.8,
          71116555.4,
          71529827.2,
          71945009.6
         ],
         "yaxis": "y"
        },
        {
         "hovertemplate": "Continente=Asia<br>Año=%{x}<br>Población, total=%{y}<extra></extra>",
         "legendgroup": "Asia",
         "line": {
          "color": "#ab63fa",
          "dash": "solid"
         },
         "marker": {
          "symbol": "circle"
         },
         "mode": "lines",
         "name": "Asia",
         "orientation": "v",
         "showlegend": true,
         "type": "scatter",
         "x": [
          "1987",
          "1988",
          "1989",
          "1990",
          "1991",
          "1992",
          "1993",
          "1994",
          "1995",
          "1996",
          "1997",
          "1998",
          "1999",
          "2000",
          "2001",
          "2002",
          "2003",
          "2004",
          "2005",
          "2006",
          "2007",
          "2008",
          "2009",
          "2010",
          "2011",
          "2012",
          "2013",
          "2014",
          "2015",
          "2016",
          "2017",
          "2018",
          "2019",
          "2020",
          "2021",
          "2022"
         ],
         "xaxis": "x",
         "y": [
          230765020,
          234950574.44444445,
          239132979.33333334,
          243254371.66666666,
          247290978.44444445,
          251341678.7777778,
          255390909.1111111,
          259364135.2222222,
          263233054.55555555,
          267035012.55555555,
          270824174.3333333,
          274550670.6666667,
          278137445.5555556,
          281577067.5555556,
          284958993.4444444,
          288387252.4444444,
          291747554.1111111,
          294944031.2222222,
          298113221.7777778,
          301263407.8888889,
          304307871.8888889,
          307330096.7777778,
          310331018,
          313230424.7777778,
          316165385.5555556,
          319298775.2222222,
          322374779.6666667,
          325355875.6666667,
          328205622.3333333,
          331071348.1111111,
          333990431.5555556,
          336621113.1111111,
          339004708.7777778,
          341048449.6666667,
          342566446.2222222,
          343822702.8888889
         ],
         "yaxis": "y"
        },
        {
         "hovertemplate": "Continente=Europa<br>Año=%{x}<br>Población, total=%{y}<extra></extra>",
         "legendgroup": "Europa",
         "line": {
          "color": "#FFA15A",
          "dash": "solid"
         },
         "marker": {
          "symbol": "circle"
         },
         "mode": "lines",
         "name": "Europa",
         "orientation": "v",
         "showlegend": true,
         "type": "scatter",
         "x": [
          "1987",
          "1988",
          "1989",
          "1990",
          "1991",
          "1992",
          "1993",
          "1994",
          "1995",
          "1996",
          "1997",
          "1998",
          "1999",
          "2000",
          "2001",
          "2002",
          "2003",
          "2004",
          "2005",
          "2006",
          "2007",
          "2008",
          "2009",
          "2010",
          "2011",
          "2012",
          "2013",
          "2014",
          "2015",
          "2016",
          "2017",
          "2018",
          "2019",
          "2020",
          "2021",
          "2022"
         ],
         "xaxis": "x",
         "y": [
          22635816.1,
          22710115,
          22818450.8,
          22945845.1,
          23077953.3,
          23216174.8,
          23339798.6,
          23431000,
          23513160.2,
          23591078.1,
          23656795.3,
          23716153.4,
          23782887.1,
          23860581.5,
          23956101.1,
          24082288.1,
          24215163.7,
          24344917.6,
          24478472.8,
          24610384.5,
          24755172.2,
          24893903.5,
          24995677.4,
          25084552.7,
          25029043.6,
          25115003.4,
          25186626.2,
          25280032.5,
          25428518.4,
          25581844.7,
          25699464,
          25810431.3,
          25926970.6,
          26004331.2,
          26027766.5,
          26166519
         ],
         "yaxis": "y"
        },
        {
         "hovertemplate": "Continente=Oceanía<br>Año=%{x}<br>Población, total=%{y}<extra></extra>",
         "legendgroup": "Oceanía",
         "line": {
          "color": "#19d3f3",
          "dash": "solid"
         },
         "marker": {
          "symbol": "circle"
         },
         "mode": "lines",
         "name": "Oceanía",
         "orientation": "v",
         "showlegend": true,
         "type": "scatter",
         "x": [
          "1987",
          "1988",
          "1989",
          "1990",
          "1991",
          "1992",
          "1993",
          "1994",
          "1995",
          "1996",
          "1997",
          "1998",
          "1999",
          "2000",
          "2001",
          "2002",
          "2003",
          "2004",
          "2005",
          "2006",
          "2007",
          "2008",
          "2009",
          "2010",
          "2011",
          "2012",
          "2013",
          "2014",
          "2015",
          "2016",
          "2017",
          "2018",
          "2019",
          "2020",
          "2021",
          "2022"
         ],
         "xaxis": "x",
         "y": [
          5114956.25,
          5186846.5,
          5263551.5,
          5335886,
          5433167.25,
          5491748.25,
          5541892,
          5597344.5,
          5661357.5,
          5732504.5,
          5796863,
          5854229,
          5913249.25,
          5975754.75,
          6045512.75,
          6120057.75,
          6198420.75,
          6268747.25,
          6343573.25,
          6427007,
          6533137,
          6649379.25,
          6772203,
          6870572.75,
          6957182.5,
          7062687,
          7170905.25,
          7277375.75,
          7386541.5,
          7507230.5,
          7633612.75,
          7748985,
          7862446.75,
          7970210,
          7985713.25,
          8063795.75
         ],
         "yaxis": "y"
        },
        {
         "hovertemplate": "Continente=África<br>Año=%{x}<br>Población, total=%{y}<extra></extra>",
         "legendgroup": "África",
         "line": {
          "color": "#FF6692",
          "dash": "solid"
         },
         "marker": {
          "symbol": "circle"
         },
         "mode": "lines",
         "name": "África",
         "orientation": "v",
         "showlegend": true,
         "type": "scatter",
         "x": [
          "1987",
          "1988",
          "1989",
          "1990",
          "1991",
          "1992",
          "1993",
          "1994",
          "1995",
          "1996",
          "1997",
          "1998",
          "1999",
          "2000",
          "2001",
          "2002",
          "2003",
          "2004",
          "2005",
          "2006",
          "2007",
          "2008",
          "2009",
          "2010",
          "2011",
          "2012",
          "2013",
          "2014",
          "2015",
          "2016",
          "2017",
          "2018",
          "2019",
          "2020",
          "2021",
          "2022"
         ],
         "xaxis": "x",
         "y": [
          15102621.777777778,
          15556975.888888888,
          16008573.666666666,
          16455906.111111112,
          16873018.222222224,
          17259261.777777776,
          17640026.222222224,
          17862831,
          18112064.888888888,
          18588376,
          19048516.555555556,
          19426194.444444444,
          19787170.444444444,
          20161406,
          20562463.777777776,
          20978602.666666668,
          21403885.444444444,
          21849196.111111112,
          22299415.777777776,
          22756886.111111112,
          23232150.666666668,
          23731322.333333332,
          24251309,
          24780985.444444444,
          25324279.888888888,
          25881726.333333332,
          26449191,
          27035367.333333332,
          27655083.666666668,
          28219797.222222224,
          28757952.777777776,
          29346059.666666668,
          29939115,
          30534382.555555556,
          31118677.333333332,
          31696670.888888888
         ],
         "yaxis": "y"
        }
       ],
       "layout": {
        "legend": {
         "title": {
          "text": "Continente"
         },
         "tracegroupgap": 0
        },
        "margin": {
         "t": 60
        },
        "template": {
         "data": {
          "bar": [
           {
            "error_x": {
             "color": "#2a3f5f"
            },
            "error_y": {
             "color": "#2a3f5f"
            },
            "marker": {
             "line": {
              "color": "#E5ECF6",
              "width": 0.5
             },
             "pattern": {
              "fillmode": "overlay",
              "size": 10,
              "solidity": 0.2
             }
            },
            "type": "bar"
           }
          ],
          "barpolar": [
           {
            "marker": {
             "line": {
              "color": "#E5ECF6",
              "width": 0.5
             },
             "pattern": {
              "fillmode": "overlay",
              "size": 10,
              "solidity": 0.2
             }
            },
            "type": "barpolar"
           }
          ],
          "carpet": [
           {
            "aaxis": {
             "endlinecolor": "#2a3f5f",
             "gridcolor": "white",
             "linecolor": "white",
             "minorgridcolor": "white",
             "startlinecolor": "#2a3f5f"
            },
            "baxis": {
             "endlinecolor": "#2a3f5f",
             "gridcolor": "white",
             "linecolor": "white",
             "minorgridcolor": "white",
             "startlinecolor": "#2a3f5f"
            },
            "type": "carpet"
           }
          ],
          "choropleth": [
           {
            "colorbar": {
             "outlinewidth": 0,
             "ticks": ""
            },
            "type": "choropleth"
           }
          ],
          "contour": [
           {
            "colorbar": {
             "outlinewidth": 0,
             "ticks": ""
            },
            "colorscale": [
             [
              0,
              "#0d0887"
             ],
             [
              0.1111111111111111,
              "#46039f"
             ],
             [
              0.2222222222222222,
              "#7201a8"
             ],
             [
              0.3333333333333333,
              "#9c179e"
             ],
             [
              0.4444444444444444,
              "#bd3786"
             ],
             [
              0.5555555555555556,
              "#d8576b"
             ],
             [
              0.6666666666666666,
              "#ed7953"
             ],
             [
              0.7777777777777778,
              "#fb9f3a"
             ],
             [
              0.8888888888888888,
              "#fdca26"
             ],
             [
              1,
              "#f0f921"
             ]
            ],
            "type": "contour"
           }
          ],
          "contourcarpet": [
           {
            "colorbar": {
             "outlinewidth": 0,
             "ticks": ""
            },
            "type": "contourcarpet"
           }
          ],
          "heatmap": [
           {
            "colorbar": {
             "outlinewidth": 0,
             "ticks": ""
            },
            "colorscale": [
             [
              0,
              "#0d0887"
             ],
             [
              0.1111111111111111,
              "#46039f"
             ],
             [
              0.2222222222222222,
              "#7201a8"
             ],
             [
              0.3333333333333333,
              "#9c179e"
             ],
             [
              0.4444444444444444,
              "#bd3786"
             ],
             [
              0.5555555555555556,
              "#d8576b"
             ],
             [
              0.6666666666666666,
              "#ed7953"
             ],
             [
              0.7777777777777778,
              "#fb9f3a"
             ],
             [
              0.8888888888888888,
              "#fdca26"
             ],
             [
              1,
              "#f0f921"
             ]
            ],
            "type": "heatmap"
           }
          ],
          "heatmapgl": [
           {
            "colorbar": {
             "outlinewidth": 0,
             "ticks": ""
            },
            "colorscale": [
             [
              0,
              "#0d0887"
             ],
             [
              0.1111111111111111,
              "#46039f"
             ],
             [
              0.2222222222222222,
              "#7201a8"
             ],
             [
              0.3333333333333333,
              "#9c179e"
             ],
             [
              0.4444444444444444,
              "#bd3786"
             ],
             [
              0.5555555555555556,
              "#d8576b"
             ],
             [
              0.6666666666666666,
              "#ed7953"
             ],
             [
              0.7777777777777778,
              "#fb9f3a"
             ],
             [
              0.8888888888888888,
              "#fdca26"
             ],
             [
              1,
              "#f0f921"
             ]
            ],
            "type": "heatmapgl"
           }
          ],
          "histogram": [
           {
            "marker": {
             "pattern": {
              "fillmode": "overlay",
              "size": 10,
              "solidity": 0.2
             }
            },
            "type": "histogram"
           }
          ],
          "histogram2d": [
           {
            "colorbar": {
             "outlinewidth": 0,
             "ticks": ""
            },
            "colorscale": [
             [
              0,
              "#0d0887"
             ],
             [
              0.1111111111111111,
              "#46039f"
             ],
             [
              0.2222222222222222,
              "#7201a8"
             ],
             [
              0.3333333333333333,
              "#9c179e"
             ],
             [
              0.4444444444444444,
              "#bd3786"
             ],
             [
              0.5555555555555556,
              "#d8576b"
             ],
             [
              0.6666666666666666,
              "#ed7953"
             ],
             [
              0.7777777777777778,
              "#fb9f3a"
             ],
             [
              0.8888888888888888,
              "#fdca26"
             ],
             [
              1,
              "#f0f921"
             ]
            ],
            "type": "histogram2d"
           }
          ],
          "histogram2dcontour": [
           {
            "colorbar": {
             "outlinewidth": 0,
             "ticks": ""
            },
            "colorscale": [
             [
              0,
              "#0d0887"
             ],
             [
              0.1111111111111111,
              "#46039f"
             ],
             [
              0.2222222222222222,
              "#7201a8"
             ],
             [
              0.3333333333333333,
              "#9c179e"
             ],
             [
              0.4444444444444444,
              "#bd3786"
             ],
             [
              0.5555555555555556,
              "#d8576b"
             ],
             [
              0.6666666666666666,
              "#ed7953"
             ],
             [
              0.7777777777777778,
              "#fb9f3a"
             ],
             [
              0.8888888888888888,
              "#fdca26"
             ],
             [
              1,
              "#f0f921"
             ]
            ],
            "type": "histogram2dcontour"
           }
          ],
          "mesh3d": [
           {
            "colorbar": {
             "outlinewidth": 0,
             "ticks": ""
            },
            "type": "mesh3d"
           }
          ],
          "parcoords": [
           {
            "line": {
             "colorbar": {
              "outlinewidth": 0,
              "ticks": ""
             }
            },
            "type": "parcoords"
           }
          ],
          "pie": [
           {
            "automargin": true,
            "type": "pie"
           }
          ],
          "scatter": [
           {
            "fillpattern": {
             "fillmode": "overlay",
             "size": 10,
             "solidity": 0.2
            },
            "type": "scatter"
           }
          ],
          "scatter3d": [
           {
            "line": {
             "colorbar": {
              "outlinewidth": 0,
              "ticks": ""
             }
            },
            "marker": {
             "colorbar": {
              "outlinewidth": 0,
              "ticks": ""
             }
            },
            "type": "scatter3d"
           }
          ],
          "scattercarpet": [
           {
            "marker": {
             "colorbar": {
              "outlinewidth": 0,
              "ticks": ""
             }
            },
            "type": "scattercarpet"
           }
          ],
          "scattergeo": [
           {
            "marker": {
             "colorbar": {
              "outlinewidth": 0,
              "ticks": ""
             }
            },
            "type": "scattergeo"
           }
          ],
          "scattergl": [
           {
            "marker": {
             "colorbar": {
              "outlinewidth": 0,
              "ticks": ""
             }
            },
            "type": "scattergl"
           }
          ],
          "scattermapbox": [
           {
            "marker": {
             "colorbar": {
              "outlinewidth": 0,
              "ticks": ""
             }
            },
            "type": "scattermapbox"
           }
          ],
          "scatterpolar": [
           {
            "marker": {
             "colorbar": {
              "outlinewidth": 0,
              "ticks": ""
             }
            },
            "type": "scatterpolar"
           }
          ],
          "scatterpolargl": [
           {
            "marker": {
             "colorbar": {
              "outlinewidth": 0,
              "ticks": ""
             }
            },
            "type": "scatterpolargl"
           }
          ],
          "scatterternary": [
           {
            "marker": {
             "colorbar": {
              "outlinewidth": 0,
              "ticks": ""
             }
            },
            "type": "scatterternary"
           }
          ],
          "surface": [
           {
            "colorbar": {
             "outlinewidth": 0,
             "ticks": ""
            },
            "colorscale": [
             [
              0,
              "#0d0887"
             ],
             [
              0.1111111111111111,
              "#46039f"
             ],
             [
              0.2222222222222222,
              "#7201a8"
             ],
             [
              0.3333333333333333,
              "#9c179e"
             ],
             [
              0.4444444444444444,
              "#bd3786"
             ],
             [
              0.5555555555555556,
              "#d8576b"
             ],
             [
              0.6666666666666666,
              "#ed7953"
             ],
             [
              0.7777777777777778,
              "#fb9f3a"
             ],
             [
              0.8888888888888888,
              "#fdca26"
             ],
             [
              1,
              "#f0f921"
             ]
            ],
            "type": "surface"
           }
          ],
          "table": [
           {
            "cells": {
             "fill": {
              "color": "#EBF0F8"
             },
             "line": {
              "color": "white"
             }
            },
            "header": {
             "fill": {
              "color": "#C8D4E3"
             },
             "line": {
              "color": "white"
             }
            },
            "type": "table"
           }
          ]
         },
         "layout": {
          "annotationdefaults": {
           "arrowcolor": "#2a3f5f",
           "arrowhead": 0,
           "arrowwidth": 1
          },
          "autotypenumbers": "strict",
          "coloraxis": {
           "colorbar": {
            "outlinewidth": 0,
            "ticks": ""
           }
          },
          "colorscale": {
           "diverging": [
            [
             0,
             "#8e0152"
            ],
            [
             0.1,
             "#c51b7d"
            ],
            [
             0.2,
             "#de77ae"
            ],
            [
             0.3,
             "#f1b6da"
            ],
            [
             0.4,
             "#fde0ef"
            ],
            [
             0.5,
             "#f7f7f7"
            ],
            [
             0.6,
             "#e6f5d0"
            ],
            [
             0.7,
             "#b8e186"
            ],
            [
             0.8,
             "#7fbc41"
            ],
            [
             0.9,
             "#4d9221"
            ],
            [
             1,
             "#276419"
            ]
           ],
           "sequential": [
            [
             0,
             "#0d0887"
            ],
            [
             0.1111111111111111,
             "#46039f"
            ],
            [
             0.2222222222222222,
             "#7201a8"
            ],
            [
             0.3333333333333333,
             "#9c179e"
            ],
            [
             0.4444444444444444,
             "#bd3786"
            ],
            [
             0.5555555555555556,
             "#d8576b"
            ],
            [
             0.6666666666666666,
             "#ed7953"
            ],
            [
             0.7777777777777778,
             "#fb9f3a"
            ],
            [
             0.8888888888888888,
             "#fdca26"
            ],
            [
             1,
             "#f0f921"
            ]
           ],
           "sequentialminus": [
            [
             0,
             "#0d0887"
            ],
            [
             0.1111111111111111,
             "#46039f"
            ],
            [
             0.2222222222222222,
             "#7201a8"
            ],
            [
             0.3333333333333333,
             "#9c179e"
            ],
            [
             0.4444444444444444,
             "#bd3786"
            ],
            [
             0.5555555555555556,
             "#d8576b"
            ],
            [
             0.6666666666666666,
             "#ed7953"
            ],
            [
             0.7777777777777778,
             "#fb9f3a"
            ],
            [
             0.8888888888888888,
             "#fdca26"
            ],
            [
             1,
             "#f0f921"
            ]
           ]
          },
          "colorway": [
           "#636efa",
           "#EF553B",
           "#00cc96",
           "#ab63fa",
           "#FFA15A",
           "#19d3f3",
           "#FF6692",
           "#B6E880",
           "#FF97FF",
           "#FECB52"
          ],
          "font": {
           "color": "#2a3f5f"
          },
          "geo": {
           "bgcolor": "white",
           "lakecolor": "white",
           "landcolor": "#E5ECF6",
           "showlakes": true,
           "showland": true,
           "subunitcolor": "white"
          },
          "hoverlabel": {
           "align": "left"
          },
          "hovermode": "closest",
          "mapbox": {
           "style": "light"
          },
          "paper_bgcolor": "white",
          "plot_bgcolor": "#E5ECF6",
          "polar": {
           "angularaxis": {
            "gridcolor": "white",
            "linecolor": "white",
            "ticks": ""
           },
           "bgcolor": "#E5ECF6",
           "radialaxis": {
            "gridcolor": "white",
            "linecolor": "white",
            "ticks": ""
           }
          },
          "scene": {
           "xaxis": {
            "backgroundcolor": "#E5ECF6",
            "gridcolor": "white",
            "gridwidth": 2,
            "linecolor": "white",
            "showbackground": true,
            "ticks": "",
            "zerolinecolor": "white"
           },
           "yaxis": {
            "backgroundcolor": "#E5ECF6",
            "gridcolor": "white",
            "gridwidth": 2,
            "linecolor": "white",
            "showbackground": true,
            "ticks": "",
            "zerolinecolor": "white"
           },
           "zaxis": {
            "backgroundcolor": "#E5ECF6",
            "gridcolor": "white",
            "gridwidth": 2,
            "linecolor": "white",
            "showbackground": true,
            "ticks": "",
            "zerolinecolor": "white"
           }
          },
          "shapedefaults": {
           "line": {
            "color": "#2a3f5f"
           }
          },
          "ternary": {
           "aaxis": {
            "gridcolor": "white",
            "linecolor": "white",
            "ticks": ""
           },
           "baxis": {
            "gridcolor": "white",
            "linecolor": "white",
            "ticks": ""
           },
           "bgcolor": "#E5ECF6",
           "caxis": {
            "gridcolor": "white",
            "linecolor": "white",
            "ticks": ""
           }
          },
          "title": {
           "x": 0.05
          },
          "xaxis": {
           "automargin": true,
           "gridcolor": "white",
           "linecolor": "white",
           "ticks": "",
           "title": {
            "standoff": 15
           },
           "zerolinecolor": "white",
           "zerolinewidth": 2
          },
          "yaxis": {
           "automargin": true,
           "gridcolor": "white",
           "linecolor": "white",
           "ticks": "",
           "title": {
            "standoff": 15
           },
           "zerolinecolor": "white",
           "zerolinewidth": 2
          }
         }
        },
        "xaxis": {
         "anchor": "y",
         "domain": [
          0,
          1
         ],
         "title": {
          "text": "Año"
         }
        },
        "yaxis": {
         "anchor": "x",
         "domain": [
          0,
          1
         ],
         "title": {
          "text": "Población, total"
         }
        }
       }
      }
     },
     "metadata": {},
     "output_type": "display_data"
    }
   ],
   "source": [
    "for i in df_contientes.columns[2:7]:\n",
    "    graficar_indicador(i)"
   ]
  },
  {
   "cell_type": "code",
   "execution_count": 21,
   "metadata": {},
   "outputs": [
    {
     "data": {
      "text/html": [
       "<div>\n",
       "<style scoped>\n",
       "    .dataframe tbody tr th:only-of-type {\n",
       "        vertical-align: middle;\n",
       "    }\n",
       "\n",
       "    .dataframe tbody tr th {\n",
       "        vertical-align: top;\n",
       "    }\n",
       "\n",
       "    .dataframe thead th {\n",
       "        text-align: right;\n",
       "    }\n",
       "</style>\n",
       "<table border=\"1\" class=\"dataframe\">\n",
       "  <thead>\n",
       "    <tr style=\"text-align: right;\">\n",
       "      <th>serie Name</th>\n",
       "      <th>país Name</th>\n",
       "      <th>Año</th>\n",
       "      <th>Población rural</th>\n",
       "      <th>Población urbana</th>\n",
       "      <th>Población, hombres</th>\n",
       "      <th>Población, mujeres</th>\n",
       "      <th>Población, total</th>\n",
       "      <th>Continente</th>\n",
       "    </tr>\n",
       "  </thead>\n",
       "  <tbody>\n",
       "    <tr>\n",
       "      <th>31</th>\n",
       "      <td>Afganistán</td>\n",
       "      <td>2018</td>\n",
       "      <td>27333488.0</td>\n",
       "      <td>9353296.0</td>\n",
       "      <td>18549862.0</td>\n",
       "      <td>18136922.0</td>\n",
       "      <td>36686784.0</td>\n",
       "      <td>Asia</td>\n",
       "    </tr>\n",
       "    <tr>\n",
       "      <th>32</th>\n",
       "      <td>Afganistán</td>\n",
       "      <td>2019</td>\n",
       "      <td>28042342.0</td>\n",
       "      <td>9727157.0</td>\n",
       "      <td>19090409.0</td>\n",
       "      <td>18679089.0</td>\n",
       "      <td>37769499.0</td>\n",
       "      <td>Asia</td>\n",
       "    </tr>\n",
       "    <tr>\n",
       "      <th>33</th>\n",
       "      <td>Afganistán</td>\n",
       "      <td>2020</td>\n",
       "      <td>28829317.0</td>\n",
       "      <td>10142913.0</td>\n",
       "      <td>19692301.0</td>\n",
       "      <td>19279930.0</td>\n",
       "      <td>38972230.0</td>\n",
       "      <td>Asia</td>\n",
       "    </tr>\n",
       "    <tr>\n",
       "      <th>34</th>\n",
       "      <td>Afganistán</td>\n",
       "      <td>2021</td>\n",
       "      <td>29547690.0</td>\n",
       "      <td>10551772.0</td>\n",
       "      <td>20254878.0</td>\n",
       "      <td>19844584.0</td>\n",
       "      <td>40099462.0</td>\n",
       "      <td>Asia</td>\n",
       "    </tr>\n",
       "    <tr>\n",
       "      <th>35</th>\n",
       "      <td>Afganistán</td>\n",
       "      <td>2022</td>\n",
       "      <td>30181937.0</td>\n",
       "      <td>10946834.0</td>\n",
       "      <td>20766442.0</td>\n",
       "      <td>20362329.0</td>\n",
       "      <td>41128771.0</td>\n",
       "      <td>Asia</td>\n",
       "    </tr>\n",
       "    <tr>\n",
       "      <th>...</th>\n",
       "      <td>...</td>\n",
       "      <td>...</td>\n",
       "      <td>...</td>\n",
       "      <td>...</td>\n",
       "      <td>...</td>\n",
       "      <td>...</td>\n",
       "      <td>...</td>\n",
       "      <td>...</td>\n",
       "    </tr>\n",
       "    <tr>\n",
       "      <th>1579</th>\n",
       "      <td>Venezuela</td>\n",
       "      <td>2018</td>\n",
       "      <td>3517041.0</td>\n",
       "      <td>26308612.0</td>\n",
       "      <td>14804135.0</td>\n",
       "      <td>15021517.0</td>\n",
       "      <td>29825653.0</td>\n",
       "      <td>América del Sur</td>\n",
       "    </tr>\n",
       "    <tr>\n",
       "      <th>1580</th>\n",
       "      <td>Venezuela</td>\n",
       "      <td>2019</td>\n",
       "      <td>3407070.0</td>\n",
       "      <td>25564613.0</td>\n",
       "      <td>14365872.0</td>\n",
       "      <td>14605811.0</td>\n",
       "      <td>28971683.0</td>\n",
       "      <td>América del Sur</td>\n",
       "    </tr>\n",
       "    <tr>\n",
       "      <th>1581</th>\n",
       "      <td>Venezuela</td>\n",
       "      <td>2020</td>\n",
       "      <td>3339366.0</td>\n",
       "      <td>25151087.0</td>\n",
       "      <td>14113760.0</td>\n",
       "      <td>14376694.0</td>\n",
       "      <td>28490453.0</td>\n",
       "      <td>América del Sur</td>\n",
       "    </tr>\n",
       "    <tr>\n",
       "      <th>1582</th>\n",
       "      <td>Venezuela</td>\n",
       "      <td>2021</td>\n",
       "      <td>3292334.0</td>\n",
       "      <td>24907533.0</td>\n",
       "      <td>13956811.0</td>\n",
       "      <td>14243056.0</td>\n",
       "      <td>28199867.0</td>\n",
       "      <td>América del Sur</td>\n",
       "    </tr>\n",
       "    <tr>\n",
       "      <th>1583</th>\n",
       "      <td>Venezuela</td>\n",
       "      <td>2022</td>\n",
       "      <td>3289223.0</td>\n",
       "      <td>25012473.0</td>\n",
       "      <td>13996791.0</td>\n",
       "      <td>14304904.0</td>\n",
       "      <td>28301696.0</td>\n",
       "      <td>América del Sur</td>\n",
       "    </tr>\n",
       "  </tbody>\n",
       "</table>\n",
       "<p>220 rows × 8 columns</p>\n",
       "</div>"
      ],
      "text/plain": [
       "serie Name   país Name   Año  Población rural  Población urbana   \n",
       "31          Afganistán  2018       27333488.0         9353296.0  \\\n",
       "32          Afganistán  2019       28042342.0         9727157.0   \n",
       "33          Afganistán  2020       28829317.0        10142913.0   \n",
       "34          Afganistán  2021       29547690.0        10551772.0   \n",
       "35          Afganistán  2022       30181937.0        10946834.0   \n",
       "...                ...   ...              ...               ...   \n",
       "1579         Venezuela  2018        3517041.0        26308612.0   \n",
       "1580         Venezuela  2019        3407070.0        25564613.0   \n",
       "1581         Venezuela  2020        3339366.0        25151087.0   \n",
       "1582         Venezuela  2021        3292334.0        24907533.0   \n",
       "1583         Venezuela  2022        3289223.0        25012473.0   \n",
       "\n",
       "serie Name  Población, hombres  Población, mujeres  Población, total   \n",
       "31                  18549862.0          18136922.0        36686784.0  \\\n",
       "32                  19090409.0          18679089.0        37769499.0   \n",
       "33                  19692301.0          19279930.0        38972230.0   \n",
       "34                  20254878.0          19844584.0        40099462.0   \n",
       "35                  20766442.0          20362329.0        41128771.0   \n",
       "...                        ...                 ...               ...   \n",
       "1579                14804135.0          15021517.0        29825653.0   \n",
       "1580                14365872.0          14605811.0        28971683.0   \n",
       "1581                14113760.0          14376694.0        28490453.0   \n",
       "1582                13956811.0          14243056.0        28199867.0   \n",
       "1583                13996791.0          14304904.0        28301696.0   \n",
       "\n",
       "serie Name       Continente  \n",
       "31                     Asia  \n",
       "32                     Asia  \n",
       "33                     Asia  \n",
       "34                     Asia  \n",
       "35                     Asia  \n",
       "...                     ...  \n",
       "1579        América del Sur  \n",
       "1580        América del Sur  \n",
       "1581        América del Sur  \n",
       "1582        América del Sur  \n",
       "1583        América del Sur  \n",
       "\n",
       "[220 rows x 8 columns]"
      ]
     },
     "execution_count": 21,
     "metadata": {},
     "output_type": "execute_result"
    }
   ],
   "source": [
    "df_pivote_años = df_pivoted[df_pivoted[\"Año\"].isin([\"2022\",\"2021\",\"2020\",\"2019\", \"2018\"])]\n",
    "df_pivote_años"
   ]
  },
  {
   "cell_type": "code",
   "execution_count": 22,
   "metadata": {},
   "outputs": [
    {
     "data": {
      "text/html": [
       "<div>\n",
       "<style scoped>\n",
       "    .dataframe tbody tr th:only-of-type {\n",
       "        vertical-align: middle;\n",
       "    }\n",
       "\n",
       "    .dataframe tbody tr th {\n",
       "        vertical-align: top;\n",
       "    }\n",
       "\n",
       "    .dataframe thead th {\n",
       "        text-align: right;\n",
       "    }\n",
       "</style>\n",
       "<table border=\"1\" class=\"dataframe\">\n",
       "  <thead>\n",
       "    <tr style=\"text-align: right;\">\n",
       "      <th>serie Name</th>\n",
       "      <th>Población urbana</th>\n",
       "    </tr>\n",
       "    <tr>\n",
       "      <th>país Name</th>\n",
       "      <th></th>\n",
       "    </tr>\n",
       "  </thead>\n",
       "  <tbody>\n",
       "    <tr>\n",
       "      <th>China</th>\n",
       "      <td>865205374.2</td>\n",
       "    </tr>\n",
       "    <tr>\n",
       "      <th>India</th>\n",
       "      <td>487381562.2</td>\n",
       "    </tr>\n",
       "    <tr>\n",
       "      <th>Estados Unidos</th>\n",
       "      <td>273139089.0</td>\n",
       "    </tr>\n",
       "    <tr>\n",
       "      <th>Brasil</th>\n",
       "      <td>185422972.4</td>\n",
       "    </tr>\n",
       "    <tr>\n",
       "      <th>Japón</th>\n",
       "      <td>115740511.6</td>\n",
       "    </tr>\n",
       "    <tr>\n",
       "      <th>Rusia</th>\n",
       "      <td>107657581.4</td>\n",
       "    </tr>\n",
       "    <tr>\n",
       "      <th>México</th>\n",
       "      <td>101612031.2</td>\n",
       "    </tr>\n",
       "    <tr>\n",
       "      <th>Alemania</th>\n",
       "      <td>64520115.2</td>\n",
       "    </tr>\n",
       "    <tr>\n",
       "      <th>Reino Unido</th>\n",
       "      <td>56109238.6</td>\n",
       "    </tr>\n",
       "    <tr>\n",
       "      <th>Egipto</th>\n",
       "      <td>45986039.0</td>\n",
       "    </tr>\n",
       "  </tbody>\n",
       "</table>\n",
       "</div>"
      ],
      "text/plain": [
       "serie Name      Población urbana\n",
       "país Name                       \n",
       "China                865205374.2\n",
       "India                487381562.2\n",
       "Estados Unidos       273139089.0\n",
       "Brasil               185422972.4\n",
       "Japón                115740511.6\n",
       "Rusia                107657581.4\n",
       "México               101612031.2\n",
       "Alemania              64520115.2\n",
       "Reino Unido           56109238.6\n",
       "Egipto                45986039.0"
      ]
     },
     "execution_count": 22,
     "metadata": {},
     "output_type": "execute_result"
    }
   ],
   "source": [
    "top_paises = df_pivote_años[[\"país Name\", \"Población urbana\"]].groupby(\"país Name\").mean().sort_values(\"Población urbana\", ascending=False).head(10)\n",
    "top_paises"
   ]
  },
  {
   "cell_type": "code",
   "execution_count": 23,
   "metadata": {},
   "outputs": [
    {
     "data": {
      "application/vnd.plotly.v1+json": {
       "config": {
        "plotlyServerURL": "https://plot.ly"
       },
       "data": [
        {
         "alignmentgroup": "True",
         "hovertemplate": "país Name=%{x}<br>Población urbana=%{y}<extra></extra>",
         "legendgroup": "",
         "marker": {
          "color": "#636efa",
          "pattern": {
           "shape": ""
          }
         },
         "name": "",
         "offsetgroup": "",
         "orientation": "v",
         "showlegend": false,
         "textposition": "auto",
         "type": "bar",
         "x": [
          "China",
          "India",
          "Estados Unidos",
          "Brasil",
          "Japón",
          "Rusia",
          "México",
          "Alemania",
          "Reino Unido",
          "Egipto"
         ],
         "xaxis": "x",
         "y": [
          865205374.2,
          487381562.2,
          273139089,
          185422972.4,
          115740511.6,
          107657581.4,
          101612031.2,
          64520115.2,
          56109238.6,
          45986039
         ],
         "yaxis": "y"
        }
       ],
       "layout": {
        "barmode": "relative",
        "legend": {
         "tracegroupgap": 0
        },
        "template": {
         "data": {
          "bar": [
           {
            "error_x": {
             "color": "#2a3f5f"
            },
            "error_y": {
             "color": "#2a3f5f"
            },
            "marker": {
             "line": {
              "color": "#E5ECF6",
              "width": 0.5
             },
             "pattern": {
              "fillmode": "overlay",
              "size": 10,
              "solidity": 0.2
             }
            },
            "type": "bar"
           }
          ],
          "barpolar": [
           {
            "marker": {
             "line": {
              "color": "#E5ECF6",
              "width": 0.5
             },
             "pattern": {
              "fillmode": "overlay",
              "size": 10,
              "solidity": 0.2
             }
            },
            "type": "barpolar"
           }
          ],
          "carpet": [
           {
            "aaxis": {
             "endlinecolor": "#2a3f5f",
             "gridcolor": "white",
             "linecolor": "white",
             "minorgridcolor": "white",
             "startlinecolor": "#2a3f5f"
            },
            "baxis": {
             "endlinecolor": "#2a3f5f",
             "gridcolor": "white",
             "linecolor": "white",
             "minorgridcolor": "white",
             "startlinecolor": "#2a3f5f"
            },
            "type": "carpet"
           }
          ],
          "choropleth": [
           {
            "colorbar": {
             "outlinewidth": 0,
             "ticks": ""
            },
            "type": "choropleth"
           }
          ],
          "contour": [
           {
            "colorbar": {
             "outlinewidth": 0,
             "ticks": ""
            },
            "colorscale": [
             [
              0,
              "#0d0887"
             ],
             [
              0.1111111111111111,
              "#46039f"
             ],
             [
              0.2222222222222222,
              "#7201a8"
             ],
             [
              0.3333333333333333,
              "#9c179e"
             ],
             [
              0.4444444444444444,
              "#bd3786"
             ],
             [
              0.5555555555555556,
              "#d8576b"
             ],
             [
              0.6666666666666666,
              "#ed7953"
             ],
             [
              0.7777777777777778,
              "#fb9f3a"
             ],
             [
              0.8888888888888888,
              "#fdca26"
             ],
             [
              1,
              "#f0f921"
             ]
            ],
            "type": "contour"
           }
          ],
          "contourcarpet": [
           {
            "colorbar": {
             "outlinewidth": 0,
             "ticks": ""
            },
            "type": "contourcarpet"
           }
          ],
          "heatmap": [
           {
            "colorbar": {
             "outlinewidth": 0,
             "ticks": ""
            },
            "colorscale": [
             [
              0,
              "#0d0887"
             ],
             [
              0.1111111111111111,
              "#46039f"
             ],
             [
              0.2222222222222222,
              "#7201a8"
             ],
             [
              0.3333333333333333,
              "#9c179e"
             ],
             [
              0.4444444444444444,
              "#bd3786"
             ],
             [
              0.5555555555555556,
              "#d8576b"
             ],
             [
              0.6666666666666666,
              "#ed7953"
             ],
             [
              0.7777777777777778,
              "#fb9f3a"
             ],
             [
              0.8888888888888888,
              "#fdca26"
             ],
             [
              1,
              "#f0f921"
             ]
            ],
            "type": "heatmap"
           }
          ],
          "heatmapgl": [
           {
            "colorbar": {
             "outlinewidth": 0,
             "ticks": ""
            },
            "colorscale": [
             [
              0,
              "#0d0887"
             ],
             [
              0.1111111111111111,
              "#46039f"
             ],
             [
              0.2222222222222222,
              "#7201a8"
             ],
             [
              0.3333333333333333,
              "#9c179e"
             ],
             [
              0.4444444444444444,
              "#bd3786"
             ],
             [
              0.5555555555555556,
              "#d8576b"
             ],
             [
              0.6666666666666666,
              "#ed7953"
             ],
             [
              0.7777777777777778,
              "#fb9f3a"
             ],
             [
              0.8888888888888888,
              "#fdca26"
             ],
             [
              1,
              "#f0f921"
             ]
            ],
            "type": "heatmapgl"
           }
          ],
          "histogram": [
           {
            "marker": {
             "pattern": {
              "fillmode": "overlay",
              "size": 10,
              "solidity": 0.2
             }
            },
            "type": "histogram"
           }
          ],
          "histogram2d": [
           {
            "colorbar": {
             "outlinewidth": 0,
             "ticks": ""
            },
            "colorscale": [
             [
              0,
              "#0d0887"
             ],
             [
              0.1111111111111111,
              "#46039f"
             ],
             [
              0.2222222222222222,
              "#7201a8"
             ],
             [
              0.3333333333333333,
              "#9c179e"
             ],
             [
              0.4444444444444444,
              "#bd3786"
             ],
             [
              0.5555555555555556,
              "#d8576b"
             ],
             [
              0.6666666666666666,
              "#ed7953"
             ],
             [
              0.7777777777777778,
              "#fb9f3a"
             ],
             [
              0.8888888888888888,
              "#fdca26"
             ],
             [
              1,
              "#f0f921"
             ]
            ],
            "type": "histogram2d"
           }
          ],
          "histogram2dcontour": [
           {
            "colorbar": {
             "outlinewidth": 0,
             "ticks": ""
            },
            "colorscale": [
             [
              0,
              "#0d0887"
             ],
             [
              0.1111111111111111,
              "#46039f"
             ],
             [
              0.2222222222222222,
              "#7201a8"
             ],
             [
              0.3333333333333333,
              "#9c179e"
             ],
             [
              0.4444444444444444,
              "#bd3786"
             ],
             [
              0.5555555555555556,
              "#d8576b"
             ],
             [
              0.6666666666666666,
              "#ed7953"
             ],
             [
              0.7777777777777778,
              "#fb9f3a"
             ],
             [
              0.8888888888888888,
              "#fdca26"
             ],
             [
              1,
              "#f0f921"
             ]
            ],
            "type": "histogram2dcontour"
           }
          ],
          "mesh3d": [
           {
            "colorbar": {
             "outlinewidth": 0,
             "ticks": ""
            },
            "type": "mesh3d"
           }
          ],
          "parcoords": [
           {
            "line": {
             "colorbar": {
              "outlinewidth": 0,
              "ticks": ""
             }
            },
            "type": "parcoords"
           }
          ],
          "pie": [
           {
            "automargin": true,
            "type": "pie"
           }
          ],
          "scatter": [
           {
            "fillpattern": {
             "fillmode": "overlay",
             "size": 10,
             "solidity": 0.2
            },
            "type": "scatter"
           }
          ],
          "scatter3d": [
           {
            "line": {
             "colorbar": {
              "outlinewidth": 0,
              "ticks": ""
             }
            },
            "marker": {
             "colorbar": {
              "outlinewidth": 0,
              "ticks": ""
             }
            },
            "type": "scatter3d"
           }
          ],
          "scattercarpet": [
           {
            "marker": {
             "colorbar": {
              "outlinewidth": 0,
              "ticks": ""
             }
            },
            "type": "scattercarpet"
           }
          ],
          "scattergeo": [
           {
            "marker": {
             "colorbar": {
              "outlinewidth": 0,
              "ticks": ""
             }
            },
            "type": "scattergeo"
           }
          ],
          "scattergl": [
           {
            "marker": {
             "colorbar": {
              "outlinewidth": 0,
              "ticks": ""
             }
            },
            "type": "scattergl"
           }
          ],
          "scattermapbox": [
           {
            "marker": {
             "colorbar": {
              "outlinewidth": 0,
              "ticks": ""
             }
            },
            "type": "scattermapbox"
           }
          ],
          "scatterpolar": [
           {
            "marker": {
             "colorbar": {
              "outlinewidth": 0,
              "ticks": ""
             }
            },
            "type": "scatterpolar"
           }
          ],
          "scatterpolargl": [
           {
            "marker": {
             "colorbar": {
              "outlinewidth": 0,
              "ticks": ""
             }
            },
            "type": "scatterpolargl"
           }
          ],
          "scatterternary": [
           {
            "marker": {
             "colorbar": {
              "outlinewidth": 0,
              "ticks": ""
             }
            },
            "type": "scatterternary"
           }
          ],
          "surface": [
           {
            "colorbar": {
             "outlinewidth": 0,
             "ticks": ""
            },
            "colorscale": [
             [
              0,
              "#0d0887"
             ],
             [
              0.1111111111111111,
              "#46039f"
             ],
             [
              0.2222222222222222,
              "#7201a8"
             ],
             [
              0.3333333333333333,
              "#9c179e"
             ],
             [
              0.4444444444444444,
              "#bd3786"
             ],
             [
              0.5555555555555556,
              "#d8576b"
             ],
             [
              0.6666666666666666,
              "#ed7953"
             ],
             [
              0.7777777777777778,
              "#fb9f3a"
             ],
             [
              0.8888888888888888,
              "#fdca26"
             ],
             [
              1,
              "#f0f921"
             ]
            ],
            "type": "surface"
           }
          ],
          "table": [
           {
            "cells": {
             "fill": {
              "color": "#EBF0F8"
             },
             "line": {
              "color": "white"
             }
            },
            "header": {
             "fill": {
              "color": "#C8D4E3"
             },
             "line": {
              "color": "white"
             }
            },
            "type": "table"
           }
          ]
         },
         "layout": {
          "annotationdefaults": {
           "arrowcolor": "#2a3f5f",
           "arrowhead": 0,
           "arrowwidth": 1
          },
          "autotypenumbers": "strict",
          "coloraxis": {
           "colorbar": {
            "outlinewidth": 0,
            "ticks": ""
           }
          },
          "colorscale": {
           "diverging": [
            [
             0,
             "#8e0152"
            ],
            [
             0.1,
             "#c51b7d"
            ],
            [
             0.2,
             "#de77ae"
            ],
            [
             0.3,
             "#f1b6da"
            ],
            [
             0.4,
             "#fde0ef"
            ],
            [
             0.5,
             "#f7f7f7"
            ],
            [
             0.6,
             "#e6f5d0"
            ],
            [
             0.7,
             "#b8e186"
            ],
            [
             0.8,
             "#7fbc41"
            ],
            [
             0.9,
             "#4d9221"
            ],
            [
             1,
             "#276419"
            ]
           ],
           "sequential": [
            [
             0,
             "#0d0887"
            ],
            [
             0.1111111111111111,
             "#46039f"
            ],
            [
             0.2222222222222222,
             "#7201a8"
            ],
            [
             0.3333333333333333,
             "#9c179e"
            ],
            [
             0.4444444444444444,
             "#bd3786"
            ],
            [
             0.5555555555555556,
             "#d8576b"
            ],
            [
             0.6666666666666666,
             "#ed7953"
            ],
            [
             0.7777777777777778,
             "#fb9f3a"
            ],
            [
             0.8888888888888888,
             "#fdca26"
            ],
            [
             1,
             "#f0f921"
            ]
           ],
           "sequentialminus": [
            [
             0,
             "#0d0887"
            ],
            [
             0.1111111111111111,
             "#46039f"
            ],
            [
             0.2222222222222222,
             "#7201a8"
            ],
            [
             0.3333333333333333,
             "#9c179e"
            ],
            [
             0.4444444444444444,
             "#bd3786"
            ],
            [
             0.5555555555555556,
             "#d8576b"
            ],
            [
             0.6666666666666666,
             "#ed7953"
            ],
            [
             0.7777777777777778,
             "#fb9f3a"
            ],
            [
             0.8888888888888888,
             "#fdca26"
            ],
            [
             1,
             "#f0f921"
            ]
           ]
          },
          "colorway": [
           "#636efa",
           "#EF553B",
           "#00cc96",
           "#ab63fa",
           "#FFA15A",
           "#19d3f3",
           "#FF6692",
           "#B6E880",
           "#FF97FF",
           "#FECB52"
          ],
          "font": {
           "color": "#2a3f5f"
          },
          "geo": {
           "bgcolor": "white",
           "lakecolor": "white",
           "landcolor": "#E5ECF6",
           "showlakes": true,
           "showland": true,
           "subunitcolor": "white"
          },
          "hoverlabel": {
           "align": "left"
          },
          "hovermode": "closest",
          "mapbox": {
           "style": "light"
          },
          "paper_bgcolor": "white",
          "plot_bgcolor": "#E5ECF6",
          "polar": {
           "angularaxis": {
            "gridcolor": "white",
            "linecolor": "white",
            "ticks": ""
           },
           "bgcolor": "#E5ECF6",
           "radialaxis": {
            "gridcolor": "white",
            "linecolor": "white",
            "ticks": ""
           }
          },
          "scene": {
           "xaxis": {
            "backgroundcolor": "#E5ECF6",
            "gridcolor": "white",
            "gridwidth": 2,
            "linecolor": "white",
            "showbackground": true,
            "ticks": "",
            "zerolinecolor": "white"
           },
           "yaxis": {
            "backgroundcolor": "#E5ECF6",
            "gridcolor": "white",
            "gridwidth": 2,
            "linecolor": "white",
            "showbackground": true,
            "ticks": "",
            "zerolinecolor": "white"
           },
           "zaxis": {
            "backgroundcolor": "#E5ECF6",
            "gridcolor": "white",
            "gridwidth": 2,
            "linecolor": "white",
            "showbackground": true,
            "ticks": "",
            "zerolinecolor": "white"
           }
          },
          "shapedefaults": {
           "line": {
            "color": "#2a3f5f"
           }
          },
          "ternary": {
           "aaxis": {
            "gridcolor": "white",
            "linecolor": "white",
            "ticks": ""
           },
           "baxis": {
            "gridcolor": "white",
            "linecolor": "white",
            "ticks": ""
           },
           "bgcolor": "#E5ECF6",
           "caxis": {
            "gridcolor": "white",
            "linecolor": "white",
            "ticks": ""
           }
          },
          "title": {
           "x": 0.05
          },
          "xaxis": {
           "automargin": true,
           "gridcolor": "white",
           "linecolor": "white",
           "ticks": "",
           "title": {
            "standoff": 15
           },
           "zerolinecolor": "white",
           "zerolinewidth": 2
          },
          "yaxis": {
           "automargin": true,
           "gridcolor": "white",
           "linecolor": "white",
           "ticks": "",
           "title": {
            "standoff": 15
           },
           "zerolinecolor": "white",
           "zerolinewidth": 2
          }
         }
        },
        "title": {
         "text": "TOP 10 países con mayor Población urbana en promedio (2018-2022)"
        },
        "xaxis": {
         "anchor": "y",
         "domain": [
          0,
          1
         ],
         "title": {
          "text": ""
         }
        },
        "yaxis": {
         "anchor": "x",
         "domain": [
          0,
          1
         ],
         "title": {
          "text": "Población urbana"
         }
        }
       }
      }
     },
     "metadata": {},
     "output_type": "display_data"
    }
   ],
   "source": [
    "fig = px.bar(top_paises, title=\"TOP 10 países con mayor Población urbana en promedio (2018-2022)\", y=\"Población urbana\")\n",
    "fig.update_xaxes(title_text=\"\")\n",
    "fig.show()"
   ]
  },
  {
   "cell_type": "code",
   "execution_count": 24,
   "metadata": {},
   "outputs": [],
   "source": [
    "df_pivoted.to_csv(\"../Data_preparada/Data_Población_Zona_Genero.csv\", index=False)"
   ]
  }
 ],
 "metadata": {
  "kernelspec": {
   "display_name": "Python 3",
   "language": "python",
   "name": "python3"
  },
  "language_info": {
   "codemirror_mode": {
    "name": "ipython",
    "version": 3
   },
   "file_extension": ".py",
   "mimetype": "text/x-python",
   "name": "python",
   "nbconvert_exporter": "python",
   "pygments_lexer": "ipython3",
   "version": "3.11.2"
  }
 },
 "nbformat": 4,
 "nbformat_minor": 2
}
